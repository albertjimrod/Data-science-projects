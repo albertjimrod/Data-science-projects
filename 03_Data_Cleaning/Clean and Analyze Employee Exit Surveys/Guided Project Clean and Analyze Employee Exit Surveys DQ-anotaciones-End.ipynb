{
 "cells": [
  {
   "cell_type": "markdown",
   "id": "7a4040a5",
   "metadata": {},
   "source": [
    "\n",
    "<img align=\"left\"  src= \"http://aaun.edu.au/wp-content/uploads/2016/02/Department_of_Education_and_Training_Australia_logo.jpg\" width=\"300\">\n",
    "\n",
    "\n",
    "<img align=\"right\"  src= \"https://www.courseseeker.edu.au/assets/images/institutions/4450.png\" width=\"220\">"
   ]
  },
  {
   "cell_type": "markdown",
   "id": "f36f8f01",
   "metadata": {},
   "source": [
    "## Introduction\n",
    "\n",
    "In this guided project, we'll work with exit surveys from employees of:\n",
    "\n",
    "- the [Department of Education, Training and Employment](https://en.wikipedia.org/wiki/Department_of_Education_(Queensland)) (DETE) \n",
    "\n",
    "- the [Technical and Further Education](https://tafeqld.edu.au/) (TAFE) institute in Queensland, Australia. \n",
    "\n",
    "\n",
    "* * *\n",
    "\n",
    "We'll play the role of data analyst and want to know the following:\n",
    "\n",
    "- `Are employees who only worked for the institutes for a short period of time resigning due to some kind of dissatisfaction?`\n",
    "\n",
    "- `What about employees who have been there longer?`\n",
    "\n",
    "\n",
    "- `Are younger employees resigning due to some kind of dissatisfaction?`\n",
    "\n",
    "\n",
    "- `What about older employees?`\n",
    "\n",
    "* * *\n",
    "\n",
    "They want us to combine the results for both surveys to answer these questions. However, although both used the same survey template, one of them customized some of the answers. In the guided steps, we'll aim to do most of the data cleaning and get you started analyzing the first question.\n",
    "\n",
    "A **data dictionary wasn't provided with the dataset**. For this project, we'll use our general knowledge to define the columns.\n",
    "\n",
    "Below is a preview of a couple columns we'll work with from the **dete_survey.csv**:\n",
    "\n",
    "- `ID`: An id used to identify the participant of the survey\n",
    "\n",
    "\n",
    "- `SeparationType`: The reason why the person's employment ended\n",
    "\n",
    "\n",
    "- `Cease Date`: The year or month the person's employment ended\n",
    "\n",
    "\n",
    "- `DETE Start Date`: The year the person began employment with the DETE\n",
    "\n",
    "Below is a preview of a couple columns we'll work with from the **tafe_survey.csv**:\n",
    "\n",
    "- `Record ID`: An id used to identify the participant of the survey\n",
    "\n",
    "\n",
    "- `Reason for ceasing employment`: The reason why the person's employment ended\n",
    "\n",
    "\n",
    "- `LengthofServiceOverall. Overall Length of Service at Institute (in years)`: The length of the person's employment (in years)"
   ]
  },
  {
   "cell_type": "code",
   "execution_count": 1,
   "id": "e06f48e9",
   "metadata": {},
   "outputs": [],
   "source": [
    "import numpy as np\n",
    "import pandas as pd\n",
    "pd.set_option(\"display.max_columns\", None)\n",
    "pd.set_option(\"display.max_rows\", None)"
   ]
  },
  {
   "cell_type": "code",
   "execution_count": 2,
   "id": "7a04e4b6",
   "metadata": {},
   "outputs": [],
   "source": [
    "dete_survey_first = pd.read_csv(\"dete_survey.csv\")\n",
    "tafe_survey = pd.read_csv(\"tafe_survey.csv\")"
   ]
  },
  {
   "cell_type": "markdown",
   "metadata": {},
   "source": [
    "### Exploring datasets"
   ]
  },
  {
   "cell_type": "code",
   "execution_count": 3,
   "metadata": {},
   "outputs": [
    {
     "name": "stdout",
     "output_type": "stream",
     "text": [
      "<class 'pandas.core.frame.DataFrame'>\n",
      "RangeIndex: 822 entries, 0 to 821\n",
      "Columns: 56 entries, ID to NESB\n",
      "dtypes: bool(18), int64(1), object(37)\n",
      "memory usage: 258.6+ KB\n"
     ]
    }
   ],
   "source": [
    "dete_survey_first.info(verbose=False,\n",
    "                       memory_usage=True,\n",
    "                       null_counts=True) # Department of Education, Training and Employment"
   ]
  },
  {
   "cell_type": "code",
   "execution_count": 4,
   "metadata": {},
   "outputs": [
    {
     "name": "stdout",
     "output_type": "stream",
     "text": [
      "<class 'pandas.core.frame.DataFrame'>\n",
      "RangeIndex: 702 entries, 0 to 701\n",
      "Columns: 72 entries, Record ID to LengthofServiceCurrent. Length of Service at current workplace (in years)\n",
      "dtypes: float64(2), object(70)\n",
      "memory usage: 395.0+ KB\n"
     ]
    }
   ],
   "source": [
    "tafe_survey.info(verbose=False,\n",
    "                       memory_usage=True,\n",
    "                       null_counts=True) # Department of Education, Training and Employment"
   ]
  },
  {
   "cell_type": "code",
   "execution_count": 5,
   "metadata": {},
   "outputs": [
    {
     "data": {
      "text/html": [
       "<div>\n",
       "<style scoped>\n",
       "    .dataframe tbody tr th:only-of-type {\n",
       "        vertical-align: middle;\n",
       "    }\n",
       "\n",
       "    .dataframe tbody tr th {\n",
       "        vertical-align: top;\n",
       "    }\n",
       "\n",
       "    .dataframe thead th {\n",
       "        text-align: right;\n",
       "    }\n",
       "</style>\n",
       "<table border=\"1\" class=\"dataframe\">\n",
       "  <thead>\n",
       "    <tr style=\"text-align: right;\">\n",
       "      <th></th>\n",
       "      <th>ID</th>\n",
       "      <th>SeparationType</th>\n",
       "      <th>Cease Date</th>\n",
       "      <th>DETE Start Date</th>\n",
       "      <th>Role Start Date</th>\n",
       "      <th>Position</th>\n",
       "      <th>Classification</th>\n",
       "      <th>Region</th>\n",
       "      <th>Business Unit</th>\n",
       "      <th>Employment Status</th>\n",
       "      <th>Career move to public sector</th>\n",
       "      <th>Career move to private sector</th>\n",
       "      <th>Interpersonal conflicts</th>\n",
       "      <th>Job dissatisfaction</th>\n",
       "      <th>Dissatisfaction with the department</th>\n",
       "      <th>Physical work environment</th>\n",
       "      <th>Lack of recognition</th>\n",
       "      <th>Lack of job security</th>\n",
       "      <th>Work location</th>\n",
       "      <th>Employment conditions</th>\n",
       "      <th>Maternity/family</th>\n",
       "      <th>Relocation</th>\n",
       "      <th>Study/Travel</th>\n",
       "      <th>Ill Health</th>\n",
       "      <th>Traumatic incident</th>\n",
       "      <th>Work life balance</th>\n",
       "      <th>Workload</th>\n",
       "      <th>None of the above</th>\n",
       "      <th>Professional Development</th>\n",
       "      <th>Opportunities for promotion</th>\n",
       "      <th>Staff morale</th>\n",
       "      <th>Workplace issue</th>\n",
       "      <th>Physical environment</th>\n",
       "      <th>Worklife balance</th>\n",
       "      <th>Stress and pressure support</th>\n",
       "      <th>Performance of supervisor</th>\n",
       "      <th>Peer support</th>\n",
       "      <th>Initiative</th>\n",
       "      <th>Skills</th>\n",
       "      <th>Coach</th>\n",
       "      <th>Career Aspirations</th>\n",
       "      <th>Feedback</th>\n",
       "      <th>Further PD</th>\n",
       "      <th>Communication</th>\n",
       "      <th>My say</th>\n",
       "      <th>Information</th>\n",
       "      <th>Kept informed</th>\n",
       "      <th>Wellness programs</th>\n",
       "      <th>Health &amp; Safety</th>\n",
       "      <th>Gender</th>\n",
       "      <th>Age</th>\n",
       "      <th>Aboriginal</th>\n",
       "      <th>Torres Strait</th>\n",
       "      <th>South Sea</th>\n",
       "      <th>Disability</th>\n",
       "      <th>NESB</th>\n",
       "    </tr>\n",
       "  </thead>\n",
       "  <tbody>\n",
       "    <tr>\n",
       "      <th>0</th>\n",
       "      <td>1</td>\n",
       "      <td>Ill Health Retirement</td>\n",
       "      <td>08/2012</td>\n",
       "      <td>1984</td>\n",
       "      <td>2004</td>\n",
       "      <td>Public Servant</td>\n",
       "      <td>A01-A04</td>\n",
       "      <td>Central Office</td>\n",
       "      <td>Corporate Strategy and Peformance</td>\n",
       "      <td>Permanent Full-time</td>\n",
       "      <td>True</td>\n",
       "      <td>False</td>\n",
       "      <td>False</td>\n",
       "      <td>True</td>\n",
       "      <td>False</td>\n",
       "      <td>False</td>\n",
       "      <td>True</td>\n",
       "      <td>False</td>\n",
       "      <td>False</td>\n",
       "      <td>False</td>\n",
       "      <td>False</td>\n",
       "      <td>False</td>\n",
       "      <td>False</td>\n",
       "      <td>False</td>\n",
       "      <td>False</td>\n",
       "      <td>False</td>\n",
       "      <td>False</td>\n",
       "      <td>True</td>\n",
       "      <td>A</td>\n",
       "      <td>A</td>\n",
       "      <td>N</td>\n",
       "      <td>N</td>\n",
       "      <td>N</td>\n",
       "      <td>A</td>\n",
       "      <td>A</td>\n",
       "      <td>A</td>\n",
       "      <td>A</td>\n",
       "      <td>N</td>\n",
       "      <td>N</td>\n",
       "      <td>N</td>\n",
       "      <td>A</td>\n",
       "      <td>A</td>\n",
       "      <td>A</td>\n",
       "      <td>N</td>\n",
       "      <td>A</td>\n",
       "      <td>A</td>\n",
       "      <td>N</td>\n",
       "      <td>N</td>\n",
       "      <td>N</td>\n",
       "      <td>Male</td>\n",
       "      <td>56-60</td>\n",
       "      <td>NaN</td>\n",
       "      <td>NaN</td>\n",
       "      <td>NaN</td>\n",
       "      <td>NaN</td>\n",
       "      <td>Yes</td>\n",
       "    </tr>\n",
       "    <tr>\n",
       "      <th>1</th>\n",
       "      <td>2</td>\n",
       "      <td>Voluntary Early Retirement (VER)</td>\n",
       "      <td>08/2012</td>\n",
       "      <td>Not Stated</td>\n",
       "      <td>Not Stated</td>\n",
       "      <td>Public Servant</td>\n",
       "      <td>AO5-AO7</td>\n",
       "      <td>Central Office</td>\n",
       "      <td>Corporate Strategy and Peformance</td>\n",
       "      <td>Permanent Full-time</td>\n",
       "      <td>False</td>\n",
       "      <td>False</td>\n",
       "      <td>False</td>\n",
       "      <td>False</td>\n",
       "      <td>False</td>\n",
       "      <td>False</td>\n",
       "      <td>False</td>\n",
       "      <td>False</td>\n",
       "      <td>False</td>\n",
       "      <td>False</td>\n",
       "      <td>False</td>\n",
       "      <td>False</td>\n",
       "      <td>False</td>\n",
       "      <td>False</td>\n",
       "      <td>False</td>\n",
       "      <td>False</td>\n",
       "      <td>False</td>\n",
       "      <td>False</td>\n",
       "      <td>A</td>\n",
       "      <td>A</td>\n",
       "      <td>N</td>\n",
       "      <td>N</td>\n",
       "      <td>N</td>\n",
       "      <td>N</td>\n",
       "      <td>A</td>\n",
       "      <td>A</td>\n",
       "      <td>A</td>\n",
       "      <td>N</td>\n",
       "      <td>N</td>\n",
       "      <td>N</td>\n",
       "      <td>A</td>\n",
       "      <td>A</td>\n",
       "      <td>A</td>\n",
       "      <td>N</td>\n",
       "      <td>A</td>\n",
       "      <td>A</td>\n",
       "      <td>N</td>\n",
       "      <td>N</td>\n",
       "      <td>N</td>\n",
       "      <td>Male</td>\n",
       "      <td>56-60</td>\n",
       "      <td>NaN</td>\n",
       "      <td>NaN</td>\n",
       "      <td>NaN</td>\n",
       "      <td>NaN</td>\n",
       "      <td>NaN</td>\n",
       "    </tr>\n",
       "    <tr>\n",
       "      <th>2</th>\n",
       "      <td>3</td>\n",
       "      <td>Voluntary Early Retirement (VER)</td>\n",
       "      <td>05/2012</td>\n",
       "      <td>2011</td>\n",
       "      <td>2011</td>\n",
       "      <td>Schools Officer</td>\n",
       "      <td>NaN</td>\n",
       "      <td>Central Office</td>\n",
       "      <td>Education Queensland</td>\n",
       "      <td>Permanent Full-time</td>\n",
       "      <td>False</td>\n",
       "      <td>False</td>\n",
       "      <td>False</td>\n",
       "      <td>False</td>\n",
       "      <td>False</td>\n",
       "      <td>False</td>\n",
       "      <td>False</td>\n",
       "      <td>False</td>\n",
       "      <td>False</td>\n",
       "      <td>False</td>\n",
       "      <td>False</td>\n",
       "      <td>False</td>\n",
       "      <td>False</td>\n",
       "      <td>False</td>\n",
       "      <td>False</td>\n",
       "      <td>False</td>\n",
       "      <td>False</td>\n",
       "      <td>True</td>\n",
       "      <td>N</td>\n",
       "      <td>N</td>\n",
       "      <td>N</td>\n",
       "      <td>N</td>\n",
       "      <td>N</td>\n",
       "      <td>N</td>\n",
       "      <td>N</td>\n",
       "      <td>N</td>\n",
       "      <td>N</td>\n",
       "      <td>N</td>\n",
       "      <td>N</td>\n",
       "      <td>N</td>\n",
       "      <td>N</td>\n",
       "      <td>N</td>\n",
       "      <td>N</td>\n",
       "      <td>A</td>\n",
       "      <td>A</td>\n",
       "      <td>N</td>\n",
       "      <td>N</td>\n",
       "      <td>N</td>\n",
       "      <td>N</td>\n",
       "      <td>Male</td>\n",
       "      <td>61 or older</td>\n",
       "      <td>NaN</td>\n",
       "      <td>NaN</td>\n",
       "      <td>NaN</td>\n",
       "      <td>NaN</td>\n",
       "      <td>NaN</td>\n",
       "    </tr>\n",
       "  </tbody>\n",
       "</table>\n",
       "</div>"
      ],
      "text/plain": [
       "   ID                    SeparationType Cease Date DETE Start Date  \\\n",
       "0   1             Ill Health Retirement    08/2012            1984   \n",
       "1   2  Voluntary Early Retirement (VER)    08/2012      Not Stated   \n",
       "2   3  Voluntary Early Retirement (VER)    05/2012            2011   \n",
       "\n",
       "  Role Start Date         Position Classification          Region  \\\n",
       "0            2004   Public Servant        A01-A04  Central Office   \n",
       "1      Not Stated   Public Servant        AO5-AO7  Central Office   \n",
       "2            2011  Schools Officer            NaN  Central Office   \n",
       "\n",
       "                       Business Unit    Employment Status  \\\n",
       "0  Corporate Strategy and Peformance  Permanent Full-time   \n",
       "1  Corporate Strategy and Peformance  Permanent Full-time   \n",
       "2               Education Queensland  Permanent Full-time   \n",
       "\n",
       "   Career move to public sector  Career move to private sector  \\\n",
       "0                          True                          False   \n",
       "1                         False                          False   \n",
       "2                         False                          False   \n",
       "\n",
       "   Interpersonal conflicts  Job dissatisfaction  \\\n",
       "0                    False                 True   \n",
       "1                    False                False   \n",
       "2                    False                False   \n",
       "\n",
       "   Dissatisfaction with the department  Physical work environment  \\\n",
       "0                                False                      False   \n",
       "1                                False                      False   \n",
       "2                                False                      False   \n",
       "\n",
       "   Lack of recognition  Lack of job security  Work location  \\\n",
       "0                 True                 False          False   \n",
       "1                False                 False          False   \n",
       "2                False                 False          False   \n",
       "\n",
       "   Employment conditions  Maternity/family  Relocation  Study/Travel  \\\n",
       "0                  False             False       False         False   \n",
       "1                  False             False       False         False   \n",
       "2                  False             False       False         False   \n",
       "\n",
       "   Ill Health  Traumatic incident  Work life balance  Workload  \\\n",
       "0       False               False              False     False   \n",
       "1       False               False              False     False   \n",
       "2       False               False              False     False   \n",
       "\n",
       "   None of the above Professional Development Opportunities for promotion  \\\n",
       "0               True                        A                           A   \n",
       "1              False                        A                           A   \n",
       "2               True                        N                           N   \n",
       "\n",
       "  Staff morale Workplace issue Physical environment Worklife balance  \\\n",
       "0            N               N                    N                A   \n",
       "1            N               N                    N                N   \n",
       "2            N               N                    N                N   \n",
       "\n",
       "  Stress and pressure support Performance of supervisor Peer support  \\\n",
       "0                           A                         A            A   \n",
       "1                           A                         A            A   \n",
       "2                           N                         N            N   \n",
       "\n",
       "  Initiative Skills Coach Career Aspirations Feedback Further PD  \\\n",
       "0          N      N     N                  A        A          A   \n",
       "1          N      N     N                  A        A          A   \n",
       "2          N      N     N                  N        N          N   \n",
       "\n",
       "  Communication My say Information Kept informed Wellness programs  \\\n",
       "0             N      A           A             N                 N   \n",
       "1             N      A           A             N                 N   \n",
       "2             A      A           N             N                 N   \n",
       "\n",
       "  Health & Safety Gender          Age Aboriginal Torres Strait South Sea  \\\n",
       "0               N   Male        56-60        NaN           NaN       NaN   \n",
       "1               N   Male        56-60        NaN           NaN       NaN   \n",
       "2               N   Male  61 or older        NaN           NaN       NaN   \n",
       "\n",
       "  Disability NESB  \n",
       "0        NaN  Yes  \n",
       "1        NaN  NaN  \n",
       "2        NaN  NaN  "
      ]
     },
     "execution_count": 5,
     "metadata": {},
     "output_type": "execute_result"
    }
   ],
   "source": [
    "dete_survey_first.head(3)"
   ]
  },
  {
   "cell_type": "code",
   "execution_count": 6,
   "metadata": {},
   "outputs": [
    {
     "data": {
      "text/html": [
       "<div>\n",
       "<style scoped>\n",
       "    .dataframe tbody tr th:only-of-type {\n",
       "        vertical-align: middle;\n",
       "    }\n",
       "\n",
       "    .dataframe tbody tr th {\n",
       "        vertical-align: top;\n",
       "    }\n",
       "\n",
       "    .dataframe thead th {\n",
       "        text-align: right;\n",
       "    }\n",
       "</style>\n",
       "<table border=\"1\" class=\"dataframe\">\n",
       "  <thead>\n",
       "    <tr style=\"text-align: right;\">\n",
       "      <th></th>\n",
       "      <th>Record ID</th>\n",
       "      <th>Institute</th>\n",
       "      <th>WorkArea</th>\n",
       "      <th>CESSATION YEAR</th>\n",
       "      <th>Reason for ceasing employment</th>\n",
       "      <th>Contributing Factors. Career Move - Public Sector</th>\n",
       "      <th>Contributing Factors. Career Move - Private Sector</th>\n",
       "      <th>Contributing Factors. Career Move - Self-employment</th>\n",
       "      <th>Contributing Factors. Ill Health</th>\n",
       "      <th>Contributing Factors. Maternity/Family</th>\n",
       "      <th>Contributing Factors. Dissatisfaction</th>\n",
       "      <th>Contributing Factors. Job Dissatisfaction</th>\n",
       "      <th>Contributing Factors. Interpersonal Conflict</th>\n",
       "      <th>Contributing Factors. Study</th>\n",
       "      <th>Contributing Factors. Travel</th>\n",
       "      <th>Contributing Factors. Other</th>\n",
       "      <th>Contributing Factors. NONE</th>\n",
       "      <th>Main Factor. Which of these was the main factor for leaving?</th>\n",
       "      <th>InstituteViews. Topic:1. I feel the senior leadership had a clear vision and direction</th>\n",
       "      <th>InstituteViews. Topic:2. I was given access to skills training to help me do my job better</th>\n",
       "      <th>InstituteViews. Topic:3. I was given adequate opportunities for personal development</th>\n",
       "      <th>InstituteViews. Topic:4. I was given adequate opportunities for promotion within %Institute]Q25LBL%</th>\n",
       "      <th>InstituteViews. Topic:5. I felt the salary for the job was right for the responsibilities I had</th>\n",
       "      <th>InstituteViews. Topic:6. The organisation recognised when staff did good work</th>\n",
       "      <th>InstituteViews. Topic:7. Management was generally supportive of me</th>\n",
       "      <th>InstituteViews. Topic:8. Management was generally supportive of my team</th>\n",
       "      <th>InstituteViews. Topic:9. I was kept informed of the changes in the organisation which would affect me</th>\n",
       "      <th>InstituteViews. Topic:10. Staff morale was positive within the Institute</th>\n",
       "      <th>InstituteViews. Topic:11. If I had a workplace issue it was dealt with quickly</th>\n",
       "      <th>InstituteViews. Topic:12. If I had a workplace issue it was dealt with efficiently</th>\n",
       "      <th>InstituteViews. Topic:13. If I had a workplace issue it was dealt with discreetly</th>\n",
       "      <th>WorkUnitViews. Topic:14. I was satisfied with the quality of the management and supervision within my work unit</th>\n",
       "      <th>WorkUnitViews. Topic:15. I worked well with my colleagues</th>\n",
       "      <th>WorkUnitViews. Topic:16. My job was challenging and interesting</th>\n",
       "      <th>WorkUnitViews. Topic:17. I was encouraged to use my initiative in the course of my work</th>\n",
       "      <th>WorkUnitViews. Topic:18. I had sufficient contact with other people in my job</th>\n",
       "      <th>WorkUnitViews. Topic:19. I was given adequate support and co-operation by my peers to enable me to do my job</th>\n",
       "      <th>WorkUnitViews. Topic:20. I was able to use the full range of my skills in my job</th>\n",
       "      <th>WorkUnitViews. Topic:21. I was able to use the full range of my abilities in my job. ; Category:Level of Agreement; Question:YOUR VIEWS ABOUT YOUR WORK UNIT]</th>\n",
       "      <th>WorkUnitViews. Topic:22. I was able to use the full range of my knowledge in my job</th>\n",
       "      <th>WorkUnitViews. Topic:23. My job provided sufficient variety</th>\n",
       "      <th>WorkUnitViews. Topic:24. I was able to cope with the level of stress and pressure in my job</th>\n",
       "      <th>WorkUnitViews. Topic:25. My job allowed me to balance the demands of work and family to my satisfaction</th>\n",
       "      <th>WorkUnitViews. Topic:26. My supervisor gave me adequate personal recognition and feedback on my performance</th>\n",
       "      <th>WorkUnitViews. Topic:27. My working environment was satisfactory e.g. sufficient space, good lighting, suitable seating and working area</th>\n",
       "      <th>WorkUnitViews. Topic:28. I was given the opportunity to mentor and coach others in order for me to pass on my skills and knowledge prior to my cessation date</th>\n",
       "      <th>WorkUnitViews. Topic:29. There was adequate communication between staff in my unit</th>\n",
       "      <th>WorkUnitViews. Topic:30. Staff morale was positive within my work unit</th>\n",
       "      <th>Induction. Did you undertake Workplace Induction?</th>\n",
       "      <th>InductionInfo. Topic:Did you undertake a Corporate Induction?</th>\n",
       "      <th>InductionInfo. Topic:Did you undertake a Institute Induction?</th>\n",
       "      <th>InductionInfo. Topic: Did you undertake Team Induction?</th>\n",
       "      <th>InductionInfo. Face to Face Topic:Did you undertake a Corporate Induction; Category:How it was conducted?</th>\n",
       "      <th>InductionInfo. On-line Topic:Did you undertake a Corporate Induction; Category:How it was conducted?</th>\n",
       "      <th>InductionInfo. Induction Manual Topic:Did you undertake a Corporate Induction?</th>\n",
       "      <th>InductionInfo. Face to Face Topic:Did you undertake a Institute Induction?</th>\n",
       "      <th>InductionInfo. On-line Topic:Did you undertake a Institute Induction?</th>\n",
       "      <th>InductionInfo. Induction Manual Topic:Did you undertake a Institute Induction?</th>\n",
       "      <th>InductionInfo. Face to Face Topic: Did you undertake Team Induction; Category?</th>\n",
       "      <th>InductionInfo. On-line Topic: Did you undertake Team Induction?process you undertook and how it was conducted.]</th>\n",
       "      <th>InductionInfo. Induction Manual Topic: Did you undertake Team Induction?</th>\n",
       "      <th>Workplace. Topic:Did you and your Manager develop a Performance and Professional Development Plan (PPDP)?</th>\n",
       "      <th>Workplace. Topic:Does your workplace promote a work culture free from all forms of unlawful discrimination?</th>\n",
       "      <th>Workplace. Topic:Does your workplace promote and practice the principles of employment equity?</th>\n",
       "      <th>Workplace. Topic:Does your workplace value the diversity of its employees?</th>\n",
       "      <th>Workplace. Topic:Would you recommend the Institute as an employer to others?</th>\n",
       "      <th>Gender. What is your Gender?</th>\n",
       "      <th>CurrentAge. Current Age</th>\n",
       "      <th>Employment Type. Employment Type</th>\n",
       "      <th>Classification. Classification</th>\n",
       "      <th>LengthofServiceOverall. Overall Length of Service at Institute (in years)</th>\n",
       "      <th>LengthofServiceCurrent. Length of Service at current workplace (in years)</th>\n",
       "    </tr>\n",
       "  </thead>\n",
       "  <tbody>\n",
       "    <tr>\n",
       "      <th>0</th>\n",
       "      <td>6.341330e+17</td>\n",
       "      <td>Southern Queensland Institute of TAFE</td>\n",
       "      <td>Non-Delivery (corporate)</td>\n",
       "      <td>2010.0</td>\n",
       "      <td>Contract Expired</td>\n",
       "      <td>NaN</td>\n",
       "      <td>NaN</td>\n",
       "      <td>NaN</td>\n",
       "      <td>NaN</td>\n",
       "      <td>NaN</td>\n",
       "      <td>NaN</td>\n",
       "      <td>NaN</td>\n",
       "      <td>NaN</td>\n",
       "      <td>NaN</td>\n",
       "      <td>NaN</td>\n",
       "      <td>NaN</td>\n",
       "      <td>NaN</td>\n",
       "      <td>NaN</td>\n",
       "      <td>Agree</td>\n",
       "      <td>Agree</td>\n",
       "      <td>Agree</td>\n",
       "      <td>Neutral</td>\n",
       "      <td>Agree</td>\n",
       "      <td>Agree</td>\n",
       "      <td>Agree</td>\n",
       "      <td>Agree</td>\n",
       "      <td>Agree</td>\n",
       "      <td>Agree</td>\n",
       "      <td>Agree</td>\n",
       "      <td>Agree</td>\n",
       "      <td>Agree</td>\n",
       "      <td>Agree</td>\n",
       "      <td>Agree</td>\n",
       "      <td>Agree</td>\n",
       "      <td>Strongly Agree</td>\n",
       "      <td>Agree</td>\n",
       "      <td>Agree</td>\n",
       "      <td>Agree</td>\n",
       "      <td>Agree</td>\n",
       "      <td>Agree</td>\n",
       "      <td>Agree</td>\n",
       "      <td>Agree</td>\n",
       "      <td>Agree</td>\n",
       "      <td>Agree</td>\n",
       "      <td>Agree</td>\n",
       "      <td>Neutral</td>\n",
       "      <td>Agree</td>\n",
       "      <td>Agree</td>\n",
       "      <td>Yes</td>\n",
       "      <td>Yes</td>\n",
       "      <td>Yes</td>\n",
       "      <td>Yes</td>\n",
       "      <td>Face to Face</td>\n",
       "      <td>-</td>\n",
       "      <td>-</td>\n",
       "      <td>Face to Face</td>\n",
       "      <td>-</td>\n",
       "      <td>-</td>\n",
       "      <td>Face to Face</td>\n",
       "      <td>-</td>\n",
       "      <td>-</td>\n",
       "      <td>Yes</td>\n",
       "      <td>Yes</td>\n",
       "      <td>Yes</td>\n",
       "      <td>Yes</td>\n",
       "      <td>Yes</td>\n",
       "      <td>Female</td>\n",
       "      <td>26  30</td>\n",
       "      <td>Temporary Full-time</td>\n",
       "      <td>Administration (AO)</td>\n",
       "      <td>1-2</td>\n",
       "      <td>1-2</td>\n",
       "    </tr>\n",
       "    <tr>\n",
       "      <th>1</th>\n",
       "      <td>6.341337e+17</td>\n",
       "      <td>Mount Isa Institute of TAFE</td>\n",
       "      <td>Non-Delivery (corporate)</td>\n",
       "      <td>2010.0</td>\n",
       "      <td>Retirement</td>\n",
       "      <td>-</td>\n",
       "      <td>-</td>\n",
       "      <td>-</td>\n",
       "      <td>-</td>\n",
       "      <td>-</td>\n",
       "      <td>-</td>\n",
       "      <td>-</td>\n",
       "      <td>-</td>\n",
       "      <td>-</td>\n",
       "      <td>Travel</td>\n",
       "      <td>-</td>\n",
       "      <td>-</td>\n",
       "      <td>NaN</td>\n",
       "      <td>Agree</td>\n",
       "      <td>Agree</td>\n",
       "      <td>Agree</td>\n",
       "      <td>Agree</td>\n",
       "      <td>Agree</td>\n",
       "      <td>Strongly Agree</td>\n",
       "      <td>Strongly Agree</td>\n",
       "      <td>Agree</td>\n",
       "      <td>Strongly Agree</td>\n",
       "      <td>Agree</td>\n",
       "      <td>Agree</td>\n",
       "      <td>Agree</td>\n",
       "      <td>Disagree</td>\n",
       "      <td>Strongly Agree</td>\n",
       "      <td>Strongly Agree</td>\n",
       "      <td>Strongly Agree</td>\n",
       "      <td>Agree</td>\n",
       "      <td>Agree</td>\n",
       "      <td>Agree</td>\n",
       "      <td>Strongly Agree</td>\n",
       "      <td>Agree</td>\n",
       "      <td>Agree</td>\n",
       "      <td>Agree</td>\n",
       "      <td>Strongly Agree</td>\n",
       "      <td>Agree</td>\n",
       "      <td>Strongly Agree</td>\n",
       "      <td>Strongly Agree</td>\n",
       "      <td>Agree</td>\n",
       "      <td>Agree</td>\n",
       "      <td>Strongly Agree</td>\n",
       "      <td>No</td>\n",
       "      <td>NaN</td>\n",
       "      <td>NaN</td>\n",
       "      <td>NaN</td>\n",
       "      <td>NaN</td>\n",
       "      <td>NaN</td>\n",
       "      <td>NaN</td>\n",
       "      <td>NaN</td>\n",
       "      <td>NaN</td>\n",
       "      <td>NaN</td>\n",
       "      <td>NaN</td>\n",
       "      <td>NaN</td>\n",
       "      <td>NaN</td>\n",
       "      <td>Yes</td>\n",
       "      <td>Yes</td>\n",
       "      <td>Yes</td>\n",
       "      <td>Yes</td>\n",
       "      <td>Yes</td>\n",
       "      <td>NaN</td>\n",
       "      <td>NaN</td>\n",
       "      <td>NaN</td>\n",
       "      <td>NaN</td>\n",
       "      <td>NaN</td>\n",
       "      <td>NaN</td>\n",
       "    </tr>\n",
       "    <tr>\n",
       "      <th>2</th>\n",
       "      <td>6.341388e+17</td>\n",
       "      <td>Mount Isa Institute of TAFE</td>\n",
       "      <td>Delivery (teaching)</td>\n",
       "      <td>2010.0</td>\n",
       "      <td>Retirement</td>\n",
       "      <td>-</td>\n",
       "      <td>-</td>\n",
       "      <td>-</td>\n",
       "      <td>-</td>\n",
       "      <td>-</td>\n",
       "      <td>-</td>\n",
       "      <td>-</td>\n",
       "      <td>-</td>\n",
       "      <td>-</td>\n",
       "      <td>-</td>\n",
       "      <td>-</td>\n",
       "      <td>NONE</td>\n",
       "      <td>NaN</td>\n",
       "      <td>Agree</td>\n",
       "      <td>Agree</td>\n",
       "      <td>Agree</td>\n",
       "      <td>Agree</td>\n",
       "      <td>Agree</td>\n",
       "      <td>Agree</td>\n",
       "      <td>Strongly Agree</td>\n",
       "      <td>Agree</td>\n",
       "      <td>Agree</td>\n",
       "      <td>Agree</td>\n",
       "      <td>Agree</td>\n",
       "      <td>Neutral</td>\n",
       "      <td>Neutral</td>\n",
       "      <td>Strongly Agree</td>\n",
       "      <td>Strongly Agree</td>\n",
       "      <td>Agree</td>\n",
       "      <td>Agree</td>\n",
       "      <td>Agree</td>\n",
       "      <td>Agree</td>\n",
       "      <td>Agree</td>\n",
       "      <td>Agree</td>\n",
       "      <td>Agree</td>\n",
       "      <td>Agree</td>\n",
       "      <td>Agree</td>\n",
       "      <td>Agree</td>\n",
       "      <td>Agree</td>\n",
       "      <td>Agree</td>\n",
       "      <td>Agree</td>\n",
       "      <td>Agree</td>\n",
       "      <td>Agree</td>\n",
       "      <td>No</td>\n",
       "      <td>NaN</td>\n",
       "      <td>NaN</td>\n",
       "      <td>NaN</td>\n",
       "      <td>NaN</td>\n",
       "      <td>NaN</td>\n",
       "      <td>NaN</td>\n",
       "      <td>NaN</td>\n",
       "      <td>NaN</td>\n",
       "      <td>NaN</td>\n",
       "      <td>NaN</td>\n",
       "      <td>NaN</td>\n",
       "      <td>NaN</td>\n",
       "      <td>Yes</td>\n",
       "      <td>Yes</td>\n",
       "      <td>Yes</td>\n",
       "      <td>Yes</td>\n",
       "      <td>Yes</td>\n",
       "      <td>NaN</td>\n",
       "      <td>NaN</td>\n",
       "      <td>NaN</td>\n",
       "      <td>NaN</td>\n",
       "      <td>NaN</td>\n",
       "      <td>NaN</td>\n",
       "    </tr>\n",
       "  </tbody>\n",
       "</table>\n",
       "</div>"
      ],
      "text/plain": [
       "      Record ID                              Institute  \\\n",
       "0  6.341330e+17  Southern Queensland Institute of TAFE   \n",
       "1  6.341337e+17            Mount Isa Institute of TAFE   \n",
       "2  6.341388e+17            Mount Isa Institute of TAFE   \n",
       "\n",
       "                   WorkArea  CESSATION YEAR Reason for ceasing employment  \\\n",
       "0  Non-Delivery (corporate)          2010.0              Contract Expired   \n",
       "1  Non-Delivery (corporate)          2010.0                    Retirement   \n",
       "2       Delivery (teaching)          2010.0                    Retirement   \n",
       "\n",
       "  Contributing Factors. Career Move - Public Sector   \\\n",
       "0                                                NaN   \n",
       "1                                                  -   \n",
       "2                                                  -   \n",
       "\n",
       "  Contributing Factors. Career Move - Private Sector   \\\n",
       "0                                                NaN    \n",
       "1                                                  -    \n",
       "2                                                  -    \n",
       "\n",
       "  Contributing Factors. Career Move - Self-employment  \\\n",
       "0                                                NaN    \n",
       "1                                                  -    \n",
       "2                                                  -    \n",
       "\n",
       "  Contributing Factors. Ill Health Contributing Factors. Maternity/Family  \\\n",
       "0                              NaN                                    NaN   \n",
       "1                                -                                      -   \n",
       "2                                -                                      -   \n",
       "\n",
       "  Contributing Factors. Dissatisfaction  \\\n",
       "0                                   NaN   \n",
       "1                                     -   \n",
       "2                                     -   \n",
       "\n",
       "  Contributing Factors. Job Dissatisfaction  \\\n",
       "0                                       NaN   \n",
       "1                                         -   \n",
       "2                                         -   \n",
       "\n",
       "  Contributing Factors. Interpersonal Conflict Contributing Factors. Study  \\\n",
       "0                                          NaN                         NaN   \n",
       "1                                            -                           -   \n",
       "2                                            -                           -   \n",
       "\n",
       "  Contributing Factors. Travel Contributing Factors. Other  \\\n",
       "0                          NaN                         NaN   \n",
       "1                       Travel                           -   \n",
       "2                            -                           -   \n",
       "\n",
       "  Contributing Factors. NONE  \\\n",
       "0                        NaN   \n",
       "1                          -   \n",
       "2                       NONE   \n",
       "\n",
       "  Main Factor. Which of these was the main factor for leaving?  \\\n",
       "0                                                NaN             \n",
       "1                                                NaN             \n",
       "2                                                NaN             \n",
       "\n",
       "  InstituteViews. Topic:1. I feel the senior leadership had a clear vision and direction  \\\n",
       "0                                              Agree                                       \n",
       "1                                              Agree                                       \n",
       "2                                              Agree                                       \n",
       "\n",
       "  InstituteViews. Topic:2. I was given access to skills training to help me do my job better  \\\n",
       "0                                              Agree                                           \n",
       "1                                              Agree                                           \n",
       "2                                              Agree                                           \n",
       "\n",
       "  InstituteViews. Topic:3. I was given adequate opportunities for personal development  \\\n",
       "0                                              Agree                                     \n",
       "1                                              Agree                                     \n",
       "2                                              Agree                                     \n",
       "\n",
       "  InstituteViews. Topic:4. I was given adequate opportunities for promotion within %Institute]Q25LBL%  \\\n",
       "0                                            Neutral                                                    \n",
       "1                                              Agree                                                    \n",
       "2                                              Agree                                                    \n",
       "\n",
       "  InstituteViews. Topic:5. I felt the salary for the job was right for the responsibilities I had  \\\n",
       "0                                              Agree                                                \n",
       "1                                              Agree                                                \n",
       "2                                              Agree                                                \n",
       "\n",
       "  InstituteViews. Topic:6. The organisation recognised when staff did good work  \\\n",
       "0                                              Agree                              \n",
       "1                                     Strongly Agree                              \n",
       "2                                              Agree                              \n",
       "\n",
       "  InstituteViews. Topic:7. Management was generally supportive of me  \\\n",
       "0                                              Agree                   \n",
       "1                                     Strongly Agree                   \n",
       "2                                     Strongly Agree                   \n",
       "\n",
       "  InstituteViews. Topic:8. Management was generally supportive of my team  \\\n",
       "0                                              Agree                        \n",
       "1                                              Agree                        \n",
       "2                                              Agree                        \n",
       "\n",
       "  InstituteViews. Topic:9. I was kept informed of the changes in the organisation which would affect me  \\\n",
       "0                                              Agree                                                      \n",
       "1                                     Strongly Agree                                                      \n",
       "2                                              Agree                                                      \n",
       "\n",
       "  InstituteViews. Topic:10. Staff morale was positive within the Institute  \\\n",
       "0                                              Agree                         \n",
       "1                                              Agree                         \n",
       "2                                              Agree                         \n",
       "\n",
       "  InstituteViews. Topic:11. If I had a workplace issue it was dealt with quickly  \\\n",
       "0                                              Agree                               \n",
       "1                                              Agree                               \n",
       "2                                              Agree                               \n",
       "\n",
       "  InstituteViews. Topic:12. If I had a workplace issue it was dealt with efficiently  \\\n",
       "0                                              Agree                                   \n",
       "1                                              Agree                                   \n",
       "2                                            Neutral                                   \n",
       "\n",
       "  InstituteViews. Topic:13. If I had a workplace issue it was dealt with discreetly  \\\n",
       "0                                              Agree                                  \n",
       "1                                           Disagree                                  \n",
       "2                                            Neutral                                  \n",
       "\n",
       "  WorkUnitViews. Topic:14. I was satisfied with the quality of the management and supervision within my work unit  \\\n",
       "0                                              Agree                                                                \n",
       "1                                     Strongly Agree                                                                \n",
       "2                                     Strongly Agree                                                                \n",
       "\n",
       "  WorkUnitViews. Topic:15. I worked well with my colleagues  \\\n",
       "0                                              Agree          \n",
       "1                                     Strongly Agree          \n",
       "2                                     Strongly Agree          \n",
       "\n",
       "  WorkUnitViews. Topic:16. My job was challenging and interesting  \\\n",
       "0                                              Agree                \n",
       "1                                     Strongly Agree                \n",
       "2                                              Agree                \n",
       "\n",
       "  WorkUnitViews. Topic:17. I was encouraged to use my initiative in the course of my work  \\\n",
       "0                                     Strongly Agree                                        \n",
       "1                                              Agree                                        \n",
       "2                                              Agree                                        \n",
       "\n",
       "  WorkUnitViews. Topic:18. I had sufficient contact with other people in my job  \\\n",
       "0                                              Agree                              \n",
       "1                                              Agree                              \n",
       "2                                              Agree                              \n",
       "\n",
       "  WorkUnitViews. Topic:19. I was given adequate support and co-operation by my peers to enable me to do my job  \\\n",
       "0                                              Agree                                                             \n",
       "1                                              Agree                                                             \n",
       "2                                              Agree                                                             \n",
       "\n",
       "  WorkUnitViews. Topic:20. I was able to use the full range of my skills in my job  \\\n",
       "0                                              Agree                                 \n",
       "1                                     Strongly Agree                                 \n",
       "2                                              Agree                                 \n",
       "\n",
       "  WorkUnitViews. Topic:21. I was able to use the full range of my abilities in my job. ; Category:Level of Agreement; Question:YOUR VIEWS ABOUT YOUR WORK UNIT]  \\\n",
       "0                                              Agree                                                                                                              \n",
       "1                                              Agree                                                                                                              \n",
       "2                                              Agree                                                                                                              \n",
       "\n",
       "  WorkUnitViews. Topic:22. I was able to use the full range of my knowledge in my job  \\\n",
       "0                                              Agree                                    \n",
       "1                                              Agree                                    \n",
       "2                                              Agree                                    \n",
       "\n",
       "  WorkUnitViews. Topic:23. My job provided sufficient variety  \\\n",
       "0                                              Agree            \n",
       "1                                              Agree            \n",
       "2                                              Agree            \n",
       "\n",
       "  WorkUnitViews. Topic:24. I was able to cope with the level of stress and pressure in my job  \\\n",
       "0                                              Agree                                            \n",
       "1                                     Strongly Agree                                            \n",
       "2                                              Agree                                            \n",
       "\n",
       "  WorkUnitViews. Topic:25. My job allowed me to balance the demands of work and family to my satisfaction  \\\n",
       "0                                              Agree                                                        \n",
       "1                                              Agree                                                        \n",
       "2                                              Agree                                                        \n",
       "\n",
       "  WorkUnitViews. Topic:26. My supervisor gave me adequate personal recognition and feedback on my performance  \\\n",
       "0                                              Agree                                                            \n",
       "1                                     Strongly Agree                                                            \n",
       "2                                              Agree                                                            \n",
       "\n",
       "  WorkUnitViews. Topic:27. My working environment was satisfactory e.g. sufficient space, good lighting, suitable seating and working area  \\\n",
       "0                                              Agree                                                                                         \n",
       "1                                     Strongly Agree                                                                                         \n",
       "2                                              Agree                                                                                         \n",
       "\n",
       "  WorkUnitViews. Topic:28. I was given the opportunity to mentor and coach others in order for me to pass on my skills and knowledge prior to my cessation date  \\\n",
       "0                                            Neutral                                                                                                              \n",
       "1                                              Agree                                                                                                              \n",
       "2                                              Agree                                                                                                              \n",
       "\n",
       "  WorkUnitViews. Topic:29. There was adequate communication between staff in my unit  \\\n",
       "0                                              Agree                                   \n",
       "1                                              Agree                                   \n",
       "2                                              Agree                                   \n",
       "\n",
       "  WorkUnitViews. Topic:30. Staff morale was positive within my work unit  \\\n",
       "0                                              Agree                       \n",
       "1                                     Strongly Agree                       \n",
       "2                                              Agree                       \n",
       "\n",
       "  Induction. Did you undertake Workplace Induction?  \\\n",
       "0                                               Yes   \n",
       "1                                                No   \n",
       "2                                                No   \n",
       "\n",
       "  InductionInfo. Topic:Did you undertake a Corporate Induction?  \\\n",
       "0                                                Yes              \n",
       "1                                                NaN              \n",
       "2                                                NaN              \n",
       "\n",
       "  InductionInfo. Topic:Did you undertake a Institute Induction?  \\\n",
       "0                                                Yes              \n",
       "1                                                NaN              \n",
       "2                                                NaN              \n",
       "\n",
       "  InductionInfo. Topic: Did you undertake Team Induction?  \\\n",
       "0                                                Yes        \n",
       "1                                                NaN        \n",
       "2                                                NaN        \n",
       "\n",
       "  InductionInfo. Face to Face Topic:Did you undertake a Corporate Induction; Category:How it was conducted?  \\\n",
       "0                                       Face to Face                                                          \n",
       "1                                                NaN                                                          \n",
       "2                                                NaN                                                          \n",
       "\n",
       "  InductionInfo. On-line Topic:Did you undertake a Corporate Induction; Category:How it was conducted?  \\\n",
       "0                                                  -                                                     \n",
       "1                                                NaN                                                     \n",
       "2                                                NaN                                                     \n",
       "\n",
       "  InductionInfo. Induction Manual Topic:Did you undertake a Corporate Induction?  \\\n",
       "0                                                  -                               \n",
       "1                                                NaN                               \n",
       "2                                                NaN                               \n",
       "\n",
       "  InductionInfo. Face to Face Topic:Did you undertake a Institute Induction?  \\\n",
       "0                                       Face to Face                           \n",
       "1                                                NaN                           \n",
       "2                                                NaN                           \n",
       "\n",
       "  InductionInfo. On-line Topic:Did you undertake a Institute Induction?  \\\n",
       "0                                                  -                      \n",
       "1                                                NaN                      \n",
       "2                                                NaN                      \n",
       "\n",
       "  InductionInfo. Induction Manual Topic:Did you undertake a Institute Induction?  \\\n",
       "0                                                  -                               \n",
       "1                                                NaN                               \n",
       "2                                                NaN                               \n",
       "\n",
       "  InductionInfo. Face to Face Topic: Did you undertake Team Induction; Category?  \\\n",
       "0                                       Face to Face                               \n",
       "1                                                NaN                               \n",
       "2                                                NaN                               \n",
       "\n",
       "  InductionInfo. On-line Topic: Did you undertake Team Induction?process you undertook and how it was conducted.]  \\\n",
       "0                                                  -                                                                \n",
       "1                                                NaN                                                                \n",
       "2                                                NaN                                                                \n",
       "\n",
       "  InductionInfo. Induction Manual Topic: Did you undertake Team Induction?  \\\n",
       "0                                                  -                         \n",
       "1                                                NaN                         \n",
       "2                                                NaN                         \n",
       "\n",
       "  Workplace. Topic:Did you and your Manager develop a Performance and Professional Development Plan (PPDP)?  \\\n",
       "0                                                Yes                                                          \n",
       "1                                                Yes                                                          \n",
       "2                                                Yes                                                          \n",
       "\n",
       "  Workplace. Topic:Does your workplace promote a work culture free from all forms of unlawful discrimination?  \\\n",
       "0                                                Yes                                                            \n",
       "1                                                Yes                                                            \n",
       "2                                                Yes                                                            \n",
       "\n",
       "  Workplace. Topic:Does your workplace promote and practice the principles of employment equity?  \\\n",
       "0                                                Yes                                               \n",
       "1                                                Yes                                               \n",
       "2                                                Yes                                               \n",
       "\n",
       "  Workplace. Topic:Does your workplace value the diversity of its employees?  \\\n",
       "0                                                Yes                           \n",
       "1                                                Yes                           \n",
       "2                                                Yes                           \n",
       "\n",
       "  Workplace. Topic:Would you recommend the Institute as an employer to others?  \\\n",
       "0                                                Yes                             \n",
       "1                                                Yes                             \n",
       "2                                                Yes                             \n",
       "\n",
       "  Gender. What is your Gender? CurrentAge. Current Age  \\\n",
       "0                       Female                  26  30   \n",
       "1                          NaN                     NaN   \n",
       "2                          NaN                     NaN   \n",
       "\n",
       "  Employment Type. Employment Type Classification. Classification  \\\n",
       "0              Temporary Full-time            Administration (AO)   \n",
       "1                              NaN                            NaN   \n",
       "2                              NaN                            NaN   \n",
       "\n",
       "  LengthofServiceOverall. Overall Length of Service at Institute (in years)  \\\n",
       "0                                                1-2                          \n",
       "1                                                NaN                          \n",
       "2                                                NaN                          \n",
       "\n",
       "  LengthofServiceCurrent. Length of Service at current workplace (in years)  \n",
       "0                                                1-2                         \n",
       "1                                                NaN                         \n",
       "2                                                NaN                         "
      ]
     },
     "execution_count": 6,
     "metadata": {},
     "output_type": "execute_result"
    }
   ],
   "source": [
    "tafe_survey.head(3)"
   ]
  },
  {
   "cell_type": "code",
   "execution_count": 7,
   "metadata": {
    "scrolled": true
   },
   "outputs": [
    {
     "name": "stdout",
     "output_type": "stream",
     "text": [
      "<class 'pandas.core.frame.DataFrame'>\n",
      "RangeIndex: 822 entries, 0 to 821\n",
      "Data columns (total 56 columns):\n",
      " #   Column                               Non-Null Count  Dtype \n",
      "---  ------                               --------------  ----- \n",
      " 0   ID                                   822 non-null    int64 \n",
      " 1   SeparationType                       822 non-null    object\n",
      " 2   Cease Date                           822 non-null    object\n",
      " 3   DETE Start Date                      822 non-null    object\n",
      " 4   Role Start Date                      822 non-null    object\n",
      " 5   Position                             817 non-null    object\n",
      " 6   Classification                       455 non-null    object\n",
      " 7   Region                               822 non-null    object\n",
      " 8   Business Unit                        126 non-null    object\n",
      " 9   Employment Status                    817 non-null    object\n",
      " 10  Career move to public sector         822 non-null    bool  \n",
      " 11  Career move to private sector        822 non-null    bool  \n",
      " 12  Interpersonal conflicts              822 non-null    bool  \n",
      " 13  Job dissatisfaction                  822 non-null    bool  \n",
      " 14  Dissatisfaction with the department  822 non-null    bool  \n",
      " 15  Physical work environment            822 non-null    bool  \n",
      " 16  Lack of recognition                  822 non-null    bool  \n",
      " 17  Lack of job security                 822 non-null    bool  \n",
      " 18  Work location                        822 non-null    bool  \n",
      " 19  Employment conditions                822 non-null    bool  \n",
      " 20  Maternity/family                     822 non-null    bool  \n",
      " 21  Relocation                           822 non-null    bool  \n",
      " 22  Study/Travel                         822 non-null    bool  \n",
      " 23  Ill Health                           822 non-null    bool  \n",
      " 24  Traumatic incident                   822 non-null    bool  \n",
      " 25  Work life balance                    822 non-null    bool  \n",
      " 26  Workload                             822 non-null    bool  \n",
      " 27  None of the above                    822 non-null    bool  \n",
      " 28  Professional Development             808 non-null    object\n",
      " 29  Opportunities for promotion          735 non-null    object\n",
      " 30  Staff morale                         816 non-null    object\n",
      " 31  Workplace issue                      788 non-null    object\n",
      " 32  Physical environment                 817 non-null    object\n",
      " 33  Worklife balance                     815 non-null    object\n",
      " 34  Stress and pressure support          810 non-null    object\n",
      " 35  Performance of supervisor            813 non-null    object\n",
      " 36  Peer support                         812 non-null    object\n",
      " 37  Initiative                           813 non-null    object\n",
      " 38  Skills                               811 non-null    object\n",
      " 39  Coach                                767 non-null    object\n",
      " 40  Career Aspirations                   746 non-null    object\n",
      " 41  Feedback                             792 non-null    object\n",
      " 42  Further PD                           768 non-null    object\n",
      " 43  Communication                        814 non-null    object\n",
      " 44  My say                               812 non-null    object\n",
      " 45  Information                          816 non-null    object\n",
      " 46  Kept informed                        813 non-null    object\n",
      " 47  Wellness programs                    766 non-null    object\n",
      " 48  Health & Safety                      793 non-null    object\n",
      " 49  Gender                               798 non-null    object\n",
      " 50  Age                                  811 non-null    object\n",
      " 51  Aboriginal                           16 non-null     object\n",
      " 52  Torres Strait                        3 non-null      object\n",
      " 53  South Sea                            7 non-null      object\n",
      " 54  Disability                           23 non-null     object\n",
      " 55  NESB                                 32 non-null     object\n",
      "dtypes: bool(18), int64(1), object(37)\n",
      "memory usage: 258.6+ KB\n"
     ]
    }
   ],
   "source": [
    "dete_survey_first.info()"
   ]
  },
  {
   "cell_type": "code",
   "execution_count": 8,
   "metadata": {
    "scrolled": true
   },
   "outputs": [
    {
     "name": "stdout",
     "output_type": "stream",
     "text": [
      "<class 'pandas.core.frame.DataFrame'>\n",
      "RangeIndex: 702 entries, 0 to 701\n",
      "Data columns (total 72 columns):\n",
      " #   Column                                                                                                                                                         Non-Null Count  Dtype  \n",
      "---  ------                                                                                                                                                         --------------  -----  \n",
      " 0   Record ID                                                                                                                                                      702 non-null    float64\n",
      " 1   Institute                                                                                                                                                      702 non-null    object \n",
      " 2   WorkArea                                                                                                                                                       702 non-null    object \n",
      " 3   CESSATION YEAR                                                                                                                                                 695 non-null    float64\n",
      " 4   Reason for ceasing employment                                                                                                                                  701 non-null    object \n",
      " 5   Contributing Factors. Career Move - Public Sector                                                                                                              437 non-null    object \n",
      " 6   Contributing Factors. Career Move - Private Sector                                                                                                             437 non-null    object \n",
      " 7   Contributing Factors. Career Move - Self-employment                                                                                                            437 non-null    object \n",
      " 8   Contributing Factors. Ill Health                                                                                                                               437 non-null    object \n",
      " 9   Contributing Factors. Maternity/Family                                                                                                                         437 non-null    object \n",
      " 10  Contributing Factors. Dissatisfaction                                                                                                                          437 non-null    object \n",
      " 11  Contributing Factors. Job Dissatisfaction                                                                                                                      437 non-null    object \n",
      " 12  Contributing Factors. Interpersonal Conflict                                                                                                                   437 non-null    object \n",
      " 13  Contributing Factors. Study                                                                                                                                    437 non-null    object \n",
      " 14  Contributing Factors. Travel                                                                                                                                   437 non-null    object \n",
      " 15  Contributing Factors. Other                                                                                                                                    437 non-null    object \n",
      " 16  Contributing Factors. NONE                                                                                                                                     437 non-null    object \n",
      " 17  Main Factor. Which of these was the main factor for leaving?                                                                                                   113 non-null    object \n",
      " 18  InstituteViews. Topic:1. I feel the senior leadership had a clear vision and direction                                                                         608 non-null    object \n",
      " 19  InstituteViews. Topic:2. I was given access to skills training to help me do my job better                                                                     613 non-null    object \n",
      " 20  InstituteViews. Topic:3. I was given adequate opportunities for personal development                                                                           610 non-null    object \n",
      " 21  InstituteViews. Topic:4. I was given adequate opportunities for promotion within %Institute]Q25LBL%                                                            608 non-null    object \n",
      " 22  InstituteViews. Topic:5. I felt the salary for the job was right for the responsibilities I had                                                                615 non-null    object \n",
      " 23  InstituteViews. Topic:6. The organisation recognised when staff did good work                                                                                  607 non-null    object \n",
      " 24  InstituteViews. Topic:7. Management was generally supportive of me                                                                                             614 non-null    object \n",
      " 25  InstituteViews. Topic:8. Management was generally supportive of my team                                                                                        608 non-null    object \n",
      " 26  InstituteViews. Topic:9. I was kept informed of the changes in the organisation which would affect me                                                          610 non-null    object \n",
      " 27  InstituteViews. Topic:10. Staff morale was positive within the Institute                                                                                       602 non-null    object \n",
      " 28  InstituteViews. Topic:11. If I had a workplace issue it was dealt with quickly                                                                                 601 non-null    object \n",
      " 29  InstituteViews. Topic:12. If I had a workplace issue it was dealt with efficiently                                                                             597 non-null    object \n",
      " 30  InstituteViews. Topic:13. If I had a workplace issue it was dealt with discreetly                                                                              601 non-null    object \n",
      " 31  WorkUnitViews. Topic:14. I was satisfied with the quality of the management and supervision within my work unit                                                609 non-null    object \n",
      " 32  WorkUnitViews. Topic:15. I worked well with my colleagues                                                                                                      605 non-null    object \n",
      " 33  WorkUnitViews. Topic:16. My job was challenging and interesting                                                                                                607 non-null    object \n",
      " 34  WorkUnitViews. Topic:17. I was encouraged to use my initiative in the course of my work                                                                        610 non-null    object \n",
      " 35  WorkUnitViews. Topic:18. I had sufficient contact with other people in my job                                                                                  613 non-null    object \n",
      " 36  WorkUnitViews. Topic:19. I was given adequate support and co-operation by my peers to enable me to do my job                                                   609 non-null    object \n",
      " 37  WorkUnitViews. Topic:20. I was able to use the full range of my skills in my job                                                                               609 non-null    object \n",
      " 38  WorkUnitViews. Topic:21. I was able to use the full range of my abilities in my job. ; Category:Level of Agreement; Question:YOUR VIEWS ABOUT YOUR WORK UNIT]  608 non-null    object \n",
      " 39  WorkUnitViews. Topic:22. I was able to use the full range of my knowledge in my job                                                                            608 non-null    object \n",
      " 40  WorkUnitViews. Topic:23. My job provided sufficient variety                                                                                                    611 non-null    object \n",
      " 41  WorkUnitViews. Topic:24. I was able to cope with the level of stress and pressure in my job                                                                    610 non-null    object \n",
      " 42  WorkUnitViews. Topic:25. My job allowed me to balance the demands of work and family to my satisfaction                                                        611 non-null    object \n",
      " 43  WorkUnitViews. Topic:26. My supervisor gave me adequate personal recognition and feedback on my performance                                                    606 non-null    object \n",
      " 44  WorkUnitViews. Topic:27. My working environment was satisfactory e.g. sufficient space, good lighting, suitable seating and working area                       610 non-null    object \n",
      " 45  WorkUnitViews. Topic:28. I was given the opportunity to mentor and coach others in order for me to pass on my skills and knowledge prior to my cessation date  609 non-null    object \n",
      " 46  WorkUnitViews. Topic:29. There was adequate communication between staff in my unit                                                                             603 non-null    object \n",
      " 47  WorkUnitViews. Topic:30. Staff morale was positive within my work unit                                                                                         606 non-null    object \n",
      " 48  Induction. Did you undertake Workplace Induction?                                                                                                              619 non-null    object \n",
      " 49  InductionInfo. Topic:Did you undertake a Corporate Induction?                                                                                                  432 non-null    object \n",
      " 50  InductionInfo. Topic:Did you undertake a Institute Induction?                                                                                                  483 non-null    object \n",
      " 51  InductionInfo. Topic: Did you undertake Team Induction?                                                                                                        440 non-null    object \n",
      " 52  InductionInfo. Face to Face Topic:Did you undertake a Corporate Induction; Category:How it was conducted?                                                      555 non-null    object \n",
      " 53  InductionInfo. On-line Topic:Did you undertake a Corporate Induction; Category:How it was conducted?                                                           555 non-null    object \n",
      " 54  InductionInfo. Induction Manual Topic:Did you undertake a Corporate Induction?                                                                                 555 non-null    object \n",
      " 55  InductionInfo. Face to Face Topic:Did you undertake a Institute Induction?                                                                                     530 non-null    object \n",
      " 56  InductionInfo. On-line Topic:Did you undertake a Institute Induction?                                                                                          555 non-null    object \n",
      " 57  InductionInfo. Induction Manual Topic:Did you undertake a Institute Induction?                                                                                 553 non-null    object \n",
      " 58  InductionInfo. Face to Face Topic: Did you undertake Team Induction; Category?                                                                                 555 non-null    object \n",
      " 59  InductionInfo. On-line Topic: Did you undertake Team Induction?process you undertook and how it was conducted.]                                                555 non-null    object \n",
      " 60  InductionInfo. Induction Manual Topic: Did you undertake Team Induction?                                                                                       555 non-null    object \n",
      " 61  Workplace. Topic:Did you and your Manager develop a Performance and Professional Development Plan (PPDP)?                                                      608 non-null    object \n",
      " 62  Workplace. Topic:Does your workplace promote a work culture free from all forms of unlawful discrimination?                                                    594 non-null    object \n",
      " 63  Workplace. Topic:Does your workplace promote and practice the principles of employment equity?                                                                 587 non-null    object \n",
      " 64  Workplace. Topic:Does your workplace value the diversity of its employees?                                                                                     586 non-null    object \n",
      " 65  Workplace. Topic:Would you recommend the Institute as an employer to others?                                                                                   581 non-null    object \n",
      " 66  Gender. What is your Gender?                                                                                                                                   596 non-null    object \n",
      " 67  CurrentAge. Current Age                                                                                                                                        596 non-null    object \n",
      " 68  Employment Type. Employment Type                                                                                                                               596 non-null    object \n",
      " 69  Classification. Classification                                                                                                                                 596 non-null    object \n",
      " 70  LengthofServiceOverall. Overall Length of Service at Institute (in years)                                                                                      596 non-null    object \n",
      " 71  LengthofServiceCurrent. Length of Service at current workplace (in years)                                                                                      596 non-null    object \n",
      "dtypes: float64(2), object(70)\n",
      "memory usage: 395.0+ KB\n"
     ]
    }
   ],
   "source": [
    "tafe_survey.info()"
   ]
  },
  {
   "cell_type": "markdown",
   "metadata": {},
   "source": [
    "Due to the large number of columns that each of the datasets has, it is not easy to see the information needed.so having a function that inform about the name of the column having **NaN** values and the amount of them."
   ]
  },
  {
   "cell_type": "code",
   "execution_count": 9,
   "id": "be03c42f",
   "metadata": {
    "scrolled": true
   },
   "outputs": [],
   "source": [
    "def missing_on_columns(df):\n",
    "    print(df.isnull().sum().loc[lambda x : x>0])"
   ]
  },
  {
   "cell_type": "markdown",
   "id": "ba78af9b",
   "metadata": {},
   "source": [
    "- **Missing values** over columns and **NaN** in both dataframes"
   ]
  },
  {
   "cell_type": "code",
   "execution_count": 10,
   "metadata": {},
   "outputs": [
    {
     "name": "stdout",
     "output_type": "stream",
     "text": [
      "CESSATION YEAR                                                                                                                                                     7\n",
      "Reason for ceasing employment                                                                                                                                      1\n",
      "Contributing Factors. Career Move - Public Sector                                                                                                                265\n",
      "Contributing Factors. Career Move - Private Sector                                                                                                               265\n",
      "Contributing Factors. Career Move - Self-employment                                                                                                              265\n",
      "Contributing Factors. Ill Health                                                                                                                                 265\n",
      "Contributing Factors. Maternity/Family                                                                                                                           265\n",
      "Contributing Factors. Dissatisfaction                                                                                                                            265\n",
      "Contributing Factors. Job Dissatisfaction                                                                                                                        265\n",
      "Contributing Factors. Interpersonal Conflict                                                                                                                     265\n",
      "Contributing Factors. Study                                                                                                                                      265\n",
      "Contributing Factors. Travel                                                                                                                                     265\n",
      "Contributing Factors. Other                                                                                                                                      265\n",
      "Contributing Factors. NONE                                                                                                                                       265\n",
      "Main Factor. Which of these was the main factor for leaving?                                                                                                     589\n",
      "InstituteViews. Topic:1. I feel the senior leadership had a clear vision and direction                                                                            94\n",
      "InstituteViews. Topic:2. I was given access to skills training to help me do my job better                                                                        89\n",
      "InstituteViews. Topic:3. I was given adequate opportunities for personal development                                                                              92\n",
      "InstituteViews. Topic:4. I was given adequate opportunities for promotion within %Institute]Q25LBL%                                                               94\n",
      "InstituteViews. Topic:5. I felt the salary for the job was right for the responsibilities I had                                                                   87\n",
      "InstituteViews. Topic:6. The organisation recognised when staff did good work                                                                                     95\n",
      "InstituteViews. Topic:7. Management was generally supportive of me                                                                                                88\n",
      "InstituteViews. Topic:8. Management was generally supportive of my team                                                                                           94\n",
      "InstituteViews. Topic:9. I was kept informed of the changes in the organisation which would affect me                                                             92\n",
      "InstituteViews. Topic:10. Staff morale was positive within the Institute                                                                                         100\n",
      "InstituteViews. Topic:11. If I had a workplace issue it was dealt with quickly                                                                                   101\n",
      "InstituteViews. Topic:12. If I had a workplace issue it was dealt with efficiently                                                                               105\n",
      "InstituteViews. Topic:13. If I had a workplace issue it was dealt with discreetly                                                                                101\n",
      "WorkUnitViews. Topic:14. I was satisfied with the quality of the management and supervision within my work unit                                                   93\n",
      "WorkUnitViews. Topic:15. I worked well with my colleagues                                                                                                         97\n",
      "WorkUnitViews. Topic:16. My job was challenging and interesting                                                                                                   95\n",
      "WorkUnitViews. Topic:17. I was encouraged to use my initiative in the course of my work                                                                           92\n",
      "WorkUnitViews. Topic:18. I had sufficient contact with other people in my job                                                                                     89\n",
      "WorkUnitViews. Topic:19. I was given adequate support and co-operation by my peers to enable me to do my job                                                      93\n",
      "WorkUnitViews. Topic:20. I was able to use the full range of my skills in my job                                                                                  93\n",
      "WorkUnitViews. Topic:21. I was able to use the full range of my abilities in my job. ; Category:Level of Agreement; Question:YOUR VIEWS ABOUT YOUR WORK UNIT]     94\n",
      "WorkUnitViews. Topic:22. I was able to use the full range of my knowledge in my job                                                                               94\n",
      "WorkUnitViews. Topic:23. My job provided sufficient variety                                                                                                       91\n",
      "WorkUnitViews. Topic:24. I was able to cope with the level of stress and pressure in my job                                                                       92\n",
      "WorkUnitViews. Topic:25. My job allowed me to balance the demands of work and family to my satisfaction                                                           91\n",
      "WorkUnitViews. Topic:26. My supervisor gave me adequate personal recognition and feedback on my performance                                                       96\n",
      "WorkUnitViews. Topic:27. My working environment was satisfactory e.g. sufficient space, good lighting, suitable seating and working area                          92\n",
      "WorkUnitViews. Topic:28. I was given the opportunity to mentor and coach others in order for me to pass on my skills and knowledge prior to my cessation date     93\n",
      "WorkUnitViews. Topic:29. There was adequate communication between staff in my unit                                                                                99\n",
      "WorkUnitViews. Topic:30. Staff morale was positive within my work unit                                                                                            96\n",
      "Induction. Did you undertake Workplace Induction?                                                                                                                 83\n",
      "InductionInfo. Topic:Did you undertake a Corporate Induction?                                                                                                    270\n",
      "InductionInfo. Topic:Did you undertake a Institute Induction?                                                                                                    219\n",
      "InductionInfo. Topic: Did you undertake Team Induction?                                                                                                          262\n",
      "InductionInfo. Face to Face Topic:Did you undertake a Corporate Induction; Category:How it was conducted?                                                        147\n",
      "InductionInfo. On-line Topic:Did you undertake a Corporate Induction; Category:How it was conducted?                                                             147\n",
      "InductionInfo. Induction Manual Topic:Did you undertake a Corporate Induction?                                                                                   147\n",
      "InductionInfo. Face to Face Topic:Did you undertake a Institute Induction?                                                                                       172\n",
      "InductionInfo. On-line Topic:Did you undertake a Institute Induction?                                                                                            147\n",
      "InductionInfo. Induction Manual Topic:Did you undertake a Institute Induction?                                                                                   149\n",
      "InductionInfo. Face to Face Topic: Did you undertake Team Induction; Category?                                                                                   147\n",
      "InductionInfo. On-line Topic: Did you undertake Team Induction?process you undertook and how it was conducted.]                                                  147\n",
      "InductionInfo. Induction Manual Topic: Did you undertake Team Induction?                                                                                         147\n",
      "Workplace. Topic:Did you and your Manager develop a Performance and Professional Development Plan (PPDP)?                                                         94\n",
      "Workplace. Topic:Does your workplace promote a work culture free from all forms of unlawful discrimination?                                                      108\n",
      "Workplace. Topic:Does your workplace promote and practice the principles of employment equity?                                                                   115\n",
      "Workplace. Topic:Does your workplace value the diversity of its employees?                                                                                       116\n",
      "Workplace. Topic:Would you recommend the Institute as an employer to others?                                                                                     121\n",
      "Gender. What is your Gender?                                                                                                                                     106\n",
      "CurrentAge. Current Age                                                                                                                                          106\n",
      "Employment Type. Employment Type                                                                                                                                 106\n",
      "Classification. Classification                                                                                                                                   106\n",
      "LengthofServiceOverall. Overall Length of Service at Institute (in years)                                                                                        106\n",
      "LengthofServiceCurrent. Length of Service at current workplace (in years)                                                                                        106\n",
      "dtype: int64\n"
     ]
    }
   ],
   "source": [
    "missing_on_columns(tafe_survey) #columns with almost 1 missing value or NaN."
   ]
  },
  {
   "cell_type": "code",
   "execution_count": 11,
   "id": "84be3c66",
   "metadata": {
    "scrolled": true
   },
   "outputs": [
    {
     "name": "stdout",
     "output_type": "stream",
     "text": [
      "Position                         5\n",
      "Classification                 367\n",
      "Business Unit                  696\n",
      "Employment Status                5\n",
      "Professional Development        14\n",
      "Opportunities for promotion     87\n",
      "Staff morale                     6\n",
      "Workplace issue                 34\n",
      "Physical environment             5\n",
      "Worklife balance                 7\n",
      "Stress and pressure support     12\n",
      "Performance of supervisor        9\n",
      "Peer support                    10\n",
      "Initiative                       9\n",
      "Skills                          11\n",
      "Coach                           55\n",
      "Career Aspirations              76\n",
      "Feedback                        30\n",
      "Further PD                      54\n",
      "Communication                    8\n",
      "My say                          10\n",
      "Information                      6\n",
      "Kept informed                    9\n",
      "Wellness programs               56\n",
      "Health & Safety                 29\n",
      "Gender                          24\n",
      "Age                             11\n",
      "Aboriginal                     806\n",
      "Torres Strait                  819\n",
      "South Sea                      815\n",
      "Disability                     799\n",
      "NESB                           790\n",
      "dtype: int64\n"
     ]
    }
   ],
   "source": [
    "missing_on_columns(dete_survey_first) #columns with almost 1 missing value or NaN."
   ]
  },
  {
   "cell_type": "markdown",
   "id": "9ccc3ecf",
   "metadata": {},
   "source": [
    "### observations:\n",
    "\n",
    "`dete_survey` dataframe contains `'Not Stated'` values that indicate **values are missing, but they aren't represented as `NaN`**, to manage it must be indicated in the method `read_csv` assigning to the parameter `na_values = Not stated` then we can see the value as **`NaN`**.\n",
    "\n",
    "**Both** the `dete_survey` and `tafe_survey` dataframes contain **many columns that we don't need to complete our analysis**.\n",
    "\n",
    "Each dataframe contains many of the **same columns, but the column names are different**.\n",
    "\n",
    "**There are multiple columns/answers that indicate an employee resigned because they were dissatisfied.**"
   ]
  },
  {
   "cell_type": "markdown",
   "id": "a72255d2",
   "metadata": {},
   "source": [
    "___\n",
    "## Identify Missing Values\n",
    "\n",
    "<br/>\n",
    "\n",
    "- To start, we'll handle values that should be represented as `NaN`. We'll use `pd.read_csv()` function to fix the missing values first. \n",
    "\n",
    "\n",
    "- Now that we have fixed the problem with the missing data we can visualize the columns with NaN values inside.\n",
    "\n",
    "\n",
    "- Then, we'll drop columns we know we don't need for our analysis."
   ]
  },
  {
   "cell_type": "code",
   "execution_count": 12,
   "id": "2d2f4aca",
   "metadata": {
    "scrolled": true
   },
   "outputs": [],
   "source": [
    "dete_survey = pd.read_csv('dete_survey.csv',na_values = 'Not Stated')"
   ]
  },
  {
   "cell_type": "code",
   "execution_count": 13,
   "id": "d4851d6b",
   "metadata": {},
   "outputs": [
    {
     "data": {
      "image/png": "[encoded data removed]",
      "text/plain": [
       "<Figure size 720x1800 with 1 Axes>"
      ]
     },
     "metadata": {},
     "output_type": "display_data"
    }
   ],
   "source": [
    "import matplotlib.pyplot as plt\n",
    "\n",
    "# data from `dete_survey_first` first variable:\n",
    "num_cols = dete_survey.isnull().sum().index                         # columns name of dete_survey \n",
    "bar_heights_first = dete_survey_first.isnull().sum()                # value of columns of dete_survey \n",
    "\n",
    "# data load from `dete_survey` and the -- na_values = 'Not Stated' --  parameter is set. \n",
    "bar_heights = dete_survey.isnull().sum()                           # value of columns of dete_survey \n",
    "\n",
    "# data load from `dete_survey` show all not NaN (background on graphic) \n",
    "num_cols_notna = dete_survey.notna().sum().index                   # columns name of dete_survey\n",
    "bar_heights_notna = dete_survey.notna().sum()                      # value of columns of dete_survey\n",
    "\n",
    "fig, ax = plt.subplots(figsize=(10,25))\n",
    "\n",
    "ax.text(x=-150, y=63, s=\"NaN values in dete_survey.\", family='ubuntu', fontsize='xx-large')\n",
    "ax.text(x=-150, y=61, s='parameter: `na_values = Not Stated`', family='ubuntu', fontsize='x-large')\n",
    "\n",
    "# layers layout\n",
    "\n",
    "ax.barh(num_cols, \n",
    "        bar_heights,\n",
    "        height=1,\n",
    "        color='#be387b', #fucsia color\n",
    "        alpha=1,\n",
    "        label='new NaN found with na_values = Not Stated')\n",
    "\n",
    "ax.barh(num_cols, \n",
    "        bar_heights_first,\n",
    "        height=1,   \n",
    "        color='#38be38',  #verde\n",
    "        alpha=1,\n",
    "        label='NaN values found with out na_values')\n",
    "\n",
    "\n",
    "ax.barh(num_cols_notna, \n",
    "        -bar_heights_notna, left=822,\n",
    "        height=1,  \n",
    "        color='#38bebe',  #turquesa color\n",
    "        alpha=0.5,\n",
    "        label='Clean DataFrame')\n",
    "\n",
    "\n",
    "for location in ['left', 'right', 'bottom', 'top']: # remove the axes\n",
    "    ax.spines[location].set_visible(False)\n",
    "    \n",
    "ax.xaxis.tick_top()                                 # move tick labels top of the graph\n",
    "ax.tick_params(axis='x', colors='grey')\n",
    "\n",
    "plt.legend()\n",
    "plt.show()"
   ]
  },
  {
   "cell_type": "markdown",
   "id": "7376cec7",
   "metadata": {},
   "source": [
    "___\n",
    "##  Drop Unnecessary Columns\n",
    "\n",
    " ### Columns to drop on `dete_survey` "
   ]
  },
  {
   "cell_type": "code",
   "execution_count": 14,
   "id": "eedbaed2",
   "metadata": {},
   "outputs": [
    {
     "data": {
      "image/png": "[encoded data removed]",
      "text/plain": [
       "<Figure size 720x1080 with 1 Axes>"
      ]
     },
     "metadata": {},
     "output_type": "display_data"
    }
   ],
   "source": [
    "num_cols = dete_survey.isnull().sum().index  # Columns name of dete_survey.\n",
    "columns_to_drop = dete_survey.columns[28:49] # Columns to drop in dete_survey.\n",
    "\n",
    "fig, ax = plt.subplots(figsize=(10,15))\n",
    "\n",
    "\n",
    "ax.text(x=50, y=58, s='Columns to drop on `dete_survey`', family='ubuntu', fontsize='xx-large')\n",
    "ax.text(x=-150, y=61, s='', family='ubuntu', fontsize='large')\n",
    "\n",
    "# layer of all columns.\n",
    "withd=30\n",
    "ax.barh(num_cols, # selecting all columns\n",
    "        withd,\n",
    "        height=1,\n",
    "        color='#7b38be', #violeta\n",
    "        alpha=1,\n",
    "        label='columns of the dete_survey_updated')\n",
    "\n",
    "# layer of columns to remove.\n",
    "ax.barh(columns_to_drop, # slicing columns to drop\n",
    "        withd,\n",
    "        height=1,\n",
    "        color='#7bbe38', #pistacho\n",
    "        alpha=1,\n",
    "        label='columns to drop')\n",
    "\n",
    "# layer white mask.\n",
    "white_withd = 800\n",
    "ax.barh(num_cols, white_withd, left=30,\n",
    "        height=1,\n",
    "        color='#ffffff', #ffffff white color\n",
    "        alpha=1)\n",
    "\n",
    "for location in ['left', 'right', 'bottom', 'top']: # remove the axes\n",
    "    ax.spines[location].set_visible(False)\n",
    "    \n",
    "ax.xaxis.tick_top()                                 # move tick labels top of the graph\n",
    "ax.tick_params(axis='x', colors='white')\n",
    "\n",
    "plt.legend()\n",
    "plt.show()"
   ]
  },
  {
   "cell_type": "markdown",
   "metadata": {},
   "source": [
    "drop from column #28 to #48."
   ]
  },
  {
   "cell_type": "code",
   "execution_count": 15,
   "id": "63f4caa2",
   "metadata": {},
   "outputs": [],
   "source": [
    "dete_survey_updated = dete_survey.drop(dete_survey.columns[28:49],axis =1) #dropping dete_survey columns"
   ]
  },
  {
   "cell_type": "markdown",
   "id": "82853ccd",
   "metadata": {},
   "source": [
    "___\n",
    "### Columns to drop on `tafe_survey`"
   ]
  },
  {
   "cell_type": "code",
   "execution_count": 16,
   "id": "01b92ad6",
   "metadata": {
    "scrolled": false
   },
   "outputs": [
    {
     "data": {
      "image/png": "[encoded data removed]",
      "text/plain": [
       "<Figure size 144x1080 with 1 Axes>"
      ]
     },
     "metadata": {},
     "output_type": "display_data"
    }
   ],
   "source": [
    "num_cols_tafe = tafe_survey.isnull().sum().index # Columns name of tafe_survey.\n",
    "bar_heights = tafe_survey.isnull().sum() \n",
    "\n",
    "num_cols_del = tafe_survey.columns[17:66] # Columns to drop in tafe_survey.\n",
    "\n",
    "fig, ax = plt.subplots(figsize=(2,15))\n",
    "\n",
    "ax.text(x=-2000, y=77, s='Columns to drop on `tafe_survey_updated`', family='ubuntu', fontsize='xx-large')\n",
    "\n",
    "# layer of all columns.\n",
    "height_constant = 100\n",
    "\n",
    "ax.barh( num_cols_tafe,\n",
    "        height_constant,\n",
    "        height=1,\n",
    "        color='#7b38be', #fucsia  \n",
    "        alpha=1,\n",
    "        label='columns of the tafe_survey_updated ')\n",
    "\n",
    "# layer of columns to remove.\n",
    "ax.barh( num_cols_del, # slicing columns to drop\n",
    "        height_constant,\n",
    "        height=1,\n",
    "        color='#7bbe38', #pistacho\n",
    "        alpha=1,\n",
    "        label='columns to drop ')\n",
    "\n",
    "# layer white mask.\n",
    "white_withd = 500\n",
    "ax.barh( num_cols_tafe, white_withd, left=100,\n",
    "        height=1,\n",
    "        color='#ffffff', #ffffff\n",
    "        alpha=1)\n",
    "\n",
    "for location in ['left', 'right', 'bottom', 'top']: # remove the axes\n",
    "    ax.spines[location].set_visible(False)\n",
    "    \n",
    "ax.xaxis.tick_top()                                 # move tick labels top of the graph\n",
    "ax.tick_params(axis='x', colors='white')\n",
    "\n",
    "\n",
    "plt.legend(loc='best')\n",
    "plt.show()"
   ]
  },
  {
   "cell_type": "markdown",
   "metadata": {},
   "source": [
    "drop from column #17 to #65."
   ]
  },
  {
   "cell_type": "code",
   "execution_count": 17,
   "id": "7dae13c5",
   "metadata": {},
   "outputs": [],
   "source": [
    "tafe_survey_updated = tafe_survey.drop(tafe_survey.columns[17:66],axis =1) #dropping tafe_survey columns"
   ]
  },
  {
   "cell_type": "markdown",
   "id": "a03b5ce4",
   "metadata": {},
   "source": [
    "---\n",
    "## Cleaning column names in both dataframes.\n",
    "\n",
    "Beacuse we want to combine both `df's`, we'll have to standardize the column names:\n",
    "\n",
    "- Renaming the remaining columns in the `dete_survey_updated` dataframe, using the following criteria to update the column names:\n",
    "___\n",
    "\n",
    "### What does it look like `dete_survey_updated`?"
   ]
  },
  {
   "cell_type": "code",
   "execution_count": 18,
   "id": "a1c40f18",
   "metadata": {
    "scrolled": true
   },
   "outputs": [
    {
     "name": "stdout",
     "output_type": "stream",
     "text": [
      "<class 'pandas.core.frame.DataFrame'>\n",
      "RangeIndex: 822 entries, 0 to 821\n",
      "Data columns (total 35 columns):\n",
      " #   Column                               Non-Null Count  Dtype  \n",
      "---  ------                               --------------  -----  \n",
      " 0   id                                   822 non-null    int64  \n",
      " 1   separationtype                       822 non-null    object \n",
      " 2   cease_date                           788 non-null    object \n",
      " 3   dete_start_date                      749 non-null    float64\n",
      " 4   role_start_date                      724 non-null    float64\n",
      " 5   position                             817 non-null    object \n",
      " 6   classification                       455 non-null    object \n",
      " 7   region                               717 non-null    object \n",
      " 8   business_unit                        126 non-null    object \n",
      " 9   employment_status                    817 non-null    object \n",
      " 10  career_move_to_public_sector         822 non-null    bool   \n",
      " 11  career_move_to_private_sector        822 non-null    bool   \n",
      " 12  interpersonal_conflicts              822 non-null    bool   \n",
      " 13  job_dissatisfaction                  822 non-null    bool   \n",
      " 14  dissatisfaction_with_the_department  822 non-null    bool   \n",
      " 15  physical_work_environment            822 non-null    bool   \n",
      " 16  lack_of_recognition                  822 non-null    bool   \n",
      " 17  lack_of_job_security                 822 non-null    bool   \n",
      " 18  work_location                        822 non-null    bool   \n",
      " 19  employment_conditions                822 non-null    bool   \n",
      " 20  maternity/family                     822 non-null    bool   \n",
      " 21  relocation                           822 non-null    bool   \n",
      " 22  study/travel                         822 non-null    bool   \n",
      " 23  ill_health                           822 non-null    bool   \n",
      " 24  traumatic_incident                   822 non-null    bool   \n",
      " 25  work_life_balance                    822 non-null    bool   \n",
      " 26  workload                             822 non-null    bool   \n",
      " 27  none_of_the_above                    822 non-null    bool   \n",
      " 28  gender                               798 non-null    object \n",
      " 29  age                                  811 non-null    object \n",
      " 30  aboriginal                           16 non-null     object \n",
      " 31  torres_strait                        3 non-null      object \n",
      " 32  south_sea                            7 non-null      object \n",
      " 33  disability                           23 non-null     object \n",
      " 34  nesb                                 32 non-null     object \n",
      "dtypes: bool(18), float64(2), int64(1), object(14)\n",
      "memory usage: 123.7+ KB\n"
     ]
    }
   ],
   "source": [
    "dete_survey_updated.columns = dete_survey_updated.columns.str.lower().str.rstrip().str.replace(' ','_')\n",
    "dete_survey_updated.info()"
   ]
  },
  {
   "cell_type": "markdown",
   "id": "e9095843",
   "metadata": {},
   "source": [
    "### Updating the columns name in `tafe_survey_updated` with `.rename` method.\n",
    "___\n",
    "\n",
    "Here **we will use a dictionary** and the method `.rename` to rename the columns:"
   ]
  },
  {
   "cell_type": "code",
   "execution_count": 19,
   "id": "743cef4b",
   "metadata": {},
   "outputs": [
    {
     "name": "stdout",
     "output_type": "stream",
     "text": [
      "<class 'pandas.core.frame.DataFrame'>\n",
      "RangeIndex: 702 entries, 0 to 701\n",
      "Data columns (total 23 columns):\n",
      " #   Column                                               Non-Null Count  Dtype  \n",
      "---  ------                                               --------------  -----  \n",
      " 0   id                                                   702 non-null    float64\n",
      " 1   Institute                                            702 non-null    object \n",
      " 2   WorkArea                                             702 non-null    object \n",
      " 3   cease_date                                           695 non-null    float64\n",
      " 4   separationtype                                       701 non-null    object \n",
      " 5   Contributing Factors. Career Move - Public Sector    437 non-null    object \n",
      " 6   Contributing Factors. Career Move - Private Sector   437 non-null    object \n",
      " 7   Contributing Factors. Career Move - Self-employment  437 non-null    object \n",
      " 8   Contributing Factors. Ill Health                     437 non-null    object \n",
      " 9   Contributing Factors. Maternity/Family               437 non-null    object \n",
      " 10  Contributing Factors. Dissatisfaction                437 non-null    object \n",
      " 11  Contributing Factors. Job Dissatisfaction            437 non-null    object \n",
      " 12  Contributing Factors. Interpersonal Conflict         437 non-null    object \n",
      " 13  Contributing Factors. Study                          437 non-null    object \n",
      " 14  Contributing Factors. Travel                         437 non-null    object \n",
      " 15  Contributing Factors. Other                          437 non-null    object \n",
      " 16  Contributing Factors. NONE                           437 non-null    object \n",
      " 17  gender                                               596 non-null    object \n",
      " 18  age                                                  596 non-null    object \n",
      " 19  employment_status                                    596 non-null    object \n",
      " 20  position                                             596 non-null    object \n",
      " 21  institute_service                                    596 non-null    object \n",
      " 22  role_service                                         596 non-null    object \n",
      "dtypes: float64(2), object(21)\n",
      "memory usage: 126.3+ KB\n"
     ]
    }
   ],
   "source": [
    "tafe_survey_updated.rename({'Record ID': 'id',\n",
    "                            'CESSATION YEAR': 'cease_date',\n",
    "                            'Reason for ceasing employment': 'separationtype',\n",
    "                            'Gender. What is your Gender?': 'gender',\n",
    "                            'CurrentAge. Current Age': 'age',\n",
    "                            'Employment Type. Employment Type': 'employment_status',\n",
    "                            'Classification. Classification': 'position',\n",
    "                            'LengthofServiceOverall. Overall Length of Service at Institute (in years)': 'institute_service',\n",
    "                            'LengthofServiceCurrent. Length of Service at current workplace (in years)': 'role_service'},\n",
    "                          axis=1, inplace=True)\n",
    "tafe_survey_updated.info()"
   ]
  },
  {
   "cell_type": "markdown",
   "id": "b34f5456",
   "metadata": {},
   "source": [
    "___\n",
    "## Filtering Data\n",
    "\n",
    "\n",
    "We are going to filter the data in both dataframes to obtain only the resignation of the worker\n",
    "\n",
    "\n",
    "### `dete_survey_updated`"
   ]
  },
  {
   "cell_type": "code",
   "execution_count": 20,
   "id": "8e397a5e",
   "metadata": {},
   "outputs": [
    {
     "data": {
      "text/plain": [
       "array(['Ill Health Retirement', 'Voluntary Early Retirement (VER)',\n",
       "       'Resignation-Other reasons', 'Age Retirement',\n",
       "       'Resignation-Other employer',\n",
       "       'Resignation-Move overseas/interstate', 'Other',\n",
       "       'Contract Expired', 'Termination'], dtype=object)"
      ]
     },
     "execution_count": 20,
     "metadata": {},
     "output_type": "execute_result"
    }
   ],
   "source": [
    "dete_survey_updated['separationtype'].unique()"
   ]
  },
  {
   "cell_type": "code",
   "execution_count": 21,
   "id": "d45fa026",
   "metadata": {},
   "outputs": [
    {
     "data": {
      "text/plain": [
       "Age Retirement                          285\n",
       "Resignation-Other reasons               150\n",
       "Resignation-Other employer               91\n",
       "Resignation-Move overseas/interstate     70\n",
       "Voluntary Early Retirement (VER)         67\n",
       "Ill Health Retirement                    61\n",
       "Other                                    49\n",
       "Contract Expired                         34\n",
       "Termination                              15\n",
       "Name: separationtype, dtype: int64"
      ]
     },
     "execution_count": 21,
     "metadata": {},
     "output_type": "execute_result"
    }
   ],
   "source": [
    "dete_survey_updated['separationtype'].value_counts(dropna=False)"
   ]
  },
  {
   "cell_type": "markdown",
   "id": "d287e455",
   "metadata": {},
   "source": [
    "___\n",
    "### `tafe_survey_updated`"
   ]
  },
  {
   "cell_type": "code",
   "execution_count": 22,
   "id": "58792092",
   "metadata": {},
   "outputs": [
    {
     "data": {
      "text/plain": [
       "array(['Contract Expired', 'Retirement', 'Resignation',\n",
       "       'Retrenchment/ Redundancy', 'Termination', 'Transfer', nan],\n",
       "      dtype=object)"
      ]
     },
     "execution_count": 22,
     "metadata": {},
     "output_type": "execute_result"
    }
   ],
   "source": [
    "tafe_survey_updated['separationtype'].unique()"
   ]
  },
  {
   "cell_type": "code",
   "execution_count": 23,
   "id": "5daaae92",
   "metadata": {},
   "outputs": [
    {
     "data": {
      "text/plain": [
       "Resignation                 340\n",
       "Contract Expired            127\n",
       "Retrenchment/ Redundancy    104\n",
       "Retirement                   82\n",
       "Transfer                     25\n",
       "Termination                  23\n",
       "NaN                           1\n",
       "Name: separationtype, dtype: int64"
      ]
     },
     "execution_count": 23,
     "metadata": {},
     "output_type": "execute_result"
    }
   ],
   "source": [
    "tafe_survey_updated['separationtype'].value_counts(dropna=False)"
   ]
  },
  {
   "cell_type": "markdown",
   "id": "3682542d",
   "metadata": {},
   "source": [
    "### Filtering the `resignation separation` type In both dataframes.\n",
    "\n",
    "Select **only** the data for survey respondents who have a **Resignation separation** type."
   ]
  },
  {
   "cell_type": "code",
   "execution_count": 24,
   "id": "07b025e3",
   "metadata": {},
   "outputs": [
    {
     "data": {
      "text/plain": [
       "Resignation-Other reasons               150\n",
       "Resignation-Other employer               91\n",
       "Resignation-Move overseas/interstate     70\n",
       "Name: separationtype, dtype: int64"
      ]
     },
     "execution_count": 24,
     "metadata": {},
     "output_type": "execute_result"
    }
   ],
   "source": [
    "dete_resignations=dete_survey_updated[(dete_survey_updated['separationtype']=='Resignation-Other reasons') |\n",
    "                                      (dete_survey_updated['separationtype']=='Resignation-Other employer') |\n",
    "                                      (dete_survey_updated['separationtype']=='Resignation-Move overseas/interstate')].copy()\n",
    "\n",
    "dete_resignations['separationtype'].value_counts(dropna=False)"
   ]
  },
  {
   "cell_type": "code",
   "execution_count": 25,
   "id": "52c297a8",
   "metadata": {},
   "outputs": [
    {
     "data": {
      "text/plain": [
       "Resignation    340\n",
       "Name: separationtype, dtype: int64"
      ]
     },
     "execution_count": 25,
     "metadata": {},
     "output_type": "execute_result"
    }
   ],
   "source": [
    "tafe_resignations = tafe_survey_updated[tafe_survey_updated['separationtype']=='Resignation'].copy()\n",
    "tafe_resignations['separationtype'].value_counts(dropna=False)"
   ]
  },
  {
   "cell_type": "markdown",
   "id": "8149f99f",
   "metadata": {},
   "source": [
    "\n",
    "By using boolean filtering and logical conditions we must make a copy of the result. Both in one dataframe and in the other.\n",
    "___\n",
    "\n",
    "# 5. Verify the Data \n",
    "\n",
    "Let's verify any major **inconsistencies**.\n",
    "\n",
    "In this step, we'll focus on verifying that the **years** in the `cease_date `and `dete_start_date` columns make sense. \n",
    "\n",
    "However, we encourage you to check the data for other issues as well!\n",
    "\n",
    "- Since the `cease_date` is the last year of the person's employment and the `dete_start_date` is the person's first year of employment, it wouldn't make sense to have years after the current date.\n",
    "\n",
    "\n",
    "- Given that most people in this field start working in their 20s, it's also **unlikely that the `dete_start_date` was before the year 1940**.\n",
    "\n",
    "\n",
    "- If we have many years higher than the current date or lower than 1940, we wouldn't want to continue with our analysis, because it could mean there's something very wrong with the data. \n",
    "\n",
    "- If there are a small amount of values that are unrealistically high or low, we can remove them.\n",
    "\n",
    "\n"
   ]
  },
  {
   "cell_type": "markdown",
   "id": "67a91b54",
   "metadata": {},
   "source": [
    "---\n",
    "### `dete_resignations` verification data:\n",
    "\n",
    "Let's check what type of data we have in `dete_resignations['dete_start_date']`"
   ]
  },
  {
   "cell_type": "code",
   "execution_count": 26,
   "id": "4fd53dd4",
   "metadata": {},
   "outputs": [
    {
     "data": {
      "text/plain": [
       "array([2005., 1994., 2009., 1997., 1998., 2007.,   nan, 1982., 1980.,\n",
       "       1973., 1995., 2003., 2006., 2011., 1977., 1974., 1976., 1993.,\n",
       "       2008., 1986., 2002., 2004., 2010., 2012., 1989., 1999., 1996.,\n",
       "       2000., 1991., 1992., 2001., 1988., 1990., 1985., 1963., 2013.,\n",
       "       1972., 1983., 1971., 1984., 1975., 1987.])"
      ]
     },
     "execution_count": 26,
     "metadata": {},
     "output_type": "execute_result"
    }
   ],
   "source": [
    "dete_resignations['dete_start_date'].unique()"
   ]
  },
  {
   "cell_type": "code",
   "execution_count": 27,
   "metadata": {},
   "outputs": [
    {
     "data": {
      "text/plain": [
       "dtype('float64')"
      ]
     },
     "execution_count": 27,
     "metadata": {},
     "output_type": "execute_result"
    }
   ],
   "source": [
    "dete_resignations['dete_start_date'].dtype"
   ]
  },
  {
   "cell_type": "code",
   "execution_count": 28,
   "id": "fb76b531",
   "metadata": {},
   "outputs": [
    {
     "data": {
      "text/plain": [
       "28"
      ]
     },
     "execution_count": 28,
     "metadata": {},
     "output_type": "execute_result"
    }
   ],
   "source": [
    "dete_resignations['dete_start_date'].isna().sum()"
   ]
  },
  {
   "cell_type": "markdown",
   "id": "f7b5d0de",
   "metadata": {},
   "source": [
    "and the same in `dete_resignations['cease_date']` column."
   ]
  },
  {
   "cell_type": "code",
   "execution_count": 29,
   "id": "39da2a17",
   "metadata": {},
   "outputs": [
    {
     "data": {
      "text/plain": [
       "array(['05/2012', '07/2012', '2012', '2013', '2010', '07/2013', '06/2013',\n",
       "       '09/2013', '09/2010', '01/2014', '05/2013', '08/2013', '10/2013',\n",
       "       '12/2013', '11/2013', nan, '07/2006'], dtype=object)"
      ]
     },
     "execution_count": 29,
     "metadata": {},
     "output_type": "execute_result"
    }
   ],
   "source": [
    "dete_resignations['cease_date'].unique()"
   ]
  },
  {
   "cell_type": "markdown",
   "id": "d8aa8882",
   "metadata": {},
   "source": [
    "This step has shown us:\n",
    "\n",
    "- the data contained in the series is type object and we have a format in which we must extract the years \n",
    "\n",
    "- there is also `NaN`.\n",
    "\n",
    "Let's see how many `NaN` we have in `dete_resignations['cease_date']`"
   ]
  },
  {
   "cell_type": "code",
   "execution_count": 30,
   "id": "5d293189",
   "metadata": {},
   "outputs": [
    {
     "data": {
      "text/plain": [
       "11"
      ]
     },
     "execution_count": 30,
     "metadata": {},
     "output_type": "execute_result"
    }
   ],
   "source": [
    "dete_resignations['cease_date'].isna().sum()"
   ]
  },
  {
   "cell_type": "code",
   "execution_count": 31,
   "id": "eca3fead",
   "metadata": {},
   "outputs": [
    {
     "data": {
      "text/plain": [
       "<matplotlib.axes._subplots.AxesSubplot at 0x7f69881e19d0>"
      ]
     },
     "execution_count": 31,
     "metadata": {},
     "output_type": "execute_result"
    },
    {
     "data": {
      "image/png": "[encoded data removed]",
      "text/plain": [
       "<Figure size 432x288 with 1 Axes>"
      ]
     },
     "metadata": {
      "needs_background": "light"
     },
     "output_type": "display_data"
    }
   ],
   "source": [
    "import seaborn as sns\n",
    "combined_cease_date = dete_resignations.set_index('position')\n",
    "sns.heatmap(combined_cease_date[['dete_start_date','cease_date']].isnull(), cbar=False)"
   ]
  },
  {
   "cell_type": "markdown",
   "id": "d1a588c4",
   "metadata": {},
   "source": [
    "**important:**\n",
    "\n",
    "- We extract the part of the chain that corresponds to the **year** in `dete_resignations['cease_date']`\n",
    "- We convert the year string into a **float** data type"
   ]
  },
  {
   "cell_type": "code",
   "execution_count": 32,
   "id": "69f7469b",
   "metadata": {},
   "outputs": [],
   "source": [
    "dete_resignations['cease_date'] = dete_resignations['cease_date'].str[-4:].astype('float').copy() # getting Years"
   ]
  },
  {
   "cell_type": "code",
   "execution_count": 33,
   "id": "d5c3071f",
   "metadata": {},
   "outputs": [
    {
     "data": {
      "text/plain": [
       "2014.0     22\n",
       "2013.0    146\n",
       "2012.0    129\n",
       "2010.0      2\n",
       "2006.0      1\n",
       "NaN        11\n",
       "Name: cease_date, dtype: int64"
      ]
     },
     "execution_count": 33,
     "metadata": {},
     "output_type": "execute_result"
    }
   ],
   "source": [
    "dete_resignations['cease_date'].value_counts(dropna=False).sort_index(ascending=False)"
   ]
  },
  {
   "cell_type": "code",
   "execution_count": 34,
   "id": "b51f179c",
   "metadata": {
    "scrolled": false
   },
   "outputs": [
    {
     "data": {
      "image/png": "[encoded data removed]",
      "text/plain": [
       "<Figure size 576x576 with 1 Axes>"
      ]
     },
     "metadata": {
      "needs_background": "light"
     },
     "output_type": "display_data"
    }
   ],
   "source": [
    "#dete_resignations['dete_start_date'].value_counts(dropna=False).sort_index(ascending=False)\n",
    "boxplot = dete_resignations.boxplot(column=['dete_start_date','cease_date'], figsize=(8,8)) "
   ]
  },
  {
   "cell_type": "code",
   "execution_count": 35,
   "id": "daf66bab",
   "metadata": {},
   "outputs": [
    {
     "data": {
      "text/plain": [
       "False    283\n",
       "True      28\n",
       "Name: dete_start_date, dtype: int64"
      ]
     },
     "execution_count": 35,
     "metadata": {},
     "output_type": "execute_result"
    }
   ],
   "source": [
    "dete_resignations['dete_start_date'].isnull().value_counts() # 28 means NaN values. "
   ]
  },
  {
   "cell_type": "markdown",
   "id": "22b684bc",
   "metadata": {},
   "source": [
    "___\n",
    "### `tafe_resignations` verification data:"
   ]
  },
  {
   "cell_type": "code",
   "execution_count": 36,
   "id": "725a3630",
   "metadata": {},
   "outputs": [
    {
     "data": {
      "text/plain": [
       "2014.0     22\n",
       "2013.0    146\n",
       "2012.0    129\n",
       "2010.0      2\n",
       "2006.0      1\n",
       "NaN        11\n",
       "Name: cease_date, dtype: int64"
      ]
     },
     "execution_count": 36,
     "metadata": {},
     "output_type": "execute_result"
    }
   ],
   "source": [
    "dete_resignations['cease_date'].value_counts(dropna=False).sort_index(ascending=False)"
   ]
  },
  {
   "cell_type": "code",
   "execution_count": 37,
   "id": "e3b17340",
   "metadata": {},
   "outputs": [
    {
     "data": {
      "text/plain": [
       "<matplotlib.axes._subplots.AxesSubplot at 0x7f69881c6f10>"
      ]
     },
     "execution_count": 37,
     "metadata": {},
     "output_type": "execute_result"
    },
    {
     "data": {
      "image/png": "[encoded data removed]",
      "text/plain": [
       "<Figure size 432x288 with 1 Axes>"
      ]
     },
     "metadata": {
      "needs_background": "light"
     },
     "output_type": "display_data"
    }
   ],
   "source": [
    "combined_tafe_date = tafe_resignations.set_index('position')\n",
    "sns.heatmap(combined_tafe_date[['cease_date']].isnull(), cbar=False)"
   ]
  },
  {
   "cell_type": "code",
   "execution_count": 38,
   "id": "17d41579",
   "metadata": {},
   "outputs": [
    {
     "data": {
      "image/png": "[encoded data removed]",
      "text/plain": [
       "<Figure size 432x432 with 1 Axes>"
      ]
     },
     "metadata": {
      "needs_background": "light"
     },
     "output_type": "display_data"
    }
   ],
   "source": [
    "boxplot = tafe_resignations.boxplot(column=['cease_date'], figsize=(6,6))"
   ]
  },
  {
   "cell_type": "code",
   "execution_count": 39,
   "id": "71638370",
   "metadata": {},
   "outputs": [
    {
     "data": {
      "text/plain": [
       "False    335\n",
       "True       5\n",
       "Name: cease_date, dtype: int64"
      ]
     },
     "execution_count": 39,
     "metadata": {},
     "output_type": "execute_result"
    }
   ],
   "source": [
    "tafe_resignations['cease_date'].isnull().value_counts()"
   ]
  },
  {
   "cell_type": "code",
   "execution_count": 40,
   "id": "bb8473b5",
   "metadata": {},
   "outputs": [
    {
     "name": "stderr",
     "output_type": "stream",
     "text": [
      "/home/ion/anaconda3/envs/dataquest/lib/python3.8/site-packages/numpy/lib/histograms.py:839: RuntimeWarning: invalid value encountered in greater_equal\n",
      "  keep = (tmp_a >= first_edge)\n",
      "/home/ion/anaconda3/envs/dataquest/lib/python3.8/site-packages/numpy/lib/histograms.py:840: RuntimeWarning: invalid value encountered in less_equal\n",
      "  keep &= (tmp_a <= last_edge)\n"
     ]
    },
    {
     "data": {
      "image/png": "[encoded data removed]",
      "text/plain": [
       "<Figure size 1080x1080 with 3 Axes>"
      ]
     },
     "metadata": {
      "needs_background": "light"
     },
     "output_type": "display_data"
    }
   ],
   "source": [
    "import matplotlib.pyplot as plt\n",
    "\n",
    "fig = plt.figure(figsize=(15,15))\n",
    "\n",
    "ax1 = fig.add_subplot(2,2,1) #dete_resignations: dete_start_date\n",
    "ax2 = fig.add_subplot(2,2,3) #dete_resignations: cease_date\n",
    "ax3 = fig.add_subplot(2,2,4) #tafe_resignations: cease_date\n",
    "\n",
    "ax1.set_title('dete_resignations: dete_start_date')\n",
    "ax1.hist(dete_resignations['dete_start_date'])\n",
    "\n",
    "ax2.set_title('dete_resignations: cease_date')\n",
    "ax2.hist(dete_resignations['cease_date'])\n",
    "\n",
    "ax3.set_title('tafe_resignations: cease_date')\n",
    "ax3.hist(tafe_resignations['cease_date'])\n",
    "\n",
    "\n",
    "plt.show()"
   ]
  },
  {
   "cell_type": "markdown",
   "id": "61625dfc",
   "metadata": {},
   "source": [
    "# 6. Create a New Column\n",
    "\n",
    "Now that we've verified the years in the `dete_resignations` dataframe, we'll use them to create a new column.\n",
    "\n",
    "You may have noticed that the `tafe_resignations` df **already contains** a **\"service\"** column, which we renamed to **institute_service**. In order to analyze both surveys together.\n",
    "\n",
    "we'll have to create a corresponding **institute_service** column in `dete_resignations`."
   ]
  },
  {
   "cell_type": "code",
   "execution_count": 41,
   "id": "0b88e4db",
   "metadata": {},
   "outputs": [],
   "source": [
    "dete_resignations['institute_service']=dete_resignations['cease_date']-dete_resignations['dete_start_date']"
   ]
  },
  {
   "cell_type": "code",
   "execution_count": 42,
   "id": "29859d66",
   "metadata": {},
   "outputs": [
    {
     "data": {
      "image/png": "[encoded data removed]",
      "text/plain": [
       "<Figure size 432x288 with 1 Axes>"
      ]
     },
     "metadata": {
      "needs_background": "light"
     },
     "output_type": "display_data"
    }
   ],
   "source": [
    "fig, ax = plt.subplots()\n",
    "ax.set_title('from dete_resignations: cease_date - dete_start_date')\n",
    "ax.hist(dete_resignations['institute_service'],label=\"Amount resignation vs Service years\")\n",
    "plt.legend()\n",
    "plt.show()"
   ]
  },
  {
   "cell_type": "markdown",
   "id": "cb5b1e26",
   "metadata": {},
   "source": [
    "The fewer years the people of service have, the more frequent resignation is."
   ]
  },
  {
   "cell_type": "markdown",
   "id": "c5f29e35",
   "metadata": {},
   "source": [
    "### Identifing dissatisfied employees\n",
    "\n",
    "- We'll use to categorize employees as \"dissatisfied\" from each dataframe.\n",
    "\n",
    "`tafe_survey_updated`:\n",
    "- Contributing Factors. Dissatisfaction\n",
    "\n",
    "- Contributing Factors. Job Dissatisfaction\n",
    "\n",
    "`dete_survey_updated`:\n",
    "- job_dissatisfaction\n",
    "\n",
    "- dissatisfaction_with_the_department\n",
    "\n",
    "- physical_work_environment\n",
    "\n",
    "- lack_of_recognition\n",
    "\n",
    "- lack_of_job_security\n",
    "\n",
    "- work_location\n",
    "\n",
    "- employment_conditions\n",
    "\n",
    "- work_life_balance\n",
    "\n",
    "- workload\n",
    "\n",
    "If the employee indicated **any** of the factors above caused them to resign, we'll mark them as **dissatisfied** in a new column."
   ]
  },
  {
   "cell_type": "code",
   "execution_count": 43,
   "id": "499133eb",
   "metadata": {},
   "outputs": [
    {
     "data": {
      "text/plain": [
       "array([nan, '-', 'Contributing Factors. Dissatisfaction '], dtype=object)"
      ]
     },
     "execution_count": 43,
     "metadata": {},
     "output_type": "execute_result"
    }
   ],
   "source": [
    "tafe_survey_updated['Contributing Factors. Dissatisfaction'].unique()"
   ]
  },
  {
   "cell_type": "code",
   "execution_count": 44,
   "id": "70418766",
   "metadata": {},
   "outputs": [
    {
     "data": {
      "text/plain": [
       "array([nan, '-', 'Job Dissatisfaction'], dtype=object)"
      ]
     },
     "execution_count": 44,
     "metadata": {},
     "output_type": "execute_result"
    }
   ],
   "source": [
    "tafe_survey_updated['Contributing Factors. Job Dissatisfaction'].unique()"
   ]
  },
  {
   "cell_type": "markdown",
   "id": "741733f9",
   "metadata": {},
   "source": [
    "___\n",
    "### Function `update_vals`\n",
    "\n",
    "This function allows to maintain the `NaN` values and convert into **True all the values that are not `-`**"
   ]
  },
  {
   "cell_type": "code",
   "execution_count": 45,
   "id": "fb741362",
   "metadata": {},
   "outputs": [],
   "source": [
    "def update_vals(element):\n",
    "    if pd.isnull(element):        \n",
    "        return np.nan\n",
    "    elif element=='-':\n",
    "        return False\n",
    "    else:\n",
    "        return True"
   ]
  },
  {
   "cell_type": "markdown",
   "id": "e62cf3e9",
   "metadata": {},
   "source": [
    "___"
   ]
  },
  {
   "cell_type": "markdown",
   "id": "35177adc",
   "metadata": {},
   "source": [
    "### Setting the bolean values on multiple columns with `update_vals` in `tafe_resignations_up`."
   ]
  },
  {
   "cell_type": "code",
   "execution_count": 46,
   "id": "55506b43",
   "metadata": {},
   "outputs": [
    {
     "data": {
      "text/plain": [
       "False    241\n",
       "True      91\n",
       "NaN        8\n",
       "Name: dissatisfied, dtype: int64"
      ]
     },
     "execution_count": 46,
     "metadata": {},
     "output_type": "execute_result"
    }
   ],
   "source": [
    "columns = ['Contributing Factors. Dissatisfaction',\n",
    "           'Contributing Factors. Job Dissatisfaction']\n",
    "\n",
    "tafe_resignations['dissatisfied'] = tafe_resignations[columns].applymap(update_vals).any(axis=1, skipna=False)\n",
    "tafe_resignations_up = tafe_resignations.copy()\n",
    "\n",
    "tafe_resignations_up['dissatisfied'].value_counts(dropna=False)"
   ]
  },
  {
   "cell_type": "code",
   "execution_count": 47,
   "id": "0ae31303",
   "metadata": {},
   "outputs": [
    {
     "data": {
      "text/html": [
       "<div>\n",
       "<style scoped>\n",
       "    .dataframe tbody tr th:only-of-type {\n",
       "        vertical-align: middle;\n",
       "    }\n",
       "\n",
       "    .dataframe tbody tr th {\n",
       "        vertical-align: top;\n",
       "    }\n",
       "\n",
       "    .dataframe thead th {\n",
       "        text-align: right;\n",
       "    }\n",
       "</style>\n",
       "<table border=\"1\" class=\"dataframe\">\n",
       "  <thead>\n",
       "    <tr style=\"text-align: right;\">\n",
       "      <th></th>\n",
       "      <th>dissatisfied</th>\n",
       "    </tr>\n",
       "  </thead>\n",
       "  <tbody>\n",
       "    <tr>\n",
       "      <th>3</th>\n",
       "      <td>False</td>\n",
       "    </tr>\n",
       "    <tr>\n",
       "      <th>4</th>\n",
       "      <td>False</td>\n",
       "    </tr>\n",
       "    <tr>\n",
       "      <th>5</th>\n",
       "      <td>False</td>\n",
       "    </tr>\n",
       "    <tr>\n",
       "      <th>6</th>\n",
       "      <td>False</td>\n",
       "    </tr>\n",
       "    <tr>\n",
       "      <th>7</th>\n",
       "      <td>False</td>\n",
       "    </tr>\n",
       "  </tbody>\n",
       "</table>\n",
       "</div>"
      ],
      "text/plain": [
       "  dissatisfied\n",
       "3        False\n",
       "4        False\n",
       "5        False\n",
       "6        False\n",
       "7        False"
      ]
     },
     "execution_count": 47,
     "metadata": {},
     "output_type": "execute_result"
    }
   ],
   "source": [
    "tafe_resignations_up[['dissatisfied']].head()"
   ]
  },
  {
   "cell_type": "markdown",
   "id": "35a47841",
   "metadata": {},
   "source": [
    "### Setting bolean values through `dete_resignations_up` any(axis=1, skipna=False)"
   ]
  },
  {
   "cell_type": "code",
   "execution_count": 48,
   "id": "bdcca2ea",
   "metadata": {},
   "outputs": [
    {
     "data": {
      "text/plain": [
       "job_dissatisfaction                    bool\n",
       "dissatisfaction_with_the_department    bool\n",
       "physical_work_environment              bool\n",
       "lack_of_recognition                    bool\n",
       "lack_of_job_security                   bool\n",
       "work_location                          bool\n",
       "employment_conditions                  bool\n",
       "work_life_balance                      bool\n",
       "workload                               bool\n",
       "dtype: object"
      ]
     },
     "execution_count": 48,
     "metadata": {},
     "output_type": "execute_result"
    }
   ],
   "source": [
    "columnas = ['job_dissatisfaction',\n",
    "            'dissatisfaction_with_the_department',\n",
    "            'physical_work_environment',\n",
    "            'lack_of_recognition',\n",
    "            'lack_of_job_security',\n",
    "            'work_location',\n",
    "            'employment_conditions',\n",
    "            'work_life_balance',\n",
    "            'workload']\n",
    "\n",
    "dete_resignations[columnas].dtypes"
   ]
  },
  {
   "cell_type": "code",
   "execution_count": 49,
   "id": "eb6e47e2",
   "metadata": {},
   "outputs": [
    {
     "data": {
      "text/html": [
       "<div>\n",
       "<style scoped>\n",
       "    .dataframe tbody tr th:only-of-type {\n",
       "        vertical-align: middle;\n",
       "    }\n",
       "\n",
       "    .dataframe tbody tr th {\n",
       "        vertical-align: top;\n",
       "    }\n",
       "\n",
       "    .dataframe thead th {\n",
       "        text-align: right;\n",
       "    }\n",
       "</style>\n",
       "<table border=\"1\" class=\"dataframe\">\n",
       "  <thead>\n",
       "    <tr style=\"text-align: right;\">\n",
       "      <th></th>\n",
       "      <th>job_dissatisfaction</th>\n",
       "      <th>dissatisfaction_with_the_department</th>\n",
       "      <th>physical_work_environment</th>\n",
       "      <th>lack_of_recognition</th>\n",
       "      <th>lack_of_job_security</th>\n",
       "      <th>work_location</th>\n",
       "      <th>employment_conditions</th>\n",
       "      <th>work_life_balance</th>\n",
       "      <th>workload</th>\n",
       "    </tr>\n",
       "  </thead>\n",
       "  <tbody>\n",
       "    <tr>\n",
       "      <th>3</th>\n",
       "      <td>False</td>\n",
       "      <td>False</td>\n",
       "      <td>False</td>\n",
       "      <td>False</td>\n",
       "      <td>False</td>\n",
       "      <td>False</td>\n",
       "      <td>False</td>\n",
       "      <td>False</td>\n",
       "      <td>False</td>\n",
       "    </tr>\n",
       "    <tr>\n",
       "      <th>5</th>\n",
       "      <td>False</td>\n",
       "      <td>False</td>\n",
       "      <td>False</td>\n",
       "      <td>False</td>\n",
       "      <td>False</td>\n",
       "      <td>False</td>\n",
       "      <td>True</td>\n",
       "      <td>False</td>\n",
       "      <td>False</td>\n",
       "    </tr>\n",
       "    <tr>\n",
       "      <th>8</th>\n",
       "      <td>False</td>\n",
       "      <td>False</td>\n",
       "      <td>False</td>\n",
       "      <td>False</td>\n",
       "      <td>False</td>\n",
       "      <td>False</td>\n",
       "      <td>False</td>\n",
       "      <td>False</td>\n",
       "      <td>False</td>\n",
       "    </tr>\n",
       "    <tr>\n",
       "      <th>9</th>\n",
       "      <td>True</td>\n",
       "      <td>True</td>\n",
       "      <td>False</td>\n",
       "      <td>False</td>\n",
       "      <td>False</td>\n",
       "      <td>False</td>\n",
       "      <td>False</td>\n",
       "      <td>False</td>\n",
       "      <td>False</td>\n",
       "    </tr>\n",
       "  </tbody>\n",
       "</table>\n",
       "</div>"
      ],
      "text/plain": [
       "   job_dissatisfaction  dissatisfaction_with_the_department  \\\n",
       "3                False                                False   \n",
       "5                False                                False   \n",
       "8                False                                False   \n",
       "9                 True                                 True   \n",
       "\n",
       "   physical_work_environment  lack_of_recognition  lack_of_job_security  \\\n",
       "3                      False                False                 False   \n",
       "5                      False                False                 False   \n",
       "8                      False                False                 False   \n",
       "9                      False                False                 False   \n",
       "\n",
       "   work_location  employment_conditions  work_life_balance  workload  \n",
       "3          False                  False              False     False  \n",
       "5          False                   True              False     False  \n",
       "8          False                  False              False     False  \n",
       "9          False                  False              False     False  "
      ]
     },
     "execution_count": 49,
     "metadata": {},
     "output_type": "execute_result"
    }
   ],
   "source": [
    "dete_resignations[columnas].head(4)"
   ]
  },
  {
   "cell_type": "code",
   "execution_count": 50,
   "id": "49376784",
   "metadata": {},
   "outputs": [
    {
     "data": {
      "text/plain": [
       "False    162\n",
       "True     149\n",
       "Name: dissatisfied, dtype: int64"
      ]
     },
     "execution_count": 50,
     "metadata": {},
     "output_type": "execute_result"
    }
   ],
   "source": [
    "dete_resignations['dissatisfied'] = dete_resignations[columnas].any(axis=1, skipna=False)\n",
    "dete_resignations_up = dete_resignations.copy()\n",
    "\n",
    "dete_resignations_up['dissatisfied'].value_counts(dropna=False) # only boolean"
   ]
  },
  {
   "cell_type": "markdown",
   "id": "d30a9961",
   "metadata": {},
   "source": [
    "___\n",
    "## Combining `dete_resignations_up` and `tafe_resignations_up`\n",
    "\n",
    "First, let's add a column to each dataframe that will allow us to easily distinguish between the two.\n",
    "\n",
    "- Add a column named institute to `dete_resignations_up`. Each row should contain the value **DETE**.\n",
    "\n",
    "- Add a column named institute to `tafe_resignations_up`. Each row should contain the value **TAFE**."
   ]
  },
  {
   "cell_type": "code",
   "execution_count": 51,
   "id": "afbb3f84",
   "metadata": {},
   "outputs": [],
   "source": [
    "dete_resignations_up['institute']='DETE' # help for differenciate df's.\n",
    "tafe_resignations_up['institute']='TAFE'"
   ]
  },
  {
   "cell_type": "markdown",
   "id": "df807977",
   "metadata": {},
   "source": [
    "Combine the dataframes. Assign the result to `combined`."
   ]
  },
  {
   "cell_type": "code",
   "execution_count": 52,
   "id": "cd07c3e0",
   "metadata": {},
   "outputs": [],
   "source": [
    "combined = pd.concat([dete_resignations_up,tafe_resignations_up], axis = 0) # axis = 0 means columns. "
   ]
  },
  {
   "cell_type": "markdown",
   "id": "1dcc09d1",
   "metadata": {},
   "source": [
    "Recall that we still have some columns left in the dataframe that we don't need to complete our analysis. \n",
    "\n",
    "Use the `DataFrame.dropna()` method to drop **any columns with less than 500** non null values.\n",
    "\n",
    "Remember that you can drop columns with less than a certain number of non null values with the thresh parameter.\n",
    "\n",
    "Assign the result to `combined_updated`."
   ]
  },
  {
   "cell_type": "code",
   "execution_count": 53,
   "id": "b7f6a1e6",
   "metadata": {},
   "outputs": [],
   "source": [
    "combined_updated = combined.dropna(axis = 1, thresh = 500).copy() # combined_updated"
   ]
  },
  {
   "cell_type": "markdown",
   "id": "9b3b5d1f",
   "metadata": {},
   "source": [
    "## 📸 reset-index-in-a-pandas-dataframe 📸\n",
    "\n",
    "In order not to have the repeated indices and that the graphs can work for me, I had to do this:\n",
    "[How to reset index in a pandas dataframe? [duplicate]](https://stackoverflow.com/questions/20490274/how-to-reset-index-in-a-pandas-dataframe)"
   ]
  },
  {
   "cell_type": "code",
   "execution_count": 54,
   "id": "60d5a05e",
   "metadata": {},
   "outputs": [],
   "source": [
    "combined_updated.reset_index(drop=True, inplace=True) "
   ]
  },
  {
   "cell_type": "markdown",
   "id": "bf0b930d",
   "metadata": {},
   "source": [
    "___\n",
    "## Cleaning `service_column` \n",
    "\n",
    "\n",
    "\n",
    "Now that we've combined our dataframes, we're almost at a place where we can perform some kind of analysis! First, though, we'll have to clean up the `institute_service` column. \n",
    "\n",
    "This column is tricky to clean because it currently contains values in a couple different forms:\n",
    "\n"
   ]
  },
  {
   "cell_type": "code",
   "execution_count": 55,
   "id": "28684307",
   "metadata": {},
   "outputs": [
    {
     "data": {
      "text/plain": [
       "dtype('O')"
      ]
     },
     "execution_count": 55,
     "metadata": {},
     "output_type": "execute_result"
    }
   ],
   "source": [
    "combined_updated['institute_service'].dtypes"
   ]
  },
  {
   "cell_type": "markdown",
   "id": "38dfaf9c",
   "metadata": {},
   "source": [
    "We see that the series is of type `dtype('O')` \n",
    "\n",
    "However pandas seem to lack that distinction and coerce `str` to `object`[explanation](https://stackoverflow.com/questions/34881079/pandas-distinction-between-str-and-object-types) because of this in the next cell we force it to be of the `str` type, but do this the regular expressions would not work correctly since they have to have strings of type `str`"
   ]
  },
  {
   "cell_type": "code",
   "execution_count": 56,
   "id": "2c35cf13",
   "metadata": {
    "scrolled": true
   },
   "outputs": [
    {
     "data": {
      "text/plain": [
       "array(['7.0', '18.0', '3.0', '15.0', '14.0', '5.0', 'nan', '30.0', '32.0',\n",
       "       '39.0', '17.0', '9.0', '6.0', '1.0', '35.0', '38.0', '36.0',\n",
       "       '19.0', '4.0', '26.0', '10.0', '8.0', '2.0', '0.0', '23.0', '13.0',\n",
       "       '16.0', '12.0', '21.0', '20.0', '24.0', '33.0', '22.0', '28.0',\n",
       "       '49.0', '11.0', '41.0', '27.0', '42.0', '25.0', '29.0', '34.0',\n",
       "       '31.0', '3-4', '7-10', '1-2', 'Less than 1 year', '11-20', '5-6',\n",
       "       'More than 20 years'], dtype=object)"
      ]
     },
     "execution_count": 56,
     "metadata": {},
     "output_type": "execute_result"
    }
   ],
   "source": [
    "combined_updated['institute_service'] = combined_updated['institute_service'].astype(str) # <-astype(str) imprescindible\n",
    "combined_updated['institute_service'].unique()"
   ]
  },
  {
   "cell_type": "markdown",
   "id": "87ed960f",
   "metadata": {},
   "source": [
    "To analyze the data, we'll convert these numbers into categories. Through the use of vectorized methods and **regex** expressions."
   ]
  },
  {
   "cell_type": "code",
   "execution_count": 57,
   "id": "3a0a7004",
   "metadata": {},
   "outputs": [],
   "source": [
    "\n",
    "    ## ReGex pattern for filtering ##\n",
    "\n",
    "    # pat = r\"(?P<punto0>[.][0])|\n",
    "    # (?P<uno_a_dos>[1][-][2])|\n",
    "    # (?P<tres_a_cuatro>[3][-][4])|\n",
    "    # (?P<siete_diez>[7][-][1][0])|\n",
    "    # (?P<once_veinte>[1]{2}-[2][0])|\n",
    "    # (?P<cinco_seis>[5][-][6])|\n",
    "    # (?P<Less>Less than 1 year)|\n",
    "    # (?P<More>More than 20 years)\"\n",
    "\n",
    "    # es necesario que sea str sino, no puede hacer uso de accesores correctamente.\n",
    "\n",
    "combined_updated['institute_service'] = combined_updated['institute_service'].str.replace(\"[.^0][1-2^0]\",\"\").str.replace(\"1-2\",\"1.5\").str.replace(\"3-4\",\"3.5\").str.replace(\"5-6\",\"4.5\").str.replace(\"7-10\",\"8.5\").str.replace(\"11-20\",\"15.5\").str.replace(\"Less than 1 year\",\"0.5\").str.replace(\"More than 20 years\",\"25\")"
   ]
  },
  {
   "cell_type": "markdown",
   "id": "5e6930ea",
   "metadata": {},
   "source": [
    "- once we have cleaned, we convert the series from `str` to `float` type."
   ]
  },
  {
   "cell_type": "code",
   "execution_count": 58,
   "id": "aa4c33ba",
   "metadata": {},
   "outputs": [
    {
     "data": {
      "text/plain": [
       "2      3.0\n",
       "3     15.0\n",
       "4      3.0\n",
       "5     14.0\n",
       "6      5.0\n",
       "7      NaN\n",
       "8     30.0\n",
       "9     32.0\n",
       "10    15.0\n",
       "11    39.0\n",
       "12    17.0\n",
       "13     7.0\n",
       "14     9.0\n",
       "15     6.0\n",
       "16     1.0\n",
       "17     NaN\n",
       "Name: institute_service, dtype: float64"
      ]
     },
     "execution_count": 58,
     "metadata": {},
     "output_type": "execute_result"
    }
   ],
   "source": [
    "combined_updated['institute_service'] = combined_updated['institute_service'].astype(float)\n",
    "combined_updated['institute_service'][2:18] # just an example"
   ]
  },
  {
   "cell_type": "code",
   "execution_count": 59,
   "id": "c7a3796e",
   "metadata": {},
   "outputs": [],
   "source": [
    "def mapper(val):\n",
    "    if pd.isnull(val):\n",
    "        return np.nan\n",
    "    elif (val < 3): # Less than 3 years at a company\n",
    "        return 'New'\n",
    "    \n",
    "    elif ((val >= 3) & (val <= 6.0)): # 3-6 years at a company\n",
    "        return 'Experienced'\n",
    "    \n",
    "    elif ((val >= 7.0) & (val <= 10.0)): # 7-10 years at a company\n",
    "        return 'Established'\n",
    "    \n",
    "    elif (val >= 11.0): #  11 or more years at a company\n",
    "        return 'Veteran'"
   ]
  },
  {
   "cell_type": "code",
   "execution_count": 60,
   "id": "83614248",
   "metadata": {},
   "outputs": [],
   "source": [
    "combined_updated['service_cat']=combined_updated['institute_service'].apply(mapper)"
   ]
  },
  {
   "cell_type": "code",
   "execution_count": 61,
   "id": "8f30c8d5",
   "metadata": {},
   "outputs": [
    {
     "data": {
      "text/plain": [
       "New            193\n",
       "Experienced    172\n",
       "Veteran        136\n",
       "NaN             88\n",
       "Established     62\n",
       "Name: service_cat, dtype: int64"
      ]
     },
     "execution_count": 61,
     "metadata": {},
     "output_type": "execute_result"
    }
   ],
   "source": [
    "combined_updated['service_cat'].value_counts(dropna=False)"
   ]
  },
  {
   "cell_type": "code",
   "execution_count": 62,
   "id": "d3443f9a",
   "metadata": {},
   "outputs": [
    {
     "data": {
      "text/html": [
       "<div>\n",
       "<style scoped>\n",
       "    .dataframe tbody tr th:only-of-type {\n",
       "        vertical-align: middle;\n",
       "    }\n",
       "\n",
       "    .dataframe tbody tr th {\n",
       "        vertical-align: top;\n",
       "    }\n",
       "\n",
       "    .dataframe thead th {\n",
       "        text-align: right;\n",
       "    }\n",
       "</style>\n",
       "<table border=\"1\" class=\"dataframe\">\n",
       "  <thead>\n",
       "    <tr style=\"text-align: right;\">\n",
       "      <th></th>\n",
       "      <th>id</th>\n",
       "      <th>separationtype</th>\n",
       "      <th>cease_date</th>\n",
       "      <th>position</th>\n",
       "      <th>employment_status</th>\n",
       "      <th>gender</th>\n",
       "      <th>age</th>\n",
       "      <th>institute_service</th>\n",
       "      <th>dissatisfied</th>\n",
       "      <th>institute</th>\n",
       "      <th>service_cat</th>\n",
       "    </tr>\n",
       "  </thead>\n",
       "  <tbody>\n",
       "    <tr>\n",
       "      <th>0</th>\n",
       "      <td>4.0</td>\n",
       "      <td>Resignation-Other reasons</td>\n",
       "      <td>2012.0</td>\n",
       "      <td>Teacher</td>\n",
       "      <td>Permanent Full-time</td>\n",
       "      <td>Female</td>\n",
       "      <td>36-40</td>\n",
       "      <td>7.0</td>\n",
       "      <td>False</td>\n",
       "      <td>DETE</td>\n",
       "      <td>Established</td>\n",
       "    </tr>\n",
       "    <tr>\n",
       "      <th>1</th>\n",
       "      <td>6.0</td>\n",
       "      <td>Resignation-Other reasons</td>\n",
       "      <td>2012.0</td>\n",
       "      <td>Guidance Officer</td>\n",
       "      <td>Permanent Full-time</td>\n",
       "      <td>Female</td>\n",
       "      <td>41-45</td>\n",
       "      <td>18.0</td>\n",
       "      <td>True</td>\n",
       "      <td>DETE</td>\n",
       "      <td>Veteran</td>\n",
       "    </tr>\n",
       "  </tbody>\n",
       "</table>\n",
       "</div>"
      ],
      "text/plain": [
       "    id             separationtype  cease_date          position  \\\n",
       "0  4.0  Resignation-Other reasons      2012.0           Teacher   \n",
       "1  6.0  Resignation-Other reasons      2012.0  Guidance Officer   \n",
       "\n",
       "     employment_status  gender    age  institute_service dissatisfied  \\\n",
       "0  Permanent Full-time  Female  36-40                7.0        False   \n",
       "1  Permanent Full-time  Female  41-45               18.0         True   \n",
       "\n",
       "  institute  service_cat  \n",
       "0      DETE  Established  \n",
       "1      DETE      Veteran  "
      ]
     },
     "execution_count": 62,
     "metadata": {},
     "output_type": "execute_result"
    }
   ],
   "source": [
    "combined_updated.head(2) # The final dataframe!"
   ]
  },
  {
   "cell_type": "markdown",
   "id": "963da0ee",
   "metadata": {},
   "source": [
    "___\n",
    "## Initial Analysis 📊"
   ]
  },
  {
   "cell_type": "code",
   "execution_count": 63,
   "id": "e2e2d38b",
   "metadata": {},
   "outputs": [
    {
     "name": "stdout",
     "output_type": "stream",
     "text": [
      "<class 'pandas.core.frame.DataFrame'>\n",
      "RangeIndex: 651 entries, 0 to 650\n",
      "Data columns (total 11 columns):\n",
      " #   Column             Non-Null Count  Dtype  \n",
      "---  ------             --------------  -----  \n",
      " 0   id                 651 non-null    float64\n",
      " 1   separationtype     651 non-null    object \n",
      " 2   cease_date         635 non-null    float64\n",
      " 3   position           598 non-null    object \n",
      " 4   employment_status  597 non-null    object \n",
      " 5   gender             592 non-null    object \n",
      " 6   age                596 non-null    object \n",
      " 7   institute_service  563 non-null    float64\n",
      " 8   dissatisfied       643 non-null    object \n",
      " 9   institute          651 non-null    object \n",
      " 10  service_cat        563 non-null    object \n",
      "dtypes: float64(3), object(8)\n",
      "memory usage: 56.1+ KB\n"
     ]
    }
   ],
   "source": [
    "combined_updated.info()"
   ]
  },
  {
   "cell_type": "markdown",
   "id": "e547b98a",
   "metadata": {},
   "source": [
    "- `Are employees who only worked for the institutes for a short period of time resigning due to some kind of dissatisfaction?`\n",
    "\n",
    "\n",
    "- `What about employees who have been there longer?`\n",
    "\n",
    "\n",
    "- `Are younger employees resigning due to some kind of dissatisfaction?`\n",
    "\n",
    "\n",
    "- `What about older employees?`\n",
    "\n",
    "\n",
    "Then, aggregate the data according to the `service_cat` column again. How many people in each career stage resigned due to some kind of dissatisfaction?\n",
    "\n",
    "Clean the `age` column. \n",
    "\n",
    "`How many people in each age group resgined due to some kind of dissatisfaction?`\n",
    "\n",
    "\n",
    "Instead of analyzing the survey results together, analyze each survey separately. \n",
    "\n",
    "`Did more employees in the DETE survey or TAFE survey end their employment because they were dissatisfied in some way?`\n",
    "\n",
    "Format your project using Dataquest's project style guide."
   ]
  },
  {
   "cell_type": "markdown",
   "id": "c5255d37",
   "metadata": {},
   "source": [
    "## - Are employees who only worked for the institutes for a short period of time resigning due to some kind of dissatisfaction?"
   ]
  },
  {
   "cell_type": "code",
   "execution_count": 64,
   "id": "51f3cb3d",
   "metadata": {},
   "outputs": [
    {
     "data": {
      "text/html": [
       "<div>\n",
       "<style scoped>\n",
       "    .dataframe tbody tr th:only-of-type {\n",
       "        vertical-align: middle;\n",
       "    }\n",
       "\n",
       "    .dataframe tbody tr th {\n",
       "        vertical-align: top;\n",
       "    }\n",
       "\n",
       "    .dataframe thead th {\n",
       "        text-align: right;\n",
       "    }\n",
       "</style>\n",
       "<table border=\"1\" class=\"dataframe\">\n",
       "  <thead>\n",
       "    <tr style=\"text-align: right;\">\n",
       "      <th></th>\n",
       "      <th>id</th>\n",
       "      <th>separationtype</th>\n",
       "      <th>cease_date</th>\n",
       "      <th>position</th>\n",
       "      <th>employment_status</th>\n",
       "      <th>gender</th>\n",
       "      <th>age</th>\n",
       "      <th>institute_service</th>\n",
       "      <th>dissatisfied</th>\n",
       "      <th>institute</th>\n",
       "      <th>service_cat</th>\n",
       "    </tr>\n",
       "  </thead>\n",
       "  <tbody>\n",
       "    <tr>\n",
       "      <th>43</th>\n",
       "      <td>119.0</td>\n",
       "      <td>Resignation-Other employer</td>\n",
       "      <td>2012.0</td>\n",
       "      <td>Teacher</td>\n",
       "      <td>Permanent Full-time</td>\n",
       "      <td>Female</td>\n",
       "      <td>46-50</td>\n",
       "      <td>2.0</td>\n",
       "      <td>True</td>\n",
       "      <td>DETE</td>\n",
       "      <td>New</td>\n",
       "    </tr>\n",
       "    <tr>\n",
       "      <th>44</th>\n",
       "      <td>125.0</td>\n",
       "      <td>Resignation-Other employer</td>\n",
       "      <td>2012.0</td>\n",
       "      <td>Public Servant</td>\n",
       "      <td>Permanent Part-time</td>\n",
       "      <td>Female</td>\n",
       "      <td>36-40</td>\n",
       "      <td>0.0</td>\n",
       "      <td>True</td>\n",
       "      <td>DETE</td>\n",
       "      <td>New</td>\n",
       "    </tr>\n",
       "    <tr>\n",
       "      <th>46</th>\n",
       "      <td>131.0</td>\n",
       "      <td>Resignation-Other employer</td>\n",
       "      <td>2012.0</td>\n",
       "      <td>Public Servant</td>\n",
       "      <td>Temporary Full-time</td>\n",
       "      <td>Male</td>\n",
       "      <td>51-55</td>\n",
       "      <td>0.0</td>\n",
       "      <td>True</td>\n",
       "      <td>DETE</td>\n",
       "      <td>New</td>\n",
       "    </tr>\n",
       "    <tr>\n",
       "      <th>56</th>\n",
       "      <td>180.0</td>\n",
       "      <td>Resignation-Other reasons</td>\n",
       "      <td>2012.0</td>\n",
       "      <td>Cleaner</td>\n",
       "      <td>Permanent Full-time</td>\n",
       "      <td>Female</td>\n",
       "      <td>36-40</td>\n",
       "      <td>0.0</td>\n",
       "      <td>True</td>\n",
       "      <td>DETE</td>\n",
       "      <td>New</td>\n",
       "    </tr>\n",
       "  </tbody>\n",
       "</table>\n",
       "</div>"
      ],
      "text/plain": [
       "       id              separationtype  cease_date        position  \\\n",
       "43  119.0  Resignation-Other employer      2012.0         Teacher   \n",
       "44  125.0  Resignation-Other employer      2012.0  Public Servant   \n",
       "46  131.0  Resignation-Other employer      2012.0  Public Servant   \n",
       "56  180.0   Resignation-Other reasons      2012.0         Cleaner   \n",
       "\n",
       "      employment_status  gender    age  institute_service dissatisfied  \\\n",
       "43  Permanent Full-time  Female  46-50                2.0         True   \n",
       "44  Permanent Part-time  Female  36-40                0.0         True   \n",
       "46  Temporary Full-time    Male  51-55                0.0         True   \n",
       "56  Permanent Full-time  Female  36-40                0.0         True   \n",
       "\n",
       "   institute service_cat  \n",
       "43      DETE         New  \n",
       "44      DETE         New  \n",
       "46      DETE         New  \n",
       "56      DETE         New  "
      ]
     },
     "execution_count": 64,
     "metadata": {},
     "output_type": "execute_result"
    }
   ],
   "source": [
    "dissatisfied_grouped = combined_updated.groupby('dissatisfied')\n",
    "employees_dissatisfied = dissatisfied_grouped.get_group(1) # 1 True / 0 False\n",
    "short_period = employees_dissatisfied.groupby('service_cat')\n",
    "new_dissatidfied =  short_period.get_group('New')\n",
    "new_dissatidfied[1:5]"
   ]
  },
  {
   "cell_type": "code",
   "execution_count": 65,
   "id": "661a9c3f",
   "metadata": {},
   "outputs": [
    {
     "data": {
      "text/plain": [
       "Resignation                             63.157895\n",
       "Resignation-Other reasons               15.789474\n",
       "Resignation-Move overseas/interstate    12.280702\n",
       "Resignation-Other employer               8.771930\n",
       "Name: separationtype, dtype: float64"
      ]
     },
     "execution_count": 65,
     "metadata": {},
     "output_type": "execute_result"
    }
   ],
   "source": [
    "new_dissatidfied['separationtype'].value_counts(normalize=True)*100"
   ]
  },
  {
   "cell_type": "code",
   "execution_count": 66,
   "metadata": {},
   "outputs": [
    {
     "data": {
      "image/png": "[encoded data removed]",
      "text/plain": [
       "<Figure size 432x288 with 1 Axes>"
      ]
     },
     "metadata": {
      "needs_background": "light"
     },
     "output_type": "display_data"
    }
   ],
   "source": [
    "plt.plot(new_dissatidfied['separationtype'].value_counts(normalize=True)*100)\n",
    "plt.xticks(rotation = 90)\n",
    "plt.show()"
   ]
  },
  {
   "cell_type": "markdown",
   "id": "746d628f",
   "metadata": {},
   "source": [
    "## - What about employees who have been there longer?"
   ]
  },
  {
   "cell_type": "code",
   "execution_count": 67,
   "id": "984da215",
   "metadata": {},
   "outputs": [
    {
     "data": {
      "text/html": [
       "<div>\n",
       "<style scoped>\n",
       "    .dataframe tbody tr th:only-of-type {\n",
       "        vertical-align: middle;\n",
       "    }\n",
       "\n",
       "    .dataframe tbody tr th {\n",
       "        vertical-align: top;\n",
       "    }\n",
       "\n",
       "    .dataframe thead th {\n",
       "        text-align: right;\n",
       "    }\n",
       "</style>\n",
       "<table border=\"1\" class=\"dataframe\">\n",
       "  <thead>\n",
       "    <tr style=\"text-align: right;\">\n",
       "      <th></th>\n",
       "      <th>id</th>\n",
       "      <th>separationtype</th>\n",
       "      <th>cease_date</th>\n",
       "      <th>position</th>\n",
       "      <th>employment_status</th>\n",
       "      <th>gender</th>\n",
       "      <th>age</th>\n",
       "      <th>institute_service</th>\n",
       "      <th>dissatisfied</th>\n",
       "      <th>institute</th>\n",
       "      <th>service_cat</th>\n",
       "    </tr>\n",
       "  </thead>\n",
       "  <tbody>\n",
       "    <tr>\n",
       "      <th>3</th>\n",
       "      <td>10.0</td>\n",
       "      <td>Resignation-Other employer</td>\n",
       "      <td>2012.0</td>\n",
       "      <td>Teacher Aide</td>\n",
       "      <td>Permanent Part-time</td>\n",
       "      <td>Female</td>\n",
       "      <td>46-50</td>\n",
       "      <td>15.0</td>\n",
       "      <td>True</td>\n",
       "      <td>DETE</td>\n",
       "      <td>Veteran</td>\n",
       "    </tr>\n",
       "    <tr>\n",
       "      <th>10</th>\n",
       "      <td>23.0</td>\n",
       "      <td>Resignation-Other reasons</td>\n",
       "      <td>2012.0</td>\n",
       "      <td>School Administrative Staff</td>\n",
       "      <td>Permanent Part-time</td>\n",
       "      <td>Female</td>\n",
       "      <td>46-50</td>\n",
       "      <td>15.0</td>\n",
       "      <td>True</td>\n",
       "      <td>DETE</td>\n",
       "      <td>Veteran</td>\n",
       "    </tr>\n",
       "    <tr>\n",
       "      <th>11</th>\n",
       "      <td>24.0</td>\n",
       "      <td>Resignation-Other reasons</td>\n",
       "      <td>2012.0</td>\n",
       "      <td>Teacher</td>\n",
       "      <td>Permanent Full-time</td>\n",
       "      <td>Female</td>\n",
       "      <td>61 or older</td>\n",
       "      <td>39.0</td>\n",
       "      <td>True</td>\n",
       "      <td>DETE</td>\n",
       "      <td>Veteran</td>\n",
       "    </tr>\n",
       "    <tr>\n",
       "      <th>12</th>\n",
       "      <td>26.0</td>\n",
       "      <td>Resignation-Other reasons</td>\n",
       "      <td>2012.0</td>\n",
       "      <td>Teacher</td>\n",
       "      <td>Permanent Part-time</td>\n",
       "      <td>Female</td>\n",
       "      <td>41-45</td>\n",
       "      <td>17.0</td>\n",
       "      <td>True</td>\n",
       "      <td>DETE</td>\n",
       "      <td>Veteran</td>\n",
       "    </tr>\n",
       "  </tbody>\n",
       "</table>\n",
       "</div>"
      ],
      "text/plain": [
       "      id              separationtype  cease_date                     position  \\\n",
       "3   10.0  Resignation-Other employer      2012.0                 Teacher Aide   \n",
       "10  23.0   Resignation-Other reasons      2012.0  School Administrative Staff   \n",
       "11  24.0   Resignation-Other reasons      2012.0                      Teacher   \n",
       "12  26.0   Resignation-Other reasons      2012.0                      Teacher   \n",
       "\n",
       "      employment_status  gender          age  institute_service dissatisfied  \\\n",
       "3   Permanent Part-time  Female        46-50               15.0         True   \n",
       "10  Permanent Part-time  Female        46-50               15.0         True   \n",
       "11  Permanent Full-time  Female  61 or older               39.0         True   \n",
       "12  Permanent Part-time  Female        41-45               17.0         True   \n",
       "\n",
       "   institute service_cat  \n",
       "3       DETE     Veteran  \n",
       "10      DETE     Veteran  \n",
       "11      DETE     Veteran  \n",
       "12      DETE     Veteran  "
      ]
     },
     "execution_count": 67,
     "metadata": {},
     "output_type": "execute_result"
    }
   ],
   "source": [
    "long_period = employees_dissatisfied.groupby('service_cat')\n",
    "veteran_dissatidfied =  long_period.get_group('Veteran')\n",
    "veteran_dissatidfied[1:5]"
   ]
  },
  {
   "cell_type": "code",
   "execution_count": 68,
   "id": "063f1670",
   "metadata": {},
   "outputs": [
    {
     "data": {
      "text/plain": [
       "Resignation-Other reasons               60.606061\n",
       "Resignation-Other employer              19.696970\n",
       "Resignation                             15.151515\n",
       "Resignation-Move overseas/interstate     4.545455\n",
       "Name: separationtype, dtype: float64"
      ]
     },
     "execution_count": 68,
     "metadata": {},
     "output_type": "execute_result"
    }
   ],
   "source": [
    "veteran_dissatidfied['separationtype'].value_counts(normalize=True)*100"
   ]
  },
  {
   "cell_type": "code",
   "execution_count": null,
   "metadata": {},
   "outputs": [],
   "source": []
  },
  {
   "cell_type": "markdown",
   "id": "849a54b9",
   "metadata": {},
   "source": []
  },
  {
   "cell_type": "code",
   "execution_count": 69,
   "metadata": {},
   "outputs": [
    {
     "data": {
      "image/png": "[encoded data removed]",
      "text/plain": [
       "<Figure size 432x288 with 1 Axes>"
      ]
     },
     "metadata": {
      "needs_background": "light"
     },
     "output_type": "display_data"
    }
   ],
   "source": [
    "plt.plot(veteran_dissatidfied['separationtype'].value_counts(normalize=True)*100)\n",
    "plt.xticks(rotation = 90)\n",
    "plt.show()"
   ]
  },
  {
   "cell_type": "code",
   "execution_count": 70,
   "metadata": {},
   "outputs": [
    {
     "data": {
      "text/html": [
       "<style>\n",
       "table {float:left}\n",
       "</style>\n"
      ],
      "text/plain": [
       "<IPython.core.display.HTML object>"
      ]
     },
     "metadata": {},
     "output_type": "display_data"
    }
   ],
   "source": [
    "%%html\n",
    "<style>\n",
    "table {float:left}\n",
    "</style>"
   ]
  },
  {
   "cell_type": "markdown",
   "metadata": {},
   "source": [
    " ### \n",
    "|Are employees who only worked for the institutes resigning due to some kind of dissatisfaction?|||\n",
    "|:---|---:|:--|\n",
    "|                                   |Newby|Veteran||\n",
    "|Resignation|                         36|10||\n",
    "|Resignation-Other reasons|           9 |40|\n",
    "|Resignation-Move overseas/interstate| 7 |3|\n",
    "|Resignation-Other employer|           5 |13|\n"
   ]
  },
  {
   "cell_type": "markdown",
   "id": "16bd7b5e",
   "metadata": {},
   "source": [
    " ## - How many people in each career stage resigned due to some kind of dissatisfaction?"
   ]
  },
  {
   "cell_type": "markdown",
   "id": "d83390c6",
   "metadata": {},
   "source": [
    "___\n",
    "### `Veteran`"
   ]
  },
  {
   "cell_type": "code",
   "execution_count": 71,
   "id": "6e04ace8",
   "metadata": {},
   "outputs": [],
   "source": [
    "veteran_dissatidfied = employees_dissatisfied.groupby('service_cat')\n",
    "veteran_position =  veteran_dissatidfied.get_group('Veteran') "
   ]
  },
  {
   "cell_type": "code",
   "execution_count": 179,
   "id": "684395da",
   "metadata": {},
   "outputs": [
    {
     "data": {
      "text/plain": [
       "Teacher                                         43.076923\n",
       "Teacher Aide                                    16.923077\n",
       "Teacher (including LVT)                         12.307692\n",
       "Cleaner                                          6.153846\n",
       "Head of Curriculum/Head of Special Education     6.153846\n",
       "Guidance Officer                                 4.615385\n",
       "Public Servant                                   3.076923\n",
       "Operational (OO)                                 1.538462\n",
       "School Administrative Staff                      1.538462\n",
       "Technical Officer                                1.538462\n",
       "Other                                            1.538462\n",
       "Administration (AO)                              1.538462\n",
       "Name: position, dtype: float64"
      ]
     },
     "execution_count": 179,
     "metadata": {},
     "output_type": "execute_result"
    }
   ],
   "source": [
    "veteran_position['position'].value_counts(normalize=True)*100"
   ]
  },
  {
   "cell_type": "code",
   "execution_count": 73,
   "id": "a5fec0cc",
   "metadata": {},
   "outputs": [
    {
     "data": {
      "text/plain": [
       "Resignation-Other reasons               60.606061\n",
       "Resignation-Other employer              19.696970\n",
       "Resignation                             15.151515\n",
       "Resignation-Move overseas/interstate     4.545455\n",
       "Name: separationtype, dtype: float64"
      ]
     },
     "execution_count": 73,
     "metadata": {},
     "output_type": "execute_result"
    }
   ],
   "source": [
    "veteran_position['separationtype'].value_counts(normalize=True)*100"
   ]
  },
  {
   "cell_type": "markdown",
   "id": "6ad9fe00",
   "metadata": {},
   "source": [
    "___\n",
    "### `Established`"
   ]
  },
  {
   "cell_type": "code",
   "execution_count": 74,
   "id": "d60ebc5d",
   "metadata": {},
   "outputs": [],
   "source": [
    "established_dissatidfied = employees_dissatisfied.groupby('service_cat')\n",
    "established_position =  established_dissatidfied.get_group('Established') "
   ]
  },
  {
   "cell_type": "code",
   "execution_count": 75,
   "id": "996138af",
   "metadata": {},
   "outputs": [
    {
     "data": {
      "text/plain": [
       "Teacher                                         32.258065\n",
       "Cleaner                                         12.903226\n",
       "Public Servant                                  12.903226\n",
       "Teacher Aide                                    12.903226\n",
       "Teacher (including LVT)                          9.677419\n",
       "Administration (AO)                              9.677419\n",
       "Professional Officer (PO)                        3.225806\n",
       "Schools Officer                                  3.225806\n",
       "Head of Curriculum/Head of Special Education     3.225806\n",
       "Name: position, dtype: float64"
      ]
     },
     "execution_count": 75,
     "metadata": {},
     "output_type": "execute_result"
    }
   ],
   "source": [
    "established_position['position'].value_counts(normalize=True)*100"
   ]
  },
  {
   "cell_type": "code",
   "execution_count": 76,
   "id": "2f5fa845",
   "metadata": {},
   "outputs": [
    {
     "data": {
      "text/plain": [
       "Resignation-Other reasons               53.125\n",
       "Resignation                             21.875\n",
       "Resignation-Other employer              18.750\n",
       "Resignation-Move overseas/interstate     6.250\n",
       "Name: separationtype, dtype: float64"
      ]
     },
     "execution_count": 76,
     "metadata": {},
     "output_type": "execute_result"
    }
   ],
   "source": [
    "established_position['separationtype'].value_counts(normalize=True)*100"
   ]
  },
  {
   "cell_type": "markdown",
   "id": "fef59290",
   "metadata": {},
   "source": [
    "___\n",
    "### `Experienced`"
   ]
  },
  {
   "cell_type": "code",
   "execution_count": 77,
   "id": "0d3bf87c",
   "metadata": {},
   "outputs": [],
   "source": [
    "experienced_dissatidfied = employees_dissatisfied.groupby('service_cat')\n",
    "experienced_position =  experienced_dissatidfied.get_group('Experienced') "
   ]
  },
  {
   "cell_type": "code",
   "execution_count": 78,
   "id": "475634b3",
   "metadata": {},
   "outputs": [
    {
     "data": {
      "text/plain": [
       "Teacher                      27.118644\n",
       "Administration (AO)          23.728814\n",
       "Teacher (including LVT)      11.864407\n",
       "Public Servant               10.169492\n",
       "Cleaner                       8.474576\n",
       "Teacher Aide                  8.474576\n",
       "Schools Officer               3.389831\n",
       "Professional Officer (PO)     1.694915\n",
       "Executive (SES/SO)            1.694915\n",
       "Operational (OO)              1.694915\n",
       "Technical Officer             1.694915\n",
       "Name: position, dtype: float64"
      ]
     },
     "execution_count": 78,
     "metadata": {},
     "output_type": "execute_result"
    }
   ],
   "source": [
    "experienced_position['position'].value_counts(normalize=True)*100"
   ]
  },
  {
   "cell_type": "code",
   "execution_count": 79,
   "id": "02c23411",
   "metadata": {},
   "outputs": [
    {
     "data": {
      "text/plain": [
       "Resignation                             40.677966\n",
       "Resignation-Other reasons               28.813559\n",
       "Resignation-Other employer              22.033898\n",
       "Resignation-Move overseas/interstate     8.474576\n",
       "Name: separationtype, dtype: float64"
      ]
     },
     "execution_count": 79,
     "metadata": {},
     "output_type": "execute_result"
    }
   ],
   "source": [
    "experienced_position['separationtype'].value_counts(normalize=True)*100"
   ]
  },
  {
   "cell_type": "markdown",
   "id": "c6257ce6",
   "metadata": {},
   "source": [
    "___\n",
    "### `New`"
   ]
  },
  {
   "cell_type": "code",
   "execution_count": 80,
   "id": "1d6a6bfd",
   "metadata": {},
   "outputs": [],
   "source": [
    "new_dissatidfied = employees_dissatisfied.groupby('service_cat')\n",
    "new_position =  new_dissatidfied.get_group('New') "
   ]
  },
  {
   "cell_type": "code",
   "execution_count": 81,
   "id": "6f5643d0",
   "metadata": {},
   "outputs": [
    {
     "data": {
      "text/plain": [
       "Teacher (including LVT)                                    31.578947\n",
       "Administration (AO)                                        24.561404\n",
       "Teacher                                                    14.035088\n",
       "Cleaner                                                     7.017544\n",
       "Public Servant                                              7.017544\n",
       "Technical Officer (TO)                                      3.508772\n",
       "School Administrative Staff                                 3.508772\n",
       "Executive (SES/SO)                                          1.754386\n",
       "School Based Professional Staff (Therapist, nurse, etc)     1.754386\n",
       "Other                                                       1.754386\n",
       "Operational (OO)                                            1.754386\n",
       "Teacher Aide                                                1.754386\n",
       "Name: position, dtype: float64"
      ]
     },
     "execution_count": 81,
     "metadata": {},
     "output_type": "execute_result"
    }
   ],
   "source": [
    "new_position['position'].value_counts(normalize=True)*100"
   ]
  },
  {
   "cell_type": "code",
   "execution_count": 82,
   "id": "bf4d15ac",
   "metadata": {},
   "outputs": [
    {
     "data": {
      "text/plain": [
       "Resignation                             63.157895\n",
       "Resignation-Other reasons               15.789474\n",
       "Resignation-Move overseas/interstate    12.280702\n",
       "Resignation-Other employer               8.771930\n",
       "Name: separationtype, dtype: float64"
      ]
     },
     "execution_count": 82,
     "metadata": {},
     "output_type": "execute_result"
    }
   ],
   "source": [
    "new_position['separationtype'].value_counts(normalize=True)*100"
   ]
  },
  {
   "cell_type": "markdown",
   "id": "2e99be8d",
   "metadata": {},
   "source": [
    "___\n",
    "### Clean the `age` column. \n",
    "\n",
    "I considered it appropriate to do two functions. \n",
    "\n",
    "One of them is be able to group `age_groups` by age and another `age_cleaner` to be able to work with the values of the ages."
   ]
  },
  {
   "cell_type": "code",
   "execution_count": 83,
   "id": "fd9d02a1",
   "metadata": {},
   "outputs": [
    {
     "data": {
      "text/plain": [
       "array(['36-40', '41-45', '31-35', '46-50', '61 or older', '56-60',\n",
       "       '51-55', '21-25', '26-30', nan, '20 or younger', '41  45',\n",
       "       '56 or older', '46  50', '36  40', '21  25', '31  35', '26  30'],\n",
       "      dtype=object)"
      ]
     },
     "execution_count": 83,
     "metadata": {},
     "output_type": "execute_result"
    }
   ],
   "source": [
    "combined_updated['age'].unique()"
   ]
  },
  {
   "cell_type": "code",
   "execution_count": 84,
   "id": "b591c3af",
   "metadata": {},
   "outputs": [],
   "source": [
    "def age_groups(val):\n",
    "    if pd.isnull(val):\n",
    "        return np.nan\n",
    "    elif val == '36-40':\n",
    "        return '36-40'\n",
    "    elif val == '41-45':\n",
    "        return '41-45'\n",
    "    elif val == '31-35':\n",
    "        return '31-35'\n",
    "    elif val == '46-50':\n",
    "        return '46-50'\n",
    "    elif val == '61 or older':\n",
    "        return '61 or older'\n",
    "    elif val == '56-60':\n",
    "        return '56-60'\n",
    "    elif val == '51-55':\n",
    "        return '51-55'\n",
    "    elif val == '21-25':\n",
    "        return '21-25'\n",
    "    elif val == '26-30':\n",
    "        return '26-30'\n",
    "    elif val == '20 or younger':\n",
    "        return '20 or younger'\n",
    "    elif val == '41  45':\n",
    "        return '41-45'\n",
    "    elif val == '56 or older':\n",
    "        return '56-60'\n",
    "    elif val == '46  50':\n",
    "        return '46-50'\n",
    "    elif val == '36 40':\n",
    "        return '36-40'\n",
    "    elif val == '21  25':\n",
    "        return '21-25'\n",
    "    elif val == '31  35':\n",
    "        return '31-35'\n",
    "    elif val == '26  30':\n",
    "        return '26-30'"
   ]
  },
  {
   "cell_type": "code",
   "execution_count": 85,
   "id": "1b457752",
   "metadata": {},
   "outputs": [],
   "source": [
    "combined_updated['age']=combined_updated['age'].map(age_groups).copy()"
   ]
  },
  {
   "cell_type": "code",
   "execution_count": 86,
   "metadata": {},
   "outputs": [
    {
     "data": {
      "text/plain": [
       "0              36-40\n",
       "1              41-45\n",
       "2              31-35\n",
       "3              46-50\n",
       "4              31-35\n",
       "5              36-40\n",
       "6              31-35\n",
       "7        61 or older\n",
       "8              56-60\n",
       "9              51-55\n",
       "10             46-50\n",
       "11       61 or older\n",
       "12             41-45\n",
       "13             21-25\n",
       "14             36-40\n",
       "15       61 or older\n",
       "16             21-25\n",
       "17             21-25\n",
       "18             56-60\n",
       "19             51-55\n",
       "20             41-45\n",
       "21             51-55\n",
       "22             21-25\n",
       "23             21-25\n",
       "24       61 or older\n",
       "25             26-30\n",
       "26             46-50\n",
       "27             31-35\n",
       "28             36-40\n",
       "29             36-40\n",
       "30             26-30\n",
       "31             41-45\n",
       "32             41-45\n",
       "33             31-35\n",
       "34             36-40\n",
       "35             51-55\n",
       "36             51-55\n",
       "37             46-50\n",
       "38             31-35\n",
       "39             26-30\n",
       "40             56-60\n",
       "41             41-45\n",
       "42             56-60\n",
       "43             46-50\n",
       "44             36-40\n",
       "45             51-55\n",
       "46             51-55\n",
       "47             41-45\n",
       "48             56-60\n",
       "49             41-45\n",
       "50             51-55\n",
       "51       61 or older\n",
       "52             26-30\n",
       "53             21-25\n",
       "54             41-45\n",
       "55             41-45\n",
       "56             36-40\n",
       "57       61 or older\n",
       "58             31-35\n",
       "59             41-45\n",
       "60             46-50\n",
       "61             46-50\n",
       "62             46-50\n",
       "63             31-35\n",
       "64             21-25\n",
       "65             36-40\n",
       "66             51-55\n",
       "67       61 or older\n",
       "68               NaN\n",
       "69             51-55\n",
       "70             36-40\n",
       "71             56-60\n",
       "72             21-25\n",
       "73             26-30\n",
       "74             31-35\n",
       "75             26-30\n",
       "76             31-35\n",
       "77             46-50\n",
       "78             46-50\n",
       "79             21-25\n",
       "80             26-30\n",
       "81             41-45\n",
       "82             36-40\n",
       "83             21-25\n",
       "84     20 or younger\n",
       "85             36-40\n",
       "86             31-35\n",
       "87             26-30\n",
       "88             56-60\n",
       "89             36-40\n",
       "90       61 or older\n",
       "91             26-30\n",
       "92             31-35\n",
       "93               NaN\n",
       "94             36-40\n",
       "95             26-30\n",
       "96             56-60\n",
       "97       61 or older\n",
       "98             51-55\n",
       "99             41-45\n",
       "100            51-55\n",
       "101            46-50\n",
       "102            51-55\n",
       "103            46-50\n",
       "104            36-40\n",
       "105            36-40\n",
       "106            36-40\n",
       "107            41-45\n",
       "108            46-50\n",
       "109            26-30\n",
       "110            26-30\n",
       "111            21-25\n",
       "112            46-50\n",
       "113            36-40\n",
       "114            21-25\n",
       "115            51-55\n",
       "116            26-30\n",
       "117            41-45\n",
       "118            41-45\n",
       "119            36-40\n",
       "120            56-60\n",
       "121            26-30\n",
       "122            56-60\n",
       "123            31-35\n",
       "124            26-30\n",
       "125            21-25\n",
       "126            21-25\n",
       "127            36-40\n",
       "128            41-45\n",
       "129            46-50\n",
       "130            46-50\n",
       "131            46-50\n",
       "132            26-30\n",
       "133            26-30\n",
       "134            56-60\n",
       "135            46-50\n",
       "136            46-50\n",
       "137            46-50\n",
       "138            31-35\n",
       "139            41-45\n",
       "140            56-60\n",
       "141              NaN\n",
       "142            56-60\n",
       "143      61 or older\n",
       "144            26-30\n",
       "145            36-40\n",
       "146            26-30\n",
       "147            41-45\n",
       "148            41-45\n",
       "149            26-30\n",
       "150      61 or older\n",
       "151            41-45\n",
       "152            41-45\n",
       "153            31-35\n",
       "154            26-30\n",
       "155            46-50\n",
       "156            26-30\n",
       "157            31-35\n",
       "158            21-25\n",
       "159            56-60\n",
       "160            31-35\n",
       "161            36-40\n",
       "162            21-25\n",
       "163            41-45\n",
       "164            56-60\n",
       "165            21-25\n",
       "166            36-40\n",
       "167            51-55\n",
       "168            36-40\n",
       "169            41-45\n",
       "170            46-50\n",
       "171            56-60\n",
       "172            51-55\n",
       "173            51-55\n",
       "174            46-50\n",
       "175            51-55\n",
       "176            26-30\n",
       "177            41-45\n",
       "178            46-50\n",
       "179            41-45\n",
       "180            46-50\n",
       "181      61 or older\n",
       "182            56-60\n",
       "183            46-50\n",
       "184            36-40\n",
       "185            26-30\n",
       "186            31-35\n",
       "187      61 or older\n",
       "188            36-40\n",
       "189            46-50\n",
       "190            21-25\n",
       "191            31-35\n",
       "192            56-60\n",
       "193            36-40\n",
       "194            56-60\n",
       "195            46-50\n",
       "196            26-30\n",
       "197            51-55\n",
       "198            41-45\n",
       "199            21-25\n",
       "200            41-45\n",
       "201            36-40\n",
       "202            41-45\n",
       "203            56-60\n",
       "204            21-25\n",
       "205            41-45\n",
       "206            41-45\n",
       "207            46-50\n",
       "208            31-35\n",
       "209            41-45\n",
       "210            31-35\n",
       "211            26-30\n",
       "212            36-40\n",
       "213            51-55\n",
       "214            21-25\n",
       "215            51-55\n",
       "216            31-35\n",
       "217      61 or older\n",
       "218            31-35\n",
       "219            56-60\n",
       "220            36-40\n",
       "221            26-30\n",
       "222      61 or older\n",
       "223            31-35\n",
       "224            31-35\n",
       "225      61 or older\n",
       "226            51-55\n",
       "227            26-30\n",
       "228            51-55\n",
       "229            36-40\n",
       "230            51-55\n",
       "231            56-60\n",
       "232            41-45\n",
       "233            26-30\n",
       "234            41-45\n",
       "235            36-40\n",
       "236            36-40\n",
       "237            31-35\n",
       "238            51-55\n",
       "239            51-55\n",
       "240      61 or older\n",
       "241            51-55\n",
       "242      61 or older\n",
       "243      61 or older\n",
       "244            41-45\n",
       "245            46-50\n",
       "246            46-50\n",
       "247            21-25\n",
       "248            41-45\n",
       "249            26-30\n",
       "250            21-25\n",
       "251            41-45\n",
       "252            26-30\n",
       "253            36-40\n",
       "254            46-50\n",
       "255            21-25\n",
       "256            46-50\n",
       "257            56-60\n",
       "258            46-50\n",
       "259            31-35\n",
       "260            36-40\n",
       "261            21-25\n",
       "262            41-45\n",
       "263            46-50\n",
       "264            26-30\n",
       "265            41-45\n",
       "266            21-25\n",
       "267            46-50\n",
       "268            51-55\n",
       "269            41-45\n",
       "270            51-55\n",
       "271      61 or older\n",
       "272            51-55\n",
       "273            46-50\n",
       "274            56-60\n",
       "275            51-55\n",
       "276            46-50\n",
       "277            56-60\n",
       "278      61 or older\n",
       "279            56-60\n",
       "280            41-45\n",
       "281            41-45\n",
       "282      61 or older\n",
       "283            46-50\n",
       "284            31-35\n",
       "285            41-45\n",
       "286            41-45\n",
       "287            26-30\n",
       "288            46-50\n",
       "289      61 or older\n",
       "290            36-40\n",
       "291            41-45\n",
       "292            21-25\n",
       "293            41-45\n",
       "294            41-45\n",
       "295            51-55\n",
       "296            36-40\n",
       "297            46-50\n",
       "298            36-40\n",
       "299            36-40\n",
       "300            36-40\n",
       "301              NaN\n",
       "302            46-50\n",
       "303            26-30\n",
       "304            41-45\n",
       "305            36-40\n",
       "306            26-30\n",
       "307            21-25\n",
       "308            21-25\n",
       "309            31-35\n",
       "310              NaN\n",
       "311              NaN\n",
       "312            41-45\n",
       "313            56-60\n",
       "314    20 or younger\n",
       "315            46-50\n",
       "316             None\n",
       "317            21-25\n",
       "318            41-45\n",
       "319            31-35\n",
       "320            31-35\n",
       "321            46-50\n",
       "322              NaN\n",
       "323            31-35\n",
       "324              NaN\n",
       "325              NaN\n",
       "326              NaN\n",
       "327              NaN\n",
       "328            26-30\n",
       "329            26-30\n",
       "330            31-35\n",
       "331              NaN\n",
       "332            56-60\n",
       "333            31-35\n",
       "334            46-50\n",
       "335              NaN\n",
       "336              NaN\n",
       "337              NaN\n",
       "338            26-30\n",
       "339             None\n",
       "340            31-35\n",
       "341            51-55\n",
       "342            56-60\n",
       "343            31-35\n",
       "344            56-60\n",
       "345              NaN\n",
       "346            41-45\n",
       "347              NaN\n",
       "348              NaN\n",
       "349            31-35\n",
       "350            26-30\n",
       "351            56-60\n",
       "352            51-55\n",
       "353            46-50\n",
       "354            21-25\n",
       "355            31-35\n",
       "356            51-55\n",
       "357             None\n",
       "358            51-55\n",
       "359    20 or younger\n",
       "360            41-45\n",
       "361            46-50\n",
       "362            41-45\n",
       "363            41-45\n",
       "364            56-60\n",
       "365            26-30\n",
       "366            41-45\n",
       "367              NaN\n",
       "368            31-35\n",
       "369            41-45\n",
       "370              NaN\n",
       "371            31-35\n",
       "372            56-60\n",
       "373              NaN\n",
       "374            31-35\n",
       "375              NaN\n",
       "376            21-25\n",
       "377            46-50\n",
       "378              NaN\n",
       "379              NaN\n",
       "380             None\n",
       "381             None\n",
       "382            41-45\n",
       "383             None\n",
       "384            26-30\n",
       "385              NaN\n",
       "386            26-30\n",
       "387            56-60\n",
       "388            41-45\n",
       "389            31-35\n",
       "390            46-50\n",
       "391            26-30\n",
       "392            51-55\n",
       "393            51-55\n",
       "394            51-55\n",
       "395            46-50\n",
       "396            21-25\n",
       "397              NaN\n",
       "398            41-45\n",
       "399            51-55\n",
       "400             None\n",
       "401            51-55\n",
       "402              NaN\n",
       "403            46-50\n",
       "404            21-25\n",
       "405              NaN\n",
       "406            31-35\n",
       "407            26-30\n",
       "408            51-55\n",
       "409             None\n",
       "410            56-60\n",
       "411            21-25\n",
       "412    20 or younger\n",
       "413            21-25\n",
       "414            41-45\n",
       "415    20 or younger\n",
       "416            51-55\n",
       "417            41-45\n",
       "418            51-55\n",
       "419              NaN\n",
       "420            46-50\n",
       "421            21-25\n",
       "422            21-25\n",
       "423            21-25\n",
       "424            31-35\n",
       "425            21-25\n",
       "426            41-45\n",
       "427            46-50\n",
       "428            26-30\n",
       "429            46-50\n",
       "430            46-50\n",
       "431            46-50\n",
       "432            41-45\n",
       "433             None\n",
       "434             None\n",
       "435            26-30\n",
       "436            41-45\n",
       "437            41-45\n",
       "438            21-25\n",
       "439            41-45\n",
       "440              NaN\n",
       "441            31-35\n",
       "442            21-25\n",
       "443            41-45\n",
       "444             None\n",
       "445            21-25\n",
       "446            26-30\n",
       "447            41-45\n",
       "448            46-50\n",
       "449            26-30\n",
       "450            51-55\n",
       "451            31-35\n",
       "452    20 or younger\n",
       "453              NaN\n",
       "454            21-25\n",
       "455            51-55\n",
       "456             None\n",
       "457            41-45\n",
       "458            51-55\n",
       "459            21-25\n",
       "460             None\n",
       "461              NaN\n",
       "462            41-45\n",
       "463    20 or younger\n",
       "464            21-25\n",
       "465            51-55\n",
       "466              NaN\n",
       "467             None\n",
       "468             None\n",
       "469            41-45\n",
       "470            46-50\n",
       "471            26-30\n",
       "472              NaN\n",
       "473            56-60\n",
       "474              NaN\n",
       "475            56-60\n",
       "476              NaN\n",
       "477            46-50\n",
       "478            46-50\n",
       "479            51-55\n",
       "480            56-60\n",
       "481            56-60\n",
       "482            46-50\n",
       "483            51-55\n",
       "484            51-55\n",
       "485            56-60\n",
       "486            56-60\n",
       "487            56-60\n",
       "488            21-25\n",
       "489            51-55\n",
       "490            31-35\n",
       "491            51-55\n",
       "492            26-30\n",
       "493            46-50\n",
       "494            51-55\n",
       "495              NaN\n",
       "496            46-50\n",
       "497            41-45\n",
       "498            41-45\n",
       "499            41-45\n",
       "500            41-45\n",
       "501             None\n",
       "502            56-60\n",
       "503            31-35\n",
       "504            31-35\n",
       "505             None\n",
       "506            41-45\n",
       "507            26-30\n",
       "508            56-60\n",
       "509            51-55\n",
       "510            51-55\n",
       "511            26-30\n",
       "512            31-35\n",
       "513              NaN\n",
       "514            41-45\n",
       "515            31-35\n",
       "516            26-30\n",
       "517            51-55\n",
       "518             None\n",
       "519              NaN\n",
       "520    20 or younger\n",
       "521            21-25\n",
       "522            26-30\n",
       "523              NaN\n",
       "524            26-30\n",
       "525             None\n",
       "526            31-35\n",
       "527            56-60\n",
       "528            21-25\n",
       "529            41-45\n",
       "530            31-35\n",
       "531            56-60\n",
       "532            46-50\n",
       "533            51-55\n",
       "534             None\n",
       "535            31-35\n",
       "536            46-50\n",
       "537            46-50\n",
       "538             None\n",
       "539            21-25\n",
       "540             None\n",
       "541            21-25\n",
       "542            51-55\n",
       "543              NaN\n",
       "544            21-25\n",
       "545            41-45\n",
       "546            31-35\n",
       "547            41-45\n",
       "548            21-25\n",
       "549            21-25\n",
       "550            56-60\n",
       "551            46-50\n",
       "552            26-30\n",
       "553            46-50\n",
       "554              NaN\n",
       "555            41-45\n",
       "556              NaN\n",
       "557            21-25\n",
       "558              NaN\n",
       "559            26-30\n",
       "560             None\n",
       "561            21-25\n",
       "562              NaN\n",
       "563            21-25\n",
       "564            31-35\n",
       "565    20 or younger\n",
       "566            51-55\n",
       "567            56-60\n",
       "568            26-30\n",
       "569            56-60\n",
       "570             None\n",
       "571            41-45\n",
       "572            21-25\n",
       "573            46-50\n",
       "574            56-60\n",
       "575            51-55\n",
       "576             None\n",
       "577            31-35\n",
       "578             None\n",
       "579             None\n",
       "580            26-30\n",
       "581              NaN\n",
       "582            31-35\n",
       "583            46-50\n",
       "584            31-35\n",
       "585            56-60\n",
       "586             None\n",
       "587            46-50\n",
       "588            41-45\n",
       "589            21-25\n",
       "590            31-35\n",
       "591            41-45\n",
       "592            51-55\n",
       "593            51-55\n",
       "594            21-25\n",
       "595            46-50\n",
       "596              NaN\n",
       "597             None\n",
       "598            46-50\n",
       "599              NaN\n",
       "600            41-45\n",
       "601            41-45\n",
       "602              NaN\n",
       "603            56-60\n",
       "604            41-45\n",
       "605             None\n",
       "606            31-35\n",
       "607            46-50\n",
       "608            46-50\n",
       "609            21-25\n",
       "610            56-60\n",
       "611            51-55\n",
       "612            26-30\n",
       "613    20 or younger\n",
       "614            46-50\n",
       "615            46-50\n",
       "616            51-55\n",
       "617            51-55\n",
       "618             None\n",
       "619            26-30\n",
       "620            51-55\n",
       "621            46-50\n",
       "622            41-45\n",
       "623            46-50\n",
       "624              NaN\n",
       "625              NaN\n",
       "626            26-30\n",
       "627              NaN\n",
       "628            46-50\n",
       "629            51-55\n",
       "630            41-45\n",
       "631             None\n",
       "632            51-55\n",
       "633            56-60\n",
       "634            26-30\n",
       "635            26-30\n",
       "636            41-45\n",
       "637            41-45\n",
       "638            26-30\n",
       "639            41-45\n",
       "640            46-50\n",
       "641            41-45\n",
       "642              NaN\n",
       "643            56-60\n",
       "644            26-30\n",
       "645              NaN\n",
       "646            21-25\n",
       "647            51-55\n",
       "648              NaN\n",
       "649            51-55\n",
       "650            26-30\n",
       "Name: age, dtype: object"
      ]
     },
     "execution_count": 86,
     "metadata": {},
     "output_type": "execute_result"
    }
   ],
   "source": [
    "combined_updated['age']"
   ]
  },
  {
   "cell_type": "code",
   "execution_count": 87,
   "id": "e91181cc",
   "metadata": {},
   "outputs": [],
   "source": [
    "def age_cleaner(val):\n",
    "    if pd.isnull(val):\n",
    "        return np.nan\n",
    "    elif val == '36-40':\n",
    "        return '38'\n",
    "    elif val == '41-45':\n",
    "        return '43'\n",
    "    elif val == '31-35':\n",
    "        return '33'\n",
    "    elif val == '46-50':\n",
    "        return '48'\n",
    "    elif val == '61 or older':\n",
    "        return '61'\n",
    "    elif val == '56-60':\n",
    "        return '58'\n",
    "    elif val == '51-55':\n",
    "        return '53'\n",
    "    elif val == '21-25':\n",
    "        return '23'\n",
    "    elif val == '26-30':\n",
    "        return '28'\n",
    "    elif val == '20 or younger':\n",
    "        return '19'\n",
    "    elif val == '41  45':\n",
    "        return '43'\n",
    "    elif val == '56 or older':\n",
    "        return '57'\n",
    "    elif val == '46  50':\n",
    "        return '48'\n",
    "    elif val == '36 40':\n",
    "        return '38'\n",
    "    elif val == '21  25':\n",
    "        return '23'\n",
    "    elif val == '31  35':\n",
    "        return '33'\n",
    "    elif val == '26  30':\n",
    "        return '28'"
   ]
  },
  {
   "cell_type": "code",
   "execution_count": 88,
   "metadata": {},
   "outputs": [
    {
     "data": {
      "text/plain": [
       "0              36-40\n",
       "1              41-45\n",
       "2              31-35\n",
       "3              46-50\n",
       "4              31-35\n",
       "5              36-40\n",
       "6              31-35\n",
       "7        61 or older\n",
       "8              56-60\n",
       "9              51-55\n",
       "10             46-50\n",
       "11       61 or older\n",
       "12             41-45\n",
       "13             21-25\n",
       "14             36-40\n",
       "15       61 or older\n",
       "16             21-25\n",
       "17             21-25\n",
       "18             56-60\n",
       "19             51-55\n",
       "20             41-45\n",
       "21             51-55\n",
       "22             21-25\n",
       "23             21-25\n",
       "24       61 or older\n",
       "25             26-30\n",
       "26             46-50\n",
       "27             31-35\n",
       "28             36-40\n",
       "29             36-40\n",
       "30             26-30\n",
       "31             41-45\n",
       "32             41-45\n",
       "33             31-35\n",
       "34             36-40\n",
       "35             51-55\n",
       "36             51-55\n",
       "37             46-50\n",
       "38             31-35\n",
       "39             26-30\n",
       "40             56-60\n",
       "41             41-45\n",
       "42             56-60\n",
       "43             46-50\n",
       "44             36-40\n",
       "45             51-55\n",
       "46             51-55\n",
       "47             41-45\n",
       "48             56-60\n",
       "49             41-45\n",
       "50             51-55\n",
       "51       61 or older\n",
       "52             26-30\n",
       "53             21-25\n",
       "54             41-45\n",
       "55             41-45\n",
       "56             36-40\n",
       "57       61 or older\n",
       "58             31-35\n",
       "59             41-45\n",
       "60             46-50\n",
       "61             46-50\n",
       "62             46-50\n",
       "63             31-35\n",
       "64             21-25\n",
       "65             36-40\n",
       "66             51-55\n",
       "67       61 or older\n",
       "68               NaN\n",
       "69             51-55\n",
       "70             36-40\n",
       "71             56-60\n",
       "72             21-25\n",
       "73             26-30\n",
       "74             31-35\n",
       "75             26-30\n",
       "76             31-35\n",
       "77             46-50\n",
       "78             46-50\n",
       "79             21-25\n",
       "80             26-30\n",
       "81             41-45\n",
       "82             36-40\n",
       "83             21-25\n",
       "84     20 or younger\n",
       "85             36-40\n",
       "86             31-35\n",
       "87             26-30\n",
       "88             56-60\n",
       "89             36-40\n",
       "90       61 or older\n",
       "91             26-30\n",
       "92             31-35\n",
       "93               NaN\n",
       "94             36-40\n",
       "95             26-30\n",
       "96             56-60\n",
       "97       61 or older\n",
       "98             51-55\n",
       "99             41-45\n",
       "100            51-55\n",
       "101            46-50\n",
       "102            51-55\n",
       "103            46-50\n",
       "104            36-40\n",
       "105            36-40\n",
       "106            36-40\n",
       "107            41-45\n",
       "108            46-50\n",
       "109            26-30\n",
       "110            26-30\n",
       "111            21-25\n",
       "112            46-50\n",
       "113            36-40\n",
       "114            21-25\n",
       "115            51-55\n",
       "116            26-30\n",
       "117            41-45\n",
       "118            41-45\n",
       "119            36-40\n",
       "120            56-60\n",
       "121            26-30\n",
       "122            56-60\n",
       "123            31-35\n",
       "124            26-30\n",
       "125            21-25\n",
       "126            21-25\n",
       "127            36-40\n",
       "128            41-45\n",
       "129            46-50\n",
       "130            46-50\n",
       "131            46-50\n",
       "132            26-30\n",
       "133            26-30\n",
       "134            56-60\n",
       "135            46-50\n",
       "136            46-50\n",
       "137            46-50\n",
       "138            31-35\n",
       "139            41-45\n",
       "140            56-60\n",
       "141              NaN\n",
       "142            56-60\n",
       "143      61 or older\n",
       "144            26-30\n",
       "145            36-40\n",
       "146            26-30\n",
       "147            41-45\n",
       "148            41-45\n",
       "149            26-30\n",
       "150      61 or older\n",
       "151            41-45\n",
       "152            41-45\n",
       "153            31-35\n",
       "154            26-30\n",
       "155            46-50\n",
       "156            26-30\n",
       "157            31-35\n",
       "158            21-25\n",
       "159            56-60\n",
       "160            31-35\n",
       "161            36-40\n",
       "162            21-25\n",
       "163            41-45\n",
       "164            56-60\n",
       "165            21-25\n",
       "166            36-40\n",
       "167            51-55\n",
       "168            36-40\n",
       "169            41-45\n",
       "170            46-50\n",
       "171            56-60\n",
       "172            51-55\n",
       "173            51-55\n",
       "174            46-50\n",
       "175            51-55\n",
       "176            26-30\n",
       "177            41-45\n",
       "178            46-50\n",
       "179            41-45\n",
       "180            46-50\n",
       "181      61 or older\n",
       "182            56-60\n",
       "183            46-50\n",
       "184            36-40\n",
       "185            26-30\n",
       "186            31-35\n",
       "187      61 or older\n",
       "188            36-40\n",
       "189            46-50\n",
       "190            21-25\n",
       "191            31-35\n",
       "192            56-60\n",
       "193            36-40\n",
       "194            56-60\n",
       "195            46-50\n",
       "196            26-30\n",
       "197            51-55\n",
       "198            41-45\n",
       "199            21-25\n",
       "200            41-45\n",
       "201            36-40\n",
       "202            41-45\n",
       "203            56-60\n",
       "204            21-25\n",
       "205            41-45\n",
       "206            41-45\n",
       "207            46-50\n",
       "208            31-35\n",
       "209            41-45\n",
       "210            31-35\n",
       "211            26-30\n",
       "212            36-40\n",
       "213            51-55\n",
       "214            21-25\n",
       "215            51-55\n",
       "216            31-35\n",
       "217      61 or older\n",
       "218            31-35\n",
       "219            56-60\n",
       "220            36-40\n",
       "221            26-30\n",
       "222      61 or older\n",
       "223            31-35\n",
       "224            31-35\n",
       "225      61 or older\n",
       "226            51-55\n",
       "227            26-30\n",
       "228            51-55\n",
       "229            36-40\n",
       "230            51-55\n",
       "231            56-60\n",
       "232            41-45\n",
       "233            26-30\n",
       "234            41-45\n",
       "235            36-40\n",
       "236            36-40\n",
       "237            31-35\n",
       "238            51-55\n",
       "239            51-55\n",
       "240      61 or older\n",
       "241            51-55\n",
       "242      61 or older\n",
       "243      61 or older\n",
       "244            41-45\n",
       "245            46-50\n",
       "246            46-50\n",
       "247            21-25\n",
       "248            41-45\n",
       "249            26-30\n",
       "250            21-25\n",
       "251            41-45\n",
       "252            26-30\n",
       "253            36-40\n",
       "254            46-50\n",
       "255            21-25\n",
       "256            46-50\n",
       "257            56-60\n",
       "258            46-50\n",
       "259            31-35\n",
       "260            36-40\n",
       "261            21-25\n",
       "262            41-45\n",
       "263            46-50\n",
       "264            26-30\n",
       "265            41-45\n",
       "266            21-25\n",
       "267            46-50\n",
       "268            51-55\n",
       "269            41-45\n",
       "270            51-55\n",
       "271      61 or older\n",
       "272            51-55\n",
       "273            46-50\n",
       "274            56-60\n",
       "275            51-55\n",
       "276            46-50\n",
       "277            56-60\n",
       "278      61 or older\n",
       "279            56-60\n",
       "280            41-45\n",
       "281            41-45\n",
       "282      61 or older\n",
       "283            46-50\n",
       "284            31-35\n",
       "285            41-45\n",
       "286            41-45\n",
       "287            26-30\n",
       "288            46-50\n",
       "289      61 or older\n",
       "290            36-40\n",
       "291            41-45\n",
       "292            21-25\n",
       "293            41-45\n",
       "294            41-45\n",
       "295            51-55\n",
       "296            36-40\n",
       "297            46-50\n",
       "298            36-40\n",
       "299            36-40\n",
       "300            36-40\n",
       "301              NaN\n",
       "302            46-50\n",
       "303            26-30\n",
       "304            41-45\n",
       "305            36-40\n",
       "306            26-30\n",
       "307            21-25\n",
       "308            21-25\n",
       "309            31-35\n",
       "310              NaN\n",
       "311              NaN\n",
       "312            41-45\n",
       "313            56-60\n",
       "314    20 or younger\n",
       "315            46-50\n",
       "316             None\n",
       "317            21-25\n",
       "318            41-45\n",
       "319            31-35\n",
       "320            31-35\n",
       "321            46-50\n",
       "322              NaN\n",
       "323            31-35\n",
       "324              NaN\n",
       "325              NaN\n",
       "326              NaN\n",
       "327              NaN\n",
       "328            26-30\n",
       "329            26-30\n",
       "330            31-35\n",
       "331              NaN\n",
       "332            56-60\n",
       "333            31-35\n",
       "334            46-50\n",
       "335              NaN\n",
       "336              NaN\n",
       "337              NaN\n",
       "338            26-30\n",
       "339             None\n",
       "340            31-35\n",
       "341            51-55\n",
       "342            56-60\n",
       "343            31-35\n",
       "344            56-60\n",
       "345              NaN\n",
       "346            41-45\n",
       "347              NaN\n",
       "348              NaN\n",
       "349            31-35\n",
       "350            26-30\n",
       "351            56-60\n",
       "352            51-55\n",
       "353            46-50\n",
       "354            21-25\n",
       "355            31-35\n",
       "356            51-55\n",
       "357             None\n",
       "358            51-55\n",
       "359    20 or younger\n",
       "360            41-45\n",
       "361            46-50\n",
       "362            41-45\n",
       "363            41-45\n",
       "364            56-60\n",
       "365            26-30\n",
       "366            41-45\n",
       "367              NaN\n",
       "368            31-35\n",
       "369            41-45\n",
       "370              NaN\n",
       "371            31-35\n",
       "372            56-60\n",
       "373              NaN\n",
       "374            31-35\n",
       "375              NaN\n",
       "376            21-25\n",
       "377            46-50\n",
       "378              NaN\n",
       "379              NaN\n",
       "380             None\n",
       "381             None\n",
       "382            41-45\n",
       "383             None\n",
       "384            26-30\n",
       "385              NaN\n",
       "386            26-30\n",
       "387            56-60\n",
       "388            41-45\n",
       "389            31-35\n",
       "390            46-50\n",
       "391            26-30\n",
       "392            51-55\n",
       "393            51-55\n",
       "394            51-55\n",
       "395            46-50\n",
       "396            21-25\n",
       "397              NaN\n",
       "398            41-45\n",
       "399            51-55\n",
       "400             None\n",
       "401            51-55\n",
       "402              NaN\n",
       "403            46-50\n",
       "404            21-25\n",
       "405              NaN\n",
       "406            31-35\n",
       "407            26-30\n",
       "408            51-55\n",
       "409             None\n",
       "410            56-60\n",
       "411            21-25\n",
       "412    20 or younger\n",
       "413            21-25\n",
       "414            41-45\n",
       "415    20 or younger\n",
       "416            51-55\n",
       "417            41-45\n",
       "418            51-55\n",
       "419              NaN\n",
       "420            46-50\n",
       "421            21-25\n",
       "422            21-25\n",
       "423            21-25\n",
       "424            31-35\n",
       "425            21-25\n",
       "426            41-45\n",
       "427            46-50\n",
       "428            26-30\n",
       "429            46-50\n",
       "430            46-50\n",
       "431            46-50\n",
       "432            41-45\n",
       "433             None\n",
       "434             None\n",
       "435            26-30\n",
       "436            41-45\n",
       "437            41-45\n",
       "438            21-25\n",
       "439            41-45\n",
       "440              NaN\n",
       "441            31-35\n",
       "442            21-25\n",
       "443            41-45\n",
       "444             None\n",
       "445            21-25\n",
       "446            26-30\n",
       "447            41-45\n",
       "448            46-50\n",
       "449            26-30\n",
       "450            51-55\n",
       "451            31-35\n",
       "452    20 or younger\n",
       "453              NaN\n",
       "454            21-25\n",
       "455            51-55\n",
       "456             None\n",
       "457            41-45\n",
       "458            51-55\n",
       "459            21-25\n",
       "460             None\n",
       "461              NaN\n",
       "462            41-45\n",
       "463    20 or younger\n",
       "464            21-25\n",
       "465            51-55\n",
       "466              NaN\n",
       "467             None\n",
       "468             None\n",
       "469            41-45\n",
       "470            46-50\n",
       "471            26-30\n",
       "472              NaN\n",
       "473            56-60\n",
       "474              NaN\n",
       "475            56-60\n",
       "476              NaN\n",
       "477            46-50\n",
       "478            46-50\n",
       "479            51-55\n",
       "480            56-60\n",
       "481            56-60\n",
       "482            46-50\n",
       "483            51-55\n",
       "484            51-55\n",
       "485            56-60\n",
       "486            56-60\n",
       "487            56-60\n",
       "488            21-25\n",
       "489            51-55\n",
       "490            31-35\n",
       "491            51-55\n",
       "492            26-30\n",
       "493            46-50\n",
       "494            51-55\n",
       "495              NaN\n",
       "496            46-50\n",
       "497            41-45\n",
       "498            41-45\n",
       "499            41-45\n",
       "500            41-45\n",
       "501             None\n",
       "502            56-60\n",
       "503            31-35\n",
       "504            31-35\n",
       "505             None\n",
       "506            41-45\n",
       "507            26-30\n",
       "508            56-60\n",
       "509            51-55\n",
       "510            51-55\n",
       "511            26-30\n",
       "512            31-35\n",
       "513              NaN\n",
       "514            41-45\n",
       "515            31-35\n",
       "516            26-30\n",
       "517            51-55\n",
       "518             None\n",
       "519              NaN\n",
       "520    20 or younger\n",
       "521            21-25\n",
       "522            26-30\n",
       "523              NaN\n",
       "524            26-30\n",
       "525             None\n",
       "526            31-35\n",
       "527            56-60\n",
       "528            21-25\n",
       "529            41-45\n",
       "530            31-35\n",
       "531            56-60\n",
       "532            46-50\n",
       "533            51-55\n",
       "534             None\n",
       "535            31-35\n",
       "536            46-50\n",
       "537            46-50\n",
       "538             None\n",
       "539            21-25\n",
       "540             None\n",
       "541            21-25\n",
       "542            51-55\n",
       "543              NaN\n",
       "544            21-25\n",
       "545            41-45\n",
       "546            31-35\n",
       "547            41-45\n",
       "548            21-25\n",
       "549            21-25\n",
       "550            56-60\n",
       "551            46-50\n",
       "552            26-30\n",
       "553            46-50\n",
       "554              NaN\n",
       "555            41-45\n",
       "556              NaN\n",
       "557            21-25\n",
       "558              NaN\n",
       "559            26-30\n",
       "560             None\n",
       "561            21-25\n",
       "562              NaN\n",
       "563            21-25\n",
       "564            31-35\n",
       "565    20 or younger\n",
       "566            51-55\n",
       "567            56-60\n",
       "568            26-30\n",
       "569            56-60\n",
       "570             None\n",
       "571            41-45\n",
       "572            21-25\n",
       "573            46-50\n",
       "574            56-60\n",
       "575            51-55\n",
       "576             None\n",
       "577            31-35\n",
       "578             None\n",
       "579             None\n",
       "580            26-30\n",
       "581              NaN\n",
       "582            31-35\n",
       "583            46-50\n",
       "584            31-35\n",
       "585            56-60\n",
       "586             None\n",
       "587            46-50\n",
       "588            41-45\n",
       "589            21-25\n",
       "590            31-35\n",
       "591            41-45\n",
       "592            51-55\n",
       "593            51-55\n",
       "594            21-25\n",
       "595            46-50\n",
       "596              NaN\n",
       "597             None\n",
       "598            46-50\n",
       "599              NaN\n",
       "600            41-45\n",
       "601            41-45\n",
       "602              NaN\n",
       "603            56-60\n",
       "604            41-45\n",
       "605             None\n",
       "606            31-35\n",
       "607            46-50\n",
       "608            46-50\n",
       "609            21-25\n",
       "610            56-60\n",
       "611            51-55\n",
       "612            26-30\n",
       "613    20 or younger\n",
       "614            46-50\n",
       "615            46-50\n",
       "616            51-55\n",
       "617            51-55\n",
       "618             None\n",
       "619            26-30\n",
       "620            51-55\n",
       "621            46-50\n",
       "622            41-45\n",
       "623            46-50\n",
       "624              NaN\n",
       "625              NaN\n",
       "626            26-30\n",
       "627              NaN\n",
       "628            46-50\n",
       "629            51-55\n",
       "630            41-45\n",
       "631             None\n",
       "632            51-55\n",
       "633            56-60\n",
       "634            26-30\n",
       "635            26-30\n",
       "636            41-45\n",
       "637            41-45\n",
       "638            26-30\n",
       "639            41-45\n",
       "640            46-50\n",
       "641            41-45\n",
       "642              NaN\n",
       "643            56-60\n",
       "644            26-30\n",
       "645              NaN\n",
       "646            21-25\n",
       "647            51-55\n",
       "648              NaN\n",
       "649            51-55\n",
       "650            26-30\n",
       "Name: age, dtype: object"
      ]
     },
     "execution_count": 88,
     "metadata": {},
     "output_type": "execute_result"
    }
   ],
   "source": [
    "combined_updated['age']"
   ]
  },
  {
   "cell_type": "code",
   "execution_count": 89,
   "id": "be8cf4b0",
   "metadata": {},
   "outputs": [
    {
     "data": {
      "text/html": [
       "<div>\n",
       "<style scoped>\n",
       "    .dataframe tbody tr th:only-of-type {\n",
       "        vertical-align: middle;\n",
       "    }\n",
       "\n",
       "    .dataframe tbody tr th {\n",
       "        vertical-align: top;\n",
       "    }\n",
       "\n",
       "    .dataframe thead th {\n",
       "        text-align: right;\n",
       "    }\n",
       "</style>\n",
       "<table border=\"1\" class=\"dataframe\">\n",
       "  <thead>\n",
       "    <tr style=\"text-align: right;\">\n",
       "      <th></th>\n",
       "      <th>id</th>\n",
       "      <th>separationtype</th>\n",
       "      <th>cease_date</th>\n",
       "      <th>position</th>\n",
       "      <th>employment_status</th>\n",
       "      <th>gender</th>\n",
       "      <th>age</th>\n",
       "      <th>institute_service</th>\n",
       "      <th>dissatisfied</th>\n",
       "      <th>institute</th>\n",
       "      <th>service_cat</th>\n",
       "      <th>new_age</th>\n",
       "    </tr>\n",
       "  </thead>\n",
       "  <tbody>\n",
       "    <tr>\n",
       "      <th>1</th>\n",
       "      <td>6.0</td>\n",
       "      <td>Resignation-Other reasons</td>\n",
       "      <td>2012.0</td>\n",
       "      <td>Guidance Officer</td>\n",
       "      <td>Permanent Full-time</td>\n",
       "      <td>Female</td>\n",
       "      <td>41-45</td>\n",
       "      <td>18.0</td>\n",
       "      <td>True</td>\n",
       "      <td>DETE</td>\n",
       "      <td>Veteran</td>\n",
       "      <td>43.0</td>\n",
       "    </tr>\n",
       "    <tr>\n",
       "      <th>2</th>\n",
       "      <td>9.0</td>\n",
       "      <td>Resignation-Other reasons</td>\n",
       "      <td>2012.0</td>\n",
       "      <td>Teacher</td>\n",
       "      <td>Permanent Full-time</td>\n",
       "      <td>Female</td>\n",
       "      <td>31-35</td>\n",
       "      <td>3.0</td>\n",
       "      <td>False</td>\n",
       "      <td>DETE</td>\n",
       "      <td>Experienced</td>\n",
       "      <td>33.0</td>\n",
       "    </tr>\n",
       "    <tr>\n",
       "      <th>3</th>\n",
       "      <td>10.0</td>\n",
       "      <td>Resignation-Other employer</td>\n",
       "      <td>2012.0</td>\n",
       "      <td>Teacher Aide</td>\n",
       "      <td>Permanent Part-time</td>\n",
       "      <td>Female</td>\n",
       "      <td>46-50</td>\n",
       "      <td>15.0</td>\n",
       "      <td>True</td>\n",
       "      <td>DETE</td>\n",
       "      <td>Veteran</td>\n",
       "      <td>48.0</td>\n",
       "    </tr>\n",
       "  </tbody>\n",
       "</table>\n",
       "</div>"
      ],
      "text/plain": [
       "     id              separationtype  cease_date          position  \\\n",
       "1   6.0   Resignation-Other reasons      2012.0  Guidance Officer   \n",
       "2   9.0   Resignation-Other reasons      2012.0           Teacher   \n",
       "3  10.0  Resignation-Other employer      2012.0      Teacher Aide   \n",
       "\n",
       "     employment_status  gender    age  institute_service dissatisfied  \\\n",
       "1  Permanent Full-time  Female  41-45               18.0         True   \n",
       "2  Permanent Full-time  Female  31-35                3.0        False   \n",
       "3  Permanent Part-time  Female  46-50               15.0         True   \n",
       "\n",
       "  institute  service_cat  new_age  \n",
       "1      DETE      Veteran     43.0  \n",
       "2      DETE  Experienced     33.0  \n",
       "3      DETE      Veteran     48.0  "
      ]
     },
     "execution_count": 89,
     "metadata": {},
     "output_type": "execute_result"
    }
   ],
   "source": [
    "combined_updated['new_age'] = combined_updated['age'].map(age_cleaner).astype('float').copy()\n",
    "combined_updated[1:4]"
   ]
  },
  {
   "cell_type": "markdown",
   "id": "75e917e9",
   "metadata": {},
   "source": [
    "## How many people in each age group resigned due to some kind of dissatisfaction?"
   ]
  },
  {
   "cell_type": "code",
   "execution_count": 90,
   "id": "b9a93f51",
   "metadata": {},
   "outputs": [],
   "source": [
    "dissatisfied_grouped = combined_updated.groupby('dissatisfied')\n",
    "employees_dissatisfied = dissatisfied_grouped.get_group(1) # 1 True / 0 False"
   ]
  },
  {
   "cell_type": "code",
   "execution_count": 91,
   "id": "06170ea0",
   "metadata": {},
   "outputs": [
    {
     "data": {
      "text/plain": [
       "array(['36-40', '41-45', '31-35', '46-50', '61 or older', '56-60',\n",
       "       '51-55', '21-25', '26-30', nan, '20 or younger', None],\n",
       "      dtype=object)"
      ]
     },
     "execution_count": 91,
     "metadata": {},
     "output_type": "execute_result"
    }
   ],
   "source": [
    "combined_updated['age'].unique() # these are the age groups."
   ]
  },
  {
   "cell_type": "markdown",
   "id": "e88fceca",
   "metadata": {},
   "source": [
    "\n",
    "Below I show the pairwise plot relationships of **all age groups** and added the `genre`, I found it interesting to plot this information.\n",
    "\n",
    "\n",
    "### `'61 or older'`"
   ]
  },
  {
   "cell_type": "code",
   "execution_count": 92,
   "id": "d93d3ab2",
   "metadata": {},
   "outputs": [],
   "source": [
    "age_dissatidfied = employees_dissatisfied.groupby('age')\n",
    "older_position =  age_dissatidfied.get_group('61 or older') "
   ]
  },
  {
   "cell_type": "code",
   "execution_count": 93,
   "id": "42b666c7",
   "metadata": {},
   "outputs": [
    {
     "data": {
      "text/plain": [
       "Resignation-Other reasons     91.666667\n",
       "Resignation-Other employer     8.333333\n",
       "Name: separationtype, dtype: float64"
      ]
     },
     "execution_count": 93,
     "metadata": {},
     "output_type": "execute_result"
    }
   ],
   "source": [
    "older_position['separationtype'].value_counts(normalize=True)*100"
   ]
  },
  {
   "cell_type": "code",
   "execution_count": 94,
   "id": "0ca1f4fb",
   "metadata": {},
   "outputs": [
    {
     "data": {
      "text/plain": [
       "DETE    100.0\n",
       "Name: institute, dtype: float64"
      ]
     },
     "execution_count": 94,
     "metadata": {},
     "output_type": "execute_result"
    }
   ],
   "source": [
    "older_position['institute'].value_counts(normalize=True)*100"
   ]
  },
  {
   "cell_type": "code",
   "execution_count": 95,
   "id": "d075c2ce",
   "metadata": {},
   "outputs": [
    {
     "data": {
      "text/plain": [
       "cease_date           2012.500000\n",
       "institute_service      23.818182\n",
       "dtype: float64"
      ]
     },
     "execution_count": 95,
     "metadata": {},
     "output_type": "execute_result"
    }
   ],
   "source": [
    "means = older_position.mean()[1:3] # id remove, id mean doesnt have sense.\n",
    "means"
   ]
  },
  {
   "cell_type": "markdown",
   "id": "881bb33b",
   "metadata": {},
   "source": [
    "|age_dissatidfied|Institute|separationtype||means values:||\n",
    "|--|:--|:--|--|:--|:--|\n",
    "|`'61 or older'`|DETE      |Resignation-Other reasons|11|cease_date| 2012.500000|\n",
    "|               |          |Resignation-Other employer|1|institute_service| 23.818182|\n",
    "|               |       |||||"
   ]
  },
  {
   "cell_type": "markdown",
   "id": "df038a92",
   "metadata": {},
   "source": [
    "#### Summary approach `'61 or older'`\n",
    "\n",
    "- The number of men and women disatisfied in this age group is very balanced.\n",
    "\n",
    "- Dates of cessation were similar between both genders. in 2012 and 2013 were two important moments in the cessations dates, surely by the retirements of the group, and it can be seen that they were quite balanced too.\n",
    "\n",
    "- Women have spent more time working at the institute than men.\n",
    "\n",
    "### `'56-60'`"
   ]
  },
  {
   "cell_type": "code",
   "execution_count": 96,
   "id": "eeb161c4",
   "metadata": {},
   "outputs": [],
   "source": [
    "age_dissatidfied = employees_dissatisfied.groupby('age')\n",
    "mid_fiftyes_position =  age_dissatidfied.get_group('56-60') "
   ]
  },
  {
   "cell_type": "code",
   "execution_count": 97,
   "id": "7e0dec54",
   "metadata": {},
   "outputs": [
    {
     "data": {
      "text/plain": [
       "Resignation-Other reasons               11\n",
       "Resignation                              6\n",
       "Resignation-Other employer               3\n",
       "Resignation-Move overseas/interstate     1\n",
       "Name: separationtype, dtype: int64"
      ]
     },
     "execution_count": 97,
     "metadata": {},
     "output_type": "execute_result"
    }
   ],
   "source": [
    "mid_fiftyes_position['separationtype'].value_counts()"
   ]
  },
  {
   "cell_type": "code",
   "execution_count": 98,
   "id": "c0fcad5d",
   "metadata": {},
   "outputs": [
    {
     "data": {
      "text/plain": [
       "DETE    15\n",
       "TAFE     6\n",
       "Name: institute, dtype: int64"
      ]
     },
     "execution_count": 98,
     "metadata": {},
     "output_type": "execute_result"
    }
   ],
   "source": [
    "mid_fiftyes_position['institute'].value_counts()"
   ]
  },
  {
   "cell_type": "code",
   "execution_count": 99,
   "id": "71cb84b8",
   "metadata": {},
   "outputs": [
    {
     "data": {
      "text/plain": [
       "cease_date           2012.428571\n",
       "institute_service      16.750000\n",
       "dtype: float64"
      ]
     },
     "execution_count": 99,
     "metadata": {},
     "output_type": "execute_result"
    }
   ],
   "source": [
    "means = mid_fiftyes_position.mean()[1:3] # id remove, id mean doesnt have sense.\n",
    "means"
   ]
  },
  {
   "cell_type": "markdown",
   "id": "a2990543",
   "metadata": {},
   "source": [
    "|age_dissatidfied|Institute|separationtype||means values:||\n",
    "|--|:--|:--|--|:--|:--|\n",
    "|`'56-60'`|DETE         |Resignation-Other reasons|11|cease_date| 2012.733333|\n",
    "|               |       |Resignation-Other employer|3|institute_service| 20.416667|\n",
    "|               |       |Resignation-Move overseas/interstate |1|||\n",
    "|               |       |||||"
   ]
  },
  {
   "cell_type": "markdown",
   "id": "fdc25431",
   "metadata": {},
   "source": [
    "#### Summary approach `'56-60'`\n",
    "\n",
    "- The number women is much higher than that of men in this group.\n",
    "\n",
    "- In mid-2012 the group of men who quit their work is wider than the group of women who do so in the next two years.\n",
    "\n",
    "- The largest number of years of service in the institute is still headed by the women's group.\n",
    "\n",
    "### `'51-55'`"
   ]
  },
  {
   "cell_type": "code",
   "execution_count": 100,
   "id": "77878df9",
   "metadata": {},
   "outputs": [],
   "source": [
    "age_dissatidfied = employees_dissatisfied.groupby('age')\n",
    "earlyes_fiftyes_position =  age_dissatidfied.get_group('51-55')"
   ]
  },
  {
   "cell_type": "code",
   "execution_count": 101,
   "id": "8ee23b1e",
   "metadata": {},
   "outputs": [
    {
     "data": {
      "text/plain": [
       "Resignation-Other reasons               13\n",
       "Resignation                             11\n",
       "Resignation-Other employer               3\n",
       "Resignation-Move overseas/interstate     3\n",
       "Name: separationtype, dtype: int64"
      ]
     },
     "execution_count": 101,
     "metadata": {},
     "output_type": "execute_result"
    }
   ],
   "source": [
    "earlyes_fiftyes_position['separationtype'].value_counts()"
   ]
  },
  {
   "cell_type": "code",
   "execution_count": 102,
   "id": "60a9b84e",
   "metadata": {},
   "outputs": [
    {
     "data": {
      "text/plain": [
       "DETE    19\n",
       "TAFE    11\n",
       "Name: institute, dtype: int64"
      ]
     },
     "execution_count": 102,
     "metadata": {},
     "output_type": "execute_result"
    }
   ],
   "source": [
    "earlyes_fiftyes_position['institute'].value_counts()"
   ]
  },
  {
   "cell_type": "markdown",
   "id": "c385a31c",
   "metadata": {},
   "source": [
    "#### DETE and TAFE"
   ]
  },
  {
   "cell_type": "markdown",
   "id": "1abbcdf8",
   "metadata": {},
   "source": [
    "#### DETE_stats"
   ]
  },
  {
   "cell_type": "code",
   "execution_count": 104,
   "id": "cf8b820e",
   "metadata": {},
   "outputs": [
    {
     "data": {
      "text/plain": [
       "Resignation-Other reasons               13\n",
       "Resignation-Other employer               3\n",
       "Resignation-Move overseas/interstate     3\n",
       "Name: separationtype, dtype: int64"
      ]
     },
     "execution_count": 104,
     "metadata": {},
     "output_type": "execute_result"
    }
   ],
   "source": [
    "DETE_earlyes_fift = earlyes_fiftyes_position.groupby('institute')\n",
    "DETE_earlyes_fiftyes = DETE_earlyes_fift.get_group('DETE')\n",
    "DETE_earlyes_fiftyes['separationtype'].value_counts()"
   ]
  },
  {
   "cell_type": "code",
   "execution_count": 105,
   "id": "e6664179",
   "metadata": {},
   "outputs": [
    {
     "data": {
      "text/plain": [
       "cease_date           2012.500000\n",
       "institute_service      16.833333\n",
       "dtype: float64"
      ]
     },
     "execution_count": 105,
     "metadata": {},
     "output_type": "execute_result"
    }
   ],
   "source": [
    "DETE_means = DETE_earlyes_fiftyes.mean()[1:3] # id remove, id mean doesnt have sense.\n",
    "DETE_means"
   ]
  },
  {
   "cell_type": "markdown",
   "id": "ad6c49de",
   "metadata": {},
   "source": [
    "#### TAFE_stats"
   ]
  },
  {
   "cell_type": "code",
   "execution_count": 106,
   "id": "304a44a9",
   "metadata": {},
   "outputs": [
    {
     "data": {
      "text/plain": [
       "Resignation    11\n",
       "Name: separationtype, dtype: int64"
      ]
     },
     "execution_count": 106,
     "metadata": {},
     "output_type": "execute_result"
    }
   ],
   "source": [
    "TAFE_earlyes_fift = earlyes_fiftyes_position.groupby('institute')\n",
    "TAFE_earlyes_fiftyes = TAFE_earlyes_fift.get_group('TAFE')\n",
    "TAFE_earlyes_fiftyes['separationtype'].value_counts()"
   ]
  },
  {
   "cell_type": "code",
   "execution_count": 107,
   "id": "0d221bee",
   "metadata": {},
   "outputs": [
    {
     "data": {
      "text/plain": [
       "cease_date           2011.363636\n",
       "institute_service      10.772727\n",
       "dtype: float64"
      ]
     },
     "execution_count": 107,
     "metadata": {},
     "output_type": "execute_result"
    }
   ],
   "source": [
    "TAFE_means = TAFE_earlyes_fiftyes.mean()[1:3] # id remove, id mean doesnt have sense.\n",
    "TAFE_means"
   ]
  },
  {
   "cell_type": "markdown",
   "id": "de5ce3a3",
   "metadata": {},
   "source": [
    "|age_dissatidfied|Institute|separationtype||means values:||\n",
    "|--|:--|:--|--|:--|:--|\n",
    "|`'51-55'`|**DETE**         |Resignation-Other reasons|13|cease_date| 2012.500000|\n",
    "|               |       |Resignation-Other employer|3|institute_service| 16.833333|\n",
    "|               |       |Resignation-Move overseas/interstate |3|||\n",
    "|               |       || |||\n",
    "|         |**TAFE**         |Resignation|11|cease_date| 2011.363636|\n",
    "|               |       |||institute_service| 10.772727|\n",
    "|               |       |||||"
   ]
  },
  {
   "cell_type": "markdown",
   "id": "999f2488",
   "metadata": {},
   "source": [
    "#### Summary approach `'51-55'`\n",
    "\n",
    "- The number women is much higher than that of men in this group.\n",
    "\n",
    "- In mid-2013 the group of women who quit their work is wider than the group of men.\n",
    "\n",
    "- the period of service that teachers spend working in the DETE is on average 6 years longer than in the TAFE\n",
    "\n",
    "- In the TAFE there have been 11 people who have left dissatisfied\n",
    "\n",
    "### `'46-50'`"
   ]
  },
  {
   "cell_type": "code",
   "execution_count": 108,
   "id": "48882859",
   "metadata": {},
   "outputs": [],
   "source": [
    "age_dissatidfied = employees_dissatisfied.groupby('age')\n",
    "mid_fortyes_position =  age_dissatidfied.get_group('46-50') "
   ]
  },
  {
   "cell_type": "code",
   "execution_count": 109,
   "id": "55a78d9a",
   "metadata": {},
   "outputs": [
    {
     "data": {
      "text/plain": [
       "Resignation                             12\n",
       "Resignation-Other reasons               10\n",
       "Resignation-Other employer               8\n",
       "Resignation-Move overseas/interstate     1\n",
       "Name: separationtype, dtype: int64"
      ]
     },
     "execution_count": 109,
     "metadata": {},
     "output_type": "execute_result"
    }
   ],
   "source": [
    "mid_fortyes_position['separationtype'].value_counts()"
   ]
  },
  {
   "cell_type": "code",
   "execution_count": 110,
   "id": "8f72910e",
   "metadata": {},
   "outputs": [
    {
     "data": {
      "text/plain": [
       "DETE    19\n",
       "TAFE    12\n",
       "Name: institute, dtype: int64"
      ]
     },
     "execution_count": 110,
     "metadata": {},
     "output_type": "execute_result"
    }
   ],
   "source": [
    "mid_fortyes_position['institute'].value_counts()"
   ]
  },
  {
   "cell_type": "code",
   "execution_count": 111,
   "id": "9dca3931",
   "metadata": {},
   "outputs": [
    {
     "data": {
      "text/plain": [
       "cease_date           2012.166667\n",
       "institute_service       9.689655\n",
       "dtype: float64"
      ]
     },
     "execution_count": 111,
     "metadata": {},
     "output_type": "execute_result"
    }
   ],
   "source": [
    "means = mid_fortyes_position.mean()[1:3] # id remove, id mean doesnt have sense.\n",
    "means"
   ]
  },
  {
   "cell_type": "markdown",
   "id": "b44cdd00",
   "metadata": {},
   "source": [
    "#### DETE and TAFE"
   ]
  },
  {
   "cell_type": "markdown",
   "id": "2bfb30a5",
   "metadata": {},
   "source": [
    "#### DETE_stats"
   ]
  },
  {
   "cell_type": "code",
   "execution_count": 114,
   "id": "1f5a6c22",
   "metadata": {},
   "outputs": [
    {
     "data": {
      "text/plain": [
       "Resignation-Other reasons               13\n",
       "Resignation-Other employer               3\n",
       "Resignation-Move overseas/interstate     3\n",
       "Name: separationtype, dtype: int64"
      ]
     },
     "execution_count": 114,
     "metadata": {},
     "output_type": "execute_result"
    }
   ],
   "source": [
    "DETE_earlyes_fift = earlyes_fiftyes_position.groupby('institute')\n",
    "DETE_earlyes_fiftyes = DETE_earlyes_fift.get_group('DETE')\n",
    "DETE_earlyes_fiftyes['separationtype'].value_counts()"
   ]
  },
  {
   "cell_type": "code",
   "execution_count": 115,
   "id": "e6b415e6",
   "metadata": {},
   "outputs": [
    {
     "data": {
      "text/plain": [
       "cease_date           2012.500000\n",
       "institute_service      16.833333\n",
       "dtype: float64"
      ]
     },
     "execution_count": 115,
     "metadata": {},
     "output_type": "execute_result"
    }
   ],
   "source": [
    "DETE_means = DETE_earlyes_fiftyes.mean()[1:3] # id remove, id mean doesnt have sense.\n",
    "DETE_means"
   ]
  },
  {
   "cell_type": "markdown",
   "id": "dde92de2",
   "metadata": {},
   "source": [
    "#### TAFE_stats"
   ]
  },
  {
   "cell_type": "code",
   "execution_count": 116,
   "id": "ac5664db",
   "metadata": {},
   "outputs": [
    {
     "data": {
      "text/plain": [
       "Resignation    11\n",
       "Name: separationtype, dtype: int64"
      ]
     },
     "execution_count": 116,
     "metadata": {},
     "output_type": "execute_result"
    }
   ],
   "source": [
    "TAFE_earlyes_fift = earlyes_fiftyes_position.groupby('institute')\n",
    "TAFE_earlyes_fiftyes = TAFE_earlyes_fift.get_group('TAFE')\n",
    "TAFE_earlyes_fiftyes['separationtype'].value_counts()"
   ]
  },
  {
   "cell_type": "code",
   "execution_count": 117,
   "id": "440840b6",
   "metadata": {},
   "outputs": [
    {
     "data": {
      "text/plain": [
       "cease_date           2011.363636\n",
       "institute_service      10.772727\n",
       "dtype: float64"
      ]
     },
     "execution_count": 117,
     "metadata": {},
     "output_type": "execute_result"
    }
   ],
   "source": [
    "TAFE_means = TAFE_earlyes_fiftyes.mean()[1:3] # id remove, id mean doesnt have sense.\n",
    "TAFE_means"
   ]
  },
  {
   "cell_type": "markdown",
   "id": "9c3f10a4",
   "metadata": {},
   "source": [
    "|age_dissatidfied|Institute|separationtype||means values:||\n",
    "|--|:--|:--|--|:--|:--|\n",
    "|`'46-50'`|DETE         |Resignation-Other reasons|13|cease_date| 2012.500000|\n",
    "|               |       |Resignation-Other employer|3|institute_service| 16.833333|\n",
    "|               |       |Resignation-Move overseas/interstate |3|||\n",
    "|               |       | ||||\n",
    "|         |TAFE         |Resignation|11|cease_date| 2011.363636|\n",
    "|               |       |||institute_service| 10.772727|\n",
    "|               |       |||||"
   ]
  },
  {
   "cell_type": "markdown",
   "id": "769d6dee",
   "metadata": {},
   "source": [
    "#### Summary approach `'46-50'`\n",
    "\n",
    "- The number women is much higher than that of men in this group.\n",
    "\n",
    "- In 2014 the group of women from DETE quit their work, in TAFE was in 2013.\n",
    "\n",
    "- The period of service that teachers spend working in the DETE is on average 16.8 years, in TAFE 10.7.\n",
    "\n",
    "- In the TAFE there have been 11 people who left the job dissatisfied. \n",
    "\n",
    "### `'41-45'`"
   ]
  },
  {
   "cell_type": "code",
   "execution_count": 118,
   "id": "913cce08",
   "metadata": {},
   "outputs": [],
   "source": [
    "age_dissatidfied = employees_dissatisfied.groupby('age')\n",
    "earlyes_fortyes_position =  age_dissatidfied.get_group('41-45') "
   ]
  },
  {
   "cell_type": "code",
   "execution_count": 119,
   "id": "a2a9bad0",
   "metadata": {},
   "outputs": [
    {
     "data": {
      "text/plain": [
       "Resignation-Other reasons               14\n",
       "Resignation                             12\n",
       "Resignation-Other employer               6\n",
       "Resignation-Move overseas/interstate     3\n",
       "Name: separationtype, dtype: int64"
      ]
     },
     "execution_count": 119,
     "metadata": {},
     "output_type": "execute_result"
    }
   ],
   "source": [
    "earlyes_fortyes_position['separationtype'].value_counts()"
   ]
  },
  {
   "cell_type": "code",
   "execution_count": 120,
   "id": "0e3c4031",
   "metadata": {},
   "outputs": [
    {
     "data": {
      "text/plain": [
       "DETE    23\n",
       "TAFE    12\n",
       "Name: institute, dtype: int64"
      ]
     },
     "execution_count": 120,
     "metadata": {},
     "output_type": "execute_result"
    }
   ],
   "source": [
    "earlyes_fortyes_position['institute'].value_counts()"
   ]
  },
  {
   "cell_type": "code",
   "execution_count": 121,
   "id": "3ba2676f",
   "metadata": {},
   "outputs": [
    {
     "data": {
      "text/plain": [
       "cease_date           2012.114286\n",
       "institute_service       8.885714\n",
       "dtype: float64"
      ]
     },
     "execution_count": 121,
     "metadata": {},
     "output_type": "execute_result"
    }
   ],
   "source": [
    "means = earlyes_fortyes_position.mean()[1:3] # id remove, id mean doesnt have sense.\n",
    "means"
   ]
  },
  {
   "cell_type": "markdown",
   "id": "0087c6ec",
   "metadata": {},
   "source": [
    "#### DETE and TAFE "
   ]
  },
  {
   "cell_type": "markdown",
   "id": "168ec7b0",
   "metadata": {},
   "source": [
    "|age_dissatidfied|Institute|separationtype||means values:||\n",
    "|--|:--|:--|--|:--|:--|\n",
    "|`'41-45'`|DETE         |Resignation-Other reasons|14|cease_date| 2012.521739|\n",
    "|               |       |Resignation-Other employer|6|institute_service| 11.826087|\n",
    "|               |       |Resignation-Move overseas/interstate |3|||\n",
    "|               |       |||||"
   ]
  },
  {
   "cell_type": "markdown",
   "id": "53bcd877",
   "metadata": {},
   "source": [
    "#### DETE_stats"
   ]
  },
  {
   "cell_type": "code",
   "execution_count": 124,
   "id": "20e05557",
   "metadata": {},
   "outputs": [
    {
     "data": {
      "text/plain": [
       "Resignation-Other reasons               14\n",
       "Resignation-Other employer               6\n",
       "Resignation-Move overseas/interstate     3\n",
       "Name: separationtype, dtype: int64"
      ]
     },
     "execution_count": 124,
     "metadata": {},
     "output_type": "execute_result"
    }
   ],
   "source": [
    "DETE_earlyes_fort = earlyes_fortyes_position.groupby('institute')\n",
    "DETE_earlyes_fortyes = DETE_earlyes_fort.get_group('DETE')\n",
    "DETE_earlyes_fortyes['separationtype'].value_counts()"
   ]
  },
  {
   "cell_type": "code",
   "execution_count": 125,
   "id": "21842a1b",
   "metadata": {},
   "outputs": [
    {
     "data": {
      "text/plain": [
       "cease_date           2012.114286\n",
       "institute_service       8.885714\n",
       "dtype: float64"
      ]
     },
     "execution_count": 125,
     "metadata": {},
     "output_type": "execute_result"
    }
   ],
   "source": [
    "means = earlyes_fortyes_position.mean()[1:3] # id remove, id mean doesnt have sense.\n",
    "means"
   ]
  },
  {
   "cell_type": "markdown",
   "id": "70350a15",
   "metadata": {},
   "source": [
    "#### TAFE_stats"
   ]
  },
  {
   "cell_type": "code",
   "execution_count": 126,
   "id": "7ca9af3a",
   "metadata": {},
   "outputs": [
    {
     "data": {
      "text/plain": [
       "Resignation    12\n",
       "Name: separationtype, dtype: int64"
      ]
     },
     "execution_count": 126,
     "metadata": {},
     "output_type": "execute_result"
    }
   ],
   "source": [
    "TAFE_earlyes_fort = earlyes_fortyes_position.groupby('institute')\n",
    "TAFE_earlyes_fortyes = DETE_earlyes_fort.get_group('TAFE')\n",
    "TAFE_earlyes_fortyes['separationtype'].value_counts()"
   ]
  },
  {
   "cell_type": "code",
   "execution_count": 127,
   "id": "1cb98ca0",
   "metadata": {},
   "outputs": [
    {
     "data": {
      "text/plain": [
       "cease_date           2011.333333\n",
       "institute_service       3.250000\n",
       "dtype: float64"
      ]
     },
     "execution_count": 127,
     "metadata": {},
     "output_type": "execute_result"
    }
   ],
   "source": [
    "TAFE_means = TAFE_earlyes_fortyes.mean()[1:3] # id remove, id mean doesnt have sense.\n",
    "TAFE_means"
   ]
  },
  {
   "cell_type": "markdown",
   "id": "d4094988",
   "metadata": {},
   "source": [
    "|age_dissatidfied|Institute|separationtype||means values:||\n",
    "|--|:--|:--|--|:--|:--|\n",
    "|`'41-45'`|DETE         |Resignation-Other reasons|14|cease_date| 2012.521739|\n",
    "|               |       |Resignation-Other employer|6|institute_service| 11.826087|\n",
    "|               |       |Resignation-Move overseas/interstate |3|||\n",
    "|               |       | ||||\n",
    "|         |TAFE         |Resignation|12|cease_date| 2011.333333|\n",
    "|               |       |||institute_service| 3.250000|\n",
    "|               |       |||||"
   ]
  },
  {
   "cell_type": "markdown",
   "id": "f3ab6a6b",
   "metadata": {},
   "source": [
    "#### Summary approach `'41-45'`\n",
    "\n",
    "- The number of women is higher than men in this group.\n",
    "\n",
    "- In 2014 the group of women finish their service later than men.\n",
    "\n",
    "- in tafe people finish their service earlier than in DETE.\n",
    "\n",
    "### `'36-40'`"
   ]
  },
  {
   "cell_type": "code",
   "execution_count": 128,
   "id": "6bfdf0c0",
   "metadata": {},
   "outputs": [],
   "source": [
    "age_dissatidfied = employees_dissatisfied.groupby('age')\n",
    "mid_tirtyes_position =  age_dissatidfied.get_group('36-40') "
   ]
  },
  {
   "cell_type": "code",
   "execution_count": 129,
   "id": "f7df5680",
   "metadata": {},
   "outputs": [
    {
     "data": {
      "text/plain": [
       "Resignation-Other reasons               10\n",
       "Resignation-Other employer               4\n",
       "Resignation-Move overseas/interstate     2\n",
       "Name: separationtype, dtype: int64"
      ]
     },
     "execution_count": 129,
     "metadata": {},
     "output_type": "execute_result"
    }
   ],
   "source": [
    "mid_tirtyes_position['separationtype'].value_counts()"
   ]
  },
  {
   "cell_type": "code",
   "execution_count": 130,
   "id": "54441138",
   "metadata": {},
   "outputs": [
    {
     "data": {
      "text/plain": [
       "DETE    16\n",
       "Name: institute, dtype: int64"
      ]
     },
     "execution_count": 130,
     "metadata": {},
     "output_type": "execute_result"
    }
   ],
   "source": [
    "mid_tirtyes_position['institute'].value_counts()"
   ]
  },
  {
   "cell_type": "code",
   "execution_count": 131,
   "id": "7b97dbf6",
   "metadata": {},
   "outputs": [
    {
     "data": {
      "text/plain": [
       "cease_date           2012.5625\n",
       "institute_service       6.4000\n",
       "dtype: float64"
      ]
     },
     "execution_count": 131,
     "metadata": {},
     "output_type": "execute_result"
    }
   ],
   "source": [
    "means = mid_tirtyes_position.mean()[1:3] # id remove, id mean doesnt have sense.\n",
    "means"
   ]
  },
  {
   "cell_type": "markdown",
   "id": "96147cb8",
   "metadata": {},
   "source": [
    "|age_dissatidfied|Institute|separationtype||means values:||\n",
    "|--|:--|:--|--|:--|:--|\n",
    "|`'41-45'`|DETE         |Resignation-Other reasons|10|cease_date| 2012.5625|\n",
    "|               |       |Resignation-Other employer|4|institute_service| 6.4000|\n",
    "|               |       |Resignation-Move overseas/interstate |2|||\n",
    "|               |       |||||"
   ]
  },
  {
   "cell_type": "markdown",
   "id": "de8dfcf0",
   "metadata": {},
   "source": [
    "#### Summary approach `'36-40\n",
    "\n",
    "- The number of women is higher than men in this group.\n",
    "\n",
    "- In 2014 the group of women finish their service later than men.\n",
    "\n",
    "- Srvice time in the institute is longer in women.\n",
    "\n",
    "\n",
    "### `'31-35'`"
   ]
  },
  {
   "cell_type": "code",
   "execution_count": 133,
   "id": "7c0b204e",
   "metadata": {},
   "outputs": [],
   "source": [
    "age_dissatidfied = employees_dissatisfied.groupby('age')\n",
    "early_tirtyes_position =  age_dissatidfied.get_group('31-35') "
   ]
  },
  {
   "cell_type": "code",
   "execution_count": 134,
   "id": "5f0f8102",
   "metadata": {},
   "outputs": [
    {
     "data": {
      "text/plain": [
       "Resignation-Other employer              7\n",
       "Resignation-Other reasons               7\n",
       "Resignation                             7\n",
       "Resignation-Move overseas/interstate    2\n",
       "Name: separationtype, dtype: int64"
      ]
     },
     "execution_count": 134,
     "metadata": {},
     "output_type": "execute_result"
    }
   ],
   "source": [
    "early_tirtyes_position['separationtype'].value_counts()"
   ]
  },
  {
   "cell_type": "code",
   "execution_count": 135,
   "id": "243a6714",
   "metadata": {},
   "outputs": [
    {
     "data": {
      "text/plain": [
       "DETE    16\n",
       "TAFE     7\n",
       "Name: institute, dtype: int64"
      ]
     },
     "execution_count": 135,
     "metadata": {},
     "output_type": "execute_result"
    }
   ],
   "source": [
    "early_tirtyes_position['institute'].value_counts()"
   ]
  },
  {
   "cell_type": "code",
   "execution_count": 136,
   "id": "1a3748f6",
   "metadata": {},
   "outputs": [
    {
     "data": {
      "text/plain": [
       "cease_date           2012.130435\n",
       "institute_service       5.760870\n",
       "dtype: float64"
      ]
     },
     "execution_count": 136,
     "metadata": {},
     "output_type": "execute_result"
    }
   ],
   "source": [
    "means = early_tirtyes_position.mean()[1:3] # id remove, id mean doesnt have sense.\n",
    "means"
   ]
  },
  {
   "cell_type": "markdown",
   "id": "797d9cec",
   "metadata": {},
   "source": [
    "#### DETE and TAFE"
   ]
  },
  {
   "cell_type": "markdown",
   "id": "f948ff12",
   "metadata": {},
   "source": [
    "#### DETE_stats"
   ]
  },
  {
   "cell_type": "code",
   "execution_count": 139,
   "id": "ff5d98a2",
   "metadata": {},
   "outputs": [
    {
     "data": {
      "text/plain": [
       "Resignation-Other employer              7\n",
       "Resignation-Other reasons               7\n",
       "Resignation-Move overseas/interstate    2\n",
       "Name: separationtype, dtype: int64"
      ]
     },
     "execution_count": 139,
     "metadata": {},
     "output_type": "execute_result"
    }
   ],
   "source": [
    "DETE_earlyes_tirt = early_tirtyes_position.groupby('institute')\n",
    "DETE_earlyes_tirtyes = DETE_earlyes_tirt.get_group('DETE')\n",
    "DETE_earlyes_tirtyes['separationtype'].value_counts()"
   ]
  },
  {
   "cell_type": "code",
   "execution_count": 140,
   "id": "ed2a3a18",
   "metadata": {},
   "outputs": [
    {
     "data": {
      "text/plain": [
       "cease_date           2012.130435\n",
       "institute_service       5.760870\n",
       "dtype: float64"
      ]
     },
     "execution_count": 140,
     "metadata": {},
     "output_type": "execute_result"
    }
   ],
   "source": [
    "means = early_tirtyes_position.mean()[1:3] # id remove, id mean doesnt have sense.\n",
    "means"
   ]
  },
  {
   "cell_type": "markdown",
   "id": "c32e6a50",
   "metadata": {},
   "source": [
    "#### TAFE_stats"
   ]
  },
  {
   "cell_type": "code",
   "execution_count": 141,
   "id": "466321b4",
   "metadata": {},
   "outputs": [
    {
     "data": {
      "text/plain": [
       "Resignation    12\n",
       "Name: separationtype, dtype: int64"
      ]
     },
     "execution_count": 141,
     "metadata": {},
     "output_type": "execute_result"
    }
   ],
   "source": [
    "TAFE_earlyes_tirt = early_tirtyes_position.groupby('institute')\n",
    "TAFE_earlyes_tirtyes = DETE_earlyes_fort.get_group('TAFE')\n",
    "TAFE_earlyes_tirtyes['separationtype'].value_counts()"
   ]
  },
  {
   "cell_type": "code",
   "execution_count": 142,
   "id": "131fb4a0",
   "metadata": {},
   "outputs": [
    {
     "data": {
      "text/plain": [
       "cease_date           2011.333333\n",
       "institute_service       3.250000\n",
       "dtype: float64"
      ]
     },
     "execution_count": 142,
     "metadata": {},
     "output_type": "execute_result"
    }
   ],
   "source": [
    "TAFE_means = TAFE_earlyes_tirtyes.mean()[1:3] # id remove, id mean doesnt have sense.\n",
    "TAFE_means"
   ]
  },
  {
   "cell_type": "markdown",
   "id": "8f5fe827",
   "metadata": {},
   "source": [
    "|age_dissatidfied|Institute|separationtype||means values:||\n",
    "|--|:--|:--|--|:--|:--|\n",
    "|`'31-35'`|DETE         |Resignation-Other reasons|7|cease_date| 2012.130435|\n",
    "|               |       |Resignation-Other employer|7|institute_service| 5.760870|\n",
    "|               |       |Resignation-Move overseas/interstate |2|||\n",
    "|               |       | ||||\n",
    "|         |TAFE         |Resignation|12|cease_date| 2011.333333|\n",
    "|               |       |||institute_service| 3.250000|\n",
    "|               |       |||||"
   ]
  },
  {
   "cell_type": "markdown",
   "id": "0760caf0",
   "metadata": {},
   "source": [
    "#### Summary approach `'31-35'`\n",
    "\n",
    "- The number of women is higher than men in this group.\n",
    "\n",
    "- In 2014 the group of women finish their service later than men.\n",
    "\n",
    "- TAFE people finish their service earlier than in DETE.\n",
    "\n",
    "- People spend more years working at DETE\n",
    "\n",
    "### `'26-30'`"
   ]
  },
  {
   "cell_type": "code",
   "execution_count": 143,
   "id": "6fe44ec8",
   "metadata": {},
   "outputs": [],
   "source": [
    "age_dissatidfied = employees_dissatisfied.groupby('age')\n",
    "mid_tweties_position =  age_dissatidfied.get_group('26-30') "
   ]
  },
  {
   "cell_type": "code",
   "execution_count": 144,
   "id": "384753ff",
   "metadata": {},
   "outputs": [
    {
     "data": {
      "text/plain": [
       "Resignation-Other reasons               9\n",
       "Resignation-Other employer              8\n",
       "Resignation                             8\n",
       "Resignation-Move overseas/interstate    3\n",
       "Name: separationtype, dtype: int64"
      ]
     },
     "execution_count": 144,
     "metadata": {},
     "output_type": "execute_result"
    }
   ],
   "source": [
    "mid_tweties_position['separationtype'].value_counts()"
   ]
  },
  {
   "cell_type": "code",
   "execution_count": 145,
   "id": "74e30af7",
   "metadata": {},
   "outputs": [
    {
     "data": {
      "text/plain": [
       "DETE    20\n",
       "TAFE     8\n",
       "Name: institute, dtype: int64"
      ]
     },
     "execution_count": 145,
     "metadata": {},
     "output_type": "execute_result"
    }
   ],
   "source": [
    "mid_tweties_position['institute'].value_counts()"
   ]
  },
  {
   "cell_type": "markdown",
   "id": "671f4f6f",
   "metadata": {},
   "source": [
    "#### DETE_stats"
   ]
  },
  {
   "cell_type": "code",
   "execution_count": 147,
   "id": "233537fe",
   "metadata": {},
   "outputs": [
    {
     "data": {
      "text/plain": [
       "Resignation-Other employer              7\n",
       "Resignation-Other reasons               7\n",
       "Resignation-Move overseas/interstate    2\n",
       "Name: separationtype, dtype: int64"
      ]
     },
     "execution_count": 147,
     "metadata": {},
     "output_type": "execute_result"
    }
   ],
   "source": [
    "DETE_earlyes_tirt = early_tirtyes_position.groupby('institute')\n",
    "DETE_earlyes_tirtyes = DETE_earlyes_tirt.get_group('DETE')\n",
    "DETE_earlyes_tirtyes['separationtype'].value_counts()"
   ]
  },
  {
   "cell_type": "code",
   "execution_count": 148,
   "id": "33c36270",
   "metadata": {},
   "outputs": [
    {
     "data": {
      "text/plain": [
       "cease_date           2012.130435\n",
       "institute_service       5.760870\n",
       "dtype: float64"
      ]
     },
     "execution_count": 148,
     "metadata": {},
     "output_type": "execute_result"
    }
   ],
   "source": [
    "means = early_tirtyes_position.mean()[1:3] # id remove, id mean doesnt have sense.\n",
    "means"
   ]
  },
  {
   "cell_type": "markdown",
   "id": "a35d0a18",
   "metadata": {},
   "source": [
    "#### TAFE_stats"
   ]
  },
  {
   "cell_type": "code",
   "execution_count": 149,
   "id": "d424c4eb",
   "metadata": {},
   "outputs": [
    {
     "data": {
      "text/plain": [
       "Resignation    12\n",
       "Name: separationtype, dtype: int64"
      ]
     },
     "execution_count": 149,
     "metadata": {},
     "output_type": "execute_result"
    }
   ],
   "source": [
    "TAFE_earlyes_tirt = early_tirtyes_position.groupby('institute')\n",
    "TAFE_earlyes_tirtyes = DETE_earlyes_fort.get_group('TAFE')\n",
    "TAFE_earlyes_tirtyes['separationtype'].value_counts()"
   ]
  },
  {
   "cell_type": "code",
   "execution_count": 150,
   "id": "2cddb64a",
   "metadata": {},
   "outputs": [
    {
     "data": {
      "text/plain": [
       "cease_date           2011.333333\n",
       "institute_service       3.250000\n",
       "dtype: float64"
      ]
     },
     "execution_count": 150,
     "metadata": {},
     "output_type": "execute_result"
    }
   ],
   "source": [
    "TAFE_means = TAFE_earlyes_tirtyes.mean()[1:3] # id remove, id mean doesnt have sense.\n",
    "TAFE_means"
   ]
  },
  {
   "cell_type": "markdown",
   "id": "27112b5b",
   "metadata": {},
   "source": [
    "|age_dissatidfied|Institute|separationtype||means values:||\n",
    "|--|:--|:--|--|:--|:--|\n",
    "|`'26-30'`|DETE         |Resignation-Other reasons|7|cease_date| 2012.130435|\n",
    "|               |       |Resignation-Other employer|7|institute_service| 5.760870|\n",
    "|               |       |Resignation-Move overseas/interstate |2|||\n",
    "|               |       | ||||\n",
    "|         |TAFE         |Resignation|12|cease_date| 2011.333333|\n",
    "|               |       |||institute_service| 3.250000|\n",
    "|               |       |||||"
   ]
  },
  {
   "cell_type": "markdown",
   "id": "c6838547",
   "metadata": {},
   "source": [
    "#### Summary approach `'26-30'`\n",
    "\n",
    "- The number of women is higher than men in this group.\n",
    "\n",
    "- In 2014 the group of women finish their service later than men.\n",
    "\n",
    "- TAFE people finish their service earlier than in DETE.\n",
    "\n",
    "- People spend more years working at DETE\n",
    "\n",
    "### `'21-25'`"
   ]
  },
  {
   "cell_type": "code",
   "execution_count": 151,
   "id": "d46dcc19",
   "metadata": {},
   "outputs": [],
   "source": [
    "age_dissatidfied = employees_dissatisfied.groupby('age')\n",
    "early_tweties_position =  age_dissatidfied.get_group('21-25') "
   ]
  },
  {
   "cell_type": "code",
   "execution_count": 152,
   "id": "35f3a308",
   "metadata": {},
   "outputs": [
    {
     "data": {
      "text/plain": [
       "Resignation                             10\n",
       "Resignation-Move overseas/interstate     4\n",
       "Resignation-Other reasons                4\n",
       "Resignation-Other employer               1\n",
       "Name: separationtype, dtype: int64"
      ]
     },
     "execution_count": 152,
     "metadata": {},
     "output_type": "execute_result"
    }
   ],
   "source": [
    "early_tweties_position['separationtype'].value_counts()"
   ]
  },
  {
   "cell_type": "code",
   "execution_count": 153,
   "id": "17458b03",
   "metadata": {},
   "outputs": [
    {
     "data": {
      "text/plain": [
       "TAFE    10\n",
       "DETE     9\n",
       "Name: institute, dtype: int64"
      ]
     },
     "execution_count": 153,
     "metadata": {},
     "output_type": "execute_result"
    }
   ],
   "source": [
    "early_tweties_position['institute'].value_counts()"
   ]
  },
  {
   "cell_type": "markdown",
   "id": "8c1bd8dc",
   "metadata": {},
   "source": [
    "#### DETE_stats"
   ]
  },
  {
   "cell_type": "code",
   "execution_count": 155,
   "id": "e336a639",
   "metadata": {},
   "outputs": [
    {
     "data": {
      "text/plain": [
       "Resignation-Move overseas/interstate    4\n",
       "Resignation-Other reasons               4\n",
       "Resignation-Other employer              1\n",
       "Name: separationtype, dtype: int64"
      ]
     },
     "execution_count": 155,
     "metadata": {},
     "output_type": "execute_result"
    }
   ],
   "source": [
    "DETE_earlyes_twet = early_tweties_position.groupby('institute')\n",
    "DETE_earlyes_tweties = DETE_earlyes_twet.get_group('DETE')\n",
    "DETE_earlyes_tweties['separationtype'].value_counts()"
   ]
  },
  {
   "cell_type": "code",
   "execution_count": 156,
   "id": "7d224f40",
   "metadata": {},
   "outputs": [
    {
     "data": {
      "text/plain": [
       "cease_date           2012.750000\n",
       "institute_service       1.571429\n",
       "dtype: float64"
      ]
     },
     "execution_count": 156,
     "metadata": {},
     "output_type": "execute_result"
    }
   ],
   "source": [
    "DETE_means = DETE_earlyes_tweties.mean()[1:3] # id remove, id mean doesnt have sense.\n",
    "DETE_means"
   ]
  },
  {
   "cell_type": "markdown",
   "id": "9743f854",
   "metadata": {},
   "source": [
    "#### TAFE_stats"
   ]
  },
  {
   "cell_type": "code",
   "execution_count": 157,
   "id": "ac22e1b3",
   "metadata": {},
   "outputs": [
    {
     "data": {
      "text/plain": [
       "Resignation    10\n",
       "Name: separationtype, dtype: int64"
      ]
     },
     "execution_count": 157,
     "metadata": {},
     "output_type": "execute_result"
    }
   ],
   "source": [
    "TAFE_earlyes_twet = early_tweties_position.groupby('institute')\n",
    "TAFE_earlyes_tweties = TAFE_earlyes_twet.get_group('TAFE')\n",
    "TAFE_earlyes_tweties['separationtype'].value_counts()"
   ]
  },
  {
   "cell_type": "code",
   "execution_count": 158,
   "id": "0f81125a",
   "metadata": {},
   "outputs": [
    {
     "data": {
      "text/plain": [
       "cease_date           2011.2\n",
       "institute_service       2.1\n",
       "dtype: float64"
      ]
     },
     "execution_count": 158,
     "metadata": {},
     "output_type": "execute_result"
    }
   ],
   "source": [
    "TAFE_means = TAFE_earlyes_tweties.mean()[1:3] # id remove, id mean doesnt have sense.\n",
    "TAFE_means"
   ]
  },
  {
   "cell_type": "markdown",
   "id": "44e6095c",
   "metadata": {},
   "source": [
    "|age_dissatidfied|Institute|separationtype||means values:||\n",
    "|--|:--|:--|--|:--|:--|\n",
    "|`'21-25'`|DETE         |Resignation-Other reasons|4|cease_date| 2012.750000|\n",
    "|               |       |Resignation-Other employer|1|institute_service| 1.571429|\n",
    "|               |       |Resignation-Move overseas/interstate |4|||\n",
    "|               |       | ||||\n",
    "|         |TAFE         |Resignation|10|cease_date| 2011.2|\n",
    "|               |       |||institute_service| 2.1|\n",
    "|               |       |||||"
   ]
  },
  {
   "cell_type": "markdown",
   "id": "07edf9e8",
   "metadata": {},
   "source": [
    "#### Summary approach `'21-25'`\n",
    "\n",
    "- The number of women is higher than men in this group.\n",
    "\n",
    "- In 2014 the group of women finish their service later than men.\n",
    "\n",
    "- TAFE people finish their service earlier than in DETE.\n",
    "\n",
    "- People spend more years working at DETE\n",
    "\n",
    "\n",
    "### `'20 or younger'`"
   ]
  },
  {
   "cell_type": "code",
   "execution_count": 159,
   "id": "ef2bea11",
   "metadata": {},
   "outputs": [],
   "source": [
    "age_dissatidfied = employees_dissatisfied.groupby('age')\n",
    "younger_position =  age_dissatidfied.get_group('20 or younger') "
   ]
  },
  {
   "cell_type": "code",
   "execution_count": 160,
   "id": "40929365",
   "metadata": {},
   "outputs": [
    {
     "data": {
      "text/plain": [
       "Resignation    2\n",
       "Name: separationtype, dtype: int64"
      ]
     },
     "execution_count": 160,
     "metadata": {},
     "output_type": "execute_result"
    }
   ],
   "source": [
    "younger_position['separationtype'].value_counts()"
   ]
  },
  {
   "cell_type": "code",
   "execution_count": 161,
   "id": "9d47df52",
   "metadata": {},
   "outputs": [
    {
     "data": {
      "text/plain": [
       "TAFE    2\n",
       "Name: institute, dtype: int64"
      ]
     },
     "execution_count": 161,
     "metadata": {},
     "output_type": "execute_result"
    }
   ],
   "source": [
    "younger_position['institute'].value_counts()"
   ]
  },
  {
   "cell_type": "code",
   "execution_count": 162,
   "id": "27df1b74",
   "metadata": {},
   "outputs": [
    {
     "data": {
      "text/plain": [
       "cease_date           2011.0\n",
       "institute_service       2.0\n",
       "dtype: float64"
      ]
     },
     "execution_count": 162,
     "metadata": {},
     "output_type": "execute_result"
    }
   ],
   "source": [
    "means = younger_position.mean()[1:3] # id remove, id mean doesnt have sense.\n",
    "means"
   ]
  },
  {
   "cell_type": "markdown",
   "id": "5564bbdb",
   "metadata": {},
   "source": [
    "### "
   ]
  },
  {
   "cell_type": "markdown",
   "id": "17b8065a",
   "metadata": {},
   "source": [
    "|age_dissatidfied|Institute|separationtype||means values:||\n",
    "|--|:--|:--|--|:--|:--|\n",
    "|`'21-25'`|TAFE         |Resignation |2|cease_date| 2011.0|\n",
    "|               |       |||institute_service| 2|\n",
    "|               |       | ||||"
   ]
  },
  {
   "cell_type": "markdown",
   "id": "a5ddb696",
   "metadata": {},
   "source": [
    "Instead of analyzing the survey results together, analyze each survey separately. \n",
    "\n",
    "## Did more employees in the DETE survey or TAFE survey end their employment because they were dissatisfied in some way?"
   ]
  },
  {
   "cell_type": "markdown",
   "id": "4b6916cf",
   "metadata": {},
   "source": [
    "### Result in DETE employees dissatisfied:"
   ]
  },
  {
   "cell_type": "code",
   "execution_count": 163,
   "id": "e2321a85",
   "metadata": {},
   "outputs": [
    {
     "data": {
      "text/plain": [
       "149"
      ]
     },
     "execution_count": 163,
     "metadata": {},
     "output_type": "execute_result"
    }
   ],
   "source": [
    "institute_dissatisfaied = employees_dissatisfied.groupby('institute')\n",
    "dete_dissatisfaied = institute_dissatisfaied.get_group('DETE')\n",
    "dete_dissatisfaied['separationtype'].value_counts().sum()"
   ]
  },
  {
   "cell_type": "code",
   "execution_count": 164,
   "id": "08f5f0fd",
   "metadata": {},
   "outputs": [
    {
     "data": {
      "text/plain": [
       "Resignation-Other reasons               89\n",
       "Resignation-Other employer              41\n",
       "Resignation-Move overseas/interstate    19\n",
       "Name: separationtype, dtype: int64"
      ]
     },
     "execution_count": 164,
     "metadata": {},
     "output_type": "execute_result"
    }
   ],
   "source": [
    "dete_dissatisfaied['separationtype'].value_counts()"
   ]
  },
  {
   "cell_type": "code",
   "execution_count": 165,
   "id": "6f2d204b",
   "metadata": {},
   "outputs": [
    {
     "data": {
      "text/plain": [
       "Resignation-Other reasons               89\n",
       "Resignation-Other employer              41\n",
       "Resignation-Move overseas/interstate    19\n",
       "Name: separationtype, dtype: int64"
      ]
     },
     "execution_count": 165,
     "metadata": {},
     "output_type": "execute_result"
    }
   ],
   "source": [
    "dete_dissatisfaied['separationtype'].value_counts()"
   ]
  },
  {
   "cell_type": "markdown",
   "id": "aaeca48f",
   "metadata": {},
   "source": [
    "### Result in TAFE employees dissatisfied:"
   ]
  },
  {
   "cell_type": "code",
   "execution_count": 166,
   "id": "e714efe0",
   "metadata": {},
   "outputs": [
    {
     "data": {
      "text/plain": [
       "91"
      ]
     },
     "execution_count": 166,
     "metadata": {},
     "output_type": "execute_result"
    }
   ],
   "source": [
    "institute_dissatisfaied = employees_dissatisfied.groupby('institute')\n",
    "tafe_dissatisfaied = institute_dissatisfaied.get_group('TAFE')\n",
    "tafe_dissatisfaied['separationtype'].value_counts().sum()"
   ]
  },
  {
   "cell_type": "code",
   "execution_count": 167,
   "id": "fccc1b6e",
   "metadata": {},
   "outputs": [
    {
     "data": {
      "text/plain": [
       "Resignation    91\n",
       "Name: separationtype, dtype: int64"
      ]
     },
     "execution_count": 167,
     "metadata": {},
     "output_type": "execute_result"
    }
   ],
   "source": [
    "tafe_dissatisfaied['separationtype'].value_counts()"
   ]
  },
  {
   "cell_type": "code",
   "execution_count": 168,
   "id": "0081f5df",
   "metadata": {},
   "outputs": [
    {
     "data": {
      "text/plain": [
       "91"
      ]
     },
     "execution_count": 168,
     "metadata": {},
     "output_type": "execute_result"
    }
   ],
   "source": [
    "tafe_dissatisfaied['separationtype'].str.count(pat='Resignation').sum()\n"
   ]
  },
  {
   "cell_type": "code",
   "execution_count": 169,
   "id": "e5b59cc1",
   "metadata": {},
   "outputs": [
    {
     "data": {
      "text/html": [
       "<div>\n",
       "<style scoped>\n",
       "    .dataframe tbody tr th:only-of-type {\n",
       "        vertical-align: middle;\n",
       "    }\n",
       "\n",
       "    .dataframe tbody tr th {\n",
       "        vertical-align: top;\n",
       "    }\n",
       "\n",
       "    .dataframe thead th {\n",
       "        text-align: right;\n",
       "    }\n",
       "</style>\n",
       "<table border=\"1\" class=\"dataframe\">\n",
       "  <thead>\n",
       "    <tr style=\"text-align: right;\">\n",
       "      <th></th>\n",
       "      <th>id</th>\n",
       "      <th>cease_date</th>\n",
       "      <th>institute_service</th>\n",
       "      <th>new_age</th>\n",
       "    </tr>\n",
       "  </thead>\n",
       "  <tbody>\n",
       "    <tr>\n",
       "      <th>id</th>\n",
       "      <td>1.000000</td>\n",
       "      <td>0.804035</td>\n",
       "      <td>-0.021845</td>\n",
       "      <td>-0.058839</td>\n",
       "    </tr>\n",
       "    <tr>\n",
       "      <th>cease_date</th>\n",
       "      <td>0.804035</td>\n",
       "      <td>1.000000</td>\n",
       "      <td>0.027351</td>\n",
       "      <td>-0.108293</td>\n",
       "    </tr>\n",
       "    <tr>\n",
       "      <th>institute_service</th>\n",
       "      <td>-0.021845</td>\n",
       "      <td>0.027351</td>\n",
       "      <td>1.000000</td>\n",
       "      <td>0.597701</td>\n",
       "    </tr>\n",
       "    <tr>\n",
       "      <th>new_age</th>\n",
       "      <td>-0.058839</td>\n",
       "      <td>-0.108293</td>\n",
       "      <td>0.597701</td>\n",
       "      <td>1.000000</td>\n",
       "    </tr>\n",
       "  </tbody>\n",
       "</table>\n",
       "</div>"
      ],
      "text/plain": [
       "                         id  cease_date  institute_service   new_age\n",
       "id                 1.000000    0.804035          -0.021845 -0.058839\n",
       "cease_date         0.804035    1.000000           0.027351 -0.108293\n",
       "institute_service -0.021845    0.027351           1.000000  0.597701\n",
       "new_age           -0.058839   -0.108293           0.597701  1.000000"
      ]
     },
     "execution_count": 169,
     "metadata": {},
     "output_type": "execute_result"
    }
   ],
   "source": [
    "dete_dissatisfaied.corr()"
   ]
  },
  {
   "cell_type": "code",
   "execution_count": 170,
   "id": "d5e1f1bc",
   "metadata": {},
   "outputs": [
    {
     "data": {
      "text/html": [
       "<div>\n",
       "<style scoped>\n",
       "    .dataframe tbody tr th:only-of-type {\n",
       "        vertical-align: middle;\n",
       "    }\n",
       "\n",
       "    .dataframe tbody tr th {\n",
       "        vertical-align: top;\n",
       "    }\n",
       "\n",
       "    .dataframe thead th {\n",
       "        text-align: right;\n",
       "    }\n",
       "</style>\n",
       "<table border=\"1\" class=\"dataframe\">\n",
       "  <thead>\n",
       "    <tr style=\"text-align: right;\">\n",
       "      <th></th>\n",
       "      <th>id</th>\n",
       "      <th>cease_date</th>\n",
       "      <th>institute_service</th>\n",
       "      <th>new_age</th>\n",
       "    </tr>\n",
       "  </thead>\n",
       "  <tbody>\n",
       "    <tr>\n",
       "      <th>id</th>\n",
       "      <td>1.000000</td>\n",
       "      <td>0.804035</td>\n",
       "      <td>-0.021845</td>\n",
       "      <td>-0.058839</td>\n",
       "    </tr>\n",
       "    <tr>\n",
       "      <th>cease_date</th>\n",
       "      <td>0.804035</td>\n",
       "      <td>1.000000</td>\n",
       "      <td>0.027351</td>\n",
       "      <td>-0.108293</td>\n",
       "    </tr>\n",
       "    <tr>\n",
       "      <th>institute_service</th>\n",
       "      <td>-0.021845</td>\n",
       "      <td>0.027351</td>\n",
       "      <td>1.000000</td>\n",
       "      <td>0.597701</td>\n",
       "    </tr>\n",
       "    <tr>\n",
       "      <th>new_age</th>\n",
       "      <td>-0.058839</td>\n",
       "      <td>-0.108293</td>\n",
       "      <td>0.597701</td>\n",
       "      <td>1.000000</td>\n",
       "    </tr>\n",
       "  </tbody>\n",
       "</table>\n",
       "</div>"
      ],
      "text/plain": [
       "                         id  cease_date  institute_service   new_age\n",
       "id                 1.000000    0.804035          -0.021845 -0.058839\n",
       "cease_date         0.804035    1.000000           0.027351 -0.108293\n",
       "institute_service -0.021845    0.027351           1.000000  0.597701\n",
       "new_age           -0.058839   -0.108293           0.597701  1.000000"
      ]
     },
     "execution_count": 170,
     "metadata": {},
     "output_type": "execute_result"
    }
   ],
   "source": [
    "dete_dissatisfaied.corr()"
   ]
  },
  {
   "cell_type": "code",
   "execution_count": 171,
   "id": "94c510b8",
   "metadata": {},
   "outputs": [
    {
     "data": {
      "text/html": [
       "<div>\n",
       "<style scoped>\n",
       "    .dataframe tbody tr th:only-of-type {\n",
       "        vertical-align: middle;\n",
       "    }\n",
       "\n",
       "    .dataframe tbody tr th {\n",
       "        vertical-align: top;\n",
       "    }\n",
       "\n",
       "    .dataframe thead th {\n",
       "        text-align: right;\n",
       "    }\n",
       "</style>\n",
       "<table border=\"1\" class=\"dataframe\">\n",
       "  <thead>\n",
       "    <tr style=\"text-align: right;\">\n",
       "      <th></th>\n",
       "      <th>id</th>\n",
       "      <th>cease_date</th>\n",
       "      <th>institute_service</th>\n",
       "      <th>new_age</th>\n",
       "    </tr>\n",
       "  </thead>\n",
       "  <tbody>\n",
       "    <tr>\n",
       "      <th>id</th>\n",
       "      <td>1.000000</td>\n",
       "      <td>0.804035</td>\n",
       "      <td>-0.021845</td>\n",
       "      <td>-0.058839</td>\n",
       "    </tr>\n",
       "    <tr>\n",
       "      <th>cease_date</th>\n",
       "      <td>0.804035</td>\n",
       "      <td>1.000000</td>\n",
       "      <td>0.027351</td>\n",
       "      <td>-0.108293</td>\n",
       "    </tr>\n",
       "    <tr>\n",
       "      <th>institute_service</th>\n",
       "      <td>-0.021845</td>\n",
       "      <td>0.027351</td>\n",
       "      <td>1.000000</td>\n",
       "      <td>0.597701</td>\n",
       "    </tr>\n",
       "    <tr>\n",
       "      <th>new_age</th>\n",
       "      <td>-0.058839</td>\n",
       "      <td>-0.108293</td>\n",
       "      <td>0.597701</td>\n",
       "      <td>1.000000</td>\n",
       "    </tr>\n",
       "  </tbody>\n",
       "</table>\n",
       "</div>"
      ],
      "text/plain": [
       "                         id  cease_date  institute_service   new_age\n",
       "id                 1.000000    0.804035          -0.021845 -0.058839\n",
       "cease_date         0.804035    1.000000           0.027351 -0.108293\n",
       "institute_service -0.021845    0.027351           1.000000  0.597701\n",
       "new_age           -0.058839   -0.108293           0.597701  1.000000"
      ]
     },
     "execution_count": 171,
     "metadata": {},
     "output_type": "execute_result"
    }
   ],
   "source": [
    "dete_dissatisfaied.corr().loc[:'new_age':]"
   ]
  },
  {
   "cell_type": "code",
   "execution_count": 172,
   "id": "2afa149b",
   "metadata": {},
   "outputs": [
    {
     "data": {
      "text/plain": [
       "0.5977013120968666"
      ]
     },
     "execution_count": 172,
     "metadata": {},
     "output_type": "execute_result"
    }
   ],
   "source": [
    "dete_dissatisfaied['institute_service'].corr(dete_dissatisfaied['new_age'])"
   ]
  },
  {
   "cell_type": "code",
   "execution_count": 173,
   "id": "3b396f0b",
   "metadata": {},
   "outputs": [
    {
     "data": {
      "image/png": "[encoded data removed]",
      "text/plain": [
       "<Figure size 432x288 with 1 Axes>"
      ]
     },
     "metadata": {
      "needs_background": "light"
     },
     "output_type": "display_data"
    }
   ],
   "source": [
    "plt.xlabel(\"cease_date\")\n",
    "plt.ylabel(\"new_age\")\n",
    "plt.scatter(dete_dissatisfaied['new_age'], dete_dissatisfaied['separationtype'], label = \"DETE \")\n",
    "plt.legend()\n",
    "plt.show()"
   ]
  },
  {
   "cell_type": "code",
   "execution_count": 174,
   "id": "3296922e",
   "metadata": {},
   "outputs": [
    {
     "data": {
      "text/html": [
       "<div>\n",
       "<style scoped>\n",
       "    .dataframe tbody tr th:only-of-type {\n",
       "        vertical-align: middle;\n",
       "    }\n",
       "\n",
       "    .dataframe tbody tr th {\n",
       "        vertical-align: top;\n",
       "    }\n",
       "\n",
       "    .dataframe thead th {\n",
       "        text-align: right;\n",
       "    }\n",
       "</style>\n",
       "<table border=\"1\" class=\"dataframe\">\n",
       "  <thead>\n",
       "    <tr style=\"text-align: right;\">\n",
       "      <th></th>\n",
       "      <th>id</th>\n",
       "      <th>cease_date</th>\n",
       "      <th>institute_service</th>\n",
       "      <th>new_age</th>\n",
       "    </tr>\n",
       "  </thead>\n",
       "  <tbody>\n",
       "    <tr>\n",
       "      <th>id</th>\n",
       "      <td>1.000000</td>\n",
       "      <td>0.927415</td>\n",
       "      <td>-0.012575</td>\n",
       "      <td>0.130202</td>\n",
       "    </tr>\n",
       "    <tr>\n",
       "      <th>cease_date</th>\n",
       "      <td>0.927415</td>\n",
       "      <td>1.000000</td>\n",
       "      <td>-0.064230</td>\n",
       "      <td>0.165302</td>\n",
       "    </tr>\n",
       "    <tr>\n",
       "      <th>institute_service</th>\n",
       "      <td>-0.012575</td>\n",
       "      <td>-0.064230</td>\n",
       "      <td>1.000000</td>\n",
       "      <td>0.394435</td>\n",
       "    </tr>\n",
       "    <tr>\n",
       "      <th>new_age</th>\n",
       "      <td>0.130202</td>\n",
       "      <td>0.165302</td>\n",
       "      <td>0.394435</td>\n",
       "      <td>1.000000</td>\n",
       "    </tr>\n",
       "  </tbody>\n",
       "</table>\n",
       "</div>"
      ],
      "text/plain": [
       "                         id  cease_date  institute_service   new_age\n",
       "id                 1.000000    0.927415          -0.012575  0.130202\n",
       "cease_date         0.927415    1.000000          -0.064230  0.165302\n",
       "institute_service -0.012575   -0.064230           1.000000  0.394435\n",
       "new_age            0.130202    0.165302           0.394435  1.000000"
      ]
     },
     "execution_count": 174,
     "metadata": {},
     "output_type": "execute_result"
    }
   ],
   "source": [
    "tafe_dissatisfaied.corr()"
   ]
  },
  {
   "cell_type": "code",
   "execution_count": 175,
   "id": "86146600",
   "metadata": {},
   "outputs": [
    {
     "data": {
      "text/html": [
       "<div>\n",
       "<style scoped>\n",
       "    .dataframe tbody tr th:only-of-type {\n",
       "        vertical-align: middle;\n",
       "    }\n",
       "\n",
       "    .dataframe tbody tr th {\n",
       "        vertical-align: top;\n",
       "    }\n",
       "\n",
       "    .dataframe thead th {\n",
       "        text-align: right;\n",
       "    }\n",
       "</style>\n",
       "<table border=\"1\" class=\"dataframe\">\n",
       "  <thead>\n",
       "    <tr style=\"text-align: right;\">\n",
       "      <th></th>\n",
       "      <th>id</th>\n",
       "      <th>cease_date</th>\n",
       "      <th>institute_service</th>\n",
       "      <th>new_age</th>\n",
       "    </tr>\n",
       "  </thead>\n",
       "  <tbody>\n",
       "    <tr>\n",
       "      <th>id</th>\n",
       "      <td>1.000000</td>\n",
       "      <td>0.927415</td>\n",
       "      <td>-0.012575</td>\n",
       "      <td>0.130202</td>\n",
       "    </tr>\n",
       "    <tr>\n",
       "      <th>cease_date</th>\n",
       "      <td>0.927415</td>\n",
       "      <td>1.000000</td>\n",
       "      <td>-0.064230</td>\n",
       "      <td>0.165302</td>\n",
       "    </tr>\n",
       "    <tr>\n",
       "      <th>institute_service</th>\n",
       "      <td>-0.012575</td>\n",
       "      <td>-0.064230</td>\n",
       "      <td>1.000000</td>\n",
       "      <td>0.394435</td>\n",
       "    </tr>\n",
       "    <tr>\n",
       "      <th>new_age</th>\n",
       "      <td>0.130202</td>\n",
       "      <td>0.165302</td>\n",
       "      <td>0.394435</td>\n",
       "      <td>1.000000</td>\n",
       "    </tr>\n",
       "  </tbody>\n",
       "</table>\n",
       "</div>"
      ],
      "text/plain": [
       "                         id  cease_date  institute_service   new_age\n",
       "id                 1.000000    0.927415          -0.012575  0.130202\n",
       "cease_date         0.927415    1.000000          -0.064230  0.165302\n",
       "institute_service -0.012575   -0.064230           1.000000  0.394435\n",
       "new_age            0.130202    0.165302           0.394435  1.000000"
      ]
     },
     "execution_count": 175,
     "metadata": {},
     "output_type": "execute_result"
    }
   ],
   "source": [
    "tafe_dissatisfaied.corr().loc[:'new_age':]"
   ]
  },
  {
   "cell_type": "code",
   "execution_count": 176,
   "id": "bf326ca6",
   "metadata": {},
   "outputs": [
    {
     "data": {
      "text/plain": [
       "0.394435402432431"
      ]
     },
     "execution_count": 176,
     "metadata": {},
     "output_type": "execute_result"
    }
   ],
   "source": [
    "tafe_dissatisfaied['institute_service'].corr(tafe_dissatisfaied['new_age'])"
   ]
  },
  {
   "cell_type": "code",
   "execution_count": 177,
   "id": "5a1f634d",
   "metadata": {},
   "outputs": [
    {
     "data": {
      "image/png": "[encoded data removed]",
      "text/plain": [
       "<Figure size 432x288 with 1 Axes>"
      ]
     },
     "metadata": {
      "needs_background": "light"
     },
     "output_type": "display_data"
    }
   ],
   "source": [
    "plt.xlabel(\"cease_date\")\n",
    "plt.ylabel(\"new_age\")\n",
    "plt.scatter(tafe_dissatisfaied['new_age'], tafe_dissatisfaied['separationtype'], label = \"DETE \")\n",
    "plt.legend()\n",
    "plt.show()"
   ]
  },
  {
   "cell_type": "code",
   "execution_count": 178,
   "id": "dcc2726e",
   "metadata": {},
   "outputs": [
    {
     "data": {
      "image/png": "[encoded data removed]",
      "text/plain": [
       "<Figure size 864x432 with 1 Axes>"
      ]
     },
     "metadata": {
      "needs_background": "light"
     },
     "output_type": "display_data"
    }
   ],
   "source": [
    "import matplotlib.pyplot as plt\n",
    "import seaborn as sns\n",
    "\n",
    "\n",
    "f, ax = plt.subplots(figsize=(12, 6))\n",
    "sns.scatterplot(data = employees_dissatisfied,\n",
    "                y = 'separationtype',\n",
    "                x = 'institute',\n",
    "                palette='Set2',\n",
    "                hue = 'service_cat')\n",
    "\n",
    "plt.show()"
   ]
  },
  {
   "cell_type": "markdown",
   "id": "1d491042",
   "metadata": {},
   "source": [
    "We can see that the employees who worked at TAFE ended their jobs with multiple justification, a fact that does not happen in DETE.\n",
    "\n",
    "All the people who leave this institute do it without any justification it is very striking to see that there is a 10-year period where the staff has not abandoned their work. \n",
    "\n",
    "Something worthy of an in-depth exploration."
   ]
  }
 ],
 "metadata": {
  "kernelspec": {
   "display_name": "Python 3",
   "language": "python",
   "name": "python3"
  },
  "language_info": {
   "codemirror_mode": {
    "name": "ipython",
    "version": 3
   },
   "file_extension": ".py",
   "mimetype": "text/x-python",
   "name": "python",
   "nbconvert_exporter": "python",
   "pygments_lexer": "ipython3",
   "version": "3.8.2"
  }
 },
 "nbformat": 4,
 "nbformat_minor": 5
}
