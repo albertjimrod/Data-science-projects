{
 "cells": [
  {
   "cell_type": "markdown",
   "metadata": {},
   "source": [
    "#  Combining the Data 2\n",
    "\n",
    "![nyc_opendata.png](nyc_opendata.png)\n"
   ]
  },
  {
   "cell_type": "code",
   "execution_count": 1,
   "metadata": {},
   "outputs": [
    {
     "name": "stdout",
     "output_type": "stream",
     "text": [
      "total 304\r\n",
      "drwxrwxr-x 3 ion ion   4096 jul  8 11:41  2011_School_Survey\r\n",
      "-rw-rw-r-- 1 ion ion 136230 jul  9 16:15  Analyzing_NYC_High_School_Data.ipynb\r\n",
      "-rw-rw-r-- 1 ion ion  44693 jul  9 16:18 'Combining the Data 2.ipynb'\r\n",
      "-rw-rw-r-- 1 ion ion  12199 jul  9 13:39  condense_1.png\r\n",
      "-rw-rw-r-- 1 ion ion  86586 jul  9 12:56  nyc_opendata.png\r\n",
      "-rw-rw-r-- 1 ion ion  10533 jul  8 17:02  padded.png\r\n",
      "-rw-rw-r-- 1 ion ion     15 jul  7 08:56  README.md\r\n",
      "drwxrwxr-x 2 ion ion   4096 jul  8 11:41  schools\r\n"
     ]
    }
   ],
   "source": [
    "! ls -l"
   ]
  },
  {
   "cell_type": "code",
   "execution_count": 2,
   "metadata": {},
   "outputs": [
    {
     "name": "stdout",
     "output_type": "stream",
     "text": [
      "ap_2010.csv\t  graduation.csv    survey_all.txt\r\n",
      "class_size.csv\t  hs_directory.csv  survey_d75.txt\r\n",
      "demographics.csv  sat_results.csv   Survey_Data_Dictionary.xls\r\n"
     ]
    }
   ],
   "source": [
    "! ls schools/"
   ]
  },
  {
   "cell_type": "code",
   "execution_count": 3,
   "metadata": {},
   "outputs": [],
   "source": [
    "import chardet\n",
    "\n",
    "datafiles = ['ap_2010.csv',\n",
    "         'graduation.csv',\n",
    "         'survey_all.txt',\n",
    "         'class_size.csv', \n",
    "         'hs_directory.csv', \n",
    "         'survey_d75.txt',\n",
    "         'demographics.csv',\n",
    "         'sat_results.csv', \n",
    "         'Survey_Data_Dictionary.xls']"
   ]
  },
  {
   "cell_type": "code",
   "execution_count": 4,
   "metadata": {
    "scrolled": true
   },
   "outputs": [
    {
     "data": {
      "text/plain": [
       "'\\ndatafiles_NonUTF = []\\n\\nfor f in datafiles:\\n    with open(\"schools/{}\".format(f),\\'rb\\') as file:\\n        print(\"file name: {nme} format name: {frt}\".format(nme=f,frt=chardet.detect(file.read())))\\n        if \\'utf-8\\' not in chardet.detect(file.read()):\\n            datafiles_NonUTF.append(f)\\n        else:\\n            datafiles.append(f)\\n'"
      ]
     },
     "execution_count": 4,
     "metadata": {},
     "output_type": "execute_result"
    }
   ],
   "source": [
    "'''\n",
    "datafiles_NonUTF = []\n",
    "\n",
    "for f in datafiles:\n",
    "    with open(\"schools/{}\".format(f),'rb') as file:\n",
    "        print(\"file name: {nme} format name: {frt}\".format(nme=f,frt=chardet.detect(file.read())))\n",
    "        if 'utf-8' not in chardet.detect(file.read()):\n",
    "            datafiles_NonUTF.append(f)\n",
    "        else:\n",
    "            datafiles.append(f)\n",
    "'''"
   ]
  },
  {
   "cell_type": "markdown",
   "metadata": {},
   "source": [
    "- This is the output that chardet, as it takes a long time to analyze each file this is what gives us to the output."
   ]
  },
  {
   "cell_type": "markdown",
   "metadata": {},
   "source": [
    "    file name: ap_2010.csv format name: {'encoding': 'ascii', 'confidence': 1.0, 'language': ''}\n",
    "    file name: graduation.csv format name: {'encoding': 'utf-8', 'confidence': 0.99, 'language': ''}\n",
    "    file name: survey_all.txt format name: {'encoding': 'Windows-1252', 'confidence': 0.73, 'language': ''}\n",
    "    file name: class_size.csv format name: {'encoding': 'utf-8', 'confidence': 0.99, 'language': ''}\n",
    "    file name: hs_directory.csv format name: {'encoding': 'utf-8', 'confidence': 0.99, 'language': ''}\n",
    "    file name: survey_d75.txt format name: {'encoding': 'ascii', 'confidence': 1.0, 'language': ''}\n",
    "    file name: demographics.csv format name: {'encoding': 'ascii', 'confidence': 1.0, 'language': ''}\n",
    "    file name: sat_results.csv format name: {'encoding': 'Windows-1252', 'confidence': 0.73, 'language': ''}\n",
    "    file name: Survey_Data_Dictionary.xls format name: {'encoding': 'Windows-1254', 'confidence': 0.3643929081009458, 'language': 'Turkish'}"
   ]
  },
  {
   "cell_type": "markdown",
   "metadata": {},
   "source": [
    "- We have 3 files with a not too common encoding system **'Windows-1254'**, so for now we will work with the files that have the **UTF-8** encoding system."
   ]
  },
  {
   "cell_type": "code",
   "execution_count": 5,
   "metadata": {},
   "outputs": [
    {
     "name": "stdout",
     "output_type": "stream",
     "text": [
      "schools/ap_2010.csv: application/csv; charset=us-ascii\r\n"
     ]
    }
   ],
   "source": [
    "! file -i schools/ap_2010.csv"
   ]
  },
  {
   "cell_type": "code",
   "execution_count": 6,
   "metadata": {},
   "outputs": [
    {
     "name": "stdout",
     "output_type": "stream",
     "text": [
      "schools/graduation.csv: application/octet-stream; charset=binary\r\n"
     ]
    }
   ],
   "source": [
    "! file -i schools/graduation.csv"
   ]
  },
  {
   "cell_type": "code",
   "execution_count": 7,
   "metadata": {},
   "outputs": [
    {
     "name": "stdout",
     "output_type": "stream",
     "text": [
      "schools/class_size.csv: application/csv; charset=us-ascii\r\n"
     ]
    }
   ],
   "source": [
    "! file -i schools/class_size.csv"
   ]
  },
  {
   "cell_type": "code",
   "execution_count": 8,
   "metadata": {},
   "outputs": [
    {
     "name": "stdout",
     "output_type": "stream",
     "text": [
      "schools/hs_directory.csv: application/csv; charset=utf-8\r\n"
     ]
    }
   ],
   "source": [
    "! file -i schools/hs_directory.csv"
   ]
  },
  {
   "cell_type": "code",
   "execution_count": 9,
   "metadata": {},
   "outputs": [
    {
     "name": "stdout",
     "output_type": "stream",
     "text": [
      "schools/demographics.csv: application/csv; charset=us-ascii\r\n"
     ]
    }
   ],
   "source": [
    "! file -i schools/demographics.csv"
   ]
  },
  {
   "cell_type": "code",
   "execution_count": 10,
   "metadata": {},
   "outputs": [
    {
     "name": "stdout",
     "output_type": "stream",
     "text": [
      "schools/sat_results.csv: application/csv; charset=utf-8\r\n"
     ]
    }
   ],
   "source": [
    "! file -i schools/sat_results.csv"
   ]
  },
  {
   "cell_type": "markdown",
   "metadata": {},
   "source": [
    "||||||||\n",
    "|:|:|:|:|:|:|:|\n",
    "|**file name:**|`ap_2010.csv`|`graduation.csv`|`class_size.csv`|`hs_directory.csv`|`demographics.csv`|`sat_results.csv`|\n",
    "|**chardet lib:**|'ascii'    |'utf-8'       |utf-8'        |utf-8'          |'ascii'         |**'Windows-1252'**|\n",
    "|**file -i:**    |charset=us-ascii        |charset=binary|charset=us-ascii|charset=utf-8   |charset=us-ascii        |charset=utf-8|\n",
    "\n",
    "\n",
    "- If we compare the output of the file `sat_results.csv` does not coincide with that offered by the file command, however it is important to note that we are told that the accuracy is 0.73, so let's see if the load can be done."
   ]
  },
  {
   "cell_type": "code",
   "execution_count": 11,
   "metadata": {},
   "outputs": [],
   "source": [
    "import pandas as pd"
   ]
  },
  {
   "cell_type": "code",
   "execution_count": 12,
   "metadata": {},
   "outputs": [],
   "source": [
    "datafiles = ['ap_2010.csv',\n",
    "         'graduation.csv',\n",
    "         'class_size.csv', \n",
    "         'hs_directory.csv', \n",
    "         'demographics.csv',\n",
    "         'sat_results.csv']"
   ]
  },
  {
   "cell_type": "code",
   "execution_count": 13,
   "metadata": {
    "scrolled": true
   },
   "outputs": [
    {
     "data": {
      "text/plain": [
       "{'ap_2010':         DBN                                         SchoolName  \\\n",
       " 0    01M448                       UNIVERSITY NEIGHBORHOOD H.S.   \n",
       " 1    01M450                             EAST SIDE COMMUNITY HS   \n",
       " 2    01M515                                LOWER EASTSIDE PREP   \n",
       " 3    01M539                     NEW EXPLORATIONS SCI,TECH,MATH   \n",
       " 4    02M296              High School of Hospitality Management   \n",
       " ..      ...                                                ...   \n",
       " 253  31R605                         STATEN ISLAND TECHNICAL HS   \n",
       " 254  32K545                      EBC-HS FOR PUB SERVICE (BUSH)   \n",
       " 255  32K552                          Academy of Urban Planning   \n",
       " 256  32K554               All City Leadership Secondary School   \n",
       " 257  32K556  Bushwick Leaders High School for Academic Exce...   \n",
       " \n",
       "     AP Test Takers  Total Exams Taken Number of Exams with scores 3 4 or 5  \n",
       " 0                39                49                                   10  \n",
       " 1                19                21                                    s  \n",
       " 2                24                26                                   24  \n",
       " 3               255               377                                  191  \n",
       " 4                 s                 s                                    s  \n",
       " ..              ...               ...                                  ...  \n",
       " 253             528               905                                  809  \n",
       " 254              47                64                                   13  \n",
       " 255              76               100                                   10  \n",
       " 256               7                 8                                    s  \n",
       " 257              34                35                                   18  \n",
       " \n",
       " [258 rows x 5 columns],\n",
       " 'graduation':         Demographic     DBN                            School Name    Cohort  \\\n",
       " 0      Total Cohort  01M292  HENRY STREET SCHOOL FOR INTERNATIONAL      2003   \n",
       " 1      Total Cohort  01M292  HENRY STREET SCHOOL FOR INTERNATIONAL      2004   \n",
       " 2      Total Cohort  01M292  HENRY STREET SCHOOL FOR INTERNATIONAL      2005   \n",
       " 3      Total Cohort  01M292  HENRY STREET SCHOOL FOR INTERNATIONAL      2006   \n",
       " 4      Total Cohort  01M292  HENRY STREET SCHOOL FOR INTERNATIONAL  2006 Aug   \n",
       " ...             ...     ...                                    ...       ...   \n",
       " 25091          Male  32K564         BUSHWICK COMMUNITY HIGH SCHOOL      2003   \n",
       " 25092          Male  32K564         BUSHWICK COMMUNITY HIGH SCHOOL      2004   \n",
       " 25093          Male  32K564         BUSHWICK COMMUNITY HIGH SCHOOL      2005   \n",
       " 25094          Male  32K564         BUSHWICK COMMUNITY HIGH SCHOOL      2006   \n",
       " 25095          Male  32K564         BUSHWICK COMMUNITY HIGH SCHOOL  2006 Aug   \n",
       " \n",
       "        Total Cohort Total Grads - n Total Grads - % of cohort  \\\n",
       " 0                 5               s                         s   \n",
       " 1                55              37                     67.3%   \n",
       " 2                64              43                     67.2%   \n",
       " 3                78              43                     55.1%   \n",
       " 4                78              44                     56.4%   \n",
       " ...             ...             ...                       ...   \n",
       " 25091            65               1                      1.5%   \n",
       " 25092            64               2                      3.1%   \n",
       " 25093            79               3                      3.8%   \n",
       " 25094            57               4                        7%   \n",
       " 25095            57               4                        7%   \n",
       " \n",
       "       Total Regents - n Total Regents - % of cohort  \\\n",
       " 0                     s                           s   \n",
       " 1                    17                       30.9%   \n",
       " 2                    27                       42.2%   \n",
       " 3                    36                       46.2%   \n",
       " 4                    37                       47.4%   \n",
       " ...                 ...                         ...   \n",
       " 25091                 0                          0%   \n",
       " 25092                 0                          0%   \n",
       " 25093                 1                        1.3%   \n",
       " 25094                 2                        3.5%   \n",
       " 25095                 2                        3.5%   \n",
       " \n",
       "       Total Regents - % of grads  ... Regents w/o Advanced - n  \\\n",
       " 0                              s  ...                        s   \n",
       " 1                          45.9%  ...                       17   \n",
       " 2                          62.8%  ...                       27   \n",
       " 3                          83.7%  ...                       36   \n",
       " 4                          84.1%  ...                       37   \n",
       " ...                          ...  ...                      ...   \n",
       " 25091                         0%  ...                        0   \n",
       " 25092                         0%  ...                        0   \n",
       " 25093                      33.3%  ...                        1   \n",
       " 25094                        50%  ...                        2   \n",
       " 25095                        50%  ...                        2   \n",
       " \n",
       "       Regents w/o Advanced - % of cohort Regents w/o Advanced - % of grads  \\\n",
       " 0                                      s                                 s   \n",
       " 1                                  30.9%                             45.9%   \n",
       " 2                                  42.2%                             62.8%   \n",
       " 3                                  46.2%                             83.7%   \n",
       " 4                                  47.4%                             84.1%   \n",
       " ...                                  ...                               ...   \n",
       " 25091                                 0%                                0%   \n",
       " 25092                                 0%                                0%   \n",
       " 25093                               1.3%                             33.3%   \n",
       " 25094                               3.5%                               50%   \n",
       " 25095                               3.5%                               50%   \n",
       " \n",
       "       Local - n Local - % of cohort   Local - % of grads Still Enrolled - n  \\\n",
       " 0             s                   s                    s                  s   \n",
       " 1            20               36.4%                54.1%                 15   \n",
       " 2            16                 25%  37.200000000000003%                  9   \n",
       " 3             7                  9%                16.3%                 16   \n",
       " 4             7                  9%                15.9%                 15   \n",
       " ...         ...                 ...                  ...                ...   \n",
       " 25091         1                1.5%                 100%               44.0   \n",
       " 25092         2                3.1%                 100%               38.0   \n",
       " 25093         2                2.5%                66.7%               46.0   \n",
       " 25094         2                3.5%                  50%               34.0   \n",
       " 25095         2                3.5%                  50%               34.0   \n",
       " \n",
       "       Still Enrolled - % of cohort Dropped Out - n Dropped Out - % of cohort  \n",
       " 0                                s               s                         s  \n",
       " 1                            27.3%               3                      5.5%  \n",
       " 2                            14.1%               9                     14.1%  \n",
       " 3                            20.5%              11                     14.1%  \n",
       " 4                            19.2%              11                     14.1%  \n",
       " ...                            ...             ...                       ...  \n",
       " 25091                        67.7%            20.0                     30.8%  \n",
       " 25092                        59.4%            22.0                     34.4%  \n",
       " 25093                        58.2%            28.0                     35.4%  \n",
       " 25094                        59.6%            17.0                     29.8%  \n",
       " 25095                        59.6%            17.0                     29.8%  \n",
       " \n",
       " [25096 rows x 23 columns],\n",
       " 'class_size':        CSD BOROUGH SCHOOL CODE                     SCHOOL NAME GRADE   \\\n",
       " 0        1       M        M015       P.S. 015 Roberto Clemente     0K   \n",
       " 1        1       M        M015       P.S. 015 Roberto Clemente     0K   \n",
       " 2        1       M        M015       P.S. 015 Roberto Clemente     01   \n",
       " 3        1       M        M015       P.S. 015 Roberto Clemente     01   \n",
       " 4        1       M        M015       P.S. 015 Roberto Clemente     02   \n",
       " ...    ...     ...         ...                             ...    ...   \n",
       " 27606   32       K        K564  Bushwick Community High School  09-12   \n",
       " 27607   32       K        K564  Bushwick Community High School  09-12   \n",
       " 27608   32       K        K564  Bushwick Community High School  09-12   \n",
       " 27609   32       K        K564  Bushwick Community High School  09-12   \n",
       " 27610   32       K        K564  Bushwick Community High School    NaN   \n",
       " \n",
       "       PROGRAM TYPE CORE SUBJECT (MS CORE and 9-12 ONLY)  \\\n",
       " 0           GEN ED                                    -   \n",
       " 1              CTT                                    -   \n",
       " 2           GEN ED                                    -   \n",
       " 3              CTT                                    -   \n",
       " 4           GEN ED                                    -   \n",
       " ...            ...                                  ...   \n",
       " 27606       GEN ED                       SOCIAL STUDIES   \n",
       " 27607       GEN ED                       SOCIAL STUDIES   \n",
       " 27608       GEN ED                       SOCIAL STUDIES   \n",
       " 27609          CTT                                 MATH   \n",
       " 27610          NaN                                  NaN   \n",
       " \n",
       "       CORE COURSE (MS CORE and 9-12 ONLY) SERVICE CATEGORY(K-9* ONLY)  \\\n",
       " 0                                       -                           -   \n",
       " 1                                       -                           -   \n",
       " 2                                       -                           -   \n",
       " 3                                       -                           -   \n",
       " 4                                       -                           -   \n",
       " ...                                   ...                         ...   \n",
       " 27606             US History & Government                           -   \n",
       " 27607                           Economics                           -   \n",
       " 27608         Participation in Government                           -   \n",
       " 27609                  Integrated Algebra                           -   \n",
       " 27610                                 NaN                         NaN   \n",
       " \n",
       "        NUMBER OF STUDENTS / SEATS FILLED  NUMBER OF SECTIONS  \\\n",
       " 0                                   19.0                 1.0   \n",
       " 1                                   21.0                 1.0   \n",
       " 2                                   17.0                 1.0   \n",
       " 3                                   17.0                 1.0   \n",
       " 4                                   15.0                 1.0   \n",
       " ...                                  ...                 ...   \n",
       " 27606                              256.0                10.0   \n",
       " 27607                               65.0                 2.0   \n",
       " 27608                               53.0                 2.0   \n",
       " 27609                               50.0                 2.0   \n",
       " 27610                                NaN                 NaN   \n",
       " \n",
       "        AVERAGE CLASS SIZE  SIZE OF SMALLEST CLASS  SIZE OF LARGEST CLASS  \\\n",
       " 0                    19.0                    19.0                   19.0   \n",
       " 1                    21.0                    21.0                   21.0   \n",
       " 2                    17.0                    17.0                   17.0   \n",
       " 3                    17.0                    17.0                   17.0   \n",
       " 4                    15.0                    15.0                   15.0   \n",
       " ...                   ...                     ...                    ...   \n",
       " 27606                25.6                    15.0                   35.0   \n",
       " 27607                32.5                    32.0                   33.0   \n",
       " 27608                26.5                    25.0                   28.0   \n",
       " 27609                25.0                    25.0                   25.0   \n",
       " 27610                 NaN                     NaN                    NaN   \n",
       " \n",
       "       DATA SOURCE  SCHOOLWIDE PUPIL-TEACHER RATIO  \n",
       " 0             ATS                             NaN  \n",
       " 1             ATS                             NaN  \n",
       " 2             ATS                             NaN  \n",
       " 3             ATS                             NaN  \n",
       " 4             ATS                             NaN  \n",
       " ...           ...                             ...  \n",
       " 27606       STARS                             NaN  \n",
       " 27607       STARS                             NaN  \n",
       " 27608       STARS                             NaN  \n",
       " 27609       STARS                             NaN  \n",
       " 27610         NaN                            17.1  \n",
       " \n",
       " [27611 rows x 16 columns],\n",
       " 'hs_directory':         dbn                                        school_name       boro  \\\n",
       " 0    17K548                Brooklyn School for Music & Theatre   Brooklyn   \n",
       " 1    09X543                   High School for Violin and Dance      Bronx   \n",
       " 2    09X327        Comprehensive Model School Project M.S. 327      Bronx   \n",
       " 3    02M280     Manhattan Early College School for Advertising  Manhattan   \n",
       " 4    28Q680  Queens Gateway to Health Sciences Secondary Sc...     Queens   \n",
       " ..      ...                                                ...        ...   \n",
       " 430  10X225             Theatre Arts Production Company School      Bronx   \n",
       " 431  11X508                              Bronxdale High School      Bronx   \n",
       " 432  11X253  Bronx High School for Writing and Communicatio...      Bronx   \n",
       " 433  02M316  Urban Assembly School of Business for Young Wo...  Manhattan   \n",
       " 434  25Q525                        Townsend Harris High School     Queens   \n",
       " \n",
       "     building_code    phone_number    fax_number grade_span_min  \\\n",
       " 0            K440    718-230-6250  718-230-6262              9   \n",
       " 1            X400    718-842-0687  718-589-9849              9   \n",
       " 2            X240    718-294-8111  718-294-8109              6   \n",
       " 3            M520  718-935-3477             NaN              9   \n",
       " 4            Q695    718-969-3155  718-969-3552              6   \n",
       " ..            ...             ...           ...            ...   \n",
       " 430          X137    718-584-0832  718-584-5102              6   \n",
       " 431          X415    718-944-3655  718-944-3662              9   \n",
       " 432          X425    718-944-5660  718-944-5690              9   \n",
       " 433          M282    212-668-0169  212-668-0635              9   \n",
       " 434          Q515    718-575-5580  718-575-1366              9   \n",
       " \n",
       "      grade_span_max expgrade_span_min  expgrade_span_max  ...  \\\n",
       " 0                12               NaN                NaN  ...   \n",
       " 1                12               NaN                NaN  ...   \n",
       " 2                12               NaN                NaN  ...   \n",
       " 3                10                 9               14.0  ...   \n",
       " 4                12               NaN                NaN  ...   \n",
       " ..              ...               ...                ...  ...   \n",
       " 430              12               NaN                NaN  ...   \n",
       " 431              12               NaN                NaN  ...   \n",
       " 432              12               NaN                NaN  ...   \n",
       " 433              12               NaN                NaN  ...   \n",
       " 434              12               NaN                NaN  ...   \n",
       " \n",
       "                                             priority02  \\\n",
       " 0                      Then to New York City residents   \n",
       " 1    Then to New York City residents who attend an ...   \n",
       " 2    Then to Bronx students or residents who attend...   \n",
       " 3    Then to New York City residents who attend an ...   \n",
       " 4    Then to Districts 28 and 29 students or residents   \n",
       " ..                                                 ...   \n",
       " 430                Then to Bronx students or residents   \n",
       " 431  Then to New York City residents who attend an ...   \n",
       " 432  Then to New York City residents who attend an ...   \n",
       " 433  Priority to Manhattan students or residents wh...   \n",
       " 434                                                NaN   \n",
       " \n",
       "                                             priority03  \\\n",
       " 0                                                  NaN   \n",
       " 1                  Then to Bronx students or residents   \n",
       " 2    Then to New York City residents who attend an ...   \n",
       " 3            Then to Manhattan students or residents     \n",
       " 4                 Then to Queens students or residents   \n",
       " ..                                                 ...   \n",
       " 430                    Then to New York City residents   \n",
       " 431                Then to Bronx students or residents   \n",
       " 432                Then to Bronx students or residents   \n",
       " 433  Then to New York City residents who attend an ...   \n",
       " 434                                                NaN   \n",
       " \n",
       "                                   priority04                       priority05  \\\n",
       " 0                                        NaN                              NaN   \n",
       " 1            Then to New York City residents                              NaN   \n",
       " 2        Then to Bronx students or residents  Then to New York City residents   \n",
       " 3            Then to New York City residents                              NaN   \n",
       " 4            Then to New York City residents                              NaN   \n",
       " ..                                       ...                              ...   \n",
       " 430                                      NaN                              NaN   \n",
       " 431          Then to New York City residents                              NaN   \n",
       " 432          Then to New York City residents                              NaN   \n",
       " 433  Then to Manhattan students or residents  Then to New York City residents   \n",
       " 434                                      NaN                              NaN   \n",
       " \n",
       "     priority06  priority07 priority08  priority09 priority10  \\\n",
       " 0          NaN         NaN        NaN         NaN        NaN   \n",
       " 1          NaN         NaN        NaN         NaN        NaN   \n",
       " 2          NaN         NaN        NaN         NaN        NaN   \n",
       " 3          NaN         NaN        NaN         NaN        NaN   \n",
       " 4          NaN         NaN        NaN         NaN        NaN   \n",
       " ..         ...         ...        ...         ...        ...   \n",
       " 430        NaN         NaN        NaN         NaN        NaN   \n",
       " 431        NaN         NaN        NaN         NaN        NaN   \n",
       " 432        NaN         NaN        NaN         NaN        NaN   \n",
       " 433        NaN         NaN        NaN         NaN        NaN   \n",
       " 434        NaN         NaN        NaN         NaN        NaN   \n",
       " \n",
       "                                             Location 1  \n",
       " 0    883 Classon Avenue\\nBrooklyn, NY 11225\\n(40.67...  \n",
       " 1    1110 Boston Road\\nBronx, NY 10456\\n(40.8276026...  \n",
       " 2    1501 Jerome Avenue\\nBronx, NY 10452\\n(40.84241...  \n",
       " 3    411 Pearl Street\\nNew York, NY 10038\\n(40.7106...  \n",
       " 4    160-20 Goethals Avenue\\nJamaica, NY 11432\\n(40...  \n",
       " ..                                                 ...  \n",
       " 430  2225 Webster Avenue\\nBronx, NY 10457\\n(40.8546...  \n",
       " 431  925 Astor Avenue\\nBronx, NY 10469\\n(40.8596983...  \n",
       " 432  800 East Gun Hill Road\\nBronx, NY 10467\\n(40.8...  \n",
       " 433  26 Broadway\\nNew York, NY 10004\\n(40.705234939...  \n",
       " 434  149-11 Melbourne Avenue\\nFlushing, NY 11367\\n(...  \n",
       " \n",
       " [435 rows x 58 columns],\n",
       " 'demographics':           DBN                                              Name  schoolyear  \\\n",
       " 0      01M015                         P.S. 015 ROBERTO CLEMENTE    20052006   \n",
       " 1      01M015                         P.S. 015 ROBERTO CLEMENTE    20062007   \n",
       " 2      01M015                         P.S. 015 ROBERTO CLEMENTE    20072008   \n",
       " 3      01M015                         P.S. 015 ROBERTO CLEMENTE    20082009   \n",
       " 4      01M015                         P.S. 015 ROBERTO CLEMENTE    20092010   \n",
       " ...       ...                                               ...         ...   \n",
       " 10070  32K564                    BUSHWICK COMMUNITY HIGH SCHOOL    20072008   \n",
       " 10071  32K564                    BUSHWICK COMMUNITY HIGH SCHOOL    20082009   \n",
       " 10072  32K564                    BUSHWICK COMMUNITY HIGH SCHOOL    20092010   \n",
       " 10073  32K564                    BUSHWICK COMMUNITY HIGH SCHOOL    20102011   \n",
       " 10074  32K564  BUSHWICK COMMUNITY HIGH SCHOOL                      20112012   \n",
       " \n",
       "       fl_percent  frl_percent  total_enrollment  prek     k grade1 grade2  \\\n",
       " 0           89.4          NaN               281    15    36     40     33   \n",
       " 1           89.4          NaN               243    15    29     39     38   \n",
       " 2           89.4          NaN               261    18    43     39     36   \n",
       " 3           89.4          NaN               252    17    37     44     32   \n",
       " 4                        96.5               208    16    40     28     32   \n",
       " ...          ...          ...               ...   ...   ...    ...    ...   \n",
       " 10070       85.6          NaN               355   NaN   NaN    NaN    NaN   \n",
       " 10071       65.2          NaN               383   NaN   NaN    NaN    NaN   \n",
       " 10072                    89.2               395   NaN   NaN    NaN    NaN   \n",
       " 10073                    88.2               420   NaN   NaN    NaN    NaN   \n",
       " 10074        NaN         81.8               382                             \n",
       " \n",
       "        ... black_num black_per hispanic_num hispanic_per white_num white_per  \\\n",
       " 0      ...        74      26.3          189         67.3         5       1.8   \n",
       " 1      ...        68      28.0          153         63.0         4       1.6   \n",
       " 2      ...        77      29.5          157         60.2         7       2.7   \n",
       " 3      ...        75      29.8          149         59.1         7       2.8   \n",
       " 4      ...        67      32.2          118         56.7         6       2.9   \n",
       " ...    ...       ...       ...          ...          ...       ...       ...   \n",
       " 10070  ...       151      42.5          198         55.8         5       1.4   \n",
       " 10071  ...       132      34.5          245         64.0         2       0.5   \n",
       " 10072  ...       146      37.0          242         61.3         3       0.8   \n",
       " 10073  ...       166      39.5          242         57.6         8       1.9   \n",
       " 10074  ...       137      35.9          235         61.5         7       1.8   \n",
       " \n",
       "       male_num male_per female_num female_per  \n",
       " 0        158.0     56.2      123.0       43.8  \n",
       " 1        140.0     57.6      103.0       42.4  \n",
       " 2        143.0     54.8      118.0       45.2  \n",
       " 3        149.0     59.1      103.0       40.9  \n",
       " 4        124.0     59.6       84.0       40.4  \n",
       " ...        ...      ...        ...        ...  \n",
       " 10070    181.0     51.0      174.0       49.0  \n",
       " 10071    206.0     53.8      177.0       46.2  \n",
       " 10072    199.0     50.4      196.0       49.6  \n",
       " 10073    209.0     49.8      211.0       50.2  \n",
       " 10074    169.0     44.2      213.0       55.8  \n",
       " \n",
       " [10075 rows x 38 columns],\n",
       " 'sat_results':         DBN                                    SCHOOL NAME  \\\n",
       " 0    01M292  HENRY STREET SCHOOL FOR INTERNATIONAL STUDIES   \n",
       " 1    01M448            UNIVERSITY NEIGHBORHOOD HIGH SCHOOL   \n",
       " 2    01M450                     EAST SIDE COMMUNITY SCHOOL   \n",
       " 3    01M458                      FORSYTH SATELLITE ACADEMY   \n",
       " 4    01M509                        MARTA VALLE HIGH SCHOOL   \n",
       " ..      ...                                            ...   \n",
       " 473  75X012               P.S. X012 LEWIS AND CLARK SCHOOL   \n",
       " 474  75X754        J. M. RAPPORT SCHOOL CAREER DEVELOPMENT   \n",
       " 475  79M645     SCHOOL FOR COOPERATIVE TECHNICAL EDUCATION   \n",
       " 476  79Q950                            GED PLUS s CITYWIDE   \n",
       " 477  79X490                                PHOENIX ACADEMY   \n",
       " \n",
       "     Num of SAT Test Takers SAT Critical Reading Avg. Score  \\\n",
       " 0                       29                             355   \n",
       " 1                       91                             383   \n",
       " 2                       70                             377   \n",
       " 3                        7                             414   \n",
       " 4                       44                             390   \n",
       " ..                     ...                             ...   \n",
       " 473                      s                               s   \n",
       " 474                      s                               s   \n",
       " 475                      s                               s   \n",
       " 476                      8                             496   \n",
       " 477                      9                             367   \n",
       " \n",
       "     SAT Math Avg. Score SAT Writing Avg. Score  \n",
       " 0                   404                    363  \n",
       " 1                   423                    366  \n",
       " 2                   402                    370  \n",
       " 3                   401                    359  \n",
       " 4                   433                    384  \n",
       " ..                  ...                    ...  \n",
       " 473                   s                      s  \n",
       " 474                   s                      s  \n",
       " 475                   s                      s  \n",
       " 476                 400                    426  \n",
       " 477                 370                    360  \n",
       " \n",
       " [478 rows x 6 columns]}"
      ]
     },
     "execution_count": 13,
     "metadata": {},
     "output_type": "execute_result"
    }
   ],
   "source": [
    "data = {}\n",
    "\n",
    "for f in datafiles:\n",
    "    file = f.replace(\".csv\",\"\")\n",
    "    if \".txt\" not in file:                            # avoiding for errors loadings\n",
    "        data[file]= pd.read_csv(\"schools/{0}\".format(f))\n",
    "data"
   ]
  },
  {
   "cell_type": "markdown",
   "metadata": {},
   "source": [
    "Of all the datasets, the one that has the most importance is the `sat_results` because it is the one that contains the scores of the high schools of NY. This will be the main dataset because we will correlate information from this dataset with the other datasets."
   ]
  },
  {
   "cell_type": "code",
   "execution_count": 14,
   "metadata": {},
   "outputs": [
    {
     "name": "stdout",
     "output_type": "stream",
     "text": [
      "      DBN                                    SCHOOL NAME  \\\n",
      "0  01M292  HENRY STREET SCHOOL FOR INTERNATIONAL STUDIES   \n",
      "1  01M448            UNIVERSITY NEIGHBORHOOD HIGH SCHOOL   \n",
      "2  01M450                     EAST SIDE COMMUNITY SCHOOL   \n",
      "3  01M458                      FORSYTH SATELLITE ACADEMY   \n",
      "4  01M509                        MARTA VALLE HIGH SCHOOL   \n",
      "\n",
      "  Num of SAT Test Takers SAT Critical Reading Avg. Score SAT Math Avg. Score  \\\n",
      "0                     29                             355                 404   \n",
      "1                     91                             383                 423   \n",
      "2                     70                             377                 402   \n",
      "3                      7                             414                 401   \n",
      "4                     44                             390                 433   \n",
      "\n",
      "  SAT Writing Avg. Score  \n",
      "0                    363  \n",
      "1                    366  \n",
      "2                    370  \n",
      "3                    359  \n",
      "4                    384  \n"
     ]
    }
   ],
   "source": [
    "print(data['sat_results'].head(5))"
   ]
  },
  {
   "cell_type": "markdown",
   "metadata": {},
   "source": [
    "We can make observations based on this output:\n",
    "\n",
    "<div>\n",
    "<p>We can make a few observations based on this output:</p>\n",
    "<ul>\n",
    "<li>The <code>DBN</code> appears to be a unique ID for each school.</li>\n",
    "<li>We can tell from the first few rows of names that we only have data about high schools.  </li>\n",
    "<li>There's only a single row for each high school, so each <code>DBN</code> is unique in the SAT data.  </li>\n",
    "<li>We may eventually want to combine the three columns that contain SAT scores -- <code>SAT Critical Reading Avg. Score</code>, <code>SAT Math Avg. Score</code>, and <code>SAT Writing Avg. Score</code> -- into a single column to make the scores easier to analyze.</li>\n",
    "</ul>\n",
    "<p>Given these observations, let's explore the other datasets to see if we can gain any insight into how to combine them.</p></div>"
   ]
  },
  {
   "cell_type": "markdown",
   "metadata": {},
   "source": [
    "We're almost ready to combine our datasets! We've come a long way in this lesson -- we've gone from choosing a topic for a project to acquiring the data to having clean data that we're almost ready to combine.\n",
    "\n",
    "Along the way, we've learned how to:\n",
    "\n",
    "Handle files with different formats and columns\n",
    "Prepare to merge multiple files\n",
    "Use text processing to extract coordinates from a string\n",
    "Convert columns from strings to numbers\n",
    "You'll always learn something new while working on a real-world data science project. Each project is unique and there will always be quirks you don't quite know how to handle. The key is to be willing to try different approaches and to have a general framework in your head for how to move from Step A to Step B.\n",
    "\n",
    "we began investigating possible relationships between SAT scores and demographic factors. In order to do this, we acquired several datasets about New York City public schools. We manipulated these datasets and found that we could combine them using the **DBN** column. All of the datasets are currently stored as keys in the data dictionary. Each dataset is a pandas dataframe.\n",
    "\n",
    "In this lesson, we'll clean the data more, then combine it. Finally, we'll compute correlations and perform some analysis.\n",
    "\n",
    "**The first thing we'll need to do in preparation for the merge is condense some of the datasets.** we noticed that the values in the DBN column were unique in the sat_results data set. Other data sets like class_size had duplicate DBN values. We'll need to condense these datasets **so that each value in the DBN column is unique**.\n",
    "\n",
    "\n",
    "While the main dataset we want to analyze, sat_results, has unique DBN values for every high school in New York City, other datasets aren't as clean. A single row in the sat_results dataset may match multiple rows in the class_size dataset, for example. This situation creates problems, because we don't know which of the multiple entries in the class_size dataset we should combine with the single matching entry in sat_results. Here's a diagram that illustrates the problem:\n",
    "\n",
    "![condense_1](condense_1.png)\n",
    "\n",
    "<p>In the diagram above, we can't combine the rows from both datasets, because there are several cases where multiple rows in <code>class_size</code> match a single row in <code>sat_results</code>.</p>\n",
    "\n",
    "\n",
    "<p>To resolve this issue, we'll condense the <code>class_size</code>, <code>graduation</code> and <code>demographics</code> datasets so that each <code>DBN</code> is unique.</p>\n",
    "\n",
    "<p>The first dataset that we'll condense is <code>class_size</code>.  The first few rows of <code>class_size</code> look like this:</p>\n",
    "\n",
    "\n",
    "data[\"class_size\"].head(5)\n",
    "\n",
    "\n",
    "<p>The first few rows pertain to the same school, which is why the <code>DBN</code> appears more than once.  It looks like each school has multiple values for <code>GRADE</code>, <code>PROGRAM TYPE</code>, <code>CORE SUBJECT (MS CORE and 9-12 ONLY)</code>, and <code>CORE COURSE (MS CORE and 9-12 ONLY)</code>.  </p>"
   ]
  },
  {
   "cell_type": "code",
   "execution_count": 15,
   "metadata": {},
   "outputs": [
    {
     "name": "stdout",
     "output_type": "stream",
     "text": [
      "<class 'pandas.core.frame.DataFrame'>\n",
      "RangeIndex: 478 entries, 0 to 477\n",
      "Data columns (total 6 columns):\n",
      " #   Column                           Non-Null Count  Dtype \n",
      "---  ------                           --------------  ----- \n",
      " 0   DBN                              478 non-null    object\n",
      " 1   SCHOOL NAME                      478 non-null    object\n",
      " 2   Num of SAT Test Takers           478 non-null    object\n",
      " 3   SAT Critical Reading Avg. Score  478 non-null    object\n",
      " 4   SAT Math Avg. Score              478 non-null    object\n",
      " 5   SAT Writing Avg. Score           478 non-null    object\n",
      "dtypes: object(6)\n",
      "memory usage: 22.5+ KB\n"
     ]
    }
   ],
   "source": [
    "data['sat_results'].info()"
   ]
  }
 ],
 "metadata": {
  "kernelspec": {
   "display_name": "Python 3",
   "language": "python",
   "name": "python3"
  },
  "language_info": {
   "codemirror_mode": {
    "name": "ipython",
    "version": 3
   },
   "file_extension": ".py",
   "mimetype": "text/x-python",
   "name": "python",
   "nbconvert_exporter": "python",
   "pygments_lexer": "ipython3",
   "version": "3.8.2"
  }
 },
 "nbformat": 4,
 "nbformat_minor": 4
}
