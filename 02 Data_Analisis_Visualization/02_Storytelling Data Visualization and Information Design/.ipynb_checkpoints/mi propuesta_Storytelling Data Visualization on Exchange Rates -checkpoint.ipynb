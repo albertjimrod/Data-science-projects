{
 "cells": [
  {
   "cell_type": "code",
   "execution_count": 1,
   "id": "42352f4e",
   "metadata": {},
   "outputs": [],
   "source": [
    "import numpy as np\n",
    "import pandas as pd\n",
    "import datetime as dt\n",
    "exchange_rates = pd.read_csv('/home/ion/Formacion/Dataquest/Data Scientist in Python/Step-2/3_6_Storytelling_Data_Visualization_and_Information_Design/04_Guided_Project_Storytelling_Data_Visualization_on_Exchanges_Rates/euro-daily-hist_1999_2020.csv')"
   ]
  },
  {
   "cell_type": "code",
   "execution_count": 2,
   "id": "f93e4b94",
   "metadata": {},
   "outputs": [
    {
     "data": {
      "text/html": [
       "<div>\n",
       "<style scoped>\n",
       "    .dataframe tbody tr th:only-of-type {\n",
       "        vertical-align: middle;\n",
       "    }\n",
       "\n",
       "    .dataframe tbody tr th {\n",
       "        vertical-align: top;\n",
       "    }\n",
       "\n",
       "    .dataframe thead th {\n",
       "        text-align: right;\n",
       "    }\n",
       "</style>\n",
       "<table border=\"1\" class=\"dataframe\">\n",
       "  <thead>\n",
       "    <tr style=\"text-align: right;\">\n",
       "      <th></th>\n",
       "      <th>Period\\Unit:</th>\n",
       "      <th>[Australian dollar ]</th>\n",
       "      <th>[Bulgarian lev ]</th>\n",
       "      <th>[Brazilian real ]</th>\n",
       "      <th>[Canadian dollar ]</th>\n",
       "      <th>[Swiss franc ]</th>\n",
       "      <th>[Chinese yuan renminbi ]</th>\n",
       "      <th>[Cypriot pound ]</th>\n",
       "      <th>[Czech koruna ]</th>\n",
       "      <th>[Danish krone ]</th>\n",
       "      <th>...</th>\n",
       "      <th>[Romanian leu ]</th>\n",
       "      <th>[Russian rouble ]</th>\n",
       "      <th>[Swedish krona ]</th>\n",
       "      <th>[Singapore dollar ]</th>\n",
       "      <th>[Slovenian tolar ]</th>\n",
       "      <th>[Slovak koruna ]</th>\n",
       "      <th>[Thai baht ]</th>\n",
       "      <th>[Turkish lira ]</th>\n",
       "      <th>[US dollar ]</th>\n",
       "      <th>[South African rand ]</th>\n",
       "    </tr>\n",
       "  </thead>\n",
       "  <tbody>\n",
       "    <tr>\n",
       "      <th>0</th>\n",
       "      <td>2021-03-26</td>\n",
       "      <td>1.5459</td>\n",
       "      <td>1.9558</td>\n",
       "      <td>6.7110</td>\n",
       "      <td>1.4814</td>\n",
       "      <td>1.1090</td>\n",
       "      <td>7.7063</td>\n",
       "      <td>NaN</td>\n",
       "      <td>26.081</td>\n",
       "      <td>7.4361</td>\n",
       "      <td>...</td>\n",
       "      <td>4.8878</td>\n",
       "      <td>89.5075</td>\n",
       "      <td>10.1905</td>\n",
       "      <td>1.5865</td>\n",
       "      <td>NaN</td>\n",
       "      <td>NaN</td>\n",
       "      <td>36.6540</td>\n",
       "      <td>9.4523</td>\n",
       "      <td>1.1782</td>\n",
       "      <td>17.6845</td>\n",
       "    </tr>\n",
       "    <tr>\n",
       "      <th>1</th>\n",
       "      <td>2021-03-25</td>\n",
       "      <td>1.5548</td>\n",
       "      <td>1.9558</td>\n",
       "      <td>6.6960</td>\n",
       "      <td>1.4849</td>\n",
       "      <td>1.1045</td>\n",
       "      <td>7.7220</td>\n",
       "      <td>NaN</td>\n",
       "      <td>26.233</td>\n",
       "      <td>7.4360</td>\n",
       "      <td>...</td>\n",
       "      <td>4.8865</td>\n",
       "      <td>90.0115</td>\n",
       "      <td>10.1935</td>\n",
       "      <td>1.5899</td>\n",
       "      <td>NaN</td>\n",
       "      <td>NaN</td>\n",
       "      <td>36.7460</td>\n",
       "      <td>9.4313</td>\n",
       "      <td>1.1802</td>\n",
       "      <td>17.6852</td>\n",
       "    </tr>\n",
       "    <tr>\n",
       "      <th>2</th>\n",
       "      <td>2021-03-24</td>\n",
       "      <td>1.5532</td>\n",
       "      <td>1.9558</td>\n",
       "      <td>6.5258</td>\n",
       "      <td>1.4884</td>\n",
       "      <td>1.1068</td>\n",
       "      <td>7.7133</td>\n",
       "      <td>NaN</td>\n",
       "      <td>26.206</td>\n",
       "      <td>7.4360</td>\n",
       "      <td>...</td>\n",
       "      <td>4.8880</td>\n",
       "      <td>90.2013</td>\n",
       "      <td>10.1635</td>\n",
       "      <td>1.5917</td>\n",
       "      <td>NaN</td>\n",
       "      <td>NaN</td>\n",
       "      <td>36.6580</td>\n",
       "      <td>9.4009</td>\n",
       "      <td>1.1825</td>\n",
       "      <td>17.5248</td>\n",
       "    </tr>\n",
       "    <tr>\n",
       "      <th>3</th>\n",
       "      <td>2021-03-23</td>\n",
       "      <td>1.5491</td>\n",
       "      <td>1.9558</td>\n",
       "      <td>6.5562</td>\n",
       "      <td>1.4938</td>\n",
       "      <td>1.1066</td>\n",
       "      <td>7.7367</td>\n",
       "      <td>NaN</td>\n",
       "      <td>26.198</td>\n",
       "      <td>7.4360</td>\n",
       "      <td>...</td>\n",
       "      <td>4.8893</td>\n",
       "      <td>90.2781</td>\n",
       "      <td>10.1813</td>\n",
       "      <td>1.5955</td>\n",
       "      <td>NaN</td>\n",
       "      <td>NaN</td>\n",
       "      <td>36.8190</td>\n",
       "      <td>9.3638</td>\n",
       "      <td>1.1883</td>\n",
       "      <td>17.5818</td>\n",
       "    </tr>\n",
       "    <tr>\n",
       "      <th>4</th>\n",
       "      <td>2021-03-22</td>\n",
       "      <td>1.5400</td>\n",
       "      <td>1.9558</td>\n",
       "      <td>6.5917</td>\n",
       "      <td>1.4903</td>\n",
       "      <td>1.1023</td>\n",
       "      <td>7.7582</td>\n",
       "      <td>NaN</td>\n",
       "      <td>26.075</td>\n",
       "      <td>7.4360</td>\n",
       "      <td>...</td>\n",
       "      <td>4.8862</td>\n",
       "      <td>88.9011</td>\n",
       "      <td>10.1580</td>\n",
       "      <td>1.5992</td>\n",
       "      <td>NaN</td>\n",
       "      <td>NaN</td>\n",
       "      <td>36.8160</td>\n",
       "      <td>9.4097</td>\n",
       "      <td>1.1926</td>\n",
       "      <td>17.5657</td>\n",
       "    </tr>\n",
       "  </tbody>\n",
       "</table>\n",
       "<p>5 rows × 41 columns</p>\n",
       "</div>"
      ],
      "text/plain": [
       "  Period\\Unit: [Australian dollar ] [Bulgarian lev ] [Brazilian real ]  \\\n",
       "0   2021-03-26               1.5459           1.9558            6.7110   \n",
       "1   2021-03-25               1.5548           1.9558            6.6960   \n",
       "2   2021-03-24               1.5532           1.9558            6.5258   \n",
       "3   2021-03-23               1.5491           1.9558            6.5562   \n",
       "4   2021-03-22               1.5400           1.9558            6.5917   \n",
       "\n",
       "  [Canadian dollar ] [Swiss franc ] [Chinese yuan renminbi ] [Cypriot pound ]  \\\n",
       "0             1.4814         1.1090                   7.7063              NaN   \n",
       "1             1.4849         1.1045                   7.7220              NaN   \n",
       "2             1.4884         1.1068                   7.7133              NaN   \n",
       "3             1.4938         1.1066                   7.7367              NaN   \n",
       "4             1.4903         1.1023                   7.7582              NaN   \n",
       "\n",
       "  [Czech koruna ] [Danish krone ]  ... [Romanian leu ] [Russian rouble ]  \\\n",
       "0          26.081          7.4361  ...          4.8878           89.5075   \n",
       "1          26.233          7.4360  ...          4.8865           90.0115   \n",
       "2          26.206          7.4360  ...          4.8880           90.2013   \n",
       "3          26.198          7.4360  ...          4.8893           90.2781   \n",
       "4          26.075          7.4360  ...          4.8862           88.9011   \n",
       "\n",
       "  [Swedish krona ] [Singapore dollar ] [Slovenian tolar ] [Slovak koruna ]  \\\n",
       "0          10.1905              1.5865                NaN              NaN   \n",
       "1          10.1935              1.5899                NaN              NaN   \n",
       "2          10.1635              1.5917                NaN              NaN   \n",
       "3          10.1813              1.5955                NaN              NaN   \n",
       "4          10.1580              1.5992                NaN              NaN   \n",
       "\n",
       "  [Thai baht ] [Turkish lira ] [US dollar ]  [South African rand ]  \n",
       "0      36.6540          9.4523       1.1782                17.6845  \n",
       "1      36.7460          9.4313       1.1802                17.6852  \n",
       "2      36.6580          9.4009       1.1825                17.5248  \n",
       "3      36.8190          9.3638       1.1883                17.5818  \n",
       "4      36.8160          9.4097       1.1926                17.5657  \n",
       "\n",
       "[5 rows x 41 columns]"
      ]
     },
     "execution_count": 2,
     "metadata": {},
     "output_type": "execute_result"
    }
   ],
   "source": [
    "exchange_rates.head()"
   ]
  },
  {
   "cell_type": "code",
   "execution_count": 3,
   "id": "34c18e55",
   "metadata": {},
   "outputs": [
    {
     "data": {
      "text/html": [
       "<div>\n",
       "<style scoped>\n",
       "    .dataframe tbody tr th:only-of-type {\n",
       "        vertical-align: middle;\n",
       "    }\n",
       "\n",
       "    .dataframe tbody tr th {\n",
       "        vertical-align: top;\n",
       "    }\n",
       "\n",
       "    .dataframe thead th {\n",
       "        text-align: right;\n",
       "    }\n",
       "</style>\n",
       "<table border=\"1\" class=\"dataframe\">\n",
       "  <thead>\n",
       "    <tr style=\"text-align: right;\">\n",
       "      <th></th>\n",
       "      <th>Period\\Unit:</th>\n",
       "      <th>[Australian dollar ]</th>\n",
       "      <th>[Bulgarian lev ]</th>\n",
       "      <th>[Brazilian real ]</th>\n",
       "      <th>[Canadian dollar ]</th>\n",
       "      <th>[Swiss franc ]</th>\n",
       "      <th>[Chinese yuan renminbi ]</th>\n",
       "      <th>[Cypriot pound ]</th>\n",
       "      <th>[Czech koruna ]</th>\n",
       "      <th>[Danish krone ]</th>\n",
       "      <th>...</th>\n",
       "      <th>[Romanian leu ]</th>\n",
       "      <th>[Russian rouble ]</th>\n",
       "      <th>[Swedish krona ]</th>\n",
       "      <th>[Singapore dollar ]</th>\n",
       "      <th>[Slovenian tolar ]</th>\n",
       "      <th>[Slovak koruna ]</th>\n",
       "      <th>[Thai baht ]</th>\n",
       "      <th>[Turkish lira ]</th>\n",
       "      <th>[US dollar ]</th>\n",
       "      <th>[South African rand ]</th>\n",
       "    </tr>\n",
       "  </thead>\n",
       "  <tbody>\n",
       "    <tr>\n",
       "      <th>5749</th>\n",
       "      <td>1999-01-08</td>\n",
       "      <td>1.8406</td>\n",
       "      <td>NaN</td>\n",
       "      <td>NaN</td>\n",
       "      <td>1.7643</td>\n",
       "      <td>1.6138</td>\n",
       "      <td>NaN</td>\n",
       "      <td>0.58187</td>\n",
       "      <td>34.938</td>\n",
       "      <td>7.4433</td>\n",
       "      <td>...</td>\n",
       "      <td>1.3143</td>\n",
       "      <td>27.2075</td>\n",
       "      <td>9.1650</td>\n",
       "      <td>1.9537</td>\n",
       "      <td>188.8400</td>\n",
       "      <td>42.560</td>\n",
       "      <td>42.5590</td>\n",
       "      <td>0.3718</td>\n",
       "      <td>1.1659</td>\n",
       "      <td>6.7855</td>\n",
       "    </tr>\n",
       "    <tr>\n",
       "      <th>5750</th>\n",
       "      <td>1999-01-07</td>\n",
       "      <td>1.8474</td>\n",
       "      <td>NaN</td>\n",
       "      <td>NaN</td>\n",
       "      <td>1.7602</td>\n",
       "      <td>1.6165</td>\n",
       "      <td>NaN</td>\n",
       "      <td>0.58187</td>\n",
       "      <td>34.886</td>\n",
       "      <td>7.4431</td>\n",
       "      <td>...</td>\n",
       "      <td>1.3092</td>\n",
       "      <td>26.9876</td>\n",
       "      <td>9.1800</td>\n",
       "      <td>1.9436</td>\n",
       "      <td>188.8000</td>\n",
       "      <td>42.765</td>\n",
       "      <td>42.1678</td>\n",
       "      <td>0.3701</td>\n",
       "      <td>1.1632</td>\n",
       "      <td>6.8283</td>\n",
       "    </tr>\n",
       "    <tr>\n",
       "      <th>5751</th>\n",
       "      <td>1999-01-06</td>\n",
       "      <td>1.8820</td>\n",
       "      <td>NaN</td>\n",
       "      <td>NaN</td>\n",
       "      <td>1.7711</td>\n",
       "      <td>1.6116</td>\n",
       "      <td>NaN</td>\n",
       "      <td>0.58200</td>\n",
       "      <td>34.850</td>\n",
       "      <td>7.4452</td>\n",
       "      <td>...</td>\n",
       "      <td>1.3168</td>\n",
       "      <td>27.4315</td>\n",
       "      <td>9.3050</td>\n",
       "      <td>1.9699</td>\n",
       "      <td>188.7000</td>\n",
       "      <td>42.778</td>\n",
       "      <td>42.6949</td>\n",
       "      <td>0.3722</td>\n",
       "      <td>1.1743</td>\n",
       "      <td>6.7307</td>\n",
       "    </tr>\n",
       "    <tr>\n",
       "      <th>5752</th>\n",
       "      <td>1999-01-05</td>\n",
       "      <td>1.8944</td>\n",
       "      <td>NaN</td>\n",
       "      <td>NaN</td>\n",
       "      <td>1.7965</td>\n",
       "      <td>1.6123</td>\n",
       "      <td>NaN</td>\n",
       "      <td>0.58230</td>\n",
       "      <td>34.917</td>\n",
       "      <td>7.4495</td>\n",
       "      <td>...</td>\n",
       "      <td>1.3168</td>\n",
       "      <td>26.5876</td>\n",
       "      <td>9.4025</td>\n",
       "      <td>1.9655</td>\n",
       "      <td>188.7750</td>\n",
       "      <td>42.848</td>\n",
       "      <td>42.5048</td>\n",
       "      <td>0.3728</td>\n",
       "      <td>1.1790</td>\n",
       "      <td>6.7975</td>\n",
       "    </tr>\n",
       "    <tr>\n",
       "      <th>5753</th>\n",
       "      <td>1999-01-04</td>\n",
       "      <td>1.9100</td>\n",
       "      <td>NaN</td>\n",
       "      <td>NaN</td>\n",
       "      <td>1.8004</td>\n",
       "      <td>1.6168</td>\n",
       "      <td>NaN</td>\n",
       "      <td>0.58231</td>\n",
       "      <td>35.107</td>\n",
       "      <td>7.4501</td>\n",
       "      <td>...</td>\n",
       "      <td>1.3111</td>\n",
       "      <td>25.2875</td>\n",
       "      <td>9.4696</td>\n",
       "      <td>1.9554</td>\n",
       "      <td>189.0450</td>\n",
       "      <td>42.991</td>\n",
       "      <td>42.6799</td>\n",
       "      <td>0.3723</td>\n",
       "      <td>1.1789</td>\n",
       "      <td>6.9358</td>\n",
       "    </tr>\n",
       "  </tbody>\n",
       "</table>\n",
       "<p>5 rows × 41 columns</p>\n",
       "</div>"
      ],
      "text/plain": [
       "     Period\\Unit: [Australian dollar ] [Bulgarian lev ] [Brazilian real ]  \\\n",
       "5749   1999-01-08               1.8406              NaN               NaN   \n",
       "5750   1999-01-07               1.8474              NaN               NaN   \n",
       "5751   1999-01-06               1.8820              NaN               NaN   \n",
       "5752   1999-01-05               1.8944              NaN               NaN   \n",
       "5753   1999-01-04               1.9100              NaN               NaN   \n",
       "\n",
       "     [Canadian dollar ] [Swiss franc ] [Chinese yuan renminbi ]  \\\n",
       "5749             1.7643         1.6138                      NaN   \n",
       "5750             1.7602         1.6165                      NaN   \n",
       "5751             1.7711         1.6116                      NaN   \n",
       "5752             1.7965         1.6123                      NaN   \n",
       "5753             1.8004         1.6168                      NaN   \n",
       "\n",
       "     [Cypriot pound ] [Czech koruna ] [Danish krone ]  ... [Romanian leu ]  \\\n",
       "5749          0.58187          34.938          7.4433  ...          1.3143   \n",
       "5750          0.58187          34.886          7.4431  ...          1.3092   \n",
       "5751          0.58200          34.850          7.4452  ...          1.3168   \n",
       "5752          0.58230          34.917          7.4495  ...          1.3168   \n",
       "5753          0.58231          35.107          7.4501  ...          1.3111   \n",
       "\n",
       "     [Russian rouble ] [Swedish krona ] [Singapore dollar ]  \\\n",
       "5749           27.2075           9.1650              1.9537   \n",
       "5750           26.9876           9.1800              1.9436   \n",
       "5751           27.4315           9.3050              1.9699   \n",
       "5752           26.5876           9.4025              1.9655   \n",
       "5753           25.2875           9.4696              1.9554   \n",
       "\n",
       "     [Slovenian tolar ] [Slovak koruna ] [Thai baht ] [Turkish lira ]  \\\n",
       "5749           188.8400           42.560      42.5590          0.3718   \n",
       "5750           188.8000           42.765      42.1678          0.3701   \n",
       "5751           188.7000           42.778      42.6949          0.3722   \n",
       "5752           188.7750           42.848      42.5048          0.3728   \n",
       "5753           189.0450           42.991      42.6799          0.3723   \n",
       "\n",
       "     [US dollar ]  [South African rand ]  \n",
       "5749       1.1659                 6.7855  \n",
       "5750       1.1632                 6.8283  \n",
       "5751       1.1743                 6.7307  \n",
       "5752       1.1790                 6.7975  \n",
       "5753       1.1789                 6.9358  \n",
       "\n",
       "[5 rows x 41 columns]"
      ]
     },
     "execution_count": 3,
     "metadata": {},
     "output_type": "execute_result"
    }
   ],
   "source": [
    "exchange_rates.tail()"
   ]
  },
  {
   "cell_type": "code",
   "execution_count": 4,
   "id": "8c10dbce",
   "metadata": {},
   "outputs": [
    {
     "name": "stdout",
     "output_type": "stream",
     "text": [
      "<class 'pandas.core.frame.DataFrame'>\n",
      "RangeIndex: 5754 entries, 0 to 5753\n",
      "Data columns (total 41 columns):\n",
      " #   Column                    Non-Null Count  Dtype  \n",
      "---  ------                    --------------  -----  \n",
      " 0   Period\\Unit:              5754 non-null   object \n",
      " 1   [Australian dollar ]      5754 non-null   object \n",
      " 2   [Bulgarian lev ]          5352 non-null   object \n",
      " 3   [Brazilian real ]         5486 non-null   object \n",
      " 4   [Canadian dollar ]        5754 non-null   object \n",
      " 5   [Swiss franc ]            5754 non-null   object \n",
      " 6   [Chinese yuan renminbi ]  5486 non-null   object \n",
      " 7   [Cypriot pound ]          2346 non-null   object \n",
      " 8   [Czech koruna ]           5754 non-null   object \n",
      " 9   [Danish krone ]           5754 non-null   object \n",
      " 10  [Estonian kroon ]         3130 non-null   object \n",
      " 11  [UK pound sterling ]      5754 non-null   object \n",
      " 12  [Greek drachma ]          520 non-null    object \n",
      " 13  [Hong Kong dollar ]       5754 non-null   object \n",
      " 14  [Croatian kuna ]          5486 non-null   object \n",
      " 15  [Hungarian forint ]       5754 non-null   object \n",
      " 16  [Indonesian rupiah ]      5754 non-null   object \n",
      " 17  [Israeli shekel ]         5486 non-null   object \n",
      " 18  [Indian rupee ]           5486 non-null   object \n",
      " 19  [Iceland krona ]          3347 non-null   float64\n",
      " 20  [Japanese yen ]           5754 non-null   object \n",
      " 21  [Korean won ]             5754 non-null   object \n",
      " 22  [Lithuanian litas ]       4159 non-null   object \n",
      " 23  [Latvian lats ]           3904 non-null   object \n",
      " 24  [Maltese lira ]           2346 non-null   object \n",
      " 25  [Mexican peso ]           5754 non-null   object \n",
      " 26  [Malaysian ringgit ]      5754 non-null   object \n",
      " 27  [Norwegian krone ]        5754 non-null   object \n",
      " 28  [New Zealand dollar ]     5754 non-null   object \n",
      " 29  [Philippine peso ]        5754 non-null   object \n",
      " 30  [Polish zloty ]           5754 non-null   object \n",
      " 31  [Romanian leu ]           5692 non-null   float64\n",
      " 32  [Russian rouble ]         5754 non-null   object \n",
      " 33  [Swedish krona ]          5754 non-null   object \n",
      " 34  [Singapore dollar ]       5754 non-null   object \n",
      " 35  [Slovenian tolar ]        2085 non-null   object \n",
      " 36  [Slovak koruna ]          2608 non-null   object \n",
      " 37  [Thai baht ]              5754 non-null   object \n",
      " 38  [Turkish lira ]           5692 non-null   float64\n",
      " 39  [US dollar ]              5754 non-null   object \n",
      " 40  [South African rand ]     5754 non-null   object \n",
      "dtypes: float64(3), object(38)\n",
      "memory usage: 1.8+ MB\n"
     ]
    }
   ],
   "source": [
    "exchange_rates.info()"
   ]
  },
  {
   "cell_type": "markdown",
   "id": "e4b75061",
   "metadata": {},
   "source": [
    "### Dataset info:\n",
    "\n",
    "What is the number of rows and columns? 41 - 5698 rows\n",
    "\n",
    "Are there null values? Si\n",
    "\n",
    "What is the data type of each column? excepto la lira turka, el leu rumano, la corona islandesa."
   ]
  },
  {
   "cell_type": "code",
   "execution_count": 5,
   "id": "9be2f638",
   "metadata": {},
   "outputs": [],
   "source": [
    "exchange_rates.rename(columns={'[US dollar ]':'US_dollar','Period\\\\Unit:': 'Time'},\n",
    "                     inplace = True)"
   ]
  },
  {
   "cell_type": "code",
   "execution_count": 6,
   "id": "2ed4a3b6",
   "metadata": {},
   "outputs": [
    {
     "data": {
      "text/plain": [
       "0       2021-03-26\n",
       "1       2021-03-25\n",
       "2       2021-03-24\n",
       "3       2021-03-23\n",
       "4       2021-03-22\n",
       "           ...    \n",
       "5749    1999-01-08\n",
       "5750    1999-01-07\n",
       "5751    1999-01-06\n",
       "5752    1999-01-05\n",
       "5753    1999-01-04\n",
       "Name: Time, Length: 5754, dtype: object"
      ]
     },
     "execution_count": 6,
     "metadata": {},
     "output_type": "execute_result"
    }
   ],
   "source": [
    "exchange_rates['Time']"
   ]
  },
  {
   "cell_type": "code",
   "execution_count": 7,
   "id": "08dcceda",
   "metadata": {},
   "outputs": [
    {
     "data": {
      "text/plain": [
       "<bound method NDFrame.describe of 0       2021-03-26\n",
       "1       2021-03-25\n",
       "2       2021-03-24\n",
       "3       2021-03-23\n",
       "4       2021-03-22\n",
       "           ...    \n",
       "5749    1999-01-08\n",
       "5750    1999-01-07\n",
       "5751    1999-01-06\n",
       "5752    1999-01-05\n",
       "5753    1999-01-04\n",
       "Name: Time, Length: 5754, dtype: object>"
      ]
     },
     "execution_count": 7,
     "metadata": {},
     "output_type": "execute_result"
    }
   ],
   "source": [
    "exchange_rates['Time'].describe"
   ]
  },
  {
   "cell_type": "code",
   "execution_count": 8,
   "id": "bb80ecf1",
   "metadata": {},
   "outputs": [],
   "source": [
    "exchange_rates['Time'] = pd.to_datetime(exchange_rates['Time'])"
   ]
  },
  {
   "cell_type": "code",
   "execution_count": 9,
   "id": "15295d31",
   "metadata": {},
   "outputs": [],
   "source": [
    "exchange_rates.sort_values('Time',\n",
    "                           inplace=True)"
   ]
  },
  {
   "cell_type": "code",
   "execution_count": 10,
   "id": "f16a3496",
   "metadata": {},
   "outputs": [
    {
     "data": {
      "text/plain": [
       "<bound method NDFrame.describe of 5753   1999-01-04\n",
       "5752   1999-01-05\n",
       "5751   1999-01-06\n",
       "5750   1999-01-07\n",
       "5749   1999-01-08\n",
       "          ...    \n",
       "4      2021-03-22\n",
       "3      2021-03-23\n",
       "2      2021-03-24\n",
       "1      2021-03-25\n",
       "0      2021-03-26\n",
       "Name: Time, Length: 5754, dtype: datetime64[ns]>"
      ]
     },
     "execution_count": 10,
     "metadata": {},
     "output_type": "execute_result"
    }
   ],
   "source": [
    "exchange_rates['Time'].describe"
   ]
  },
  {
   "cell_type": "markdown",
   "id": "c5180b3e",
   "metadata": {},
   "source": [
    "## Isolate the Time and the US_dollar columns. \n",
    "\n",
    "Assign them to a different variable named `euro_to_dollar`."
   ]
  },
  {
   "cell_type": "code",
   "execution_count": 11,
   "id": "bd3698a1",
   "metadata": {},
   "outputs": [],
   "source": [
    "euro_to_dollar = exchange_rates.loc[:,['Time','US_dollar']].copy()"
   ]
  },
  {
   "cell_type": "code",
   "execution_count": 12,
   "id": "f8876caf",
   "metadata": {},
   "outputs": [
    {
     "name": "stdout",
     "output_type": "stream",
     "text": [
      "<class 'pandas.core.frame.DataFrame'>\n",
      "Int64Index: 5754 entries, 5753 to 0\n",
      "Data columns (total 2 columns):\n",
      " #   Column     Non-Null Count  Dtype         \n",
      "---  ------     --------------  -----         \n",
      " 0   Time       5754 non-null   datetime64[ns]\n",
      " 1   US_dollar  5754 non-null   object        \n",
      "dtypes: datetime64[ns](1), object(1)\n",
      "memory usage: 134.9+ KB\n"
     ]
    }
   ],
   "source": [
    "euro_to_dollar.info()"
   ]
  },
  {
   "cell_type": "markdown",
   "id": "4bda6174",
   "metadata": {},
   "source": [
    "### Run the Series.value_counts() method on the US_dollar column\n",
    "\n",
    "see if you notice anything wrong..."
   ]
  },
  {
   "cell_type": "code",
   "execution_count": 13,
   "id": "bba776f8",
   "metadata": {},
   "outputs": [
    {
     "data": {
      "text/plain": [
       "-         62\n",
       "1.2276     9\n",
       "1.1215     8\n",
       "1.1305     7\n",
       "1.1218     6\n",
       "          ..\n",
       "1.2781     1\n",
       "1.2775     1\n",
       "1.2919     1\n",
       "1.2709     1\n",
       "1.1891     1\n",
       "Name: US_dollar, Length: 3543, dtype: int64"
      ]
     },
     "execution_count": 13,
     "metadata": {},
     "output_type": "execute_result"
    }
   ],
   "source": [
    "euro_to_dollar['US_dollar'].value_counts()"
   ]
  },
  {
   "cell_type": "markdown",
   "id": "ba4eab34",
   "metadata": {},
   "source": [
    "#### there's 62 rows filled with '-'"
   ]
  },
  {
   "cell_type": "markdown",
   "id": "a32dce9b",
   "metadata": {},
   "source": [
    "### Drop all the rows where the - character appears in the US_dollar column."
   ]
  },
  {
   "cell_type": "code",
   "execution_count": 14,
   "id": "585ade91",
   "metadata": {},
   "outputs": [],
   "source": [
    "# True será todo lo que sea diferente a '-' \n",
    "bool_filter = ( euro_to_dollar['US_dollar'] != '-' )"
   ]
  },
  {
   "cell_type": "code",
   "execution_count": 15,
   "id": "ff67d4e0",
   "metadata": {},
   "outputs": [
    {
     "data": {
      "text/plain": [
       "5753    True\n",
       "5752    True\n",
       "5751    True\n",
       "5750    True\n",
       "5749    True\n",
       "        ... \n",
       "4       True\n",
       "3       True\n",
       "2       True\n",
       "1       True\n",
       "0       True\n",
       "Name: US_dollar, Length: 5754, dtype: bool"
      ]
     },
     "execution_count": 15,
     "metadata": {},
     "output_type": "execute_result"
    }
   ],
   "source": [
    "bool_filter"
   ]
  },
  {
   "cell_type": "code",
   "execution_count": 16,
   "id": "1069319e",
   "metadata": {},
   "outputs": [],
   "source": [
    "euro_to_dollar = euro_to_dollar[bool_filter].copy()"
   ]
  },
  {
   "cell_type": "code",
   "execution_count": 17,
   "id": "3dac57e6",
   "metadata": {},
   "outputs": [
    {
     "data": {
      "text/html": [
       "<div>\n",
       "<style scoped>\n",
       "    .dataframe tbody tr th:only-of-type {\n",
       "        vertical-align: middle;\n",
       "    }\n",
       "\n",
       "    .dataframe tbody tr th {\n",
       "        vertical-align: top;\n",
       "    }\n",
       "\n",
       "    .dataframe thead th {\n",
       "        text-align: right;\n",
       "    }\n",
       "</style>\n",
       "<table border=\"1\" class=\"dataframe\">\n",
       "  <thead>\n",
       "    <tr style=\"text-align: right;\">\n",
       "      <th></th>\n",
       "      <th>Time</th>\n",
       "      <th>US_dollar</th>\n",
       "    </tr>\n",
       "  </thead>\n",
       "  <tbody>\n",
       "    <tr>\n",
       "      <th>5753</th>\n",
       "      <td>1999-01-04</td>\n",
       "      <td>1.1789</td>\n",
       "    </tr>\n",
       "    <tr>\n",
       "      <th>5752</th>\n",
       "      <td>1999-01-05</td>\n",
       "      <td>1.1790</td>\n",
       "    </tr>\n",
       "    <tr>\n",
       "      <th>5751</th>\n",
       "      <td>1999-01-06</td>\n",
       "      <td>1.1743</td>\n",
       "    </tr>\n",
       "    <tr>\n",
       "      <th>5750</th>\n",
       "      <td>1999-01-07</td>\n",
       "      <td>1.1632</td>\n",
       "    </tr>\n",
       "    <tr>\n",
       "      <th>5749</th>\n",
       "      <td>1999-01-08</td>\n",
       "      <td>1.1659</td>\n",
       "    </tr>\n",
       "    <tr>\n",
       "      <th>...</th>\n",
       "      <td>...</td>\n",
       "      <td>...</td>\n",
       "    </tr>\n",
       "    <tr>\n",
       "      <th>4</th>\n",
       "      <td>2021-03-22</td>\n",
       "      <td>1.1926</td>\n",
       "    </tr>\n",
       "    <tr>\n",
       "      <th>3</th>\n",
       "      <td>2021-03-23</td>\n",
       "      <td>1.1883</td>\n",
       "    </tr>\n",
       "    <tr>\n",
       "      <th>2</th>\n",
       "      <td>2021-03-24</td>\n",
       "      <td>1.1825</td>\n",
       "    </tr>\n",
       "    <tr>\n",
       "      <th>1</th>\n",
       "      <td>2021-03-25</td>\n",
       "      <td>1.1802</td>\n",
       "    </tr>\n",
       "    <tr>\n",
       "      <th>0</th>\n",
       "      <td>2021-03-26</td>\n",
       "      <td>1.1782</td>\n",
       "    </tr>\n",
       "  </tbody>\n",
       "</table>\n",
       "<p>5692 rows × 2 columns</p>\n",
       "</div>"
      ],
      "text/plain": [
       "           Time US_dollar\n",
       "5753 1999-01-04    1.1789\n",
       "5752 1999-01-05    1.1790\n",
       "5751 1999-01-06    1.1743\n",
       "5750 1999-01-07    1.1632\n",
       "5749 1999-01-08    1.1659\n",
       "...         ...       ...\n",
       "4    2021-03-22    1.1926\n",
       "3    2021-03-23    1.1883\n",
       "2    2021-03-24    1.1825\n",
       "1    2021-03-25    1.1802\n",
       "0    2021-03-26    1.1782\n",
       "\n",
       "[5692 rows x 2 columns]"
      ]
     },
     "execution_count": 17,
     "metadata": {},
     "output_type": "execute_result"
    }
   ],
   "source": [
    "euro_to_dollar"
   ]
  },
  {
   "cell_type": "code",
   "execution_count": 18,
   "id": "7e13debc",
   "metadata": {},
   "outputs": [
    {
     "data": {
      "text/plain": [
       "1.2276    9\n",
       "1.1215    8\n",
       "1.1305    7\n",
       "1.1797    6\n",
       "1.2713    6\n",
       "         ..\n",
       "1.2602    1\n",
       "1.2542    1\n",
       "1.2525    1\n",
       "1.2747    1\n",
       "1.1891    1\n",
       "Name: US_dollar, Length: 3542, dtype: int64"
      ]
     },
     "execution_count": 18,
     "metadata": {},
     "output_type": "execute_result"
    }
   ],
   "source": [
    "euro_to_dollar['US_dollar'].value_counts()"
   ]
  },
  {
   "cell_type": "code",
   "execution_count": 19,
   "id": "67f50190",
   "metadata": {},
   "outputs": [
    {
     "name": "stdout",
     "output_type": "stream",
     "text": [
      "<class 'pandas.core.frame.DataFrame'>\n",
      "Int64Index: 5692 entries, 5753 to 0\n",
      "Data columns (total 2 columns):\n",
      " #   Column     Non-Null Count  Dtype         \n",
      "---  ------     --------------  -----         \n",
      " 0   Time       5692 non-null   datetime64[ns]\n",
      " 1   US_dollar  5692 non-null   object        \n",
      "dtypes: datetime64[ns](1), object(1)\n",
      "memory usage: 133.4+ KB\n"
     ]
    }
   ],
   "source": [
    "euro_to_dollar.info()"
   ]
  },
  {
   "cell_type": "markdown",
   "id": "1f9a2e29",
   "metadata": {},
   "source": [
    "### Convert the US_dollar column to a float data type. \n"
   ]
  },
  {
   "cell_type": "code",
   "execution_count": 20,
   "id": "8f32e730",
   "metadata": {},
   "outputs": [],
   "source": [
    "euro_to_dollar['US_dollar'] = euro_to_dollar['US_dollar'].astype(float).copy()"
   ]
  },
  {
   "cell_type": "code",
   "execution_count": 21,
   "id": "fcf72b2b",
   "metadata": {},
   "outputs": [
    {
     "name": "stdout",
     "output_type": "stream",
     "text": [
      "<class 'pandas.core.frame.DataFrame'>\n",
      "Int64Index: 5692 entries, 5753 to 0\n",
      "Data columns (total 2 columns):\n",
      " #   Column     Non-Null Count  Dtype         \n",
      "---  ------     --------------  -----         \n",
      " 0   Time       5692 non-null   datetime64[ns]\n",
      " 1   US_dollar  5692 non-null   float64       \n",
      "dtypes: datetime64[ns](1), float64(1)\n",
      "memory usage: 133.4 KB\n"
     ]
    }
   ],
   "source": [
    "euro_to_dollar.info()"
   ]
  },
  {
   "cell_type": "code",
   "execution_count": 22,
   "id": "91af704d",
   "metadata": {},
   "outputs": [
    {
     "data": {
      "text/html": [
       "<div>\n",
       "<style scoped>\n",
       "    .dataframe tbody tr th:only-of-type {\n",
       "        vertical-align: middle;\n",
       "    }\n",
       "\n",
       "    .dataframe tbody tr th {\n",
       "        vertical-align: top;\n",
       "    }\n",
       "\n",
       "    .dataframe thead th {\n",
       "        text-align: right;\n",
       "    }\n",
       "</style>\n",
       "<table border=\"1\" class=\"dataframe\">\n",
       "  <thead>\n",
       "    <tr style=\"text-align: right;\">\n",
       "      <th></th>\n",
       "      <th>Time</th>\n",
       "      <th>US_dollar</th>\n",
       "    </tr>\n",
       "  </thead>\n",
       "  <tbody>\n",
       "    <tr>\n",
       "      <th>5753</th>\n",
       "      <td>1999-01-04</td>\n",
       "      <td>1.1789</td>\n",
       "    </tr>\n",
       "    <tr>\n",
       "      <th>5752</th>\n",
       "      <td>1999-01-05</td>\n",
       "      <td>1.1790</td>\n",
       "    </tr>\n",
       "    <tr>\n",
       "      <th>5751</th>\n",
       "      <td>1999-01-06</td>\n",
       "      <td>1.1743</td>\n",
       "    </tr>\n",
       "    <tr>\n",
       "      <th>5750</th>\n",
       "      <td>1999-01-07</td>\n",
       "      <td>1.1632</td>\n",
       "    </tr>\n",
       "    <tr>\n",
       "      <th>5749</th>\n",
       "      <td>1999-01-08</td>\n",
       "      <td>1.1659</td>\n",
       "    </tr>\n",
       "    <tr>\n",
       "      <th>...</th>\n",
       "      <td>...</td>\n",
       "      <td>...</td>\n",
       "    </tr>\n",
       "    <tr>\n",
       "      <th>4</th>\n",
       "      <td>2021-03-22</td>\n",
       "      <td>1.1926</td>\n",
       "    </tr>\n",
       "    <tr>\n",
       "      <th>3</th>\n",
       "      <td>2021-03-23</td>\n",
       "      <td>1.1883</td>\n",
       "    </tr>\n",
       "    <tr>\n",
       "      <th>2</th>\n",
       "      <td>2021-03-24</td>\n",
       "      <td>1.1825</td>\n",
       "    </tr>\n",
       "    <tr>\n",
       "      <th>1</th>\n",
       "      <td>2021-03-25</td>\n",
       "      <td>1.1802</td>\n",
       "    </tr>\n",
       "    <tr>\n",
       "      <th>0</th>\n",
       "      <td>2021-03-26</td>\n",
       "      <td>1.1782</td>\n",
       "    </tr>\n",
       "  </tbody>\n",
       "</table>\n",
       "<p>5692 rows × 2 columns</p>\n",
       "</div>"
      ],
      "text/plain": [
       "           Time  US_dollar\n",
       "5753 1999-01-04     1.1789\n",
       "5752 1999-01-05     1.1790\n",
       "5751 1999-01-06     1.1743\n",
       "5750 1999-01-07     1.1632\n",
       "5749 1999-01-08     1.1659\n",
       "...         ...        ...\n",
       "4    2021-03-22     1.1926\n",
       "3    2021-03-23     1.1883\n",
       "2    2021-03-24     1.1825\n",
       "1    2021-03-25     1.1802\n",
       "0    2021-03-26     1.1782\n",
       "\n",
       "[5692 rows x 2 columns]"
      ]
     },
     "execution_count": 22,
     "metadata": {},
     "output_type": "execute_result"
    }
   ],
   "source": [
    "euro_to_dollar"
   ]
  },
  {
   "cell_type": "markdown",
   "id": "ac48ef6e",
   "metadata": {},
   "source": [
    "### 3 - Now that we're finished cleaning the data, we'll generate a line plot to visualize the evolution of the euro-dollar exchange rate."
   ]
  },
  {
   "cell_type": "code",
   "execution_count": 23,
   "id": "de50084e",
   "metadata": {},
   "outputs": [
    {
     "data": {
      "image/png": "[encoded data removed]",
      "text/plain": [
       "<Figure size 432x288 with 1 Axes>"
      ]
     },
     "metadata": {
      "needs_background": "light"
     },
     "output_type": "display_data"
    }
   ],
   "source": [
    "import matplotlib.pyplot as plt\n",
    "import matplotlib.style as style\n",
    "style.use('default')\n",
    "%matplotlib inline\n",
    "plt.plot(euro_to_dollar['Time'],euro_to_dollar['US_dollar'])\n",
    "plt.show()"
   ]
  },
  {
   "cell_type": "markdown",
   "id": "123a30ab",
   "metadata": {},
   "source": [
    "### Calculate the rolling means for the US_dollar column using a moving window of 30 days. Add the rolling means to a new column named rolling_mean."
   ]
  },
  {
   "cell_type": "code",
   "execution_count": 24,
   "id": "367f2fcb",
   "metadata": {},
   "outputs": [],
   "source": [
    "import matplotlib.style as style"
   ]
  },
  {
   "cell_type": "code",
   "execution_count": 25,
   "id": "ac6e392b",
   "metadata": {},
   "outputs": [],
   "source": [
    "euro_to_dollar['rolling_mean'] =  euro_to_dollar['US_dollar'].rolling(30).mean()"
   ]
  },
  {
   "cell_type": "code",
   "execution_count": 26,
   "id": "e1dcb1cc",
   "metadata": {},
   "outputs": [
    {
     "data": {
      "image/png": "[encoded data removed]",
      "text/plain": [
       "<Figure size 432x288 with 1 Axes>"
      ]
     },
     "metadata": {
      "needs_background": "light"
     },
     "output_type": "display_data"
    }
   ],
   "source": [
    "%matplotlib inline\n",
    "plt.plot(euro_to_dollar['Time'],euro_to_dollar['rolling_mean'])\n",
    "plt.show()"
   ]
  },
  {
   "cell_type": "code",
   "execution_count": 27,
   "id": "93d22bf2",
   "metadata": {},
   "outputs": [
    {
     "data": {
      "image/png": "[encoded data removed]",
      "text/plain": [
       "<Figure size 432x288 with 1 Axes>"
      ]
     },
     "metadata": {
      "needs_background": "light"
     },
     "output_type": "display_data"
    }
   ],
   "source": [
    "%matplotlib inline\n",
    "#style.use('Solarize_Light2')\n",
    "\n",
    "fig, ax = plt.subplots()\n",
    "\n",
    "ax.bar(euro_to_dollar['Time'],euro_to_dollar['rolling_mean'])\n",
    "\n",
    "plt.show()"
   ]
  },
  {
   "cell_type": "code",
   "execution_count": 28,
   "id": "ad698502",
   "metadata": {},
   "outputs": [
    {
     "data": {
      "image/png": "[encoded data removed]",
      "text/plain": [
       "<Figure size 432x288 with 1 Axes>"
      ]
     },
     "metadata": {},
     "output_type": "display_data"
    }
   ],
   "source": [
    "fig, ax = plt.subplots()\n",
    "\n",
    "ax.text(x=10000, y=1.8, s= 'Ratio Euro / Dollar',size=15, weight='bold')\n",
    "\n",
    "ax.plot(euro_to_dollar['Time'],\n",
    "       euro_to_dollar['rolling_mean'], color='#7cd6f0')\n",
    "\n",
    "for location in ['left','right','bottom','top']:\n",
    "    ax.spines[location].set_visible(False)\n",
    "    \n",
    "# Move ticks labels at the top of the graph\n",
    "ax.xaxis.tick_top()\n",
    "\n",
    "# Remove ticks on top and left of the graph\n",
    "ax.tick_params(top = False, left = False)\n",
    "\n",
    "# We'll x-tick labels in grey and bars in a shade of red.\n",
    "\n",
    "ax.tick_params(axis='x', colors='grey')\n",
    "\n",
    "plt.show()"
   ]
  },
  {
   "cell_type": "code",
   "execution_count": 29,
   "id": "9b203739",
   "metadata": {},
   "outputs": [
    {
     "data": {
      "text/html": [
       "<div>\n",
       "<style scoped>\n",
       "    .dataframe tbody tr th:only-of-type {\n",
       "        vertical-align: middle;\n",
       "    }\n",
       "\n",
       "    .dataframe tbody tr th {\n",
       "        vertical-align: top;\n",
       "    }\n",
       "\n",
       "    .dataframe thead th {\n",
       "        text-align: right;\n",
       "    }\n",
       "</style>\n",
       "<table border=\"1\" class=\"dataframe\">\n",
       "  <thead>\n",
       "    <tr style=\"text-align: right;\">\n",
       "      <th></th>\n",
       "      <th>Time</th>\n",
       "      <th>US_dollar</th>\n",
       "      <th>rolling_mean</th>\n",
       "    </tr>\n",
       "  </thead>\n",
       "  <tbody>\n",
       "    <tr>\n",
       "      <th>5753</th>\n",
       "      <td>1999-01-04</td>\n",
       "      <td>1.1789</td>\n",
       "      <td>NaN</td>\n",
       "    </tr>\n",
       "    <tr>\n",
       "      <th>5752</th>\n",
       "      <td>1999-01-05</td>\n",
       "      <td>1.1790</td>\n",
       "      <td>NaN</td>\n",
       "    </tr>\n",
       "    <tr>\n",
       "      <th>5751</th>\n",
       "      <td>1999-01-06</td>\n",
       "      <td>1.1743</td>\n",
       "      <td>NaN</td>\n",
       "    </tr>\n",
       "    <tr>\n",
       "      <th>5750</th>\n",
       "      <td>1999-01-07</td>\n",
       "      <td>1.1632</td>\n",
       "      <td>NaN</td>\n",
       "    </tr>\n",
       "    <tr>\n",
       "      <th>5749</th>\n",
       "      <td>1999-01-08</td>\n",
       "      <td>1.1659</td>\n",
       "      <td>NaN</td>\n",
       "    </tr>\n",
       "    <tr>\n",
       "      <th>...</th>\n",
       "      <td>...</td>\n",
       "      <td>...</td>\n",
       "      <td>...</td>\n",
       "    </tr>\n",
       "    <tr>\n",
       "      <th>4</th>\n",
       "      <td>2021-03-22</td>\n",
       "      <td>1.1926</td>\n",
       "      <td>1.203153</td>\n",
       "    </tr>\n",
       "    <tr>\n",
       "      <th>3</th>\n",
       "      <td>2021-03-23</td>\n",
       "      <td>1.1883</td>\n",
       "      <td>1.202417</td>\n",
       "    </tr>\n",
       "    <tr>\n",
       "      <th>2</th>\n",
       "      <td>2021-03-24</td>\n",
       "      <td>1.1825</td>\n",
       "      <td>1.201410</td>\n",
       "    </tr>\n",
       "    <tr>\n",
       "      <th>1</th>\n",
       "      <td>2021-03-25</td>\n",
       "      <td>1.1802</td>\n",
       "      <td>1.200260</td>\n",
       "    </tr>\n",
       "    <tr>\n",
       "      <th>0</th>\n",
       "      <td>2021-03-26</td>\n",
       "      <td>1.1782</td>\n",
       "      <td>1.199173</td>\n",
       "    </tr>\n",
       "  </tbody>\n",
       "</table>\n",
       "<p>5692 rows × 3 columns</p>\n",
       "</div>"
      ],
      "text/plain": [
       "           Time  US_dollar  rolling_mean\n",
       "5753 1999-01-04     1.1789           NaN\n",
       "5752 1999-01-05     1.1790           NaN\n",
       "5751 1999-01-06     1.1743           NaN\n",
       "5750 1999-01-07     1.1632           NaN\n",
       "5749 1999-01-08     1.1659           NaN\n",
       "...         ...        ...           ...\n",
       "4    2021-03-22     1.1926      1.203153\n",
       "3    2021-03-23     1.1883      1.202417\n",
       "2    2021-03-24     1.1825      1.201410\n",
       "1    2021-03-25     1.1802      1.200260\n",
       "0    2021-03-26     1.1782      1.199173\n",
       "\n",
       "[5692 rows x 3 columns]"
      ]
     },
     "execution_count": 29,
     "metadata": {},
     "output_type": "execute_result"
    }
   ],
   "source": [
    "euro_to_dollar"
   ]
  },
  {
   "cell_type": "code",
   "execution_count": 30,
   "id": "970691ab",
   "metadata": {},
   "outputs": [],
   "source": [
    "periodo_2006_7 = euro_to_dollar[(euro_to_dollar['Time']  >= '2006') & (euro_to_dollar['Time'] <= '2010' )]"
   ]
  },
  {
   "cell_type": "code",
   "execution_count": 31,
   "id": "c8c84d50",
   "metadata": {},
   "outputs": [],
   "source": [
    "periodo_2007_9 = euro_to_dollar[(euro_to_dollar['Time']  > '2007') & (euro_to_dollar['Time'] <= '2009' )]"
   ]
  },
  {
   "cell_type": "code",
   "execution_count": 32,
   "id": "9b788364",
   "metadata": {},
   "outputs": [],
   "source": [
    "periodo_2009_10 = euro_to_dollar[(euro_to_dollar['Time']  > '2009') & (euro_to_dollar['Time'] == '2010' )]"
   ]
  },
  {
   "cell_type": "code",
   "execution_count": 33,
   "id": "8951dcec",
   "metadata": {},
   "outputs": [
    {
     "data": {
      "image/png": "[encoded data removed]",
      "text/plain": [
       "<Figure size 648x360 with 1 Axes>"
      ]
     },
     "metadata": {},
     "output_type": "display_data"
    }
   ],
   "source": [
    "# acuerdate que el orden en le que vas escribiendo las cosas \n",
    "# es el orden en como los graficos se van renderizando, cambia los ax de orden veras.\n",
    "\n",
    "style.use('fivethirtyeight')\n",
    "fig, ax = plt.subplots(figsize=(9, 5))\n",
    "\n",
    "ax.plot(periodo_2006_7['Time'], periodo_2006_7['rolling_mean'], color = '#30b024', linewidth=1)\n",
    "ax.plot(periodo_2007_9['Time'], periodo_2007_9['rolling_mean'], color = 'red', linewidth=3)\n",
    "\n",
    "plt.xticks(rotation = 45, alpha = 0.5)\n",
    "\n",
    "ax.text(12900, 1,\n",
    "        '©DATAQUEST '+ ' '*110 +'Source: European Central Bank.',\n",
    "        color = '#f0f0f0',\n",
    "        backgroundcolor = '#4d4d4d',\n",
    "        size=12)\n",
    "\n",
    "ax.text(13050, 1.65, \"Euro-USD rate peaked at 1.59 during 2007-2008's financial crisis\", size=17, weight='bold')\n",
    "ax.text(13050, 1.62, 'Euro-USD exchange rates between 2006 and 2010)', size=12)\n",
    "\n",
    "ax.axvline(x=14040, ymin=0, c='grey',linewidth=70, alpha = 0.3)\n",
    "\n",
    "plt.show()"
   ]
  },
  {
   "cell_type": "code",
   "execution_count": 34,
   "id": "98160460",
   "metadata": {},
   "outputs": [],
   "source": [
    "periodo_2001_9 = euro_to_dollar[(euro_to_dollar['Time']  >= '2001') & (euro_to_dollar['Time'] <= '2009' )]"
   ]
  },
  {
   "cell_type": "code",
   "execution_count": 35,
   "id": "cf6764fc",
   "metadata": {},
   "outputs": [],
   "source": [
    "periodo_2009_17 = euro_to_dollar[(euro_to_dollar['Time']  >= '2009') & (euro_to_dollar['Time'] <= '2017' )]"
   ]
  },
  {
   "cell_type": "code",
   "execution_count": 36,
   "id": "89f03f28",
   "metadata": {},
   "outputs": [],
   "source": [
    "periodo_2017_21 = euro_to_dollar[(euro_to_dollar['Time']  >= '2017') & (euro_to_dollar['Time'] <= '2021' )]"
   ]
  },
  {
   "cell_type": "code",
   "execution_count": 37,
   "id": "b427439d",
   "metadata": {},
   "outputs": [
    {
     "data": {
      "image/png": "[encoded data removed]",
      "text/plain": [
       "<Figure size 864x216 with 3 Axes>"
      ]
     },
     "metadata": {},
     "output_type": "display_data"
    },
    {
     "data": {
      "image/png": "[encoded data removed]",
      "text/plain": [
       "<Figure size 864x216 with 1 Axes>"
      ]
     },
     "metadata": {},
     "output_type": "display_data"
    }
   ],
   "source": [
    "style.use('fivethirtyeight')\n",
    "\n",
    "\n",
    "fig1, (ax1, ax2, ax3) = plt.subplots(nrows = 1, ncols = 3, figsize=(12,3))\n",
    "\n",
    "\n",
    "plt.ylim(0, 1.7)\n",
    "\n",
    "ax1.plot(periodo_2001_9['Time'], periodo_2001_9['rolling_mean'], color = '#e687f2', linewidth=2)\n",
    "\n",
    "ax2.plot(periodo_2009_17['Time'], periodo_2009_17['rolling_mean'], color = 'orange', linewidth=2)\n",
    "\n",
    "ax3.plot(periodo_2017_21['Time'], periodo_2017_21['rolling_mean'], color = 'cyan', linewidth=2)\n",
    "\n",
    "\n",
    "fig1, ax4 = plt.subplots(nrows = 1, ncols = 1, figsize=(12,3))\n",
    "\n",
    "\n",
    "ax4.plot(periodo_2001_9['Time'], periodo_2001_9['rolling_mean'], color = '#e687f2', linewidth=2)\n",
    "ax4.plot(periodo_2009_17['Time'], periodo_2009_17['rolling_mean'], color = 'orange', linewidth=2)\n",
    "ax4.plot(periodo_2017_21['Time'], periodo_2017_21['rolling_mean'], color = 'cyan', linewidth=2)\n",
    "\n",
    "#plt.yticks([0, 1, 2], ['January', 'February', 'March'],rotation=45)  # Set text labels and properties.\n",
    "\n",
    "ax4.text(10650, 0.6,\n",
    "        '©DATAQUEST '+ ' '*135 +'Source: European Central Bank.',\n",
    "        color = '#f0f0f0',\n",
    "        backgroundcolor = '#4d4d4d',\n",
    "        size=12)\n",
    "\n",
    "\n",
    "\n",
    "plt.show() "
   ]
  },
  {
   "cell_type": "code",
   "execution_count": null,
   "id": "fa7cda29",
   "metadata": {},
   "outputs": [],
   "source": []
  },
  {
   "cell_type": "code",
   "execution_count": null,
   "id": "3a446a52",
   "metadata": {},
   "outputs": [],
   "source": []
  }
 ],
 "metadata": {
  "kernelspec": {
   "display_name": "Python 3",
   "language": "python",
   "name": "python3"
  },
  "language_info": {
   "codemirror_mode": {
    "name": "ipython",
    "version": 3
   },
   "file_extension": ".py",
   "mimetype": "text/x-python",
   "name": "python",
   "nbconvert_exporter": "python",
   "pygments_lexer": "ipython3",
   "version": "3.8.2"
  }
 },
 "nbformat": 4,
 "nbformat_minor": 5
}
