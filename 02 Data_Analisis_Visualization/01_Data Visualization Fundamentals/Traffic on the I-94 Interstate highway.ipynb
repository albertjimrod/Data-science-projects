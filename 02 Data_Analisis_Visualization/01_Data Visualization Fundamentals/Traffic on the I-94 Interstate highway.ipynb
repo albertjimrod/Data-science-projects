{
 "cells": [
  {
   "cell_type": "markdown",
   "metadata": {},
   "source": [
    "# Traffic on the I-94 Interstate highway."
   ]
  },
  {
   "cell_type": "markdown",
   "metadata": {},
   "source": [
    "![Imgur](https://upload.wikimedia.org/wikipedia/commons/thumb/9/9d/Interstate_94_map.png/1920px-Interstate_94_map.png)"
   ]
  },
  {
   "cell_type": "markdown",
   "metadata": {},
   "source": [
    "source:<a href=https://en.wikipedia.org/wiki/Interstate_94> https://en.wikipedia.org/wiki/Interstate_94 </a>"
   ]
  },
  {
   "cell_type": "markdown",
   "metadata": {},
   "source": [
    "## Introducction to Interstate 94 (I-94) \n",
    "\n",
    "Is an east–west Interstate Highway connecting the Great Lakes and northern Great Plains regions of the United States.\n",
    "\n",
    "The goal of our analysis is to determine a few indicators of heavy traffic on I-94. \n",
    "\n",
    "These indicators can be weather type, time of the day, time of the week, etc. "
   ]
  },
  {
   "cell_type": "markdown",
   "metadata": {},
   "source": [
    "### INDEX <a id='0'></a>\n",
    "\n",
    "<a href='#1'>1. The I-94 Traffic Dataset</a>\n",
    "\n",
    "<a href='#2'>2. Analyzing Traffic Volume</a>\n",
    "\n",
    "<a href='#3'>3. Traffic Volume: Day vs. Night</a>\n",
    "\n",
    "<a href='#4'>4. Traffic Volume: Day vs. Night (II)</a>\n",
    "\n",
    "<a href='#5'>5. Time Indicators</a>\n",
    "\n",
    "<a href='#6'>6. Time Indicators (II)</a>\n",
    "\n",
    "<a href='#7'>7. Time Indicators (III)</a>\n",
    "\n",
    "<a href='#8'>8. Weather Indicators</a>\n",
    "\n",
    "<a href='#9'>9. Weather Types</a>\n",
    "\n",
    "<a href='#10'>10. Next steps:</a>"
   ]
  },
  {
   "cell_type": "markdown",
   "metadata": {},
   "source": [
    "## <a id='1'>1. The I-94 Traffic Dataset</a>"
   ]
  },
  {
   "cell_type": "code",
   "execution_count": 1,
   "metadata": {},
   "outputs": [
    {
     "data": {
      "text/html": [
       "<style>\n",
       "table {float:left}\n",
       "</style>\n"
      ],
      "text/plain": [
       "<IPython.core.display.HTML object>"
      ]
     },
     "metadata": {},
     "output_type": "display_data"
    }
   ],
   "source": [
    "%%html\n",
    "<style>\n",
    "table {float:left}\n",
    "</style>"
   ]
  },
  {
   "cell_type": "markdown",
   "metadata": {},
   "source": [
    "\n",
    "|Attribute Information: | |\n",
    "|:---|:---|\n",
    "| `holiday`| Categorical US National holidays plus regional holiday, Minnesota State Fair|\n",
    "| `temp` | Numeric Average temp in kelvin|\n",
    "|`rain_1h` | Numeric Amount in mm of rain that occurred in the hour|\n",
    "|`snow_1h` |Numeric Amount in mm of snow that occurred in the hour |\n",
    "| `clouds_all` |Numeric Percentage of cloud cover |\n",
    "| `weather_main` |Categorical Short textual description of the current weather |\n",
    "|`weather_description`| Categorical Longer textual description of the current weather|\n",
    "|`date_time`| DateTime Hour of the data collected in local CST time|\n",
    "|`traffic_volume` |Numeric Hourly I-94 ATR 301 reported westbound traffic volume|"
   ]
  },
  {
   "cell_type": "code",
   "execution_count": 2,
   "metadata": {},
   "outputs": [],
   "source": [
    "import pandas as pd\n",
    "traffic = pd.read_csv('Metro_Interstate_Traffic_Volume.csv')"
   ]
  },
  {
   "cell_type": "code",
   "execution_count": 3,
   "metadata": {},
   "outputs": [
    {
     "data": {
      "text/html": [
       "<div>\n",
       "<style scoped>\n",
       "    .dataframe tbody tr th:only-of-type {\n",
       "        vertical-align: middle;\n",
       "    }\n",
       "\n",
       "    .dataframe tbody tr th {\n",
       "        vertical-align: top;\n",
       "    }\n",
       "\n",
       "    .dataframe thead th {\n",
       "        text-align: right;\n",
       "    }\n",
       "</style>\n",
       "<table border=\"1\" class=\"dataframe\">\n",
       "  <thead>\n",
       "    <tr style=\"text-align: right;\">\n",
       "      <th></th>\n",
       "      <th>holiday</th>\n",
       "      <th>temp</th>\n",
       "      <th>rain_1h</th>\n",
       "      <th>snow_1h</th>\n",
       "      <th>clouds_all</th>\n",
       "      <th>weather_main</th>\n",
       "      <th>weather_description</th>\n",
       "      <th>date_time</th>\n",
       "      <th>traffic_volume</th>\n",
       "    </tr>\n",
       "  </thead>\n",
       "  <tbody>\n",
       "    <tr>\n",
       "      <th>48199</th>\n",
       "      <td>None</td>\n",
       "      <td>283.45</td>\n",
       "      <td>0.0</td>\n",
       "      <td>0.0</td>\n",
       "      <td>75</td>\n",
       "      <td>Clouds</td>\n",
       "      <td>broken clouds</td>\n",
       "      <td>2018-09-30 19:00:00</td>\n",
       "      <td>3543</td>\n",
       "    </tr>\n",
       "    <tr>\n",
       "      <th>48200</th>\n",
       "      <td>None</td>\n",
       "      <td>282.76</td>\n",
       "      <td>0.0</td>\n",
       "      <td>0.0</td>\n",
       "      <td>90</td>\n",
       "      <td>Clouds</td>\n",
       "      <td>overcast clouds</td>\n",
       "      <td>2018-09-30 20:00:00</td>\n",
       "      <td>2781</td>\n",
       "    </tr>\n",
       "    <tr>\n",
       "      <th>48201</th>\n",
       "      <td>None</td>\n",
       "      <td>282.73</td>\n",
       "      <td>0.0</td>\n",
       "      <td>0.0</td>\n",
       "      <td>90</td>\n",
       "      <td>Thunderstorm</td>\n",
       "      <td>proximity thunderstorm</td>\n",
       "      <td>2018-09-30 21:00:00</td>\n",
       "      <td>2159</td>\n",
       "    </tr>\n",
       "    <tr>\n",
       "      <th>48202</th>\n",
       "      <td>None</td>\n",
       "      <td>282.09</td>\n",
       "      <td>0.0</td>\n",
       "      <td>0.0</td>\n",
       "      <td>90</td>\n",
       "      <td>Clouds</td>\n",
       "      <td>overcast clouds</td>\n",
       "      <td>2018-09-30 22:00:00</td>\n",
       "      <td>1450</td>\n",
       "    </tr>\n",
       "    <tr>\n",
       "      <th>48203</th>\n",
       "      <td>None</td>\n",
       "      <td>282.12</td>\n",
       "      <td>0.0</td>\n",
       "      <td>0.0</td>\n",
       "      <td>90</td>\n",
       "      <td>Clouds</td>\n",
       "      <td>overcast clouds</td>\n",
       "      <td>2018-09-30 23:00:00</td>\n",
       "      <td>954</td>\n",
       "    </tr>\n",
       "  </tbody>\n",
       "</table>\n",
       "</div>"
      ],
      "text/plain": [
       "      holiday    temp  rain_1h  snow_1h  clouds_all  weather_main  \\\n",
       "48199    None  283.45      0.0      0.0          75        Clouds   \n",
       "48200    None  282.76      0.0      0.0          90        Clouds   \n",
       "48201    None  282.73      0.0      0.0          90  Thunderstorm   \n",
       "48202    None  282.09      0.0      0.0          90        Clouds   \n",
       "48203    None  282.12      0.0      0.0          90        Clouds   \n",
       "\n",
       "          weather_description            date_time  traffic_volume  \n",
       "48199           broken clouds  2018-09-30 19:00:00            3543  \n",
       "48200         overcast clouds  2018-09-30 20:00:00            2781  \n",
       "48201  proximity thunderstorm  2018-09-30 21:00:00            2159  \n",
       "48202         overcast clouds  2018-09-30 22:00:00            1450  \n",
       "48203         overcast clouds  2018-09-30 23:00:00             954  "
      ]
     },
     "execution_count": 3,
     "metadata": {},
     "output_type": "execute_result"
    }
   ],
   "source": [
    "traffic.tail()"
   ]
  },
  {
   "cell_type": "code",
   "execution_count": 4,
   "metadata": {},
   "outputs": [
    {
     "name": "stdout",
     "output_type": "stream",
     "text": [
      "<class 'pandas.core.frame.DataFrame'>\n",
      "RangeIndex: 48204 entries, 0 to 48203\n",
      "Data columns (total 9 columns):\n",
      " #   Column               Non-Null Count  Dtype  \n",
      "---  ------               --------------  -----  \n",
      " 0   holiday              48204 non-null  object \n",
      " 1   temp                 48204 non-null  float64\n",
      " 2   rain_1h              48204 non-null  float64\n",
      " 3   snow_1h              48204 non-null  float64\n",
      " 4   clouds_all           48204 non-null  int64  \n",
      " 5   weather_main         48204 non-null  object \n",
      " 6   weather_description  48204 non-null  object \n",
      " 7   date_time            48204 non-null  object \n",
      " 8   traffic_volume       48204 non-null  int64  \n",
      "dtypes: float64(3), int64(2), object(4)\n",
      "memory usage: 3.3+ MB\n"
     ]
    }
   ],
   "source": [
    "traffic.info()"
   ]
  },
  {
   "cell_type": "markdown",
   "metadata": {},
   "source": [
    "<a href='#0'> ← index </a>"
   ]
  },
  {
   "cell_type": "markdown",
   "metadata": {},
   "source": [
    "## <a id='2'>2. Analyzing Traffic Volume</a>"
   ]
  },
  {
   "cell_type": "markdown",
   "metadata": {},
   "source": [
    "Hourly Interstate 94 westbound traffic volume for MN DoT Station 301, approximately midway between Minneapolis and St Paul, MN. \n",
    "\n",
    "Hourly weather features and holidays are included to see the impact on traffic volume.\n",
    "\n",
    "This means that the results of our analysis will be about the westbound traffic in the proximity of that station. In other words, we should avoid generalizing our results for the entire I-94 highway."
   ]
  },
  {
   "cell_type": "code",
   "execution_count": 5,
   "metadata": {},
   "outputs": [],
   "source": [
    "import matplotlib.pyplot as plt\n",
    "%matplotlib inline"
   ]
  },
  {
   "cell_type": "code",
   "execution_count": 6,
   "metadata": {},
   "outputs": [
    {
     "data": {
      "text/plain": [
       "count    48204.000000\n",
       "mean      3259.818355\n",
       "std       1986.860670\n",
       "min          0.000000\n",
       "25%       1193.000000\n",
       "50%       3380.000000\n",
       "75%       4933.000000\n",
       "max       7280.000000\n",
       "Name: traffic_volume, dtype: float64"
      ]
     },
     "execution_count": 6,
     "metadata": {},
     "output_type": "execute_result"
    }
   ],
   "source": [
    "traffic['traffic_volume'].describe()"
   ]
  },
  {
   "cell_type": "markdown",
   "metadata": {},
   "source": [
    "### Night and day influence on the traffic volume?\n",
    "\n",
    "- About 25% of the time, there were 1,193 cars or fewer passing the station each hour — **this probably occurs during the night**, or when a road is under construction\n",
    "\n",
    "- About 25% of the time, the traffic volume was four times as much (4,933 cars or more)"
   ]
  },
  {
   "cell_type": "markdown",
   "metadata": {},
   "source": [
    "<a href='#0'> ← index </a>"
   ]
  },
  {
   "cell_type": "markdown",
   "metadata": {},
   "source": [
    "## <a id='3'>3. Traffic Volume: Day vs. Night</a>"
   ]
  },
  {
   "cell_type": "markdown",
   "metadata": {},
   "source": [
    "This possibility of night and day influencing traffic volume gives our analysis an interesting direction: \n",
    "\n",
    "- Comparing daytime data with nighttime data.\n",
    "\n",
    "We will start by dividing the data set into two parts:\n",
    "\n",
    " - **Daytime data**: hours from 7 a.m. to 7 p.m. (12 hours).\n",
    " \n",
    " - **Nighttime data**: hours from 7 p.m. to 7 a.m. (12 hours).\n",
    " \n",
    "Although this is not a perfect criterion for distinguishing between night and daytime hours, it is a good starting point."
   ]
  },
  {
   "cell_type": "code",
   "execution_count": 7,
   "metadata": {},
   "outputs": [
    {
     "data": {
      "text/plain": [
       "0       2012-10-02 09:00:00\n",
       "1       2012-10-02 10:00:00\n",
       "2       2012-10-02 11:00:00\n",
       "3       2012-10-02 12:00:00\n",
       "4       2012-10-02 13:00:00\n",
       "                ...        \n",
       "48199   2018-09-30 19:00:00\n",
       "48200   2018-09-30 20:00:00\n",
       "48201   2018-09-30 21:00:00\n",
       "48202   2018-09-30 22:00:00\n",
       "48203   2018-09-30 23:00:00\n",
       "Name: date_time, Length: 48204, dtype: datetime64[ns]"
      ]
     },
     "execution_count": 7,
     "metadata": {},
     "output_type": "execute_result"
    }
   ],
   "source": [
    "traffic['date_time'] = pd.to_datetime(traffic['date_time']).copy() # text to datetime\n",
    "traffic['date_time']"
   ]
  },
  {
   "cell_type": "code",
   "execution_count": 8,
   "metadata": {},
   "outputs": [
    {
     "data": {
      "text/plain": [
       "array([ 9, 10, 11, 12, 13, 14, 15, 16, 17, 18, 19, 20, 21, 22, 23,  0,  1,\n",
       "        2,  3,  4,  5,  6,  8,  7])"
      ]
     },
     "execution_count": 8,
     "metadata": {},
     "output_type": "execute_result"
    }
   ],
   "source": [
    "traffic['date_time'].dt.hour.unique()"
   ]
  },
  {
   "cell_type": "markdown",
   "metadata": {},
   "source": [
    " I extract the hours with the `datetime.hour` method to use as a Boolean filter and assign it to a variable `alles_bool`"
   ]
  },
  {
   "cell_type": "code",
   "execution_count": 9,
   "metadata": {},
   "outputs": [
    {
     "data": {
      "text/plain": [
       "0         9\n",
       "1        10\n",
       "2        11\n",
       "3        12\n",
       "4        13\n",
       "         ..\n",
       "48199    19\n",
       "48200    20\n",
       "48201    21\n",
       "48202    22\n",
       "48203    23\n",
       "Name: date_time, Length: 48204, dtype: int64"
      ]
     },
     "execution_count": 9,
     "metadata": {},
     "output_type": "execute_result"
    }
   ],
   "source": [
    "alles_bool = traffic['date_time'].dt.hour\n",
    "alles_bool"
   ]
  },
  {
   "cell_type": "markdown",
   "metadata": {},
   "source": [
    "These are the values of the hours I will work with."
   ]
  },
  {
   "cell_type": "code",
   "execution_count": 10,
   "metadata": {},
   "outputs": [
    {
     "data": {
      "text/plain": [
       "array([18, 19, 20, 21, 22, 23,  0,  1,  2,  3,  4,  5,  6,  8,  9, 10, 11,\n",
       "       12, 13, 14, 15, 17, 16])"
      ]
     },
     "execution_count": 10,
     "metadata": {},
     "output_type": "execute_result"
    }
   ],
   "source": [
    "horas_alles = traffic.loc[alles_bool,'date_time'].dt.hour\n",
    "horas_alles.unique()"
   ]
  },
  {
   "cell_type": "code",
   "execution_count": 11,
   "metadata": {},
   "outputs": [
    {
     "data": {
      "image/png": "[encoded data removed]",
      "text/plain": [
       "<Figure size 432x288 with 1 Axes>"
      ]
     },
     "metadata": {
      "needs_background": "light"
     },
     "output_type": "display_data"
    }
   ],
   "source": [
    "plt.hist(horas_alles)\n",
    "plt.title('Raw Traffic Volume (whole data set)')\n",
    "plt.xticks(ticks=[ 9, 10, 11, 12, 13, 14, 15, 16, 17, 18,\n",
    "                  19, 20, 21, 22, 23, 0, 1, 2, 3, 4, 5, 6, 8, 7],\n",
    "           labels=[ '09:00','10:00','11:00','12:00','13:00','14:00',\n",
    "                   '15:00','16:00','17:00','18:00','19:00','20:00',\n",
    "                   '21:00','22:00','23:00','24:00','01:00','02:00',\n",
    "                   '03:00','04:00','05:00','06:00','08:00','07:00'],\n",
    "           rotation=85)\n",
    "plt.show()"
   ]
  },
  {
   "cell_type": "markdown",
   "metadata": {},
   "source": [
    "A histogram shows accumulation or trend, variability or dispersion and form of the distribution.\n",
    "\n",
    "Therefore we can see the distribution of traffic volume in a day, we see three time slots where the movement of vehicles is greater:\n",
    "\n",
    "- **Morning from 07:00 to 09:00 AM**\n",
    "\n",
    "- **Noon from 14:00 to 16:00 PM**\n",
    "\n",
    "- **Night from 22:00 to 01:00 AM**.\n",
    "\n",
    "We continue with the idea of separating day and night.\n",
    "\n",
    "## Day\n",
    "\n",
    "We set the interval that corresponds to the hours of the day.\n",
    "\n",
    "Establish the values that are greater than or equal to 7 and values that are less than or equal to 19. There we will have the interval that corresponds to the daytime hours."
   ]
  },
  {
   "cell_type": "code",
   "execution_count": 12,
   "metadata": {},
   "outputs": [],
   "source": [
    "day_bool = (traffic['date_time'].dt.hour >=7) & (traffic['date_time'].dt.hour <=19)"
   ]
  },
  {
   "cell_type": "code",
   "execution_count": 13,
   "metadata": {},
   "outputs": [
    {
     "data": {
      "text/plain": [
       "array([ 9, 10, 11, 12, 13, 14, 15, 16, 17, 18, 19,  8,  7])"
      ]
     },
     "execution_count": 13,
     "metadata": {},
     "output_type": "execute_result"
    }
   ],
   "source": [
    "horas_daytime = traffic.loc[day_bool,'date_time'].dt.hour\n",
    "horas_daytime.unique()"
   ]
  },
  {
   "cell_type": "code",
   "execution_count": 14,
   "metadata": {},
   "outputs": [
    {
     "data": {
      "text/plain": [
       "0         9\n",
       "1        10\n",
       "2        11\n",
       "3        12\n",
       "4        13\n",
       "         ..\n",
       "48195    15\n",
       "48196    16\n",
       "48197    17\n",
       "48198    18\n",
       "48199    19\n",
       "Name: date_time, Length: 25838, dtype: int64"
      ]
     },
     "execution_count": 14,
     "metadata": {},
     "output_type": "execute_result"
    }
   ],
   "source": [
    "horas_daytime"
   ]
  },
  {
   "cell_type": "code",
   "execution_count": 15,
   "metadata": {},
   "outputs": [
    {
     "data": {
      "text/html": [
       "<div>\n",
       "<style scoped>\n",
       "    .dataframe tbody tr th:only-of-type {\n",
       "        vertical-align: middle;\n",
       "    }\n",
       "\n",
       "    .dataframe tbody tr th {\n",
       "        vertical-align: top;\n",
       "    }\n",
       "\n",
       "    .dataframe thead th {\n",
       "        text-align: right;\n",
       "    }\n",
       "</style>\n",
       "<table border=\"1\" class=\"dataframe\">\n",
       "  <thead>\n",
       "    <tr style=\"text-align: right;\">\n",
       "      <th></th>\n",
       "      <th>holiday</th>\n",
       "      <th>temp</th>\n",
       "      <th>rain_1h</th>\n",
       "      <th>snow_1h</th>\n",
       "      <th>clouds_all</th>\n",
       "      <th>weather_main</th>\n",
       "      <th>weather_description</th>\n",
       "      <th>date_time</th>\n",
       "      <th>traffic_volume</th>\n",
       "    </tr>\n",
       "  </thead>\n",
       "  <tbody>\n",
       "    <tr>\n",
       "      <th>0</th>\n",
       "      <td>None</td>\n",
       "      <td>288.28</td>\n",
       "      <td>0.00</td>\n",
       "      <td>0.0</td>\n",
       "      <td>40</td>\n",
       "      <td>Clouds</td>\n",
       "      <td>scattered clouds</td>\n",
       "      <td>2012-10-02 09:00:00</td>\n",
       "      <td>5545</td>\n",
       "    </tr>\n",
       "    <tr>\n",
       "      <th>1</th>\n",
       "      <td>None</td>\n",
       "      <td>289.36</td>\n",
       "      <td>0.00</td>\n",
       "      <td>0.0</td>\n",
       "      <td>75</td>\n",
       "      <td>Clouds</td>\n",
       "      <td>broken clouds</td>\n",
       "      <td>2012-10-02 10:00:00</td>\n",
       "      <td>4516</td>\n",
       "    </tr>\n",
       "    <tr>\n",
       "      <th>2</th>\n",
       "      <td>None</td>\n",
       "      <td>289.58</td>\n",
       "      <td>0.00</td>\n",
       "      <td>0.0</td>\n",
       "      <td>90</td>\n",
       "      <td>Clouds</td>\n",
       "      <td>overcast clouds</td>\n",
       "      <td>2012-10-02 11:00:00</td>\n",
       "      <td>4767</td>\n",
       "    </tr>\n",
       "    <tr>\n",
       "      <th>3</th>\n",
       "      <td>None</td>\n",
       "      <td>290.13</td>\n",
       "      <td>0.00</td>\n",
       "      <td>0.0</td>\n",
       "      <td>90</td>\n",
       "      <td>Clouds</td>\n",
       "      <td>overcast clouds</td>\n",
       "      <td>2012-10-02 12:00:00</td>\n",
       "      <td>5026</td>\n",
       "    </tr>\n",
       "    <tr>\n",
       "      <th>4</th>\n",
       "      <td>None</td>\n",
       "      <td>291.14</td>\n",
       "      <td>0.00</td>\n",
       "      <td>0.0</td>\n",
       "      <td>75</td>\n",
       "      <td>Clouds</td>\n",
       "      <td>broken clouds</td>\n",
       "      <td>2012-10-02 13:00:00</td>\n",
       "      <td>4918</td>\n",
       "    </tr>\n",
       "    <tr>\n",
       "      <th>...</th>\n",
       "      <td>...</td>\n",
       "      <td>...</td>\n",
       "      <td>...</td>\n",
       "      <td>...</td>\n",
       "      <td>...</td>\n",
       "      <td>...</td>\n",
       "      <td>...</td>\n",
       "      <td>...</td>\n",
       "      <td>...</td>\n",
       "    </tr>\n",
       "    <tr>\n",
       "      <th>48195</th>\n",
       "      <td>None</td>\n",
       "      <td>283.84</td>\n",
       "      <td>0.00</td>\n",
       "      <td>0.0</td>\n",
       "      <td>75</td>\n",
       "      <td>Drizzle</td>\n",
       "      <td>light intensity drizzle</td>\n",
       "      <td>2018-09-30 15:00:00</td>\n",
       "      <td>4302</td>\n",
       "    </tr>\n",
       "    <tr>\n",
       "      <th>48196</th>\n",
       "      <td>None</td>\n",
       "      <td>284.38</td>\n",
       "      <td>0.00</td>\n",
       "      <td>0.0</td>\n",
       "      <td>75</td>\n",
       "      <td>Rain</td>\n",
       "      <td>light rain</td>\n",
       "      <td>2018-09-30 16:00:00</td>\n",
       "      <td>4283</td>\n",
       "    </tr>\n",
       "    <tr>\n",
       "      <th>48197</th>\n",
       "      <td>None</td>\n",
       "      <td>284.79</td>\n",
       "      <td>0.00</td>\n",
       "      <td>0.0</td>\n",
       "      <td>75</td>\n",
       "      <td>Clouds</td>\n",
       "      <td>broken clouds</td>\n",
       "      <td>2018-09-30 17:00:00</td>\n",
       "      <td>4132</td>\n",
       "    </tr>\n",
       "    <tr>\n",
       "      <th>48198</th>\n",
       "      <td>None</td>\n",
       "      <td>284.20</td>\n",
       "      <td>0.25</td>\n",
       "      <td>0.0</td>\n",
       "      <td>75</td>\n",
       "      <td>Rain</td>\n",
       "      <td>light rain</td>\n",
       "      <td>2018-09-30 18:00:00</td>\n",
       "      <td>3947</td>\n",
       "    </tr>\n",
       "    <tr>\n",
       "      <th>48199</th>\n",
       "      <td>None</td>\n",
       "      <td>283.45</td>\n",
       "      <td>0.00</td>\n",
       "      <td>0.0</td>\n",
       "      <td>75</td>\n",
       "      <td>Clouds</td>\n",
       "      <td>broken clouds</td>\n",
       "      <td>2018-09-30 19:00:00</td>\n",
       "      <td>3543</td>\n",
       "    </tr>\n",
       "  </tbody>\n",
       "</table>\n",
       "<p>25838 rows × 9 columns</p>\n",
       "</div>"
      ],
      "text/plain": [
       "      holiday    temp  rain_1h  snow_1h  clouds_all weather_main  \\\n",
       "0        None  288.28     0.00      0.0          40       Clouds   \n",
       "1        None  289.36     0.00      0.0          75       Clouds   \n",
       "2        None  289.58     0.00      0.0          90       Clouds   \n",
       "3        None  290.13     0.00      0.0          90       Clouds   \n",
       "4        None  291.14     0.00      0.0          75       Clouds   \n",
       "...       ...     ...      ...      ...         ...          ...   \n",
       "48195    None  283.84     0.00      0.0          75      Drizzle   \n",
       "48196    None  284.38     0.00      0.0          75         Rain   \n",
       "48197    None  284.79     0.00      0.0          75       Clouds   \n",
       "48198    None  284.20     0.25      0.0          75         Rain   \n",
       "48199    None  283.45     0.00      0.0          75       Clouds   \n",
       "\n",
       "           weather_description           date_time  traffic_volume  \n",
       "0             scattered clouds 2012-10-02 09:00:00            5545  \n",
       "1                broken clouds 2012-10-02 10:00:00            4516  \n",
       "2              overcast clouds 2012-10-02 11:00:00            4767  \n",
       "3              overcast clouds 2012-10-02 12:00:00            5026  \n",
       "4                broken clouds 2012-10-02 13:00:00            4918  \n",
       "...                        ...                 ...             ...  \n",
       "48195  light intensity drizzle 2018-09-30 15:00:00            4302  \n",
       "48196               light rain 2018-09-30 16:00:00            4283  \n",
       "48197            broken clouds 2018-09-30 17:00:00            4132  \n",
       "48198               light rain 2018-09-30 18:00:00            3947  \n",
       "48199            broken clouds 2018-09-30 19:00:00            3543  \n",
       "\n",
       "[25838 rows x 9 columns]"
      ]
     },
     "execution_count": 15,
     "metadata": {},
     "output_type": "execute_result"
    }
   ],
   "source": [
    "traffic_daytime = traffic[day_bool].copy()\n",
    "traffic_daytime"
   ]
  },
  {
   "cell_type": "markdown",
   "metadata": {},
   "source": [
    "## Night\n",
    "\n",
    "We do the same operation with the hours that correspond to those of the night."
   ]
  },
  {
   "cell_type": "code",
   "execution_count": 16,
   "metadata": {},
   "outputs": [],
   "source": [
    "night_bool = (traffic['date_time'].dt.hour >=19) | (traffic['date_time'].dt.hour <=7)"
   ]
  },
  {
   "cell_type": "code",
   "execution_count": 17,
   "metadata": {},
   "outputs": [
    {
     "data": {
      "text/plain": [
       "array([19, 20, 21, 22, 23,  0,  1,  2,  3,  4,  5,  6,  7])"
      ]
     },
     "execution_count": 17,
     "metadata": {},
     "output_type": "execute_result"
    }
   ],
   "source": [
    "horas_nighttime = traffic.loc[night_bool,'date_time'].dt.hour\n",
    "horas_nighttime.unique()"
   ]
  },
  {
   "cell_type": "code",
   "execution_count": 18,
   "metadata": {},
   "outputs": [
    {
     "data": {
      "text/html": [
       "<div>\n",
       "<style scoped>\n",
       "    .dataframe tbody tr th:only-of-type {\n",
       "        vertical-align: middle;\n",
       "    }\n",
       "\n",
       "    .dataframe tbody tr th {\n",
       "        vertical-align: top;\n",
       "    }\n",
       "\n",
       "    .dataframe thead th {\n",
       "        text-align: right;\n",
       "    }\n",
       "</style>\n",
       "<table border=\"1\" class=\"dataframe\">\n",
       "  <thead>\n",
       "    <tr style=\"text-align: right;\">\n",
       "      <th></th>\n",
       "      <th>holiday</th>\n",
       "      <th>temp</th>\n",
       "      <th>rain_1h</th>\n",
       "      <th>snow_1h</th>\n",
       "      <th>clouds_all</th>\n",
       "      <th>weather_main</th>\n",
       "      <th>weather_description</th>\n",
       "      <th>date_time</th>\n",
       "      <th>traffic_volume</th>\n",
       "    </tr>\n",
       "  </thead>\n",
       "  <tbody>\n",
       "    <tr>\n",
       "      <th>10</th>\n",
       "      <td>None</td>\n",
       "      <td>290.97</td>\n",
       "      <td>0.0</td>\n",
       "      <td>0.0</td>\n",
       "      <td>20</td>\n",
       "      <td>Clouds</td>\n",
       "      <td>few clouds</td>\n",
       "      <td>2012-10-02 19:00:00</td>\n",
       "      <td>3539</td>\n",
       "    </tr>\n",
       "    <tr>\n",
       "      <th>11</th>\n",
       "      <td>None</td>\n",
       "      <td>289.38</td>\n",
       "      <td>0.0</td>\n",
       "      <td>0.0</td>\n",
       "      <td>1</td>\n",
       "      <td>Clear</td>\n",
       "      <td>sky is clear</td>\n",
       "      <td>2012-10-02 20:00:00</td>\n",
       "      <td>2784</td>\n",
       "    </tr>\n",
       "    <tr>\n",
       "      <th>12</th>\n",
       "      <td>None</td>\n",
       "      <td>288.61</td>\n",
       "      <td>0.0</td>\n",
       "      <td>0.0</td>\n",
       "      <td>1</td>\n",
       "      <td>Clear</td>\n",
       "      <td>sky is clear</td>\n",
       "      <td>2012-10-02 21:00:00</td>\n",
       "      <td>2361</td>\n",
       "    </tr>\n",
       "    <tr>\n",
       "      <th>13</th>\n",
       "      <td>None</td>\n",
       "      <td>287.16</td>\n",
       "      <td>0.0</td>\n",
       "      <td>0.0</td>\n",
       "      <td>1</td>\n",
       "      <td>Clear</td>\n",
       "      <td>sky is clear</td>\n",
       "      <td>2012-10-02 22:00:00</td>\n",
       "      <td>1529</td>\n",
       "    </tr>\n",
       "    <tr>\n",
       "      <th>14</th>\n",
       "      <td>None</td>\n",
       "      <td>285.45</td>\n",
       "      <td>0.0</td>\n",
       "      <td>0.0</td>\n",
       "      <td>1</td>\n",
       "      <td>Clear</td>\n",
       "      <td>sky is clear</td>\n",
       "      <td>2012-10-02 23:00:00</td>\n",
       "      <td>963</td>\n",
       "    </tr>\n",
       "    <tr>\n",
       "      <th>...</th>\n",
       "      <td>...</td>\n",
       "      <td>...</td>\n",
       "      <td>...</td>\n",
       "      <td>...</td>\n",
       "      <td>...</td>\n",
       "      <td>...</td>\n",
       "      <td>...</td>\n",
       "      <td>...</td>\n",
       "      <td>...</td>\n",
       "    </tr>\n",
       "    <tr>\n",
       "      <th>48199</th>\n",
       "      <td>None</td>\n",
       "      <td>283.45</td>\n",
       "      <td>0.0</td>\n",
       "      <td>0.0</td>\n",
       "      <td>75</td>\n",
       "      <td>Clouds</td>\n",
       "      <td>broken clouds</td>\n",
       "      <td>2018-09-30 19:00:00</td>\n",
       "      <td>3543</td>\n",
       "    </tr>\n",
       "    <tr>\n",
       "      <th>48200</th>\n",
       "      <td>None</td>\n",
       "      <td>282.76</td>\n",
       "      <td>0.0</td>\n",
       "      <td>0.0</td>\n",
       "      <td>90</td>\n",
       "      <td>Clouds</td>\n",
       "      <td>overcast clouds</td>\n",
       "      <td>2018-09-30 20:00:00</td>\n",
       "      <td>2781</td>\n",
       "    </tr>\n",
       "    <tr>\n",
       "      <th>48201</th>\n",
       "      <td>None</td>\n",
       "      <td>282.73</td>\n",
       "      <td>0.0</td>\n",
       "      <td>0.0</td>\n",
       "      <td>90</td>\n",
       "      <td>Thunderstorm</td>\n",
       "      <td>proximity thunderstorm</td>\n",
       "      <td>2018-09-30 21:00:00</td>\n",
       "      <td>2159</td>\n",
       "    </tr>\n",
       "    <tr>\n",
       "      <th>48202</th>\n",
       "      <td>None</td>\n",
       "      <td>282.09</td>\n",
       "      <td>0.0</td>\n",
       "      <td>0.0</td>\n",
       "      <td>90</td>\n",
       "      <td>Clouds</td>\n",
       "      <td>overcast clouds</td>\n",
       "      <td>2018-09-30 22:00:00</td>\n",
       "      <td>1450</td>\n",
       "    </tr>\n",
       "    <tr>\n",
       "      <th>48203</th>\n",
       "      <td>None</td>\n",
       "      <td>282.12</td>\n",
       "      <td>0.0</td>\n",
       "      <td>0.0</td>\n",
       "      <td>90</td>\n",
       "      <td>Clouds</td>\n",
       "      <td>overcast clouds</td>\n",
       "      <td>2018-09-30 23:00:00</td>\n",
       "      <td>954</td>\n",
       "    </tr>\n",
       "  </tbody>\n",
       "</table>\n",
       "<p>26406 rows × 9 columns</p>\n",
       "</div>"
      ],
      "text/plain": [
       "      holiday    temp  rain_1h  snow_1h  clouds_all  weather_main  \\\n",
       "10       None  290.97      0.0      0.0          20        Clouds   \n",
       "11       None  289.38      0.0      0.0           1         Clear   \n",
       "12       None  288.61      0.0      0.0           1         Clear   \n",
       "13       None  287.16      0.0      0.0           1         Clear   \n",
       "14       None  285.45      0.0      0.0           1         Clear   \n",
       "...       ...     ...      ...      ...         ...           ...   \n",
       "48199    None  283.45      0.0      0.0          75        Clouds   \n",
       "48200    None  282.76      0.0      0.0          90        Clouds   \n",
       "48201    None  282.73      0.0      0.0          90  Thunderstorm   \n",
       "48202    None  282.09      0.0      0.0          90        Clouds   \n",
       "48203    None  282.12      0.0      0.0          90        Clouds   \n",
       "\n",
       "          weather_description           date_time  traffic_volume  \n",
       "10                 few clouds 2012-10-02 19:00:00            3539  \n",
       "11               sky is clear 2012-10-02 20:00:00            2784  \n",
       "12               sky is clear 2012-10-02 21:00:00            2361  \n",
       "13               sky is clear 2012-10-02 22:00:00            1529  \n",
       "14               sky is clear 2012-10-02 23:00:00             963  \n",
       "...                       ...                 ...             ...  \n",
       "48199           broken clouds 2018-09-30 19:00:00            3543  \n",
       "48200         overcast clouds 2018-09-30 20:00:00            2781  \n",
       "48201  proximity thunderstorm 2018-09-30 21:00:00            2159  \n",
       "48202         overcast clouds 2018-09-30 22:00:00            1450  \n",
       "48203         overcast clouds 2018-09-30 23:00:00             954  \n",
       "\n",
       "[26406 rows x 9 columns]"
      ]
     },
     "execution_count": 18,
     "metadata": {},
     "output_type": "execute_result"
    }
   ],
   "source": [
    "#traffic_night = traffic[night_bool].copy()\n",
    "traffic_night = traffic[night_bool].copy()\n",
    "traffic_night"
   ]
  },
  {
   "cell_type": "markdown",
   "metadata": {},
   "source": [
    "<a href='#0'> ← index </a>"
   ]
  },
  {
   "cell_type": "markdown",
   "metadata": {},
   "source": [
    "## <a id='4'>4. Traffic Volume: Day vs. Night (II)</a>"
   ]
  },
  {
   "cell_type": "markdown",
   "metadata": {},
   "source": [
    "Now we're going to compare the distribution on traffic volume at night and during day."
   ]
  },
  {
   "cell_type": "code",
   "execution_count": 19,
   "metadata": {},
   "outputs": [
    {
     "data": {
      "image/png": "[encoded data removed]",
      "text/plain": [
       "<Figure size 1080x288 with 2 Axes>"
      ]
     },
     "metadata": {
      "needs_background": "light"
     },
     "output_type": "display_data"
    }
   ],
   "source": [
    "plt.figure(figsize = (15,4))\n",
    "\n",
    "plt.subplot(1,2,1)\n",
    "\n",
    "plt.hist(horas_daytime)\n",
    "plt.xlabel('Day hours from 7 AM to 7 PM ')\n",
    "plt.ylabel('Cars per hour')\n",
    "plt.title('Distribution Traffic Volume: Day')\n",
    "plt.xticks(ticks=[ 9, 10, 11, 12, 13, 14, 15, 16, 17, 18, 19,  7,  8],\n",
    "           labels=[ '09:00','10:00','11:00','12:00','13:00','14:00',\n",
    "                   '15:00','16:00','17:00','18:00','19:00','08:00','07:00'\n",
    "                  ],\n",
    "           rotation=85)\n",
    "plt.subplot(1,2,2)\n",
    "\n",
    "bins = 'auto'\n",
    "\n",
    "plt.hist( horas_nighttime, bins)\n",
    "plt.xlabel('Night hours from 7 PM to 7 AM')\n",
    "plt.ylabel('Cars per hour')\n",
    "plt.title('Distribution Traffic Volume: Night')\n",
    "plt.xticks(ticks=[ 19, 20, 21, 22, 23,  0,  1,  2,  3,  4,  5,  6,  7 ],\n",
    "           labels=['19:00', '20:00', '21:00', '22:00', '23:00', '24:00','01:00','02:00','03:00','04:00',\n",
    "                   '05:00','06:00','07:00' ],\n",
    "           rotation=85)\n",
    "plt.show()"
   ]
  },
  {
   "cell_type": "code",
   "execution_count": 20,
   "metadata": {},
   "outputs": [
    {
     "data": {
      "text/html": [
       "<div>\n",
       "<style scoped>\n",
       "    .dataframe tbody tr th:only-of-type {\n",
       "        vertical-align: middle;\n",
       "    }\n",
       "\n",
       "    .dataframe tbody tr th {\n",
       "        vertical-align: top;\n",
       "    }\n",
       "\n",
       "    .dataframe thead th {\n",
       "        text-align: right;\n",
       "    }\n",
       "</style>\n",
       "<table border=\"1\" class=\"dataframe\">\n",
       "  <thead>\n",
       "    <tr style=\"text-align: right;\">\n",
       "      <th></th>\n",
       "      <th>temp</th>\n",
       "      <th>rain_1h</th>\n",
       "      <th>snow_1h</th>\n",
       "      <th>clouds_all</th>\n",
       "      <th>traffic_volume</th>\n",
       "    </tr>\n",
       "  </thead>\n",
       "  <tbody>\n",
       "    <tr>\n",
       "      <th>count</th>\n",
       "      <td>25838.000000</td>\n",
       "      <td>25838.000000</td>\n",
       "      <td>25838.000000</td>\n",
       "      <td>25838.000000</td>\n",
       "      <td>25838.000000</td>\n",
       "    </tr>\n",
       "    <tr>\n",
       "      <th>mean</th>\n",
       "      <td>282.347796</td>\n",
       "      <td>0.502320</td>\n",
       "      <td>0.000234</td>\n",
       "      <td>53.040135</td>\n",
       "      <td>4649.292360</td>\n",
       "    </tr>\n",
       "    <tr>\n",
       "      <th>std</th>\n",
       "      <td>13.302562</td>\n",
       "      <td>61.167614</td>\n",
       "      <td>0.008511</td>\n",
       "      <td>37.590946</td>\n",
       "      <td>1202.321987</td>\n",
       "    </tr>\n",
       "    <tr>\n",
       "      <th>min</th>\n",
       "      <td>0.000000</td>\n",
       "      <td>0.000000</td>\n",
       "      <td>0.000000</td>\n",
       "      <td>0.000000</td>\n",
       "      <td>0.000000</td>\n",
       "    </tr>\n",
       "    <tr>\n",
       "      <th>25%</th>\n",
       "      <td>272.720000</td>\n",
       "      <td>0.000000</td>\n",
       "      <td>0.000000</td>\n",
       "      <td>5.000000</td>\n",
       "      <td>4021.000000</td>\n",
       "    </tr>\n",
       "    <tr>\n",
       "      <th>50%</th>\n",
       "      <td>283.867000</td>\n",
       "      <td>0.000000</td>\n",
       "      <td>0.000000</td>\n",
       "      <td>75.000000</td>\n",
       "      <td>4736.000000</td>\n",
       "    </tr>\n",
       "    <tr>\n",
       "      <th>75%</th>\n",
       "      <td>293.610000</td>\n",
       "      <td>0.000000</td>\n",
       "      <td>0.000000</td>\n",
       "      <td>90.000000</td>\n",
       "      <td>5458.000000</td>\n",
       "    </tr>\n",
       "    <tr>\n",
       "      <th>max</th>\n",
       "      <td>310.070000</td>\n",
       "      <td>9831.300000</td>\n",
       "      <td>0.510000</td>\n",
       "      <td>100.000000</td>\n",
       "      <td>7280.000000</td>\n",
       "    </tr>\n",
       "  </tbody>\n",
       "</table>\n",
       "</div>"
      ],
      "text/plain": [
       "               temp       rain_1h       snow_1h    clouds_all  traffic_volume\n",
       "count  25838.000000  25838.000000  25838.000000  25838.000000    25838.000000\n",
       "mean     282.347796      0.502320      0.000234     53.040135     4649.292360\n",
       "std       13.302562     61.167614      0.008511     37.590946     1202.321987\n",
       "min        0.000000      0.000000      0.000000      0.000000        0.000000\n",
       "25%      272.720000      0.000000      0.000000      5.000000     4021.000000\n",
       "50%      283.867000      0.000000      0.000000     75.000000     4736.000000\n",
       "75%      293.610000      0.000000      0.000000     90.000000     5458.000000\n",
       "max      310.070000   9831.300000      0.510000    100.000000     7280.000000"
      ]
     },
     "execution_count": 20,
     "metadata": {},
     "output_type": "execute_result"
    }
   ],
   "source": [
    "traffic_daytime.describe()"
   ]
  },
  {
   "cell_type": "code",
   "execution_count": 21,
   "metadata": {},
   "outputs": [
    {
     "data": {
      "text/html": [
       "<div>\n",
       "<style scoped>\n",
       "    .dataframe tbody tr th:only-of-type {\n",
       "        vertical-align: middle;\n",
       "    }\n",
       "\n",
       "    .dataframe tbody tr th {\n",
       "        vertical-align: top;\n",
       "    }\n",
       "\n",
       "    .dataframe thead th {\n",
       "        text-align: right;\n",
       "    }\n",
       "</style>\n",
       "<table border=\"1\" class=\"dataframe\">\n",
       "  <thead>\n",
       "    <tr style=\"text-align: right;\">\n",
       "      <th></th>\n",
       "      <th>temp</th>\n",
       "      <th>rain_1h</th>\n",
       "      <th>snow_1h</th>\n",
       "      <th>clouds_all</th>\n",
       "      <th>traffic_volume</th>\n",
       "    </tr>\n",
       "  </thead>\n",
       "  <tbody>\n",
       "    <tr>\n",
       "      <th>count</th>\n",
       "      <td>26406.000000</td>\n",
       "      <td>26406.000000</td>\n",
       "      <td>26406.000000</td>\n",
       "      <td>26406.000000</td>\n",
       "      <td>26406.000000</td>\n",
       "    </tr>\n",
       "    <tr>\n",
       "      <th>mean</th>\n",
       "      <td>280.041662</td>\n",
       "      <td>0.142964</td>\n",
       "      <td>0.000181</td>\n",
       "      <td>46.043021</td>\n",
       "      <td>2018.015375</td>\n",
       "    </tr>\n",
       "    <tr>\n",
       "      <th>std</th>\n",
       "      <td>13.312483</td>\n",
       "      <td>1.131005</td>\n",
       "      <td>0.007148</td>\n",
       "      <td>39.995392</td>\n",
       "      <td>1713.201969</td>\n",
       "    </tr>\n",
       "    <tr>\n",
       "      <th>min</th>\n",
       "      <td>0.000000</td>\n",
       "      <td>0.000000</td>\n",
       "      <td>0.000000</td>\n",
       "      <td>0.000000</td>\n",
       "      <td>0.000000</td>\n",
       "    </tr>\n",
       "    <tr>\n",
       "      <th>25%</th>\n",
       "      <td>271.600000</td>\n",
       "      <td>0.000000</td>\n",
       "      <td>0.000000</td>\n",
       "      <td>1.000000</td>\n",
       "      <td>581.000000</td>\n",
       "    </tr>\n",
       "    <tr>\n",
       "      <th>50%</th>\n",
       "      <td>281.280000</td>\n",
       "      <td>0.000000</td>\n",
       "      <td>0.000000</td>\n",
       "      <td>40.000000</td>\n",
       "      <td>1485.000000</td>\n",
       "    </tr>\n",
       "    <tr>\n",
       "      <th>75%</th>\n",
       "      <td>290.550000</td>\n",
       "      <td>0.000000</td>\n",
       "      <td>0.000000</td>\n",
       "      <td>90.000000</td>\n",
       "      <td>2934.000000</td>\n",
       "    </tr>\n",
       "    <tr>\n",
       "      <th>max</th>\n",
       "      <td>307.680000</td>\n",
       "      <td>55.630000</td>\n",
       "      <td>0.510000</td>\n",
       "      <td>100.000000</td>\n",
       "      <td>7260.000000</td>\n",
       "    </tr>\n",
       "  </tbody>\n",
       "</table>\n",
       "</div>"
      ],
      "text/plain": [
       "               temp       rain_1h       snow_1h    clouds_all  traffic_volume\n",
       "count  26406.000000  26406.000000  26406.000000  26406.000000    26406.000000\n",
       "mean     280.041662      0.142964      0.000181     46.043021     2018.015375\n",
       "std       13.312483      1.131005      0.007148     39.995392     1713.201969\n",
       "min        0.000000      0.000000      0.000000      0.000000        0.000000\n",
       "25%      271.600000      0.000000      0.000000      1.000000      581.000000\n",
       "50%      281.280000      0.000000      0.000000     40.000000     1485.000000\n",
       "75%      290.550000      0.000000      0.000000     90.000000     2934.000000\n",
       "max      307.680000     55.630000      0.510000    100.000000     7260.000000"
      ]
     },
     "execution_count": 21,
     "metadata": {},
     "output_type": "execute_result"
    }
   ],
   "source": [
    "traffic_night.describe()"
   ]
  },
  {
   "cell_type": "markdown",
   "metadata": {},
   "source": [
    "## Analized results:\n",
    "\n",
    "We can observe in greater detail, the time slots mentioned above, we see how from 6 am traffic begins to increase until 8 am to reduce the volume in half until 13 noon where it increases again until 14 pm to reduce the volume again and again increase traffic to coincide with the end of the working day and the return home that lasts until 01 am.\n",
    "\n",
    "We also see that the volume of vehicles at night is much lower than during the day, although there are occasional moments when the return home causes the volume to increase significantly for a short period of time.  The rest of the time the volume is much lower."
   ]
  },
  {
   "cell_type": "markdown",
   "metadata": {},
   "source": [
    "<a href='#0'> ← index </a>"
   ]
  },
  {
   "cell_type": "markdown",
   "metadata": {},
   "source": [
    "## <a id='5'>5. Time Indicators</a>"
   ]
  },
  {
   "cell_type": "markdown",
   "metadata": {},
   "source": [
    "Previously, we determined that the traffic at night is generally light. \n",
    "\n",
    "Our goal is to find indicators of heavy traffic, so we decided to only focus on the daytime data moving forward.\n",
    "\n",
    "One of the possible indicators of heavy traffic is time. There might be more people on the road in a certain month, on a certain day, or at a certain time of the day.\n",
    "\n",
    "We're going to look at a few line plots showing how the traffic volume changed according to the following parameters:\n",
    "\n",
    "#### - Month\n",
    "\n",
    "#### - Day of the week\n",
    "\n",
    "#### - Time of day\n",
    "\n",
    "The fastest way to get the average traffic volume for each month is by using the `DataFrame.groupby()` method."
   ]
  },
  {
   "cell_type": "markdown",
   "metadata": {},
   "source": [
    "## - Monthly"
   ]
  },
  {
   "cell_type": "code",
   "execution_count": 22,
   "metadata": {},
   "outputs": [
    {
     "data": {
      "text/plain": [
       "month_day\n",
       "1     4385.217310\n",
       "2     4593.187798\n",
       "3     4761.529676\n",
       "4     4771.232816\n",
       "5     4788.966639\n",
       "6     4791.087488\n",
       "7     4502.628360\n",
       "8     4818.434690\n",
       "9     4755.709916\n",
       "10    4809.481678\n",
       "11    4588.910486\n",
       "12    4276.567081\n",
       "Name: traffic_volume, dtype: float64"
      ]
     },
     "execution_count": 22,
     "metadata": {},
     "output_type": "execute_result"
    }
   ],
   "source": [
    "traffic_daytime['month_day'] = traffic_daytime['date_time'].dt.month\n",
    "by_month_day = traffic_daytime.groupby('month_day').mean()\n",
    "by_month_day['traffic_volume']"
   ]
  },
  {
   "cell_type": "markdown",
   "metadata": {},
   "source": [
    "Generating a line plot to visualize how the traffic volume changed each month on average.\n",
    "\n",
    "Analyze the line plot. "
   ]
  },
  {
   "cell_type": "code",
   "execution_count": 23,
   "metadata": {},
   "outputs": [
    {
     "data": {
      "image/png": "[encoded data removed]",
      "text/plain": [
       "<Figure size 432x288 with 1 Axes>"
      ]
     },
     "metadata": {
      "needs_background": "light"
     },
     "output_type": "display_data"
    }
   ],
   "source": [
    "plt.plot(by_month_day['traffic_volume'])\n",
    "plt.xticks(ticks=[1, 2, 3, 4, 5, 6,7,8,9,10,11,12],\n",
    "           labels=['January', 'February', 'March','April',\n",
    "                   'May','June', 'July','August','September', 'October', 'November','December'],\n",
    "           rotation=30)\n",
    "\n",
    "plt.xlabel('Month')\n",
    "plt.ylabel('Cars per hour')\n",
    "plt.title('Traffic Volume / Monthly')\n",
    "\n",
    "plt.show()"
   ]
  },
  {
   "cell_type": "markdown",
   "metadata": {},
   "source": [
    "It seems that the volume of traffic is more focused on certain months of the year, except for the coldest months and the month of July, which seems to be the month most Americans choose as their vacation month."
   ]
  },
  {
   "cell_type": "markdown",
   "metadata": {},
   "source": [
    "<a href='#0'> ← index </a>"
   ]
  },
  {
   "cell_type": "markdown",
   "metadata": {},
   "source": [
    "## <a id='6'>6. Time Indicators (II)</a>"
   ]
  },
  {
   "cell_type": "markdown",
   "metadata": {},
   "source": [
    "In the previous screen, we generated a line plot showing how the traffic volume changed each month on average.\n",
    "\n",
    "We'll now continue with building line plots for another time unit: \n",
    "\n",
    "## Day of the week.\n",
    "\n",
    "To get the traffic volume averages for each day of the week, we'll need to use the following code:"
   ]
  },
  {
   "cell_type": "code",
   "execution_count": 24,
   "metadata": {},
   "outputs": [
    {
     "data": {
      "text/plain": [
       "dayofweek\n",
       "0    4746.208029\n",
       "1    5036.062431\n",
       "2    5141.231163\n",
       "3    5163.688063\n",
       "4    5161.533588\n",
       "5    3884.065668\n",
       "6    3410.368091\n",
       "Name: traffic_volume, dtype: float64"
      ]
     },
     "execution_count": 24,
     "metadata": {},
     "output_type": "execute_result"
    }
   ],
   "source": [
    "traffic_daytime['dayofweek'] = traffic_daytime['date_time'].dt.dayofweek\n",
    "by_dayofweek = traffic_daytime.groupby('dayofweek').mean()\n",
    "by_dayofweek['traffic_volume']  # 0 is Monday, 6 is Sunday"
   ]
  },
  {
   "cell_type": "code",
   "execution_count": 25,
   "metadata": {},
   "outputs": [
    {
     "data": {
      "image/png": "[encoded data removed]",
      "text/plain": [
       "<Figure size 432x288 with 1 Axes>"
      ]
     },
     "metadata": {
      "needs_background": "light"
     },
     "output_type": "display_data"
    }
   ],
   "source": [
    "plt.plot(by_dayofweek['traffic_volume'])\n",
    "plt.title('Traffic Volume / Day of week (day time) ')\n",
    "plt.xticks(ticks=[0, 1, 2, 3, 4, 5, 6], labels=[ 'Monday', 'Tuesday',\n",
    "                                                'Wednesday', 'Thursday', \n",
    "                                                'Friday', 'Saturday','Sunday'],\n",
    "           rotation=30) \n",
    "plt.show()"
   ]
  },
  {
   "cell_type": "markdown",
   "metadata": {},
   "source": [
    "It seems that the road is busier on weekdays than on weekends."
   ]
  },
  {
   "cell_type": "markdown",
   "metadata": {},
   "source": [
    "<a href='#0'> ← index </a>"
   ]
  },
  {
   "cell_type": "markdown",
   "metadata": {},
   "source": [
    "## <a id='7'>7. Time Indicators (III)</a>"
   ]
  },
  {
   "cell_type": "markdown",
   "metadata": {},
   "source": [
    "We found that the traffic volume is significantly heavier on business days compared to the weekends.\n",
    "\n",
    "We'll now generate a line plot for the time of day. \n",
    "\n",
    "The weekends, however, will drag down the average values, so we're going to look at the averages separately.\n",
    "\n",
    "To do that, we'll start by **splitting the data based on the day type**: \n",
    "\n",
    "**- business day or weekend.**\n",
    "\n",
    "Below, we show you how to split the dataset so you can focus on plotting the graphs. While your variable names may vary, the logic of the code should be the same."
   ]
  },
  {
   "cell_type": "code",
   "execution_count": 26,
   "metadata": {},
   "outputs": [
    {
     "name": "stdout",
     "output_type": "stream",
     "text": [
      "hour_day\n",
      "7     6030.413559\n",
      "8     5503.497970\n",
      "9     4895.269257\n",
      "10    4378.419118\n",
      "11    4633.419470\n",
      "12    4855.382143\n",
      "13    4859.180473\n",
      "14    5152.995778\n",
      "15    5592.897768\n",
      "16    6189.473647\n",
      "17    5784.827133\n",
      "18    4434.209431\n",
      "19    3298.340426\n",
      "Name: traffic_volume, dtype: float64\n",
      "hour_day\n",
      "7     1589.365894\n",
      "8     2338.578073\n",
      "9     3111.623917\n",
      "10    3686.632302\n",
      "11    4044.154955\n",
      "12    4372.482883\n",
      "13    4362.296564\n",
      "14    4358.543796\n",
      "15    4342.456881\n",
      "16    4339.693805\n",
      "17    4151.919929\n",
      "18    3811.792279\n",
      "19    3220.234120\n",
      "Name: traffic_volume, dtype: float64\n"
     ]
    }
   ],
   "source": [
    "# Splitting Data\n",
    "\n",
    "traffic_daytime['hour_day'] = traffic_daytime['date_time'].dt.hour                 # Filtering days\n",
    "bussiness_days = traffic_daytime.copy()[traffic_daytime['dayofweek'] <= 4]         # 4 <= Friday\n",
    "weekend = traffic_daytime.copy()[traffic_daytime['dayofweek'] >= 5]                # 5 >= Saturday\n",
    "\n",
    "by_hour_business = bussiness_days.groupby('hour_day').mean()                       \n",
    "by_hour_weekend = weekend.groupby('hour_day').mean()\n",
    "\n",
    "print(by_hour_business['traffic_volume'])\n",
    "print(by_hour_weekend['traffic_volume'])"
   ]
  },
  {
   "cell_type": "code",
   "execution_count": 27,
   "metadata": {},
   "outputs": [
    {
     "data": {
      "image/png": "[encoded data removed]",
      "text/plain": [
       "<Figure size 720x864 with 2 Axes>"
      ]
     },
     "metadata": {
      "needs_background": "light"
     },
     "output_type": "display_data"
    }
   ],
   "source": [
    "plt.figure(figsize=(10, 12))\n",
    "\n",
    "plt.ylim([0, 24])\n",
    "plt.subplot(3, 2, 1)\n",
    "plt.title('by hour business traffic_volume (day time)')\n",
    "plt.plot(by_hour_business['traffic_volume'])\n",
    "plt.xticks(ticks=[7,8,9,10,11,12,13,14,15,16,17,18,19,],\n",
    "           labels=['07:00','08:00','09:00','10:00','11:00',\n",
    "                   '12:00','13:00','14:00','15:00','16:00','17:00','18:00','19:00'],\n",
    "           rotation=85)\n",
    "\n",
    "plt.subplot(3, 2, 2)\n",
    "plt.title('by hour weekend traffic_volume (day time)')\n",
    "plt.plot(by_hour_weekend['traffic_volume'])\n",
    "plt.xticks(ticks=[7,8,9,10,11,12,13,14,15,16,17,18,19,],\n",
    "           labels=['07:00','08:00','09:00','10:00','11:00',\n",
    "                   '12:00','13:00','14:00','15:00','16:00','17:00','18:00','19:00'],\n",
    "           rotation=85)\n",
    "\n",
    "plt.show()"
   ]
  },
  {
   "cell_type": "markdown",
   "metadata": {},
   "source": [
    "\n",
    "\n",
    "### Summary\n",
    "\n",
    "- According to what has been seen so far the Road use appears to have a direct relationship with weekday work schedules and therefore the increased frequency of vehicles per hour passing by and the volumen may cause some kind of jam.\n",
    "\n",
    "\n",
    "- Hoewer the Weekend use is much more progressive and there does not seem to be anything related to work schedules that sets the tempo of use, and the volume of vehicles is also lower compared with the weekday work."
   ]
  },
  {
   "cell_type": "markdown",
   "metadata": {},
   "source": [
    "<a href='#0'> ← index </a>"
   ]
  },
  {
   "cell_type": "markdown",
   "metadata": {},
   "source": [
    "## <a id='8'>8. Weather Indicators</a>"
   ]
  },
  {
   "cell_type": "code",
   "execution_count": 28,
   "metadata": {},
   "outputs": [],
   "source": [
    "# conversion from Fahrenheit to Celsius.\n",
    "def K_to_C(K):\n",
    "    return (K - 273.15)"
   ]
  },
  {
   "cell_type": "code",
   "execution_count": 29,
   "metadata": {},
   "outputs": [
    {
     "data": {
      "text/plain": [
       "traffic_volume    1.000000\n",
       "temp              0.118084\n",
       "rain_1h           0.004020\n",
       "snow_1h           0.003768\n",
       "hour_day         -0.007369\n",
       "month_day        -0.017397\n",
       "clouds_all       -0.033410\n",
       "dayofweek        -0.371023\n",
       "Name: traffic_volume, dtype: float64"
      ]
     },
     "execution_count": 29,
     "metadata": {},
     "output_type": "execute_result"
    }
   ],
   "source": [
    "traffic_daytime.corr()['traffic_volume'].sort_values(ascending = False)"
   ]
  },
  {
   "cell_type": "code",
   "execution_count": 30,
   "metadata": {},
   "outputs": [
    {
     "data": {
      "image/png": "[encoded data removed]",
      "text/plain": [
       "<Figure size 720x1080 with 4 Axes>"
      ]
     },
     "metadata": {
      "needs_background": "light"
     },
     "output_type": "display_data"
    }
   ],
   "source": [
    "plt.figure(figsize=(10, 15))\n",
    "plt.ylim([0, 24])\n",
    "\n",
    "plt.subplot(3, 2, 1)\n",
    "plt.title('traffic_volume vs temp (day time ºC)')\n",
    "plt.scatter(traffic_daytime['traffic_volume'],K_to_C(traffic_daytime['temp']))\n",
    "\n",
    "plt.xlabel('Car volume hour')\n",
    "plt.ylabel('temp Celsius')\n",
    "\n",
    "plt.subplot(3, 2, 2)\n",
    "plt.title('by_hour_weekend vs clouds_all (day time)')\n",
    "plt.scatter(traffic_daytime['traffic_volume'],traffic_daytime['clouds_all'])\n",
    "\n",
    "plt.subplot(3, 2, 3)\n",
    "plt.title('by_hour_weekend vs rain_1h (day time)')\n",
    "plt.scatter(traffic_daytime['traffic_volume'],traffic_daytime['rain_1h'])\n",
    "\n",
    "plt.xlabel('Car volume hour')\n",
    "\n",
    "plt.subplot(3, 2, 4)\n",
    "plt.title('by_hour_weekend vs snow_1h (day time)')\n",
    "plt.scatter(traffic_daytime['traffic_volume'],traffic_daytime['snow_1h'])\n",
    "\n",
    "plt.xlabel('Car volume hour')\n",
    "\n",
    "plt.show()"
   ]
  },
  {
   "cell_type": "markdown",
   "metadata": {},
   "source": [
    "The use of scatter charts does not appear that any of these warn any reduction or increase in traffic due to variations in temperature, cloud, rain or snow."
   ]
  },
  {
   "cell_type": "markdown",
   "metadata": {},
   "source": [
    "<a href='#0'> ← index </a>"
   ]
  },
  {
   "cell_type": "markdown",
   "metadata": {},
   "source": [
    "## <a id='9'>9. Weather Types</a>"
   ]
  },
  {
   "cell_type": "markdown",
   "metadata": {},
   "source": [
    "Previously, we examined the correlation between `traffic_volume` and the numerical weather columns. However, we didn't find any reliable indicator of heavy traffic.\n",
    "\n",
    "To see if we can find more useful data, we'll look next at the categorical weather-related columns: \n",
    "\n",
    "`weather_main ` and ` weather_description`\n",
    "\n",
    "We're going to calculate the average traffic volume associated with each unique value in these two columns. "
   ]
  },
  {
   "cell_type": "code",
   "execution_count": 31,
   "metadata": {},
   "outputs": [],
   "source": [
    "by_weather_main_day = traffic_daytime.groupby('weather_main').mean()\n",
    "by_weather_description_day = traffic_daytime.groupby('weather_description').mean()"
   ]
  },
  {
   "cell_type": "code",
   "execution_count": 32,
   "metadata": {},
   "outputs": [
    {
     "data": {
      "image/png": "[encoded data removed]",
      "text/plain": [
       "<Figure size 432x288 with 1 Axes>"
      ]
     },
     "metadata": {
      "needs_background": "light"
     },
     "output_type": "display_data"
    }
   ],
   "source": [
    "by_weather_main_day['traffic_volume'].plot.barh()\n",
    "plt.title('Car volume vs different weather conditions (day)')\n",
    "plt.xlabel('car volume')\n",
    "plt.show()"
   ]
  },
  {
   "cell_type": "code",
   "execution_count": 33,
   "metadata": {},
   "outputs": [
    {
     "data": {
      "image/png": "[encoded data removed]",
      "text/plain": [
       "<Figure size 1080x1080 with 1 Axes>"
      ]
     },
     "metadata": {
      "needs_background": "light"
     },
     "output_type": "display_data"
    }
   ],
   "source": [
    "plt.figure(figsize=(15,15))\n",
    "\n",
    "A = by_weather_description_day['traffic_volume'].sort_values(ascending = False)\n",
    "A.plot.barh()\n",
    "plt.title('Importance of weather conditions on traffic (day)')\n",
    "plt.xlabel('car volume')\n",
    "plt.show()"
   ]
  },
  {
   "cell_type": "markdown",
   "metadata": {},
   "source": [
    "There's traffic volume exceeding 5,000 cars \n",
    "\n",
    "- shower snow\n",
    "- light rain and snow\n",
    "- proximity thunderstorm with drizzle\n",
    "- thunderstorm with light drizzle\n",
    "- shower drizzle\n",
    "\n",
    "Shower snow is the weather in which the highest number of vehicles per day crosses the freeway.\n",
    "\n",
    "\n",
    "Anything other than the above are situations where the volume of traffic on the freeway begins to be reduced."
   ]
  },
  {
   "cell_type": "markdown",
   "metadata": {},
   "source": [
    "<a href='#0'> ← index </a> -"
   ]
  },
  {
   "cell_type": "markdown",
   "metadata": {},
   "source": [
    "### Summary\n",
    "\n",
    "### Time indicators for the day:\n",
    "\n",
    "- The traffic is usually heavier during warm months (March–October) compared to cold months (November–February).\n",
    "\n",
    "- The traffic is heavier on business days compared to the weekends.\n",
    "\n",
    "- On business days, the rush hours are around 7 AM and 16 PM.\n",
    "\n",
    "### Weather indicators:\n",
    "\n",
    "- When shower snow, light rain and snow proximity thunderstorm with drizzle are over the highway, the volume of cars is reduced with a tendency towards 5000 vehicles per hour.\n",
    "\n",
    "- The most influential weather event on the freeway is a drizzle storm, which causes the freeway usage to drop to below 2500 vehicles per hour."
   ]
  },
  {
   "cell_type": "markdown",
   "metadata": {},
   "source": [
    "<a href='#0'> ← index </a> -"
   ]
  },
  {
   "cell_type": "markdown",
   "metadata": {},
   "source": [
    "## <a id='10'>10. Beyond the day:</a>"
   ]
  },
  {
   "cell_type": "markdown",
   "metadata": {},
   "source": [
    "- Use the nighttime data to look for heavy traffic indicators.\n",
    "\n",
    "- Find more time and weather indicators."
   ]
  },
  {
   "cell_type": "code",
   "execution_count": 34,
   "metadata": {},
   "outputs": [
    {
     "data": {
      "text/html": [
       "<div>\n",
       "<style scoped>\n",
       "    .dataframe tbody tr th:only-of-type {\n",
       "        vertical-align: middle;\n",
       "    }\n",
       "\n",
       "    .dataframe tbody tr th {\n",
       "        vertical-align: top;\n",
       "    }\n",
       "\n",
       "    .dataframe thead th {\n",
       "        text-align: right;\n",
       "    }\n",
       "</style>\n",
       "<table border=\"1\" class=\"dataframe\">\n",
       "  <thead>\n",
       "    <tr style=\"text-align: right;\">\n",
       "      <th></th>\n",
       "      <th>holiday</th>\n",
       "      <th>temp</th>\n",
       "      <th>rain_1h</th>\n",
       "      <th>snow_1h</th>\n",
       "      <th>clouds_all</th>\n",
       "      <th>weather_main</th>\n",
       "      <th>weather_description</th>\n",
       "      <th>date_time</th>\n",
       "      <th>traffic_volume</th>\n",
       "    </tr>\n",
       "  </thead>\n",
       "  <tbody>\n",
       "    <tr>\n",
       "      <th>10</th>\n",
       "      <td>None</td>\n",
       "      <td>290.97</td>\n",
       "      <td>0.0</td>\n",
       "      <td>0.0</td>\n",
       "      <td>20</td>\n",
       "      <td>Clouds</td>\n",
       "      <td>few clouds</td>\n",
       "      <td>2012-10-02 19:00:00</td>\n",
       "      <td>3539</td>\n",
       "    </tr>\n",
       "    <tr>\n",
       "      <th>11</th>\n",
       "      <td>None</td>\n",
       "      <td>289.38</td>\n",
       "      <td>0.0</td>\n",
       "      <td>0.0</td>\n",
       "      <td>1</td>\n",
       "      <td>Clear</td>\n",
       "      <td>sky is clear</td>\n",
       "      <td>2012-10-02 20:00:00</td>\n",
       "      <td>2784</td>\n",
       "    </tr>\n",
       "    <tr>\n",
       "      <th>12</th>\n",
       "      <td>None</td>\n",
       "      <td>288.61</td>\n",
       "      <td>0.0</td>\n",
       "      <td>0.0</td>\n",
       "      <td>1</td>\n",
       "      <td>Clear</td>\n",
       "      <td>sky is clear</td>\n",
       "      <td>2012-10-02 21:00:00</td>\n",
       "      <td>2361</td>\n",
       "    </tr>\n",
       "    <tr>\n",
       "      <th>13</th>\n",
       "      <td>None</td>\n",
       "      <td>287.16</td>\n",
       "      <td>0.0</td>\n",
       "      <td>0.0</td>\n",
       "      <td>1</td>\n",
       "      <td>Clear</td>\n",
       "      <td>sky is clear</td>\n",
       "      <td>2012-10-02 22:00:00</td>\n",
       "      <td>1529</td>\n",
       "    </tr>\n",
       "    <tr>\n",
       "      <th>14</th>\n",
       "      <td>None</td>\n",
       "      <td>285.45</td>\n",
       "      <td>0.0</td>\n",
       "      <td>0.0</td>\n",
       "      <td>1</td>\n",
       "      <td>Clear</td>\n",
       "      <td>sky is clear</td>\n",
       "      <td>2012-10-02 23:00:00</td>\n",
       "      <td>963</td>\n",
       "    </tr>\n",
       "    <tr>\n",
       "      <th>...</th>\n",
       "      <td>...</td>\n",
       "      <td>...</td>\n",
       "      <td>...</td>\n",
       "      <td>...</td>\n",
       "      <td>...</td>\n",
       "      <td>...</td>\n",
       "      <td>...</td>\n",
       "      <td>...</td>\n",
       "      <td>...</td>\n",
       "    </tr>\n",
       "    <tr>\n",
       "      <th>48199</th>\n",
       "      <td>None</td>\n",
       "      <td>283.45</td>\n",
       "      <td>0.0</td>\n",
       "      <td>0.0</td>\n",
       "      <td>75</td>\n",
       "      <td>Clouds</td>\n",
       "      <td>broken clouds</td>\n",
       "      <td>2018-09-30 19:00:00</td>\n",
       "      <td>3543</td>\n",
       "    </tr>\n",
       "    <tr>\n",
       "      <th>48200</th>\n",
       "      <td>None</td>\n",
       "      <td>282.76</td>\n",
       "      <td>0.0</td>\n",
       "      <td>0.0</td>\n",
       "      <td>90</td>\n",
       "      <td>Clouds</td>\n",
       "      <td>overcast clouds</td>\n",
       "      <td>2018-09-30 20:00:00</td>\n",
       "      <td>2781</td>\n",
       "    </tr>\n",
       "    <tr>\n",
       "      <th>48201</th>\n",
       "      <td>None</td>\n",
       "      <td>282.73</td>\n",
       "      <td>0.0</td>\n",
       "      <td>0.0</td>\n",
       "      <td>90</td>\n",
       "      <td>Thunderstorm</td>\n",
       "      <td>proximity thunderstorm</td>\n",
       "      <td>2018-09-30 21:00:00</td>\n",
       "      <td>2159</td>\n",
       "    </tr>\n",
       "    <tr>\n",
       "      <th>48202</th>\n",
       "      <td>None</td>\n",
       "      <td>282.09</td>\n",
       "      <td>0.0</td>\n",
       "      <td>0.0</td>\n",
       "      <td>90</td>\n",
       "      <td>Clouds</td>\n",
       "      <td>overcast clouds</td>\n",
       "      <td>2018-09-30 22:00:00</td>\n",
       "      <td>1450</td>\n",
       "    </tr>\n",
       "    <tr>\n",
       "      <th>48203</th>\n",
       "      <td>None</td>\n",
       "      <td>282.12</td>\n",
       "      <td>0.0</td>\n",
       "      <td>0.0</td>\n",
       "      <td>90</td>\n",
       "      <td>Clouds</td>\n",
       "      <td>overcast clouds</td>\n",
       "      <td>2018-09-30 23:00:00</td>\n",
       "      <td>954</td>\n",
       "    </tr>\n",
       "  </tbody>\n",
       "</table>\n",
       "<p>26406 rows × 9 columns</p>\n",
       "</div>"
      ],
      "text/plain": [
       "      holiday    temp  rain_1h  snow_1h  clouds_all  weather_main  \\\n",
       "10       None  290.97      0.0      0.0          20        Clouds   \n",
       "11       None  289.38      0.0      0.0           1         Clear   \n",
       "12       None  288.61      0.0      0.0           1         Clear   \n",
       "13       None  287.16      0.0      0.0           1         Clear   \n",
       "14       None  285.45      0.0      0.0           1         Clear   \n",
       "...       ...     ...      ...      ...         ...           ...   \n",
       "48199    None  283.45      0.0      0.0          75        Clouds   \n",
       "48200    None  282.76      0.0      0.0          90        Clouds   \n",
       "48201    None  282.73      0.0      0.0          90  Thunderstorm   \n",
       "48202    None  282.09      0.0      0.0          90        Clouds   \n",
       "48203    None  282.12      0.0      0.0          90        Clouds   \n",
       "\n",
       "          weather_description           date_time  traffic_volume  \n",
       "10                 few clouds 2012-10-02 19:00:00            3539  \n",
       "11               sky is clear 2012-10-02 20:00:00            2784  \n",
       "12               sky is clear 2012-10-02 21:00:00            2361  \n",
       "13               sky is clear 2012-10-02 22:00:00            1529  \n",
       "14               sky is clear 2012-10-02 23:00:00             963  \n",
       "...                       ...                 ...             ...  \n",
       "48199           broken clouds 2018-09-30 19:00:00            3543  \n",
       "48200         overcast clouds 2018-09-30 20:00:00            2781  \n",
       "48201  proximity thunderstorm 2018-09-30 21:00:00            2159  \n",
       "48202         overcast clouds 2018-09-30 22:00:00            1450  \n",
       "48203         overcast clouds 2018-09-30 23:00:00             954  \n",
       "\n",
       "[26406 rows x 9 columns]"
      ]
     },
     "execution_count": 34,
     "metadata": {},
     "output_type": "execute_result"
    }
   ],
   "source": [
    "traffic_night"
   ]
  },
  {
   "cell_type": "code",
   "execution_count": 35,
   "metadata": {},
   "outputs": [],
   "source": [
    "traffic_night['month_night'] = traffic_night['date_time'].dt.month"
   ]
  },
  {
   "cell_type": "code",
   "execution_count": 36,
   "metadata": {
    "scrolled": true
   },
   "outputs": [
    {
     "data": {
      "text/html": [
       "<div>\n",
       "<style scoped>\n",
       "    .dataframe tbody tr th:only-of-type {\n",
       "        vertical-align: middle;\n",
       "    }\n",
       "\n",
       "    .dataframe tbody tr th {\n",
       "        vertical-align: top;\n",
       "    }\n",
       "\n",
       "    .dataframe thead th {\n",
       "        text-align: right;\n",
       "    }\n",
       "</style>\n",
       "<table border=\"1\" class=\"dataframe\">\n",
       "  <thead>\n",
       "    <tr style=\"text-align: right;\">\n",
       "      <th></th>\n",
       "      <th>holiday</th>\n",
       "      <th>temp</th>\n",
       "      <th>rain_1h</th>\n",
       "      <th>snow_1h</th>\n",
       "      <th>clouds_all</th>\n",
       "      <th>weather_main</th>\n",
       "      <th>weather_description</th>\n",
       "      <th>date_time</th>\n",
       "      <th>traffic_volume</th>\n",
       "      <th>month_night</th>\n",
       "    </tr>\n",
       "  </thead>\n",
       "  <tbody>\n",
       "    <tr>\n",
       "      <th>10</th>\n",
       "      <td>None</td>\n",
       "      <td>290.97</td>\n",
       "      <td>0.0</td>\n",
       "      <td>0.0</td>\n",
       "      <td>20</td>\n",
       "      <td>Clouds</td>\n",
       "      <td>few clouds</td>\n",
       "      <td>2012-10-02 19:00:00</td>\n",
       "      <td>3539</td>\n",
       "      <td>10</td>\n",
       "    </tr>\n",
       "    <tr>\n",
       "      <th>11</th>\n",
       "      <td>None</td>\n",
       "      <td>289.38</td>\n",
       "      <td>0.0</td>\n",
       "      <td>0.0</td>\n",
       "      <td>1</td>\n",
       "      <td>Clear</td>\n",
       "      <td>sky is clear</td>\n",
       "      <td>2012-10-02 20:00:00</td>\n",
       "      <td>2784</td>\n",
       "      <td>10</td>\n",
       "    </tr>\n",
       "    <tr>\n",
       "      <th>12</th>\n",
       "      <td>None</td>\n",
       "      <td>288.61</td>\n",
       "      <td>0.0</td>\n",
       "      <td>0.0</td>\n",
       "      <td>1</td>\n",
       "      <td>Clear</td>\n",
       "      <td>sky is clear</td>\n",
       "      <td>2012-10-02 21:00:00</td>\n",
       "      <td>2361</td>\n",
       "      <td>10</td>\n",
       "    </tr>\n",
       "    <tr>\n",
       "      <th>13</th>\n",
       "      <td>None</td>\n",
       "      <td>287.16</td>\n",
       "      <td>0.0</td>\n",
       "      <td>0.0</td>\n",
       "      <td>1</td>\n",
       "      <td>Clear</td>\n",
       "      <td>sky is clear</td>\n",
       "      <td>2012-10-02 22:00:00</td>\n",
       "      <td>1529</td>\n",
       "      <td>10</td>\n",
       "    </tr>\n",
       "    <tr>\n",
       "      <th>14</th>\n",
       "      <td>None</td>\n",
       "      <td>285.45</td>\n",
       "      <td>0.0</td>\n",
       "      <td>0.0</td>\n",
       "      <td>1</td>\n",
       "      <td>Clear</td>\n",
       "      <td>sky is clear</td>\n",
       "      <td>2012-10-02 23:00:00</td>\n",
       "      <td>963</td>\n",
       "      <td>10</td>\n",
       "    </tr>\n",
       "    <tr>\n",
       "      <th>...</th>\n",
       "      <td>...</td>\n",
       "      <td>...</td>\n",
       "      <td>...</td>\n",
       "      <td>...</td>\n",
       "      <td>...</td>\n",
       "      <td>...</td>\n",
       "      <td>...</td>\n",
       "      <td>...</td>\n",
       "      <td>...</td>\n",
       "      <td>...</td>\n",
       "    </tr>\n",
       "    <tr>\n",
       "      <th>48199</th>\n",
       "      <td>None</td>\n",
       "      <td>283.45</td>\n",
       "      <td>0.0</td>\n",
       "      <td>0.0</td>\n",
       "      <td>75</td>\n",
       "      <td>Clouds</td>\n",
       "      <td>broken clouds</td>\n",
       "      <td>2018-09-30 19:00:00</td>\n",
       "      <td>3543</td>\n",
       "      <td>9</td>\n",
       "    </tr>\n",
       "    <tr>\n",
       "      <th>48200</th>\n",
       "      <td>None</td>\n",
       "      <td>282.76</td>\n",
       "      <td>0.0</td>\n",
       "      <td>0.0</td>\n",
       "      <td>90</td>\n",
       "      <td>Clouds</td>\n",
       "      <td>overcast clouds</td>\n",
       "      <td>2018-09-30 20:00:00</td>\n",
       "      <td>2781</td>\n",
       "      <td>9</td>\n",
       "    </tr>\n",
       "    <tr>\n",
       "      <th>48201</th>\n",
       "      <td>None</td>\n",
       "      <td>282.73</td>\n",
       "      <td>0.0</td>\n",
       "      <td>0.0</td>\n",
       "      <td>90</td>\n",
       "      <td>Thunderstorm</td>\n",
       "      <td>proximity thunderstorm</td>\n",
       "      <td>2018-09-30 21:00:00</td>\n",
       "      <td>2159</td>\n",
       "      <td>9</td>\n",
       "    </tr>\n",
       "    <tr>\n",
       "      <th>48202</th>\n",
       "      <td>None</td>\n",
       "      <td>282.09</td>\n",
       "      <td>0.0</td>\n",
       "      <td>0.0</td>\n",
       "      <td>90</td>\n",
       "      <td>Clouds</td>\n",
       "      <td>overcast clouds</td>\n",
       "      <td>2018-09-30 22:00:00</td>\n",
       "      <td>1450</td>\n",
       "      <td>9</td>\n",
       "    </tr>\n",
       "    <tr>\n",
       "      <th>48203</th>\n",
       "      <td>None</td>\n",
       "      <td>282.12</td>\n",
       "      <td>0.0</td>\n",
       "      <td>0.0</td>\n",
       "      <td>90</td>\n",
       "      <td>Clouds</td>\n",
       "      <td>overcast clouds</td>\n",
       "      <td>2018-09-30 23:00:00</td>\n",
       "      <td>954</td>\n",
       "      <td>9</td>\n",
       "    </tr>\n",
       "  </tbody>\n",
       "</table>\n",
       "<p>26406 rows × 10 columns</p>\n",
       "</div>"
      ],
      "text/plain": [
       "      holiday    temp  rain_1h  snow_1h  clouds_all  weather_main  \\\n",
       "10       None  290.97      0.0      0.0          20        Clouds   \n",
       "11       None  289.38      0.0      0.0           1         Clear   \n",
       "12       None  288.61      0.0      0.0           1         Clear   \n",
       "13       None  287.16      0.0      0.0           1         Clear   \n",
       "14       None  285.45      0.0      0.0           1         Clear   \n",
       "...       ...     ...      ...      ...         ...           ...   \n",
       "48199    None  283.45      0.0      0.0          75        Clouds   \n",
       "48200    None  282.76      0.0      0.0          90        Clouds   \n",
       "48201    None  282.73      0.0      0.0          90  Thunderstorm   \n",
       "48202    None  282.09      0.0      0.0          90        Clouds   \n",
       "48203    None  282.12      0.0      0.0          90        Clouds   \n",
       "\n",
       "          weather_description           date_time  traffic_volume  month_night  \n",
       "10                 few clouds 2012-10-02 19:00:00            3539           10  \n",
       "11               sky is clear 2012-10-02 20:00:00            2784           10  \n",
       "12               sky is clear 2012-10-02 21:00:00            2361           10  \n",
       "13               sky is clear 2012-10-02 22:00:00            1529           10  \n",
       "14               sky is clear 2012-10-02 23:00:00             963           10  \n",
       "...                       ...                 ...             ...          ...  \n",
       "48199           broken clouds 2018-09-30 19:00:00            3543            9  \n",
       "48200         overcast clouds 2018-09-30 20:00:00            2781            9  \n",
       "48201  proximity thunderstorm 2018-09-30 21:00:00            2159            9  \n",
       "48202         overcast clouds 2018-09-30 22:00:00            1450            9  \n",
       "48203         overcast clouds 2018-09-30 23:00:00             954            9  \n",
       "\n",
       "[26406 rows x 10 columns]"
      ]
     },
     "execution_count": 36,
     "metadata": {},
     "output_type": "execute_result"
    }
   ],
   "source": [
    "traffic_night"
   ]
  },
  {
   "cell_type": "code",
   "execution_count": 37,
   "metadata": {},
   "outputs": [
    {
     "name": "stdout",
     "output_type": "stream",
     "text": [
      "<class 'pandas.core.frame.DataFrame'>\n",
      "Int64Index: 26406 entries, 10 to 48203\n",
      "Data columns (total 10 columns):\n",
      " #   Column               Non-Null Count  Dtype         \n",
      "---  ------               --------------  -----         \n",
      " 0   holiday              26406 non-null  object        \n",
      " 1   temp                 26406 non-null  float64       \n",
      " 2   rain_1h              26406 non-null  float64       \n",
      " 3   snow_1h              26406 non-null  float64       \n",
      " 4   clouds_all           26406 non-null  int64         \n",
      " 5   weather_main         26406 non-null  object        \n",
      " 6   weather_description  26406 non-null  object        \n",
      " 7   date_time            26406 non-null  datetime64[ns]\n",
      " 8   traffic_volume       26406 non-null  int64         \n",
      " 9   month_night          26406 non-null  int64         \n",
      "dtypes: datetime64[ns](1), float64(3), int64(3), object(3)\n",
      "memory usage: 2.2+ MB\n"
     ]
    }
   ],
   "source": [
    "traffic_night.info()"
   ]
  },
  {
   "cell_type": "markdown",
   "metadata": {},
   "source": [
    "### Monthly night."
   ]
  },
  {
   "cell_type": "code",
   "execution_count": 38,
   "metadata": {},
   "outputs": [
    {
     "data": {
      "text/html": [
       "<div>\n",
       "<style scoped>\n",
       "    .dataframe tbody tr th:only-of-type {\n",
       "        vertical-align: middle;\n",
       "    }\n",
       "\n",
       "    .dataframe tbody tr th {\n",
       "        vertical-align: top;\n",
       "    }\n",
       "\n",
       "    .dataframe thead th {\n",
       "        text-align: right;\n",
       "    }\n",
       "</style>\n",
       "<table border=\"1\" class=\"dataframe\">\n",
       "  <thead>\n",
       "    <tr style=\"text-align: right;\">\n",
       "      <th></th>\n",
       "      <th>temp</th>\n",
       "      <th>rain_1h</th>\n",
       "      <th>snow_1h</th>\n",
       "      <th>clouds_all</th>\n",
       "      <th>traffic_volume</th>\n",
       "    </tr>\n",
       "    <tr>\n",
       "      <th>month_night</th>\n",
       "      <th></th>\n",
       "      <th></th>\n",
       "      <th></th>\n",
       "      <th></th>\n",
       "      <th></th>\n",
       "    </tr>\n",
       "  </thead>\n",
       "  <tbody>\n",
       "    <tr>\n",
       "      <th>1</th>\n",
       "      <td>264.321445</td>\n",
       "      <td>0.009327</td>\n",
       "      <td>0.000737</td>\n",
       "      <td>52.707418</td>\n",
       "      <td>1842.462454</td>\n",
       "    </tr>\n",
       "    <tr>\n",
       "      <th>2</th>\n",
       "      <td>264.254128</td>\n",
       "      <td>0.000656</td>\n",
       "      <td>0.000000</td>\n",
       "      <td>47.299432</td>\n",
       "      <td>1961.179659</td>\n",
       "    </tr>\n",
       "    <tr>\n",
       "      <th>3</th>\n",
       "      <td>271.785575</td>\n",
       "      <td>0.008316</td>\n",
       "      <td>0.000000</td>\n",
       "      <td>53.221698</td>\n",
       "      <td>2055.475943</td>\n",
       "    </tr>\n",
       "    <tr>\n",
       "      <th>4</th>\n",
       "      <td>277.667806</td>\n",
       "      <td>0.065497</td>\n",
       "      <td>0.000000</td>\n",
       "      <td>56.399577</td>\n",
       "      <td>2036.222833</td>\n",
       "    </tr>\n",
       "    <tr>\n",
       "      <th>5</th>\n",
       "      <td>286.851186</td>\n",
       "      <td>0.111038</td>\n",
       "      <td>0.000000</td>\n",
       "      <td>47.032685</td>\n",
       "      <td>2083.808440</td>\n",
       "    </tr>\n",
       "    <tr>\n",
       "      <th>6</th>\n",
       "      <td>291.926656</td>\n",
       "      <td>0.263865</td>\n",
       "      <td>0.000000</td>\n",
       "      <td>37.954413</td>\n",
       "      <td>2186.719205</td>\n",
       "    </tr>\n",
       "    <tr>\n",
       "      <th>7</th>\n",
       "      <td>293.613595</td>\n",
       "      <td>0.352343</td>\n",
       "      <td>0.000000</td>\n",
       "      <td>30.957083</td>\n",
       "      <td>2064.510824</td>\n",
       "    </tr>\n",
       "    <tr>\n",
       "      <th>8</th>\n",
       "      <td>291.949263</td>\n",
       "      <td>0.381950</td>\n",
       "      <td>0.000000</td>\n",
       "      <td>33.612422</td>\n",
       "      <td>2154.896894</td>\n",
       "    </tr>\n",
       "    <tr>\n",
       "      <th>9</th>\n",
       "      <td>289.802247</td>\n",
       "      <td>0.293499</td>\n",
       "      <td>0.000000</td>\n",
       "      <td>37.035228</td>\n",
       "      <td>2049.581963</td>\n",
       "    </tr>\n",
       "    <tr>\n",
       "      <th>10</th>\n",
       "      <td>281.694349</td>\n",
       "      <td>0.080246</td>\n",
       "      <td>0.000000</td>\n",
       "      <td>46.667912</td>\n",
       "      <td>2071.930059</td>\n",
       "    </tr>\n",
       "    <tr>\n",
       "      <th>11</th>\n",
       "      <td>274.833737</td>\n",
       "      <td>0.000000</td>\n",
       "      <td>0.000000</td>\n",
       "      <td>51.164851</td>\n",
       "      <td>1905.199010</td>\n",
       "    </tr>\n",
       "    <tr>\n",
       "      <th>12</th>\n",
       "      <td>266.366625</td>\n",
       "      <td>0.063603</td>\n",
       "      <td>0.001404</td>\n",
       "      <td>61.586406</td>\n",
       "      <td>1782.938694</td>\n",
       "    </tr>\n",
       "  </tbody>\n",
       "</table>\n",
       "</div>"
      ],
      "text/plain": [
       "                   temp   rain_1h   snow_1h  clouds_all  traffic_volume\n",
       "month_night                                                            \n",
       "1            264.321445  0.009327  0.000737   52.707418     1842.462454\n",
       "2            264.254128  0.000656  0.000000   47.299432     1961.179659\n",
       "3            271.785575  0.008316  0.000000   53.221698     2055.475943\n",
       "4            277.667806  0.065497  0.000000   56.399577     2036.222833\n",
       "5            286.851186  0.111038  0.000000   47.032685     2083.808440\n",
       "6            291.926656  0.263865  0.000000   37.954413     2186.719205\n",
       "7            293.613595  0.352343  0.000000   30.957083     2064.510824\n",
       "8            291.949263  0.381950  0.000000   33.612422     2154.896894\n",
       "9            289.802247  0.293499  0.000000   37.035228     2049.581963\n",
       "10           281.694349  0.080246  0.000000   46.667912     2071.930059\n",
       "11           274.833737  0.000000  0.000000   51.164851     1905.199010\n",
       "12           266.366625  0.063603  0.001404   61.586406     1782.938694"
      ]
     },
     "execution_count": 38,
     "metadata": {},
     "output_type": "execute_result"
    }
   ],
   "source": [
    "by_month_night = traffic_night.groupby('month_night').mean() # agrupa columnas con valores numéricos en 12 meses  \n",
    "by_month_night"
   ]
  },
  {
   "cell_type": "code",
   "execution_count": 39,
   "metadata": {},
   "outputs": [
    {
     "data": {
      "text/plain": [
       "month_night\n",
       "1     1842.462454\n",
       "2     1961.179659\n",
       "3     2055.475943\n",
       "4     2036.222833\n",
       "5     2083.808440\n",
       "6     2186.719205\n",
       "7     2064.510824\n",
       "8     2154.896894\n",
       "9     2049.581963\n",
       "10    2071.930059\n",
       "11    1905.199010\n",
       "12    1782.938694\n",
       "Name: traffic_volume, dtype: float64"
      ]
     },
     "execution_count": 39,
     "metadata": {},
     "output_type": "execute_result"
    }
   ],
   "source": [
    "by_month_night['traffic_volume']"
   ]
  },
  {
   "cell_type": "code",
   "execution_count": 40,
   "metadata": {},
   "outputs": [
    {
     "data": {
      "image/png": "[encoded data removed]",
      "text/plain": [
       "<Figure size 432x288 with 1 Axes>"
      ]
     },
     "metadata": {
      "needs_background": "light"
     },
     "output_type": "display_data"
    }
   ],
   "source": [
    "plt.plot(by_month_night['traffic_volume'])\n",
    "plt.xticks(ticks=[1, 2, 3, 4, 5, 6,7,8,9,10,11,12],\n",
    "           labels=['January', 'February', 'March','April',\n",
    "                   'May','June', 'July','August','September', 'October', 'November','December'],\n",
    "           rotation=30)\n",
    "\n",
    "plt.xlabel('Month')\n",
    "plt.ylabel('Cars per hour')\n",
    "plt.title('Traffic Volume / 12 Month (night)')\n",
    "\n",
    "plt.show()"
   ]
  },
  {
   "cell_type": "markdown",
   "metadata": {},
   "source": [
    "the volume of vehicles at night is lower and is centered mainly in the warmer months of the calendar, except for the months of July, mid-March and mid-September"
   ]
  },
  {
   "cell_type": "markdown",
   "metadata": {},
   "source": [
    "### Day of week"
   ]
  },
  {
   "cell_type": "code",
   "execution_count": 41,
   "metadata": {},
   "outputs": [
    {
     "data": {
      "text/plain": [
       "10       1\n",
       "11       1\n",
       "12       1\n",
       "13       1\n",
       "14       1\n",
       "        ..\n",
       "48199    6\n",
       "48200    6\n",
       "48201    6\n",
       "48202    6\n",
       "48203    6\n",
       "Name: dayofweek, Length: 26406, dtype: int64"
      ]
     },
     "execution_count": 41,
     "metadata": {},
     "output_type": "execute_result"
    }
   ],
   "source": [
    "traffic_night['dayofweek'] = traffic_night['date_time'].dt.dayofweek\n",
    "traffic_night['dayofweek']"
   ]
  },
  {
   "cell_type": "code",
   "execution_count": 42,
   "metadata": {},
   "outputs": [
    {
     "data": {
      "text/html": [
       "<div>\n",
       "<style scoped>\n",
       "    .dataframe tbody tr th:only-of-type {\n",
       "        vertical-align: middle;\n",
       "    }\n",
       "\n",
       "    .dataframe tbody tr th {\n",
       "        vertical-align: top;\n",
       "    }\n",
       "\n",
       "    .dataframe thead th {\n",
       "        text-align: right;\n",
       "    }\n",
       "</style>\n",
       "<table border=\"1\" class=\"dataframe\">\n",
       "  <thead>\n",
       "    <tr style=\"text-align: right;\">\n",
       "      <th></th>\n",
       "      <th>temp</th>\n",
       "      <th>rain_1h</th>\n",
       "      <th>snow_1h</th>\n",
       "      <th>clouds_all</th>\n",
       "      <th>traffic_volume</th>\n",
       "      <th>month_night</th>\n",
       "    </tr>\n",
       "    <tr>\n",
       "      <th>dayofweek</th>\n",
       "      <th></th>\n",
       "      <th></th>\n",
       "      <th></th>\n",
       "      <th></th>\n",
       "      <th></th>\n",
       "      <th></th>\n",
       "    </tr>\n",
       "  </thead>\n",
       "  <tbody>\n",
       "    <tr>\n",
       "      <th>0</th>\n",
       "      <td>280.497913</td>\n",
       "      <td>0.172925</td>\n",
       "      <td>0.000625</td>\n",
       "      <td>48.163934</td>\n",
       "      <td>2050.911527</td>\n",
       "      <td>6.418423</td>\n",
       "    </tr>\n",
       "    <tr>\n",
       "      <th>1</th>\n",
       "      <td>280.222801</td>\n",
       "      <td>0.171857</td>\n",
       "      <td>0.000201</td>\n",
       "      <td>47.576222</td>\n",
       "      <td>2177.733157</td>\n",
       "      <td>6.475297</td>\n",
       "    </tr>\n",
       "    <tr>\n",
       "      <th>2</th>\n",
       "      <td>280.052430</td>\n",
       "      <td>0.086390</td>\n",
       "      <td>0.000132</td>\n",
       "      <td>46.077860</td>\n",
       "      <td>2226.625530</td>\n",
       "      <td>6.516684</td>\n",
       "    </tr>\n",
       "    <tr>\n",
       "      <th>3</th>\n",
       "      <td>280.140999</td>\n",
       "      <td>0.181119</td>\n",
       "      <td>0.000054</td>\n",
       "      <td>48.292369</td>\n",
       "      <td>2325.003213</td>\n",
       "      <td>6.441767</td>\n",
       "    </tr>\n",
       "    <tr>\n",
       "      <th>4</th>\n",
       "      <td>279.585562</td>\n",
       "      <td>0.074336</td>\n",
       "      <td>0.000243</td>\n",
       "      <td>44.097281</td>\n",
       "      <td>2370.610874</td>\n",
       "      <td>6.467484</td>\n",
       "    </tr>\n",
       "    <tr>\n",
       "      <th>5</th>\n",
       "      <td>279.941222</td>\n",
       "      <td>0.113999</td>\n",
       "      <td>0.000000</td>\n",
       "      <td>42.796415</td>\n",
       "      <td>1660.116640</td>\n",
       "      <td>6.528357</td>\n",
       "    </tr>\n",
       "    <tr>\n",
       "      <th>6</th>\n",
       "      <td>279.839402</td>\n",
       "      <td>0.199190</td>\n",
       "      <td>0.000000</td>\n",
       "      <td>45.235372</td>\n",
       "      <td>1316.300768</td>\n",
       "      <td>6.539052</td>\n",
       "    </tr>\n",
       "  </tbody>\n",
       "</table>\n",
       "</div>"
      ],
      "text/plain": [
       "                 temp   rain_1h   snow_1h  clouds_all  traffic_volume  \\\n",
       "dayofweek                                                               \n",
       "0          280.497913  0.172925  0.000625   48.163934     2050.911527   \n",
       "1          280.222801  0.171857  0.000201   47.576222     2177.733157   \n",
       "2          280.052430  0.086390  0.000132   46.077860     2226.625530   \n",
       "3          280.140999  0.181119  0.000054   48.292369     2325.003213   \n",
       "4          279.585562  0.074336  0.000243   44.097281     2370.610874   \n",
       "5          279.941222  0.113999  0.000000   42.796415     1660.116640   \n",
       "6          279.839402  0.199190  0.000000   45.235372     1316.300768   \n",
       "\n",
       "           month_night  \n",
       "dayofweek               \n",
       "0             6.418423  \n",
       "1             6.475297  \n",
       "2             6.516684  \n",
       "3             6.441767  \n",
       "4             6.467484  \n",
       "5             6.528357  \n",
       "6             6.539052  "
      ]
     },
     "execution_count": 42,
     "metadata": {},
     "output_type": "execute_result"
    }
   ],
   "source": [
    "by_nightofweek = traffic_night.groupby('dayofweek').mean()\n",
    "by_nightofweek"
   ]
  },
  {
   "cell_type": "code",
   "execution_count": 43,
   "metadata": {},
   "outputs": [
    {
     "data": {
      "text/plain": [
       "dayofweek\n",
       "0    2050.911527\n",
       "1    2177.733157\n",
       "2    2226.625530\n",
       "3    2325.003213\n",
       "4    2370.610874\n",
       "5    1660.116640\n",
       "6    1316.300768\n",
       "Name: traffic_volume, dtype: float64"
      ]
     },
     "execution_count": 43,
     "metadata": {},
     "output_type": "execute_result"
    }
   ],
   "source": [
    "by_nightofweek['traffic_volume']  # 0 is Monday, 6 is Sunday"
   ]
  },
  {
   "cell_type": "code",
   "execution_count": 44,
   "metadata": {},
   "outputs": [
    {
     "data": {
      "image/png": "[encoded data removed]",
      "text/plain": [
       "<Figure size 432x288 with 1 Axes>"
      ]
     },
     "metadata": {
      "needs_background": "light"
     },
     "output_type": "display_data"
    }
   ],
   "source": [
    "plt.plot(by_nightofweek['traffic_volume'])\n",
    "plt.title('Traffic Volume / Day of week (night time) ')\n",
    "plt.xticks(ticks=[0, 1, 2, 3, 4, 5, 6], labels=[ 'Monday', 'Tuesday',\n",
    "                                                'Wednesday', 'Thursday', \n",
    "                                                'Friday', 'Saturday','Sunday'],\n",
    "                      rotation=30)\n",
    "plt.show()"
   ]
  },
  {
   "cell_type": "markdown",
   "metadata": {},
   "source": [
    "We see how during the week the volume increases and when the weekend arrives again the traffic volume drops again."
   ]
  },
  {
   "cell_type": "code",
   "execution_count": 45,
   "metadata": {},
   "outputs": [
    {
     "data": {
      "text/html": [
       "<div>\n",
       "<style scoped>\n",
       "    .dataframe tbody tr th:only-of-type {\n",
       "        vertical-align: middle;\n",
       "    }\n",
       "\n",
       "    .dataframe tbody tr th {\n",
       "        vertical-align: top;\n",
       "    }\n",
       "\n",
       "    .dataframe thead th {\n",
       "        text-align: right;\n",
       "    }\n",
       "</style>\n",
       "<table border=\"1\" class=\"dataframe\">\n",
       "  <thead>\n",
       "    <tr style=\"text-align: right;\">\n",
       "      <th></th>\n",
       "      <th>holiday</th>\n",
       "      <th>temp</th>\n",
       "      <th>rain_1h</th>\n",
       "      <th>snow_1h</th>\n",
       "      <th>clouds_all</th>\n",
       "      <th>weather_main</th>\n",
       "      <th>weather_description</th>\n",
       "      <th>date_time</th>\n",
       "      <th>traffic_volume</th>\n",
       "      <th>month_night</th>\n",
       "      <th>dayofweek</th>\n",
       "    </tr>\n",
       "  </thead>\n",
       "  <tbody>\n",
       "    <tr>\n",
       "      <th>10</th>\n",
       "      <td>None</td>\n",
       "      <td>290.97</td>\n",
       "      <td>0.0</td>\n",
       "      <td>0.0</td>\n",
       "      <td>20</td>\n",
       "      <td>Clouds</td>\n",
       "      <td>few clouds</td>\n",
       "      <td>2012-10-02 19:00:00</td>\n",
       "      <td>3539</td>\n",
       "      <td>10</td>\n",
       "      <td>1</td>\n",
       "    </tr>\n",
       "    <tr>\n",
       "      <th>11</th>\n",
       "      <td>None</td>\n",
       "      <td>289.38</td>\n",
       "      <td>0.0</td>\n",
       "      <td>0.0</td>\n",
       "      <td>1</td>\n",
       "      <td>Clear</td>\n",
       "      <td>sky is clear</td>\n",
       "      <td>2012-10-02 20:00:00</td>\n",
       "      <td>2784</td>\n",
       "      <td>10</td>\n",
       "      <td>1</td>\n",
       "    </tr>\n",
       "    <tr>\n",
       "      <th>12</th>\n",
       "      <td>None</td>\n",
       "      <td>288.61</td>\n",
       "      <td>0.0</td>\n",
       "      <td>0.0</td>\n",
       "      <td>1</td>\n",
       "      <td>Clear</td>\n",
       "      <td>sky is clear</td>\n",
       "      <td>2012-10-02 21:00:00</td>\n",
       "      <td>2361</td>\n",
       "      <td>10</td>\n",
       "      <td>1</td>\n",
       "    </tr>\n",
       "    <tr>\n",
       "      <th>13</th>\n",
       "      <td>None</td>\n",
       "      <td>287.16</td>\n",
       "      <td>0.0</td>\n",
       "      <td>0.0</td>\n",
       "      <td>1</td>\n",
       "      <td>Clear</td>\n",
       "      <td>sky is clear</td>\n",
       "      <td>2012-10-02 22:00:00</td>\n",
       "      <td>1529</td>\n",
       "      <td>10</td>\n",
       "      <td>1</td>\n",
       "    </tr>\n",
       "    <tr>\n",
       "      <th>14</th>\n",
       "      <td>None</td>\n",
       "      <td>285.45</td>\n",
       "      <td>0.0</td>\n",
       "      <td>0.0</td>\n",
       "      <td>1</td>\n",
       "      <td>Clear</td>\n",
       "      <td>sky is clear</td>\n",
       "      <td>2012-10-02 23:00:00</td>\n",
       "      <td>963</td>\n",
       "      <td>10</td>\n",
       "      <td>1</td>\n",
       "    </tr>\n",
       "    <tr>\n",
       "      <th>...</th>\n",
       "      <td>...</td>\n",
       "      <td>...</td>\n",
       "      <td>...</td>\n",
       "      <td>...</td>\n",
       "      <td>...</td>\n",
       "      <td>...</td>\n",
       "      <td>...</td>\n",
       "      <td>...</td>\n",
       "      <td>...</td>\n",
       "      <td>...</td>\n",
       "      <td>...</td>\n",
       "    </tr>\n",
       "    <tr>\n",
       "      <th>48199</th>\n",
       "      <td>None</td>\n",
       "      <td>283.45</td>\n",
       "      <td>0.0</td>\n",
       "      <td>0.0</td>\n",
       "      <td>75</td>\n",
       "      <td>Clouds</td>\n",
       "      <td>broken clouds</td>\n",
       "      <td>2018-09-30 19:00:00</td>\n",
       "      <td>3543</td>\n",
       "      <td>9</td>\n",
       "      <td>6</td>\n",
       "    </tr>\n",
       "    <tr>\n",
       "      <th>48200</th>\n",
       "      <td>None</td>\n",
       "      <td>282.76</td>\n",
       "      <td>0.0</td>\n",
       "      <td>0.0</td>\n",
       "      <td>90</td>\n",
       "      <td>Clouds</td>\n",
       "      <td>overcast clouds</td>\n",
       "      <td>2018-09-30 20:00:00</td>\n",
       "      <td>2781</td>\n",
       "      <td>9</td>\n",
       "      <td>6</td>\n",
       "    </tr>\n",
       "    <tr>\n",
       "      <th>48201</th>\n",
       "      <td>None</td>\n",
       "      <td>282.73</td>\n",
       "      <td>0.0</td>\n",
       "      <td>0.0</td>\n",
       "      <td>90</td>\n",
       "      <td>Thunderstorm</td>\n",
       "      <td>proximity thunderstorm</td>\n",
       "      <td>2018-09-30 21:00:00</td>\n",
       "      <td>2159</td>\n",
       "      <td>9</td>\n",
       "      <td>6</td>\n",
       "    </tr>\n",
       "    <tr>\n",
       "      <th>48202</th>\n",
       "      <td>None</td>\n",
       "      <td>282.09</td>\n",
       "      <td>0.0</td>\n",
       "      <td>0.0</td>\n",
       "      <td>90</td>\n",
       "      <td>Clouds</td>\n",
       "      <td>overcast clouds</td>\n",
       "      <td>2018-09-30 22:00:00</td>\n",
       "      <td>1450</td>\n",
       "      <td>9</td>\n",
       "      <td>6</td>\n",
       "    </tr>\n",
       "    <tr>\n",
       "      <th>48203</th>\n",
       "      <td>None</td>\n",
       "      <td>282.12</td>\n",
       "      <td>0.0</td>\n",
       "      <td>0.0</td>\n",
       "      <td>90</td>\n",
       "      <td>Clouds</td>\n",
       "      <td>overcast clouds</td>\n",
       "      <td>2018-09-30 23:00:00</td>\n",
       "      <td>954</td>\n",
       "      <td>9</td>\n",
       "      <td>6</td>\n",
       "    </tr>\n",
       "  </tbody>\n",
       "</table>\n",
       "<p>26406 rows × 11 columns</p>\n",
       "</div>"
      ],
      "text/plain": [
       "      holiday    temp  rain_1h  snow_1h  clouds_all  weather_main  \\\n",
       "10       None  290.97      0.0      0.0          20        Clouds   \n",
       "11       None  289.38      0.0      0.0           1         Clear   \n",
       "12       None  288.61      0.0      0.0           1         Clear   \n",
       "13       None  287.16      0.0      0.0           1         Clear   \n",
       "14       None  285.45      0.0      0.0           1         Clear   \n",
       "...       ...     ...      ...      ...         ...           ...   \n",
       "48199    None  283.45      0.0      0.0          75        Clouds   \n",
       "48200    None  282.76      0.0      0.0          90        Clouds   \n",
       "48201    None  282.73      0.0      0.0          90  Thunderstorm   \n",
       "48202    None  282.09      0.0      0.0          90        Clouds   \n",
       "48203    None  282.12      0.0      0.0          90        Clouds   \n",
       "\n",
       "          weather_description           date_time  traffic_volume  \\\n",
       "10                 few clouds 2012-10-02 19:00:00            3539   \n",
       "11               sky is clear 2012-10-02 20:00:00            2784   \n",
       "12               sky is clear 2012-10-02 21:00:00            2361   \n",
       "13               sky is clear 2012-10-02 22:00:00            1529   \n",
       "14               sky is clear 2012-10-02 23:00:00             963   \n",
       "...                       ...                 ...             ...   \n",
       "48199           broken clouds 2018-09-30 19:00:00            3543   \n",
       "48200         overcast clouds 2018-09-30 20:00:00            2781   \n",
       "48201  proximity thunderstorm 2018-09-30 21:00:00            2159   \n",
       "48202         overcast clouds 2018-09-30 22:00:00            1450   \n",
       "48203         overcast clouds 2018-09-30 23:00:00             954   \n",
       "\n",
       "       month_night  dayofweek  \n",
       "10              10          1  \n",
       "11              10          1  \n",
       "12              10          1  \n",
       "13              10          1  \n",
       "14              10          1  \n",
       "...            ...        ...  \n",
       "48199            9          6  \n",
       "48200            9          6  \n",
       "48201            9          6  \n",
       "48202            9          6  \n",
       "48203            9          6  \n",
       "\n",
       "[26406 rows x 11 columns]"
      ]
     },
     "execution_count": 45,
     "metadata": {},
     "output_type": "execute_result"
    }
   ],
   "source": [
    "traffic_night"
   ]
  },
  {
   "cell_type": "code",
   "execution_count": 46,
   "metadata": {},
   "outputs": [
    {
     "name": "stdout",
     "output_type": "stream",
     "text": [
      "hour_night\n",
      "0      651.528971\n",
      "1      396.913043\n",
      "2      301.982818\n",
      "3      362.289835\n",
      "4      832.661096\n",
      "5     2701.296703\n",
      "6     5365.983210\n",
      "7     6030.413559\n",
      "19    3298.340426\n",
      "20    2842.433004\n",
      "21    2673.042807\n",
      "22    2125.913104\n",
      "23    1379.549728\n",
      "Name: traffic_volume, dtype: float64\n",
      "hour_night\n",
      "0     1306.414035\n",
      "1      805.128333\n",
      "2      611.171986\n",
      "3      393.611599\n",
      "4      375.420168\n",
      "5      639.237232\n",
      "6     1089.100334\n",
      "7     1589.365894\n",
      "19    3220.234120\n",
      "20    2815.039216\n",
      "21    2658.445242\n",
      "22    2384.368607\n",
      "23    1699.050699\n",
      "Name: traffic_volume, dtype: float64\n"
     ]
    }
   ],
   "source": [
    "traffic_night['hour_night'] = traffic_night['date_time'].dt.hour\n",
    "\n",
    "bussiness_night = traffic_night.copy()[traffic_night['dayofweek'] <= 4] # 4 == Friday\n",
    "weekend_night = traffic_night.copy()[traffic_night['dayofweek'] >= 5] # 5 == Saturday\n",
    "\n",
    "by_hour_business_night = bussiness_night.groupby('hour_night').mean()\n",
    "by_hour_weekend_night = weekend_night.groupby('hour_night').mean()\n",
    "by_hour_business_night = bussiness_night.groupby('hour_night').mean()\n",
    "\n",
    "print(by_hour_business_night['traffic_volume'])\n",
    "print(by_hour_weekend_night['traffic_volume'])"
   ]
  },
  {
   "cell_type": "code",
   "execution_count": 47,
   "metadata": {},
   "outputs": [
    {
     "data": {
      "image/png": "[encoded data removed]",
      "text/plain": [
       "<Figure size 720x864 with 2 Axes>"
      ]
     },
     "metadata": {
      "needs_background": "light"
     },
     "output_type": "display_data"
    }
   ],
   "source": [
    "plt.figure(figsize=(10, 12))\n",
    "\n",
    "plt.ylim([0, 24])\n",
    "\n",
    "plt.subplot(3, 2, 1)\n",
    "plt.title('by_hour_business traffic_volume (night)')\n",
    "plt.plot(by_hour_business_night['traffic_volume'])\n",
    "plt.xticks(ticks=[0, 1, 2,3,4,5,6,7,19,20,21,22,23],\n",
    "           labels=['24:00', '01:00', '02:00', '03:00', '04:00', '05:00', '06:00','07:00','19:00','20:00','21:00','22:00','23:00'],\n",
    "           rotation=85)\n",
    "\n",
    "plt.subplot(3, 2, 2)\n",
    "plt.title('by_hour_business traffic_volume (night)')\n",
    "plt.plot(by_hour_business_night['traffic_volume'])\n",
    "plt.xticks(ticks=[19,20,21,22,23,24],\n",
    "           labels=['19:00','20:00','21:00','22:00','23:00','24:00'],\n",
    "           rotation=85)\n",
    "\n",
    "plt.show()"
   ]
  },
  {
   "cell_type": "code",
   "execution_count": 48,
   "metadata": {},
   "outputs": [
    {
     "data": {
      "image/png": "[encoded data removed]",
      "text/plain": [
       "<Figure size 720x1080 with 4 Axes>"
      ]
     },
     "metadata": {
      "needs_background": "light"
     },
     "output_type": "display_data"
    }
   ],
   "source": [
    "plt.figure(figsize=(10, 15))\n",
    "\n",
    "plt.ylim([0, 24])\n",
    "\n",
    "plt.subplot(3, 2, 1)\n",
    "plt.title('traffic_volume vs temp (night ºC)')\n",
    "plt.scatter(traffic_night['traffic_volume'],K_to_C(traffic_night['temp']))\n",
    "\n",
    "plt.xlabel('Car volume hour')\n",
    "plt.ylabel('temp Celsius')\n",
    "\n",
    "plt.subplot(3, 2, 2)\n",
    "plt.title('by_hour_weekend vs clouds_all (night)')\n",
    "plt.scatter(traffic_night['traffic_volume'],traffic_night['clouds_all'])\n",
    "\n",
    "plt.subplot(3, 2, 3)\n",
    "plt.title('by_hour_weekend vs rain_1h (night)')\n",
    "plt.scatter(traffic_night['traffic_volume'],traffic_night['rain_1h'])\n",
    "\n",
    "plt.xlabel('Car volume hour')\n",
    "\n",
    "plt.subplot(3, 2, 4)\n",
    "plt.title('by_hour_weekend vs snow_1h (night)')\n",
    "plt.scatter(traffic_night['traffic_volume'],traffic_night['snow_1h'])\n",
    "\n",
    "plt.xlabel('Car volume hour')\n",
    "\n",
    "plt.show()"
   ]
  },
  {
   "cell_type": "markdown",
   "metadata": {},
   "source": [
    "In the same way that happened during the day not appear that any of these warn any reduction or increase in traffic due to variations in temperature, cloud, rain or snow.\n",
    "\n",
    "Againn and to see if we can find more useful data, we'll look next at the categorical weather-related columns: \n",
    "\n",
    "`weather_main ` and ` weather_description`\n",
    "\n",
    "We're going to calculate the average traffic volume associated with each unique value in these two columns: "
   ]
  },
  {
   "cell_type": "code",
   "execution_count": 49,
   "metadata": {},
   "outputs": [],
   "source": [
    "by_weather_main_night = traffic_night.groupby('weather_main').mean()\n",
    "by_weather_description_night = traffic_night.groupby('weather_description').mean()"
   ]
  },
  {
   "cell_type": "code",
   "execution_count": 50,
   "metadata": {},
   "outputs": [
    {
     "data": {
      "image/png": "[encoded data removed]",
      "text/plain": [
       "<Figure size 432x288 with 1 Axes>"
      ]
     },
     "metadata": {
      "needs_background": "light"
     },
     "output_type": "display_data"
    }
   ],
   "source": [
    "by_weather_main_night['traffic_volume'].plot.barh()\n",
    "\n",
    "plt.title('Car volume vs different weather conditions (night)')\n",
    "plt.xlabel('car volume')\n",
    "plt.show()"
   ]
  },
  {
   "cell_type": "code",
   "execution_count": 51,
   "metadata": {},
   "outputs": [
    {
     "data": {
      "image/png": "[encoded data removed]",
      "text/plain": [
       "<Figure size 1080x720 with 1 Axes>"
      ]
     },
     "metadata": {
      "needs_background": "light"
     },
     "output_type": "display_data"
    }
   ],
   "source": [
    "plt.figure(figsize=(15,10))\n",
    "A = by_weather_description_night['traffic_volume'].sort_values(ascending = False)\n",
    "\n",
    "A.plot.barh()\n",
    "plt.title('Importance of weather conditions on traffic (night)')\n",
    "plt.xlabel('car volume')\n",
    "plt.show()"
   ]
  },
  {
   "cell_type": "code",
   "execution_count": 52,
   "metadata": {},
   "outputs": [
    {
     "data": {
      "text/plain": [
       "traffic_volume    1.000000\n",
       "rain_1h          -0.011322\n",
       "clouds_all       -0.105634\n",
       "temp             -0.124577\n",
       "hour_day         -0.175307\n",
       "snow_1h          -0.237064\n",
       "dayofweek        -0.322098\n",
       "month_day        -0.323839\n",
       "Name: traffic_volume, dtype: float64"
      ]
     },
     "execution_count": 52,
     "metadata": {},
     "output_type": "execute_result"
    }
   ],
   "source": [
    "by_weather_description_day.corr()['traffic_volume'].sort_values(ascending = False)"
   ]
  },
  {
   "cell_type": "markdown",
   "metadata": {},
   "source": [
    "### observation: \n",
    "\n",
    "We can affirm that there is a correlation between the volume of traffic and some of the elements described in `weather_description`for the day:\n",
    "\n",
    "These indicators show us the importance (from bottom to top) that these meteorological phenomena have in the volume of traffic\n",
    "\n",
    "For example a rainy day will have less relevance than for example a specific day of the month."
   ]
  },
  {
   "cell_type": "code",
   "execution_count": 53,
   "metadata": {
    "scrolled": true
   },
   "outputs": [
    {
     "data": {
      "text/plain": [
       "weather_description\n",
       "light shower snow                      9.545455\n",
       "thunderstorm with drizzle              9.000000\n",
       "proximity thunderstorm with drizzle    8.500000\n",
       "thunderstorm with light drizzle        8.000000\n",
       "very heavy rain                        7.625000\n",
       "heavy intensity drizzle                7.600000\n",
       "Sky is Clear                           7.557235\n",
       "light rain and snow                    7.500000\n",
       "drizzle                                7.167203\n",
       "thunderstorm                           7.129630\n",
       "heavy intensity rain                   7.122449\n",
       "thunderstorm with rain                 7.095238\n",
       "proximity thunderstorm                 7.061947\n",
       "light intensity drizzle                7.006525\n",
       "sleet                                  7.000000\n",
       "proximity thunderstorm with rain       7.000000\n",
       "SQUALLS                                7.000000\n",
       "moderate rain                          6.952214\n",
       "proximity shower rain                  6.894309\n",
       "smoke                                  6.846154\n",
       "thunderstorm with light rain           6.826087\n",
       "light snow                             6.762728\n",
       "mist                                   6.731175\n",
       "broken clouds                          6.672202\n",
       "fog                                    6.625000\n",
       "light rain                             6.607568\n",
       "thunderstorm with heavy rain           6.551724\n",
       "scattered clouds                       6.515280\n",
       "freezing rain                          6.500000\n",
       "snow                                   6.350649\n",
       "sky is clear                           6.307577\n",
       "few clouds                             6.183936\n",
       "overcast clouds                        6.081741\n",
       "shower drizzle                         6.000000\n",
       "light intensity shower rain            5.909091\n",
       "haze                                   5.873288\n",
       "heavy snow                             5.107246\n",
       "shower snow                            3.000000\n",
       "Name: month_day, dtype: float64"
      ]
     },
     "execution_count": 53,
     "metadata": {},
     "output_type": "execute_result"
    }
   ],
   "source": [
    "by_weather_description_day['month_day'].sort_values(ascending = False)"
   ]
  },
  {
   "cell_type": "code",
   "execution_count": 54,
   "metadata": {},
   "outputs": [
    {
     "data": {
      "text/plain": [
       "traffic_volume    1.000000\n",
       "hour_night        0.181348\n",
       "dayofweek         0.137449\n",
       "clouds_all        0.134572\n",
       "month_night      -0.096927\n",
       "snow_1h          -0.106456\n",
       "rain_1h          -0.139594\n",
       "temp             -0.150378\n",
       "Name: traffic_volume, dtype: float64"
      ]
     },
     "execution_count": 54,
     "metadata": {},
     "output_type": "execute_result"
    }
   ],
   "source": [
    "by_weather_description_night.corr()['traffic_volume'].sort_values(ascending = False)"
   ]
  },
  {
   "cell_type": "markdown",
   "metadata": {},
   "source": [
    "On the other hand at night what most influences the volume of traffic is the time at night, instead the temperature causes the car volume to decrease."
   ]
  },
  {
   "cell_type": "code",
   "execution_count": 55,
   "metadata": {
    "scrolled": true
   },
   "outputs": [],
   "source": [
    "top_badweather_day = by_weather_description_day['traffic_volume'].sort_values()"
   ]
  },
  {
   "cell_type": "code",
   "execution_count": 56,
   "metadata": {},
   "outputs": [],
   "source": [
    "top_badweather_night = by_weather_description_night['traffic_volume'].sort_values()"
   ]
  },
  {
   "cell_type": "code",
   "execution_count": 57,
   "metadata": {
    "scrolled": true
   },
   "outputs": [
    {
     "data": {
      "text/html": [
       "<div>\n",
       "<style scoped>\n",
       "    .dataframe tbody tr th:only-of-type {\n",
       "        vertical-align: middle;\n",
       "    }\n",
       "\n",
       "    .dataframe tbody tr th {\n",
       "        vertical-align: top;\n",
       "    }\n",
       "\n",
       "    .dataframe thead th {\n",
       "        text-align: right;\n",
       "    }\n",
       "</style>\n",
       "<table border=\"1\" class=\"dataframe\">\n",
       "  <thead>\n",
       "    <tr style=\"text-align: right;\">\n",
       "      <th></th>\n",
       "      <th>traffic_volume_night</th>\n",
       "      <th>traffic_volume_day</th>\n",
       "    </tr>\n",
       "    <tr>\n",
       "      <th>weather_description</th>\n",
       "      <th></th>\n",
       "      <th></th>\n",
       "    </tr>\n",
       "  </thead>\n",
       "  <tbody>\n",
       "    <tr>\n",
       "      <th>SQUALLS</th>\n",
       "      <td>1345.333333</td>\n",
       "      <td>4211.000000</td>\n",
       "    </tr>\n",
       "    <tr>\n",
       "      <th>Sky is Clear</th>\n",
       "      <td>2194.748680</td>\n",
       "      <td>4802.848812</td>\n",
       "    </tr>\n",
       "    <tr>\n",
       "      <th>broken clouds</th>\n",
       "      <td>2151.017673</td>\n",
       "      <td>4715.715045</td>\n",
       "    </tr>\n",
       "    <tr>\n",
       "      <th>drizzle</th>\n",
       "      <td>2122.270936</td>\n",
       "      <td>4572.176849</td>\n",
       "    </tr>\n",
       "    <tr>\n",
       "      <th>few clouds</th>\n",
       "      <td>2311.614699</td>\n",
       "      <td>4720.890763</td>\n",
       "    </tr>\n",
       "    <tr>\n",
       "      <th>fog</th>\n",
       "      <td>2059.903276</td>\n",
       "      <td>4298.933511</td>\n",
       "    </tr>\n",
       "    <tr>\n",
       "      <th>freezing rain</th>\n",
       "      <td>NaN</td>\n",
       "      <td>4314.000000</td>\n",
       "    </tr>\n",
       "    <tr>\n",
       "      <th>haze</th>\n",
       "      <td>1937.946996</td>\n",
       "      <td>4545.434932</td>\n",
       "    </tr>\n",
       "    <tr>\n",
       "      <th>heavy intensity drizzle</th>\n",
       "      <td>2651.800000</td>\n",
       "      <td>4696.533333</td>\n",
       "    </tr>\n",
       "    <tr>\n",
       "      <th>heavy intensity rain</th>\n",
       "      <td>2091.772894</td>\n",
       "      <td>4465.771429</td>\n",
       "    </tr>\n",
       "    <tr>\n",
       "      <th>heavy snow</th>\n",
       "      <td>1811.368902</td>\n",
       "      <td>4300.826087</td>\n",
       "    </tr>\n",
       "    <tr>\n",
       "      <th>light intensity drizzle</th>\n",
       "      <td>2019.153846</td>\n",
       "      <td>4783.706362</td>\n",
       "    </tr>\n",
       "    <tr>\n",
       "      <th>light intensity shower rain</th>\n",
       "      <td>2747.666667</td>\n",
       "      <td>4437.454545</td>\n",
       "    </tr>\n",
       "    <tr>\n",
       "      <th>light rain</th>\n",
       "      <td>2015.357063</td>\n",
       "      <td>4735.882162</td>\n",
       "    </tr>\n",
       "    <tr>\n",
       "      <th>light rain and snow</th>\n",
       "      <td>724.000000</td>\n",
       "      <td>5579.750000</td>\n",
       "    </tr>\n",
       "    <tr>\n",
       "      <th>light shower snow</th>\n",
       "      <td>NaN</td>\n",
       "      <td>4618.636364</td>\n",
       "    </tr>\n",
       "    <tr>\n",
       "      <th>light snow</th>\n",
       "      <td>1864.392381</td>\n",
       "      <td>4347.850144</td>\n",
       "    </tr>\n",
       "    <tr>\n",
       "      <th>mist</th>\n",
       "      <td>1976.564123</td>\n",
       "      <td>4530.901782</td>\n",
       "    </tr>\n",
       "    <tr>\n",
       "      <th>moderate rain</th>\n",
       "      <td>2048.186192</td>\n",
       "      <td>4639.564103</td>\n",
       "    </tr>\n",
       "    <tr>\n",
       "      <th>overcast clouds</th>\n",
       "      <td>2056.981447</td>\n",
       "      <td>4726.877212</td>\n",
       "    </tr>\n",
       "    <tr>\n",
       "      <th>proximity shower rain</th>\n",
       "      <td>3561.941176</td>\n",
       "      <td>4760.926829</td>\n",
       "    </tr>\n",
       "    <tr>\n",
       "      <th>proximity thunderstorm</th>\n",
       "      <td>1990.832918</td>\n",
       "      <td>4538.374631</td>\n",
       "    </tr>\n",
       "    <tr>\n",
       "      <th>proximity thunderstorm with drizzle</th>\n",
       "      <td>1952.000000</td>\n",
       "      <td>5121.833333</td>\n",
       "    </tr>\n",
       "    <tr>\n",
       "      <th>proximity thunderstorm with rain</th>\n",
       "      <td>2043.138889</td>\n",
       "      <td>4325.714286</td>\n",
       "    </tr>\n",
       "    <tr>\n",
       "      <th>scattered clouds</th>\n",
       "      <td>2307.346237</td>\n",
       "      <td>4822.416808</td>\n",
       "    </tr>\n",
       "    <tr>\n",
       "      <th>shower drizzle</th>\n",
       "      <td>2634.500000</td>\n",
       "      <td>4932.666667</td>\n",
       "    </tr>\n",
       "    <tr>\n",
       "      <th>shower snow</th>\n",
       "      <td>5664.000000</td>\n",
       "      <td>5664.000000</td>\n",
       "    </tr>\n",
       "    <tr>\n",
       "      <th>sky is clear</th>\n",
       "      <td>1896.168641</td>\n",
       "      <td>4637.207671</td>\n",
       "    </tr>\n",
       "    <tr>\n",
       "      <th>sleet</th>\n",
       "      <td>NaN</td>\n",
       "      <td>4312.666667</td>\n",
       "    </tr>\n",
       "    <tr>\n",
       "      <th>smoke</th>\n",
       "      <td>1351.111111</td>\n",
       "      <td>4447.307692</td>\n",
       "    </tr>\n",
       "    <tr>\n",
       "      <th>snow</th>\n",
       "      <td>1699.305389</td>\n",
       "      <td>3864.993506</td>\n",
       "    </tr>\n",
       "    <tr>\n",
       "      <th>thunderstorm</th>\n",
       "      <td>1790.592593</td>\n",
       "      <td>4568.407407</td>\n",
       "    </tr>\n",
       "    <tr>\n",
       "      <th>thunderstorm with drizzle</th>\n",
       "      <td>NaN</td>\n",
       "      <td>2297.000000</td>\n",
       "    </tr>\n",
       "    <tr>\n",
       "      <th>thunderstorm with heavy rain</th>\n",
       "      <td>1645.976190</td>\n",
       "      <td>4358.620690</td>\n",
       "    </tr>\n",
       "    <tr>\n",
       "      <th>thunderstorm with light drizzle</th>\n",
       "      <td>1325.444444</td>\n",
       "      <td>4960.000000</td>\n",
       "    </tr>\n",
       "    <tr>\n",
       "      <th>thunderstorm with light rain</th>\n",
       "      <td>2027.555556</td>\n",
       "      <td>4336.130435</td>\n",
       "    </tr>\n",
       "    <tr>\n",
       "      <th>thunderstorm with rain</th>\n",
       "      <td>2665.578947</td>\n",
       "      <td>4452.047619</td>\n",
       "    </tr>\n",
       "    <tr>\n",
       "      <th>very heavy rain</th>\n",
       "      <td>1753.285714</td>\n",
       "      <td>4527.375000</td>\n",
       "    </tr>\n",
       "  </tbody>\n",
       "</table>\n",
       "</div>"
      ],
      "text/plain": [
       "                                     traffic_volume_night  traffic_volume_day\n",
       "weather_description                                                          \n",
       "SQUALLS                                       1345.333333         4211.000000\n",
       "Sky is Clear                                  2194.748680         4802.848812\n",
       "broken clouds                                 2151.017673         4715.715045\n",
       "drizzle                                       2122.270936         4572.176849\n",
       "few clouds                                    2311.614699         4720.890763\n",
       "fog                                           2059.903276         4298.933511\n",
       "freezing rain                                         NaN         4314.000000\n",
       "haze                                          1937.946996         4545.434932\n",
       "heavy intensity drizzle                       2651.800000         4696.533333\n",
       "heavy intensity rain                          2091.772894         4465.771429\n",
       "heavy snow                                    1811.368902         4300.826087\n",
       "light intensity drizzle                       2019.153846         4783.706362\n",
       "light intensity shower rain                   2747.666667         4437.454545\n",
       "light rain                                    2015.357063         4735.882162\n",
       "light rain and snow                            724.000000         5579.750000\n",
       "light shower snow                                     NaN         4618.636364\n",
       "light snow                                    1864.392381         4347.850144\n",
       "mist                                          1976.564123         4530.901782\n",
       "moderate rain                                 2048.186192         4639.564103\n",
       "overcast clouds                               2056.981447         4726.877212\n",
       "proximity shower rain                         3561.941176         4760.926829\n",
       "proximity thunderstorm                        1990.832918         4538.374631\n",
       "proximity thunderstorm with drizzle           1952.000000         5121.833333\n",
       "proximity thunderstorm with rain              2043.138889         4325.714286\n",
       "scattered clouds                              2307.346237         4822.416808\n",
       "shower drizzle                                2634.500000         4932.666667\n",
       "shower snow                                   5664.000000         5664.000000\n",
       "sky is clear                                  1896.168641         4637.207671\n",
       "sleet                                                 NaN         4312.666667\n",
       "smoke                                         1351.111111         4447.307692\n",
       "snow                                          1699.305389         3864.993506\n",
       "thunderstorm                                  1790.592593         4568.407407\n",
       "thunderstorm with drizzle                             NaN         2297.000000\n",
       "thunderstorm with heavy rain                  1645.976190         4358.620690\n",
       "thunderstorm with light drizzle               1325.444444         4960.000000\n",
       "thunderstorm with light rain                  2027.555556         4336.130435\n",
       "thunderstorm with rain                        2665.578947         4452.047619\n",
       "very heavy rain                               1753.285714         4527.375000"
      ]
     },
     "execution_count": 57,
     "metadata": {},
     "output_type": "execute_result"
    }
   ],
   "source": [
    "df_day = pd.DataFrame(top_badweather_day) # ya es una serie no un diccionario como en Ebay\n",
    "df_day.rename({'traffic_volume':'traffic_volume_day'}, axis=1, inplace=True)\n",
    "\n",
    "df_night = pd.DataFrame(top_badweather_night)\n",
    "df_night.rename({'traffic_volume':'traffic_volume_night'}, axis=1, inplace=True)\n",
    "\n",
    "df = pd.concat([df_night,df_day],axis =1, sort=True )\n",
    "df"
   ]
  },
  {
   "cell_type": "markdown",
   "metadata": {},
   "source": [
    "Daytime and nighttime weather conditions and how they affect traffic"
   ]
  },
  {
   "cell_type": "code",
   "execution_count": 58,
   "metadata": {},
   "outputs": [
    {
     "data": {
      "image/png": "[encoded data removed]",
      "text/plain": [
       "<Figure size 1080x1080 with 2 Axes>"
      ]
     },
     "metadata": {
      "needs_background": "light"
     },
     "output_type": "display_data"
    }
   ],
   "source": [
    "plt.figure(figsize=(15,15))\n",
    "plt.subplot(3, 2, 1) \n",
    "A = by_weather_description_day['traffic_volume'].sort_values()\n",
    "A.plot.bar()\n",
    "plt.ylabel('Car volumen')\n",
    "plt.xlabel('Day')\n",
    "\n",
    "plt.subplot(3, 2, 2)\n",
    "B = by_weather_description_night['traffic_volume'].sort_values()\n",
    "B.plot.bar()\n",
    "plt.ylabel('Car volumen')\n",
    "plt.xlabel('Night')\n",
    "\n",
    "plt.show()"
   ]
  },
  {
   "cell_type": "code",
   "execution_count": 59,
   "metadata": {},
   "outputs": [
    {
     "data": {
      "text/html": [
       "<style>\n",
       "table {float:left}\n",
       "</style>\n"
      ],
      "text/plain": [
       "<IPython.core.display.HTML object>"
      ]
     },
     "metadata": {},
     "output_type": "display_data"
    }
   ],
   "source": [
    "%%html\n",
    "<style>\n",
    "table {float:left}\n",
    "</style>"
   ]
  },
  {
   "cell_type": "markdown",
   "metadata": {},
   "source": [
    "## Conclusions:\n",
    "\n",
    "\n",
    "| **Most Traffic** | **Frequency Month**    | **Laboral hours** | **Weekend hours** | \n",
    "| :---         |  :---              | :---           | :---          | \n",
    "| **Day time**     | Feb-May / Aug-Oct  | 07:00-09:00   | 11:00-15:00    | \n",
    "| **Night time**   | May-June / Jul-Aug | 04:00-07:00   | 05:00-07:00    | "
   ]
  },
  {
   "cell_type": "markdown",
   "metadata": {},
   "source": [
    "It's remarkable how light rain and snow at night is responsible for the minimal traffic on the highway and that the same meteorological circumstance during the day is the second last in importance when it comes to taking the vehicle. \n",
    "\n",
    "The months of the year, the days of the week, working days or holidays and weather phenomena, are facts that determine the use of the highway.\n",
    "\n",
    "\n",
    "However, and after the comparison between day and night, the lack of visibility is a fact that should not be ignored, as the combination of the aforementioned atmospheric phenomena and nighttime dramatically reduces the volume of cars on the highway.\n"
   ]
  },
  {
   "cell_type": "markdown",
   "metadata": {},
   "source": [
    "<a href='#0'> ← index </a> -"
   ]
  }
 ],
 "metadata": {
  "kernelspec": {
   "display_name": "Python 3",
   "language": "python",
   "name": "python3"
  },
  "language_info": {
   "codemirror_mode": {
    "name": "ipython",
    "version": 3
   },
   "file_extension": ".py",
   "mimetype": "text/x-python",
   "name": "python",
   "nbconvert_exporter": "python",
   "pygments_lexer": "ipython3",
   "version": "3.8.2"
  }
 },
 "nbformat": 4,
 "nbformat_minor": 4
}
