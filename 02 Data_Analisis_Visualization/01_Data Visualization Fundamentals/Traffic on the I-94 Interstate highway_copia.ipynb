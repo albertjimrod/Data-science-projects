{
 "cells": [
  {
   "cell_type": "markdown",
   "metadata": {},
   "source": [
    "# Traffic on the I-94 Interstate highway."
   ]
  },
  {
   "cell_type": "markdown",
   "metadata": {},
   "source": [
    "![Imgur](https://upload.wikimedia.org/wikipedia/commons/thumb/9/9d/Interstate_94_map.png/1920px-Interstate_94_map.png)"
   ]
  },
  {
   "cell_type": "markdown",
   "metadata": {},
   "source": [
    "source:<a href=https://en.wikipedia.org/wiki/Interstate_94> https://en.wikipedia.org/wiki/Interstate_94 </a>"
   ]
  },
  {
   "cell_type": "markdown",
   "metadata": {},
   "source": [
    "The I-94 Interstate highway is an east–west Interstate Highway connecting the Great Lakes and northern Great Plains regions of the United States.A station located approximately midway between **Minneapolis and Saint Paul** recorded the traffic data. Also, the station only records westbound traffic (cars moving from east to west).This means that the results of our analysis will be about the westbound traffic in the proximity of that station. In other words, we should avoid generalizing our results for the entire I-94 highway.\n",
    "\n",
    "The main goal is determine few indicators related with traffic like the weather type, time of the day, time of the week, etc. For instance, we may find out that the traffic is usually heavier in the summer or when it snows. "
   ]
  },
  {
   "cell_type": "markdown",
   "metadata": {},
   "source": [
    "### INDEX <a id='0'></a>\n",
    "\n",
    "<a href='#1'>1. The I-94 Traffic Dataset</a>\n",
    "\n",
    "<a href='#2'>2. Analyzing Traffic Volume</a>\n",
    "\n",
    "<a href='#3'>3. Traffic Volume: Day vs. Night</a>\n",
    "\n",
    "<a href='#4'>4. Traffic Volume: Day vs. Night (II)</a>\n",
    "\n",
    "<a href='#5'>5. Time Indicators</a>\n",
    "\n",
    "<a href='#6'>6. Time Indicators (II)</a>\n",
    "\n",
    "<a href='#7'>7. Time Indicators (III)</a>\n",
    "\n",
    "<a href='#8'>8. Weather Indicators</a>\n",
    "\n",
    "<a href='#9'>9. Weather Types</a>\n",
    "\n",
    "<a href='#10'>10. Next steps:</a>"
   ]
  },
  {
   "cell_type": "markdown",
   "metadata": {},
   "source": [
    "## <a id='1'>1. The I-94 Traffic Dataset</a>"
   ]
  },
  {
   "cell_type": "code",
   "execution_count": 1,
   "metadata": {},
   "outputs": [
    {
     "data": {
      "text/html": [
       "<style>\n",
       "table {float:left}\n",
       "</style>\n"
      ],
      "text/plain": [
       "<IPython.core.display.HTML object>"
      ]
     },
     "metadata": {},
     "output_type": "display_data"
    }
   ],
   "source": [
    "%%html\n",
    "<style>\n",
    "table {float:left}\n",
    "</style>"
   ]
  },
  {
   "cell_type": "markdown",
   "metadata": {},
   "source": [
    "\n",
    "|Attribute Information: | |\n",
    "|:---|:---|\n",
    "| `holiday`| Categorical US National holidays plus regional holiday, Minnesota State Fair|\n",
    "| `temp` | Numeric Average temp in kelvin|\n",
    "|`rain_1h` | Numeric Amount in mm of rain that occurred in the hour|\n",
    "|`snow_1h` |Numeric Amount in mm of snow that occurred in the hour |\n",
    "| `clouds_all` |Numeric Percentage of cloud cover |\n",
    "| `weather_main` |Categorical Short textual description of the current weather |\n",
    "|`weather_description`| Categorical Longer textual description of the current weather|\n",
    "|`date_time`| DateTime Hour of the data collected in local CST time|\n",
    "|`traffic_volume` |Numeric Hourly I-94 ATR 301 reported westbound traffic volume|"
   ]
  },
  {
   "cell_type": "code",
   "execution_count": 2,
   "metadata": {},
   "outputs": [],
   "source": [
    "import pandas as pd\n",
    "traffic = pd.read_csv('Metro_Interstate_Traffic_Volume.csv')"
   ]
  },
  {
   "cell_type": "code",
   "execution_count": 3,
   "metadata": {},
   "outputs": [
    {
     "data": {
      "text/html": [
       "<div>\n",
       "<style scoped>\n",
       "    .dataframe tbody tr th:only-of-type {\n",
       "        vertical-align: middle;\n",
       "    }\n",
       "\n",
       "    .dataframe tbody tr th {\n",
       "        vertical-align: top;\n",
       "    }\n",
       "\n",
       "    .dataframe thead th {\n",
       "        text-align: right;\n",
       "    }\n",
       "</style>\n",
       "<table border=\"1\" class=\"dataframe\">\n",
       "  <thead>\n",
       "    <tr style=\"text-align: right;\">\n",
       "      <th></th>\n",
       "      <th>holiday</th>\n",
       "      <th>temp</th>\n",
       "      <th>rain_1h</th>\n",
       "      <th>snow_1h</th>\n",
       "      <th>clouds_all</th>\n",
       "      <th>weather_main</th>\n",
       "      <th>weather_description</th>\n",
       "      <th>date_time</th>\n",
       "      <th>traffic_volume</th>\n",
       "    </tr>\n",
       "  </thead>\n",
       "  <tbody>\n",
       "    <tr>\n",
       "      <th>0</th>\n",
       "      <td>None</td>\n",
       "      <td>288.28</td>\n",
       "      <td>0.0</td>\n",
       "      <td>0.0</td>\n",
       "      <td>40</td>\n",
       "      <td>Clouds</td>\n",
       "      <td>scattered clouds</td>\n",
       "      <td>2012-10-02 09:00:00</td>\n",
       "      <td>5545</td>\n",
       "    </tr>\n",
       "    <tr>\n",
       "      <th>1</th>\n",
       "      <td>None</td>\n",
       "      <td>289.36</td>\n",
       "      <td>0.0</td>\n",
       "      <td>0.0</td>\n",
       "      <td>75</td>\n",
       "      <td>Clouds</td>\n",
       "      <td>broken clouds</td>\n",
       "      <td>2012-10-02 10:00:00</td>\n",
       "      <td>4516</td>\n",
       "    </tr>\n",
       "    <tr>\n",
       "      <th>2</th>\n",
       "      <td>None</td>\n",
       "      <td>289.58</td>\n",
       "      <td>0.0</td>\n",
       "      <td>0.0</td>\n",
       "      <td>90</td>\n",
       "      <td>Clouds</td>\n",
       "      <td>overcast clouds</td>\n",
       "      <td>2012-10-02 11:00:00</td>\n",
       "      <td>4767</td>\n",
       "    </tr>\n",
       "    <tr>\n",
       "      <th>3</th>\n",
       "      <td>None</td>\n",
       "      <td>290.13</td>\n",
       "      <td>0.0</td>\n",
       "      <td>0.0</td>\n",
       "      <td>90</td>\n",
       "      <td>Clouds</td>\n",
       "      <td>overcast clouds</td>\n",
       "      <td>2012-10-02 12:00:00</td>\n",
       "      <td>5026</td>\n",
       "    </tr>\n",
       "    <tr>\n",
       "      <th>4</th>\n",
       "      <td>None</td>\n",
       "      <td>291.14</td>\n",
       "      <td>0.0</td>\n",
       "      <td>0.0</td>\n",
       "      <td>75</td>\n",
       "      <td>Clouds</td>\n",
       "      <td>broken clouds</td>\n",
       "      <td>2012-10-02 13:00:00</td>\n",
       "      <td>4918</td>\n",
       "    </tr>\n",
       "  </tbody>\n",
       "</table>\n",
       "</div>"
      ],
      "text/plain": [
       "  holiday    temp  rain_1h  snow_1h  clouds_all weather_main  \\\n",
       "0    None  288.28      0.0      0.0          40       Clouds   \n",
       "1    None  289.36      0.0      0.0          75       Clouds   \n",
       "2    None  289.58      0.0      0.0          90       Clouds   \n",
       "3    None  290.13      0.0      0.0          90       Clouds   \n",
       "4    None  291.14      0.0      0.0          75       Clouds   \n",
       "\n",
       "  weather_description            date_time  traffic_volume  \n",
       "0    scattered clouds  2012-10-02 09:00:00            5545  \n",
       "1       broken clouds  2012-10-02 10:00:00            4516  \n",
       "2     overcast clouds  2012-10-02 11:00:00            4767  \n",
       "3     overcast clouds  2012-10-02 12:00:00            5026  \n",
       "4       broken clouds  2012-10-02 13:00:00            4918  "
      ]
     },
     "execution_count": 3,
     "metadata": {},
     "output_type": "execute_result"
    }
   ],
   "source": [
    "traffic.head(5) "
   ]
  },
  {
   "cell_type": "code",
   "execution_count": 4,
   "metadata": {},
   "outputs": [
    {
     "data": {
      "text/html": [
       "<div>\n",
       "<style scoped>\n",
       "    .dataframe tbody tr th:only-of-type {\n",
       "        vertical-align: middle;\n",
       "    }\n",
       "\n",
       "    .dataframe tbody tr th {\n",
       "        vertical-align: top;\n",
       "    }\n",
       "\n",
       "    .dataframe thead th {\n",
       "        text-align: right;\n",
       "    }\n",
       "</style>\n",
       "<table border=\"1\" class=\"dataframe\">\n",
       "  <thead>\n",
       "    <tr style=\"text-align: right;\">\n",
       "      <th></th>\n",
       "      <th>holiday</th>\n",
       "      <th>temp</th>\n",
       "      <th>rain_1h</th>\n",
       "      <th>snow_1h</th>\n",
       "      <th>clouds_all</th>\n",
       "      <th>weather_main</th>\n",
       "      <th>weather_description</th>\n",
       "      <th>date_time</th>\n",
       "      <th>traffic_volume</th>\n",
       "    </tr>\n",
       "  </thead>\n",
       "  <tbody>\n",
       "    <tr>\n",
       "      <th>48199</th>\n",
       "      <td>None</td>\n",
       "      <td>283.45</td>\n",
       "      <td>0.0</td>\n",
       "      <td>0.0</td>\n",
       "      <td>75</td>\n",
       "      <td>Clouds</td>\n",
       "      <td>broken clouds</td>\n",
       "      <td>2018-09-30 19:00:00</td>\n",
       "      <td>3543</td>\n",
       "    </tr>\n",
       "    <tr>\n",
       "      <th>48200</th>\n",
       "      <td>None</td>\n",
       "      <td>282.76</td>\n",
       "      <td>0.0</td>\n",
       "      <td>0.0</td>\n",
       "      <td>90</td>\n",
       "      <td>Clouds</td>\n",
       "      <td>overcast clouds</td>\n",
       "      <td>2018-09-30 20:00:00</td>\n",
       "      <td>2781</td>\n",
       "    </tr>\n",
       "    <tr>\n",
       "      <th>48201</th>\n",
       "      <td>None</td>\n",
       "      <td>282.73</td>\n",
       "      <td>0.0</td>\n",
       "      <td>0.0</td>\n",
       "      <td>90</td>\n",
       "      <td>Thunderstorm</td>\n",
       "      <td>proximity thunderstorm</td>\n",
       "      <td>2018-09-30 21:00:00</td>\n",
       "      <td>2159</td>\n",
       "    </tr>\n",
       "    <tr>\n",
       "      <th>48202</th>\n",
       "      <td>None</td>\n",
       "      <td>282.09</td>\n",
       "      <td>0.0</td>\n",
       "      <td>0.0</td>\n",
       "      <td>90</td>\n",
       "      <td>Clouds</td>\n",
       "      <td>overcast clouds</td>\n",
       "      <td>2018-09-30 22:00:00</td>\n",
       "      <td>1450</td>\n",
       "    </tr>\n",
       "    <tr>\n",
       "      <th>48203</th>\n",
       "      <td>None</td>\n",
       "      <td>282.12</td>\n",
       "      <td>0.0</td>\n",
       "      <td>0.0</td>\n",
       "      <td>90</td>\n",
       "      <td>Clouds</td>\n",
       "      <td>overcast clouds</td>\n",
       "      <td>2018-09-30 23:00:00</td>\n",
       "      <td>954</td>\n",
       "    </tr>\n",
       "  </tbody>\n",
       "</table>\n",
       "</div>"
      ],
      "text/plain": [
       "      holiday    temp  rain_1h  snow_1h  clouds_all  weather_main  \\\n",
       "48199    None  283.45      0.0      0.0          75        Clouds   \n",
       "48200    None  282.76      0.0      0.0          90        Clouds   \n",
       "48201    None  282.73      0.0      0.0          90  Thunderstorm   \n",
       "48202    None  282.09      0.0      0.0          90        Clouds   \n",
       "48203    None  282.12      0.0      0.0          90        Clouds   \n",
       "\n",
       "          weather_description            date_time  traffic_volume  \n",
       "48199           broken clouds  2018-09-30 19:00:00            3543  \n",
       "48200         overcast clouds  2018-09-30 20:00:00            2781  \n",
       "48201  proximity thunderstorm  2018-09-30 21:00:00            2159  \n",
       "48202         overcast clouds  2018-09-30 22:00:00            1450  \n",
       "48203         overcast clouds  2018-09-30 23:00:00             954  "
      ]
     },
     "execution_count": 4,
     "metadata": {},
     "output_type": "execute_result"
    }
   ],
   "source": [
    "traffic.tail(5)"
   ]
  },
  {
   "cell_type": "code",
   "execution_count": 5,
   "metadata": {},
   "outputs": [
    {
     "name": "stdout",
     "output_type": "stream",
     "text": [
      "<class 'pandas.core.frame.DataFrame'>\n",
      "RangeIndex: 48204 entries, 0 to 48203\n",
      "Data columns (total 9 columns):\n",
      " #   Column               Non-Null Count  Dtype  \n",
      "---  ------               --------------  -----  \n",
      " 0   holiday              48204 non-null  object \n",
      " 1   temp                 48204 non-null  float64\n",
      " 2   rain_1h              48204 non-null  float64\n",
      " 3   snow_1h              48204 non-null  float64\n",
      " 4   clouds_all           48204 non-null  int64  \n",
      " 5   weather_main         48204 non-null  object \n",
      " 6   weather_description  48204 non-null  object \n",
      " 7   date_time            48204 non-null  object \n",
      " 8   traffic_volume       48204 non-null  int64  \n",
      "dtypes: float64(3), int64(2), object(4)\n",
      "memory usage: 3.3+ MB\n"
     ]
    }
   ],
   "source": [
    "traffic.info()"
   ]
  },
  {
   "cell_type": "markdown",
   "metadata": {},
   "source": [
    "<a href='#0'> ← index </a>"
   ]
  },
  {
   "cell_type": "markdown",
   "metadata": {},
   "source": [
    "## <a id='2'>2. Analyzing Traffic Volume</a>"
   ]
  },
  {
   "cell_type": "markdown",
   "metadata": {},
   "source": [
    "Hourly Interstate 94 westbound traffic volume for MN DoT Station 301, approximately midway between Minneapolis and St Paul, MN. \n",
    "\n",
    "Hourly weather features and holidays are included to see the impact on traffic volume.\n",
    "\n",
    "This means that the results of our analysis will be about the westbound traffic in the proximity of that station. In other words, we should avoid generalizing our results for the entire I-94 highway."
   ]
  },
  {
   "cell_type": "code",
   "execution_count": null,
   "metadata": {},
   "outputs": [],
   "source": [
    "import matplotlib.pyplot as plt\n",
    "%matplotlib inline"
   ]
  },
  {
   "cell_type": "code",
   "execution_count": null,
   "metadata": {},
   "outputs": [],
   "source": [
    "traffic['traffic_volume'].describe()"
   ]
  },
  {
   "cell_type": "markdown",
   "metadata": {},
   "source": [
    "### Night and day influence on the traffic volume?\n",
    "\n",
    "- About 25% of the time, there were 1,193 cars or fewer passing the station each hour — **this probably occurs during the night**, or when a road is under construction\n",
    "\n",
    "- About 25% of the time, the traffic volume was four times as much (4,933 cars or more)"
   ]
  },
  {
   "cell_type": "markdown",
   "metadata": {},
   "source": [
    "<a href='#0'> ← index </a>"
   ]
  },
  {
   "cell_type": "markdown",
   "metadata": {},
   "source": [
    "## <a id='3'>3. Traffic Volume: Day vs. Night</a>"
   ]
  },
  {
   "cell_type": "markdown",
   "metadata": {},
   "source": [
    "This possibility of night and day influencing traffic volume gives our analysis an interesting direction: \n",
    "\n",
    "- Comparing daytime data with nighttime data.\n",
    "\n",
    "We will start by dividing the data set into two parts:\n",
    "\n",
    " - **Daytime data**: hours from 7 a.m. to 7 p.m. (12 hours).\n",
    " \n",
    " - **Nighttime data**: hours from 7 p.m. to 7 a.m. (12 hours).\n",
    " \n",
    "Although this is not a perfect criterion for distinguishing between night and daytime hours, it is a good starting point."
   ]
  },
  {
   "cell_type": "code",
   "execution_count": null,
   "metadata": {},
   "outputs": [],
   "source": [
    "traffic['date_time'] = pd.to_datetime(traffic['date_time']).copy() # text to datetime\n",
    "traffic['date_time']"
   ]
  },
  {
   "cell_type": "code",
   "execution_count": null,
   "metadata": {},
   "outputs": [],
   "source": [
    "traffic['date_time'].dt.hour.unique()"
   ]
  },
  {
   "cell_type": "markdown",
   "metadata": {},
   "source": [
    " I extract the hours with the `datetime.hour` method to use as a Boolean filter and assign it to a variable `alles_bool`"
   ]
  },
  {
   "cell_type": "code",
   "execution_count": null,
   "metadata": {},
   "outputs": [],
   "source": [
    "alles_bool = traffic['date_time'].dt.hour\n",
    "alles_bool"
   ]
  },
  {
   "cell_type": "markdown",
   "metadata": {},
   "source": [
    "These are the values of the hours I will work with."
   ]
  },
  {
   "cell_type": "code",
   "execution_count": null,
   "metadata": {},
   "outputs": [],
   "source": [
    "horas_alles = traffic.loc[alles_bool,'date_time'].dt.hour\n",
    "horas_alles.unique()"
   ]
  },
  {
   "cell_type": "code",
   "execution_count": null,
   "metadata": {},
   "outputs": [],
   "source": [
    "plt.hist(horas_alles)\n",
    "plt.title('Raw Traffic Volume (whole data set)')\n",
    "plt.xticks(ticks=[ 9, 10, 11, 12, 13, 14, 15, 16, 17, 18,\n",
    "                  19, 20, 21, 22, 23, 0, 1, 2, 3, 4, 5, 6, 8, 7],\n",
    "           labels=[ '09:00','10:00','11:00','12:00','13:00','14:00',\n",
    "                   '15:00','16:00','17:00','18:00','19:00','20:00',\n",
    "                   '21:00','22:00','23:00','24:00','01:00','02:00',\n",
    "                   '03:00','04:00','05:00','06:00','08:00','07:00'],\n",
    "           rotation=85)\n",
    "plt.show()"
   ]
  },
  {
   "cell_type": "markdown",
   "metadata": {},
   "source": [
    "A histogram shows accumulation or trend, variability or dispersion and form of the distribution.\n",
    "\n",
    "Therefore we can see the distribution of traffic volume in a day, we see three time slots where the movement of vehicles is greater:\n",
    "\n",
    "- **Morning from 07:00 to 09:00 AM**\n",
    "\n",
    "- **Noon from 14:00 to 16:00 PM**\n",
    "\n",
    "- **Night from 22:00 to 01:00 AM**.\n",
    "\n",
    "We continue with the idea of separating day and night.\n",
    "\n",
    "## Day\n",
    "\n",
    "We set the interval that corresponds to the hours of the day.\n",
    "\n",
    "Establish the values that are greater than or equal to 7 and values that are less than or equal to 19. There we will have the interval that corresponds to the daytime hours."
   ]
  },
  {
   "cell_type": "code",
   "execution_count": null,
   "metadata": {},
   "outputs": [],
   "source": [
    "day_bool = (traffic['date_time'].dt.hour >=7) & (traffic['date_time'].dt.hour <=19)"
   ]
  },
  {
   "cell_type": "code",
   "execution_count": null,
   "metadata": {},
   "outputs": [],
   "source": [
    "horas_daytime = traffic.loc[day_bool,'date_time'].dt.hour\n",
    "horas_daytime.unique()"
   ]
  },
  {
   "cell_type": "code",
   "execution_count": null,
   "metadata": {},
   "outputs": [],
   "source": [
    "horas_daytime"
   ]
  },
  {
   "cell_type": "code",
   "execution_count": null,
   "metadata": {},
   "outputs": [],
   "source": [
    "traffic_daytime = traffic[day_bool].copy()\n",
    "traffic_daytime"
   ]
  },
  {
   "cell_type": "markdown",
   "metadata": {},
   "source": [
    "## Night\n",
    "\n",
    "We do the same operation with the hours that correspond to those of the night."
   ]
  },
  {
   "cell_type": "code",
   "execution_count": null,
   "metadata": {},
   "outputs": [],
   "source": [
    "night_bool = (traffic['date_time'].dt.hour >=19) | (traffic['date_time'].dt.hour <=7)"
   ]
  },
  {
   "cell_type": "code",
   "execution_count": null,
   "metadata": {},
   "outputs": [],
   "source": [
    "horas_nighttime = traffic.loc[night_bool,'date_time'].dt.hour\n",
    "horas_nighttime.unique()"
   ]
  },
  {
   "cell_type": "code",
   "execution_count": null,
   "metadata": {},
   "outputs": [],
   "source": [
    "#traffic_night = traffic[night_bool].copy()\n",
    "traffic_night = traffic[night_bool].copy()\n",
    "traffic_night"
   ]
  },
  {
   "cell_type": "markdown",
   "metadata": {},
   "source": [
    "<a href='#0'> ← index </a>"
   ]
  },
  {
   "cell_type": "markdown",
   "metadata": {},
   "source": [
    "## <a id='4'>4. Traffic Volume: Day vs. Night (II)</a>"
   ]
  },
  {
   "cell_type": "markdown",
   "metadata": {},
   "source": [
    "Now we're going to compare the distribution on traffic volume at night and during day."
   ]
  },
  {
   "cell_type": "code",
   "execution_count": null,
   "metadata": {},
   "outputs": [],
   "source": [
    "plt.figure(figsize = (15,4))\n",
    "\n",
    "plt.subplot(1,2,1)\n",
    "\n",
    "plt.hist(horas_daytime)\n",
    "plt.xlabel('Day hours from 7 AM to 7 PM ')\n",
    "plt.ylabel('Cars per hour')\n",
    "plt.title('Distribution Traffic Volume: Day')\n",
    "plt.xticks(ticks=[ 9, 10, 11, 12, 13, 14, 15, 16, 17, 18, 19,  7,  8],\n",
    "           labels=[ '09:00','10:00','11:00','12:00','13:00','14:00',\n",
    "                   '15:00','16:00','17:00','18:00','19:00','08:00','07:00'\n",
    "                  ],\n",
    "           rotation=85)\n",
    "plt.subplot(1,2,2)\n",
    "\n",
    "bins = 'auto'\n",
    "\n",
    "plt.hist( horas_nighttime, bins)\n",
    "plt.xlabel('Night hours from 7 PM to 7 AM')\n",
    "plt.ylabel('Cars per hour')\n",
    "plt.title('Distribution Traffic Volume: Night')\n",
    "plt.xticks(ticks=[ 19, 20, 21, 22, 23,  0,  1,  2,  3,  4,  5,  6,  7 ],\n",
    "           labels=['19:00', '20:00', '21:00', '22:00', '23:00', '24:00','01:00','02:00','03:00','04:00',\n",
    "                   '05:00','06:00','07:00' ],\n",
    "           rotation=85)\n",
    "plt.show()"
   ]
  },
  {
   "cell_type": "code",
   "execution_count": null,
   "metadata": {},
   "outputs": [],
   "source": [
    "traffic_daytime.describe()"
   ]
  },
  {
   "cell_type": "code",
   "execution_count": null,
   "metadata": {},
   "outputs": [],
   "source": [
    "traffic_night.describe()"
   ]
  },
  {
   "cell_type": "markdown",
   "metadata": {},
   "source": [
    "## Analized results:\n",
    "\n",
    "We can observe in greater detail, the time slots mentioned above, we see how from 6 am traffic begins to increase until 8 am to reduce the volume in half until 13 noon where it increases again until 14 pm to reduce the volume again and again increase traffic to coincide with the end of the working day and the return home that lasts until 01 am.\n",
    "\n",
    "We also see that the volume of vehicles at night is much lower than during the day, although there are occasional moments when the return home causes the volume to increase significantly for a short period of time.  The rest of the time the volume is much lower."
   ]
  },
  {
   "cell_type": "markdown",
   "metadata": {},
   "source": [
    "<a href='#0'> ← index </a>"
   ]
  },
  {
   "cell_type": "markdown",
   "metadata": {},
   "source": [
    "## <a id='5'>5. Time Indicators</a>"
   ]
  },
  {
   "cell_type": "markdown",
   "metadata": {},
   "source": [
    "Previously, we determined that the traffic at night is generally light. \n",
    "\n",
    "Our goal is to find indicators of heavy traffic, so we decided to only focus on the daytime data moving forward.\n",
    "\n",
    "One of the possible indicators of heavy traffic is time. There might be more people on the road in a certain month, on a certain day, or at a certain time of the day.\n",
    "\n",
    "We're going to look at a few line plots showing how the traffic volume changed according to the following parameters:\n",
    "\n",
    "#### - Month\n",
    "\n",
    "#### - Day of the week\n",
    "\n",
    "#### - Time of day\n",
    "\n",
    "The fastest way to get the average traffic volume for each month is by using the `DataFrame.groupby()` method."
   ]
  },
  {
   "cell_type": "markdown",
   "metadata": {},
   "source": [
    "## - Monthly"
   ]
  },
  {
   "cell_type": "code",
   "execution_count": null,
   "metadata": {},
   "outputs": [],
   "source": [
    "traffic_daytime['month_day'] = traffic_daytime['date_time'].dt.month\n",
    "by_month_day = traffic_daytime.groupby('month_day').mean()\n",
    "by_month_day['traffic_volume']"
   ]
  },
  {
   "cell_type": "markdown",
   "metadata": {},
   "source": [
    "Generating a line plot to visualize how the traffic volume changed each month on average.\n",
    "\n",
    "Analyze the line plot. "
   ]
  },
  {
   "cell_type": "code",
   "execution_count": null,
   "metadata": {},
   "outputs": [],
   "source": [
    "plt.plot(by_month_day['traffic_volume'])\n",
    "plt.xticks(ticks=[1, 2, 3, 4, 5, 6,7,8,9,10,11,12],\n",
    "           labels=['January', 'February', 'March','April',\n",
    "                   'May','June', 'July','August','September', 'October', 'November','December'],\n",
    "           rotation=30)\n",
    "\n",
    "plt.xlabel('Month')\n",
    "plt.ylabel('Cars per hour')\n",
    "plt.title('Traffic Volume / Monthly')\n",
    "\n",
    "plt.show()"
   ]
  },
  {
   "cell_type": "markdown",
   "metadata": {},
   "source": [
    "It seems that the volume of traffic is more focused on certain months of the year, except for the coldest months and the month of July, which seems to be the month most Americans choose as their vacation month."
   ]
  },
  {
   "cell_type": "markdown",
   "metadata": {},
   "source": [
    "<a href='#0'> ← index </a>"
   ]
  },
  {
   "cell_type": "markdown",
   "metadata": {},
   "source": [
    "## <a id='6'>6. Time Indicators (II)</a>"
   ]
  },
  {
   "cell_type": "markdown",
   "metadata": {},
   "source": [
    "In the previous screen, we generated a line plot showing how the traffic volume changed each month on average.\n",
    "\n",
    "We'll now continue with building line plots for another time unit: \n",
    "\n",
    "## Day of the week.\n",
    "\n",
    "To get the traffic volume averages for each day of the week, we'll need to use the following code:"
   ]
  },
  {
   "cell_type": "code",
   "execution_count": null,
   "metadata": {},
   "outputs": [],
   "source": [
    "traffic_daytime['dayofweek'] = traffic_daytime['date_time'].dt.dayofweek\n",
    "by_dayofweek = traffic_daytime.groupby('dayofweek').mean()\n",
    "by_dayofweek['traffic_volume']  # 0 is Monday, 6 is Sunday"
   ]
  },
  {
   "cell_type": "code",
   "execution_count": null,
   "metadata": {},
   "outputs": [],
   "source": [
    "plt.plot(by_dayofweek['traffic_volume'])\n",
    "plt.title('Traffic Volume / Day of week (day time) ')\n",
    "plt.xticks(ticks=[0, 1, 2, 3, 4, 5, 6], labels=[ 'Monday', 'Tuesday',\n",
    "                                                'Wednesday', 'Thursday', \n",
    "                                                'Friday', 'Saturday','Sunday'],\n",
    "           rotation=30) \n",
    "plt.show()"
   ]
  },
  {
   "cell_type": "markdown",
   "metadata": {},
   "source": [
    "It seems that the road is busier on weekdays than on weekends."
   ]
  },
  {
   "cell_type": "markdown",
   "metadata": {},
   "source": [
    "<a href='#0'> ← index </a>"
   ]
  },
  {
   "cell_type": "markdown",
   "metadata": {},
   "source": [
    "## <a id='7'>7. Time Indicators (III)</a>"
   ]
  },
  {
   "cell_type": "markdown",
   "metadata": {},
   "source": [
    "We found that the traffic volume is significantly heavier on business days compared to the weekends.\n",
    "\n",
    "We'll now generate a line plot for the time of day. \n",
    "\n",
    "The weekends, however, will drag down the average values, so we're going to look at the averages separately.\n",
    "\n",
    "To do that, we'll start by **splitting the data based on the day type**: \n",
    "\n",
    "**- business day or weekend.**\n",
    "\n",
    "Below, we show you how to split the dataset so you can focus on plotting the graphs. While your variable names may vary, the logic of the code should be the same."
   ]
  },
  {
   "cell_type": "code",
   "execution_count": null,
   "metadata": {},
   "outputs": [],
   "source": [
    "# Splitting Data\n",
    "\n",
    "traffic_daytime['hour_day'] = traffic_daytime['date_time'].dt.hour                 # Filtering days\n",
    "bussiness_days = traffic_daytime.copy()[traffic_daytime['dayofweek'] <= 4]         # 4 <= Friday\n",
    "weekend = traffic_daytime.copy()[traffic_daytime['dayofweek'] >= 5]                # 5 >= Saturday\n",
    "\n",
    "by_hour_business = bussiness_days.groupby('hour_day').mean()                       \n",
    "by_hour_weekend = weekend.groupby('hour_day').mean()\n",
    "\n",
    "print(by_hour_business['traffic_volume'])\n",
    "print(by_hour_weekend['traffic_volume'])"
   ]
  },
  {
   "cell_type": "code",
   "execution_count": null,
   "metadata": {},
   "outputs": [],
   "source": [
    "plt.figure(figsize=(10, 12))\n",
    "\n",
    "plt.ylim([0, 24])\n",
    "plt.subplot(3, 2, 1)\n",
    "plt.title('by hour business traffic_volume (day time)')\n",
    "plt.plot(by_hour_business['traffic_volume'])\n",
    "plt.xticks(ticks=[7,8,9,10,11,12,13,14,15,16,17,18,19,],\n",
    "           labels=['07:00','08:00','09:00','10:00','11:00',\n",
    "                   '12:00','13:00','14:00','15:00','16:00','17:00','18:00','19:00'],\n",
    "           rotation=85)\n",
    "\n",
    "plt.subplot(3, 2, 2)\n",
    "plt.title('by hour weekend traffic_volume (day time)')\n",
    "plt.plot(by_hour_weekend['traffic_volume'])\n",
    "plt.xticks(ticks=[7,8,9,10,11,12,13,14,15,16,17,18,19,],\n",
    "           labels=['07:00','08:00','09:00','10:00','11:00',\n",
    "                   '12:00','13:00','14:00','15:00','16:00','17:00','18:00','19:00'],\n",
    "           rotation=85)\n",
    "\n",
    "plt.show()"
   ]
  },
  {
   "cell_type": "markdown",
   "metadata": {},
   "source": [
    "\n",
    "\n",
    "### Summary\n",
    "\n",
    "- According to what has been seen so far the Road use appears to have a direct relationship with weekday work schedules and therefore the increased frequency of vehicles per hour passing by and the volumen may cause some kind of jam.\n",
    "\n",
    "\n",
    "- Hoewer the Weekend use is much more progressive and there does not seem to be anything related to work schedules that sets the tempo of use, and the volume of vehicles is also lower compared with the weekday work."
   ]
  },
  {
   "cell_type": "markdown",
   "metadata": {},
   "source": [
    "<a href='#0'> ← index </a>"
   ]
  },
  {
   "cell_type": "markdown",
   "metadata": {},
   "source": [
    "## <a id='8'>8. Weather Indicators</a>"
   ]
  },
  {
   "cell_type": "code",
   "execution_count": null,
   "metadata": {},
   "outputs": [],
   "source": [
    "# conversion from Fahrenheit to Celsius.\n",
    "def K_to_C(K):\n",
    "    return (K - 273.15)"
   ]
  },
  {
   "cell_type": "code",
   "execution_count": null,
   "metadata": {},
   "outputs": [],
   "source": [
    "traffic_daytime.corr()['traffic_volume'].sort_values(ascending = False)"
   ]
  },
  {
   "cell_type": "code",
   "execution_count": null,
   "metadata": {},
   "outputs": [],
   "source": [
    "plt.figure(figsize=(10, 15))\n",
    "plt.ylim([0, 24])\n",
    "\n",
    "plt.subplot(3, 2, 1)\n",
    "plt.title('traffic_volume vs temp (day time ºC)')\n",
    "plt.scatter(traffic_daytime['traffic_volume'],K_to_C(traffic_daytime['temp']))\n",
    "\n",
    "plt.xlabel('Car volume hour')\n",
    "plt.ylabel('temp Celsius')\n",
    "\n",
    "plt.subplot(3, 2, 2)\n",
    "plt.title('by_hour_weekend vs clouds_all (day time)')\n",
    "plt.scatter(traffic_daytime['traffic_volume'],traffic_daytime['clouds_all'])\n",
    "\n",
    "plt.subplot(3, 2, 3)\n",
    "plt.title('by_hour_weekend vs rain_1h (day time)')\n",
    "plt.scatter(traffic_daytime['traffic_volume'],traffic_daytime['rain_1h'])\n",
    "\n",
    "plt.xlabel('Car volume hour')\n",
    "\n",
    "plt.subplot(3, 2, 4)\n",
    "plt.title('by_hour_weekend vs snow_1h (day time)')\n",
    "plt.scatter(traffic_daytime['traffic_volume'],traffic_daytime['snow_1h'])\n",
    "\n",
    "plt.xlabel('Car volume hour')\n",
    "\n",
    "plt.show()"
   ]
  },
  {
   "cell_type": "markdown",
   "metadata": {},
   "source": [
    "The use of scatter charts does not appear that any of these warn any reduction or increase in traffic due to variations in temperature, cloud, rain or snow."
   ]
  },
  {
   "cell_type": "markdown",
   "metadata": {},
   "source": [
    "<a href='#0'> ← index </a>"
   ]
  },
  {
   "cell_type": "markdown",
   "metadata": {},
   "source": [
    "## <a id='9'>9. Weather Types</a>"
   ]
  },
  {
   "cell_type": "markdown",
   "metadata": {},
   "source": [
    "Previously, we examined the correlation between `traffic_volume` and the numerical weather columns. However, we didn't find any reliable indicator of heavy traffic.\n",
    "\n",
    "To see if we can find more useful data, we'll look next at the categorical weather-related columns: \n",
    "\n",
    "`weather_main ` and ` weather_description`\n",
    "\n",
    "We're going to calculate the average traffic volume associated with each unique value in these two columns. "
   ]
  },
  {
   "cell_type": "code",
   "execution_count": null,
   "metadata": {},
   "outputs": [],
   "source": [
    "by_weather_main_day = traffic_daytime.groupby('weather_main').mean()\n",
    "by_weather_description_day = traffic_daytime.groupby('weather_description').mean()"
   ]
  },
  {
   "cell_type": "code",
   "execution_count": null,
   "metadata": {},
   "outputs": [],
   "source": [
    "by_weather_main_day['traffic_volume'].plot.barh()\n",
    "plt.title('Car volume vs different weather conditions (day)')\n",
    "plt.xlabel('car volume')\n",
    "plt.show()"
   ]
  },
  {
   "cell_type": "code",
   "execution_count": null,
   "metadata": {},
   "outputs": [],
   "source": [
    "plt.figure(figsize=(15,15))\n",
    "\n",
    "A = by_weather_description_day['traffic_volume'].sort_values(ascending = False)\n",
    "A.plot.barh()\n",
    "plt.title('Importance of weather conditions on traffic (day)')\n",
    "plt.xlabel('car volume')\n",
    "plt.show()"
   ]
  },
  {
   "cell_type": "markdown",
   "metadata": {},
   "source": [
    "There's traffic volume exceeding 5,000 cars \n",
    "\n",
    "- shower snow\n",
    "- light rain and snow\n",
    "- proximity thunderstorm with drizzle\n",
    "- thunderstorm with light drizzle\n",
    "- shower drizzle\n",
    "\n",
    "Shower snow is the weather in which the highest number of vehicles per day crosses the freeway.\n",
    "\n",
    "\n",
    "Anything other than the above are situations where the volume of traffic on the freeway begins to be reduced."
   ]
  },
  {
   "cell_type": "markdown",
   "metadata": {},
   "source": [
    "<a href='#0'> ← index </a> -"
   ]
  },
  {
   "cell_type": "markdown",
   "metadata": {},
   "source": [
    "### Summary\n",
    "\n",
    "### Time indicators for the day:\n",
    "\n",
    "- The traffic is usually heavier during warm months (March–October) compared to cold months (November–February).\n",
    "\n",
    "- The traffic is heavier on business days compared to the weekends.\n",
    "\n",
    "- On business days, the rush hours are around 7 AM and 16 PM.\n",
    "\n",
    "### Weather indicators:\n",
    "\n",
    "- When shower snow, light rain and snow proximity thunderstorm with drizzle are over the highway, the volume of cars is reduced with a tendency towards 5000 vehicles per hour.\n",
    "\n",
    "- The most influential weather event on the freeway is a drizzle storm, which causes the freeway usage to drop to below 2500 vehicles per hour."
   ]
  },
  {
   "cell_type": "markdown",
   "metadata": {},
   "source": [
    "<a href='#0'> ← index </a> -"
   ]
  },
  {
   "cell_type": "markdown",
   "metadata": {},
   "source": [
    "## <a id='10'>10. Beyond the day:</a>"
   ]
  },
  {
   "cell_type": "markdown",
   "metadata": {},
   "source": [
    "- Use the nighttime data to look for heavy traffic indicators.\n",
    "\n",
    "- Find more time and weather indicators."
   ]
  },
  {
   "cell_type": "code",
   "execution_count": null,
   "metadata": {},
   "outputs": [],
   "source": [
    "traffic_night"
   ]
  },
  {
   "cell_type": "code",
   "execution_count": null,
   "metadata": {},
   "outputs": [],
   "source": [
    "traffic_night['month_night'] = traffic_night['date_time'].dt.month"
   ]
  },
  {
   "cell_type": "code",
   "execution_count": null,
   "metadata": {
    "scrolled": true
   },
   "outputs": [],
   "source": [
    "traffic_night"
   ]
  },
  {
   "cell_type": "code",
   "execution_count": null,
   "metadata": {},
   "outputs": [],
   "source": [
    "traffic_night.info()"
   ]
  },
  {
   "cell_type": "markdown",
   "metadata": {},
   "source": [
    "### Monthly night."
   ]
  },
  {
   "cell_type": "code",
   "execution_count": null,
   "metadata": {},
   "outputs": [],
   "source": [
    "by_month_night = traffic_night.groupby('month_night').mean() # agrupa columnas con valores numéricos en 12 meses  \n",
    "by_month_night"
   ]
  },
  {
   "cell_type": "code",
   "execution_count": null,
   "metadata": {},
   "outputs": [],
   "source": [
    "by_month_night['traffic_volume']"
   ]
  },
  {
   "cell_type": "code",
   "execution_count": null,
   "metadata": {},
   "outputs": [],
   "source": [
    "plt.plot(by_month_night['traffic_volume'])\n",
    "plt.xticks(ticks=[1, 2, 3, 4, 5, 6,7,8,9,10,11,12],\n",
    "           labels=['January', 'February', 'March','April',\n",
    "                   'May','June', 'July','August','September', 'October', 'November','December'],\n",
    "           rotation=30)\n",
    "\n",
    "plt.xlabel('Month')\n",
    "plt.ylabel('Cars per hour')\n",
    "plt.title('Traffic Volume / 12 Month (night)')\n",
    "\n",
    "plt.show()"
   ]
  },
  {
   "cell_type": "markdown",
   "metadata": {},
   "source": [
    "the volume of vehicles at night is lower and is centered mainly in the warmer months of the calendar, except for the months of July, mid-March and mid-September"
   ]
  },
  {
   "cell_type": "markdown",
   "metadata": {},
   "source": [
    "### Day of week"
   ]
  },
  {
   "cell_type": "code",
   "execution_count": null,
   "metadata": {},
   "outputs": [],
   "source": [
    "traffic_night['dayofweek'] = traffic_night['date_time'].dt.dayofweek\n",
    "traffic_night['dayofweek']"
   ]
  },
  {
   "cell_type": "code",
   "execution_count": null,
   "metadata": {},
   "outputs": [],
   "source": [
    "by_nightofweek = traffic_night.groupby('dayofweek').mean()\n",
    "by_nightofweek"
   ]
  },
  {
   "cell_type": "code",
   "execution_count": null,
   "metadata": {},
   "outputs": [],
   "source": [
    "by_nightofweek['traffic_volume']  # 0 is Monday, 6 is Sunday"
   ]
  },
  {
   "cell_type": "code",
   "execution_count": null,
   "metadata": {},
   "outputs": [],
   "source": [
    "plt.plot(by_nightofweek['traffic_volume'])\n",
    "plt.title('Traffic Volume / Day of week (night time) ')\n",
    "plt.xticks(ticks=[0, 1, 2, 3, 4, 5, 6], labels=[ 'Monday', 'Tuesday',\n",
    "                                                'Wednesday', 'Thursday', \n",
    "                                                'Friday', 'Saturday','Sunday'],\n",
    "                      rotation=30)\n",
    "plt.show()"
   ]
  },
  {
   "cell_type": "markdown",
   "metadata": {},
   "source": [
    "We see how during the week the volume increases and when the weekend arrives again the traffic volume drops again."
   ]
  },
  {
   "cell_type": "code",
   "execution_count": null,
   "metadata": {},
   "outputs": [],
   "source": [
    "traffic_night"
   ]
  },
  {
   "cell_type": "code",
   "execution_count": null,
   "metadata": {},
   "outputs": [],
   "source": [
    "traffic_night['hour_night'] = traffic_night['date_time'].dt.hour\n",
    "\n",
    "bussiness_night = traffic_night.copy()[traffic_night['dayofweek'] <= 4] # 4 == Friday\n",
    "weekend_night = traffic_night.copy()[traffic_night['dayofweek'] >= 5] # 5 == Saturday\n",
    "\n",
    "by_hour_business_night = bussiness_night.groupby('hour_night').mean()\n",
    "by_hour_weekend_night = weekend_night.groupby('hour_night').mean()\n",
    "by_hour_business_night = bussiness_night.groupby('hour_night').mean()\n",
    "\n",
    "print(by_hour_business_night['traffic_volume'])\n",
    "print(by_hour_weekend_night['traffic_volume'])"
   ]
  },
  {
   "cell_type": "code",
   "execution_count": null,
   "metadata": {},
   "outputs": [],
   "source": [
    "plt.figure(figsize=(10, 12))\n",
    "\n",
    "plt.ylim([0, 24])\n",
    "\n",
    "plt.subplot(3, 2, 1)\n",
    "plt.title('by_hour_business traffic_volume (night)')\n",
    "plt.plot(by_hour_business_night['traffic_volume'])\n",
    "plt.xticks(ticks=[0, 1, 2,3,4,5,6,7,19,20,21,22,23],\n",
    "           labels=['24:00', '01:00', '02:00', '03:00', '04:00', '05:00', '06:00','07:00','19:00','20:00','21:00','22:00','23:00'],\n",
    "           rotation=85)\n",
    "\n",
    "plt.subplot(3, 2, 2)\n",
    "plt.title('by_hour_business traffic_volume (night)')\n",
    "plt.plot(by_hour_business_night['traffic_volume'])\n",
    "plt.xticks(ticks=[19,20,21,22,23,24],\n",
    "           labels=['19:00','20:00','21:00','22:00','23:00','24:00'],\n",
    "           rotation=85)\n",
    "\n",
    "plt.show()"
   ]
  },
  {
   "cell_type": "code",
   "execution_count": null,
   "metadata": {},
   "outputs": [],
   "source": [
    "plt.figure(figsize=(10, 15))\n",
    "\n",
    "plt.ylim([0, 24])\n",
    "\n",
    "plt.subplot(3, 2, 1)\n",
    "plt.title('traffic_volume vs temp (night ºC)')\n",
    "plt.scatter(traffic_night['traffic_volume'],K_to_C(traffic_night['temp']))\n",
    "\n",
    "plt.xlabel('Car volume hour')\n",
    "plt.ylabel('temp Celsius')\n",
    "\n",
    "plt.subplot(3, 2, 2)\n",
    "plt.title('by_hour_weekend vs clouds_all (night)')\n",
    "plt.scatter(traffic_night['traffic_volume'],traffic_night['clouds_all'])\n",
    "\n",
    "plt.subplot(3, 2, 3)\n",
    "plt.title('by_hour_weekend vs rain_1h (night)')\n",
    "plt.scatter(traffic_night['traffic_volume'],traffic_night['rain_1h'])\n",
    "\n",
    "plt.xlabel('Car volume hour')\n",
    "\n",
    "plt.subplot(3, 2, 4)\n",
    "plt.title('by_hour_weekend vs snow_1h (night)')\n",
    "plt.scatter(traffic_night['traffic_volume'],traffic_night['snow_1h'])\n",
    "\n",
    "plt.xlabel('Car volume hour')\n",
    "\n",
    "plt.show()"
   ]
  },
  {
   "cell_type": "markdown",
   "metadata": {},
   "source": [
    "In the same way that happened during the day not appear that any of these warn any reduction or increase in traffic due to variations in temperature, cloud, rain or snow.\n",
    "\n",
    "Againn and to see if we can find more useful data, we'll look next at the categorical weather-related columns: \n",
    "\n",
    "`weather_main ` and ` weather_description`\n",
    "\n",
    "We're going to calculate the average traffic volume associated with each unique value in these two columns: "
   ]
  },
  {
   "cell_type": "code",
   "execution_count": null,
   "metadata": {},
   "outputs": [],
   "source": [
    "by_weather_main_night = traffic_night.groupby('weather_main').mean()\n",
    "by_weather_description_night = traffic_night.groupby('weather_description').mean()"
   ]
  },
  {
   "cell_type": "code",
   "execution_count": null,
   "metadata": {},
   "outputs": [],
   "source": [
    "by_weather_main_night['traffic_volume'].plot.barh()\n",
    "\n",
    "plt.title('Car volume vs different weather conditions (night)')\n",
    "plt.xlabel('car volume')\n",
    "plt.show()"
   ]
  },
  {
   "cell_type": "code",
   "execution_count": null,
   "metadata": {},
   "outputs": [],
   "source": [
    "plt.figure(figsize=(15,10))\n",
    "A = by_weather_description_night['traffic_volume'].sort_values(ascending = False)\n",
    "\n",
    "A.plot.barh()\n",
    "plt.title('Importance of weather conditions on traffic (night)')\n",
    "plt.xlabel('car volume')\n",
    "plt.show()"
   ]
  },
  {
   "cell_type": "code",
   "execution_count": null,
   "metadata": {},
   "outputs": [],
   "source": [
    "by_weather_description_day.corr()['traffic_volume'].sort_values(ascending = False)"
   ]
  },
  {
   "cell_type": "markdown",
   "metadata": {},
   "source": [
    "### observation: \n",
    "\n",
    "We can affirm that there is a correlation between the volume of traffic and some of the elements described in `weather_description`for the day:\n",
    "\n",
    "These indicators show us the importance (from bottom to top) that these meteorological phenomena have in the volume of traffic\n",
    "\n",
    "For example a rainy day will have less relevance than for example a specific day of the month."
   ]
  },
  {
   "cell_type": "code",
   "execution_count": null,
   "metadata": {
    "scrolled": true
   },
   "outputs": [],
   "source": [
    "by_weather_description_day['month_day'].sort_values(ascending = False)"
   ]
  },
  {
   "cell_type": "code",
   "execution_count": null,
   "metadata": {},
   "outputs": [],
   "source": [
    "by_weather_description_night.corr()['traffic_volume'].sort_values(ascending = False)"
   ]
  },
  {
   "cell_type": "markdown",
   "metadata": {},
   "source": [
    "On the other hand at night what most influences the volume of traffic is the time at night, instead the temperature causes the car volume to decrease."
   ]
  },
  {
   "cell_type": "code",
   "execution_count": null,
   "metadata": {
    "scrolled": true
   },
   "outputs": [],
   "source": [
    "top_badweather_day = by_weather_description_day['traffic_volume'].sort_values()"
   ]
  },
  {
   "cell_type": "code",
   "execution_count": null,
   "metadata": {},
   "outputs": [],
   "source": [
    "top_badweather_night = by_weather_description_night['traffic_volume'].sort_values()"
   ]
  },
  {
   "cell_type": "code",
   "execution_count": null,
   "metadata": {
    "scrolled": true
   },
   "outputs": [],
   "source": [
    "df_day = pd.DataFrame(top_badweather_day) # ya es una serie no un diccionario como en Ebay\n",
    "df_day.rename({'traffic_volume':'traffic_volume_day'}, axis=1, inplace=True)\n",
    "\n",
    "df_night = pd.DataFrame(top_badweather_night)\n",
    "df_night.rename({'traffic_volume':'traffic_volume_night'}, axis=1, inplace=True)\n",
    "\n",
    "df = pd.concat([df_night,df_day],axis =1, sort=True )\n",
    "df"
   ]
  },
  {
   "cell_type": "markdown",
   "metadata": {},
   "source": [
    "Daytime and nighttime weather conditions and how they affect traffic"
   ]
  },
  {
   "cell_type": "code",
   "execution_count": null,
   "metadata": {},
   "outputs": [],
   "source": [
    "plt.figure(figsize=(15,15))\n",
    "plt.subplot(3, 2, 1) \n",
    "A = by_weather_description_day['traffic_volume'].sort_values()\n",
    "A.plot.bar()\n",
    "plt.ylabel('Car volumen')\n",
    "plt.xlabel('Day')\n",
    "\n",
    "plt.subplot(3, 2, 2)\n",
    "B = by_weather_description_night['traffic_volume'].sort_values()\n",
    "B.plot.bar()\n",
    "plt.ylabel('Car volumen')\n",
    "plt.xlabel('Night')\n",
    "\n",
    "plt.show()"
   ]
  },
  {
   "cell_type": "code",
   "execution_count": null,
   "metadata": {},
   "outputs": [],
   "source": [
    "%%html\n",
    "<style>\n",
    "table {float:left}\n",
    "</style>"
   ]
  },
  {
   "cell_type": "markdown",
   "metadata": {},
   "source": [
    "## Conclusions:\n",
    "\n",
    "\n",
    "| **Most Traffic** | **Frequency Month**    | **Laboral hours** | **Weekend hours** | \n",
    "| :---         |  :---              | :---           | :---          | \n",
    "| **Day time**     | Feb-May / Aug-Oct  | 07:00-09:00   | 11:00-15:00    | \n",
    "| **Night time**   | May-June / Jul-Aug | 04:00-07:00   | 05:00-07:00    | "
   ]
  },
  {
   "cell_type": "markdown",
   "metadata": {},
   "source": [
    "It's remarkable how light rain and snow at night is responsible for the minimal traffic on the highway and that the same meteorological circumstance during the day is the second last in importance when it comes to taking the vehicle. \n",
    "\n",
    "The months of the year, the days of the week, working days or holidays and weather phenomena, are facts that determine the use of the highway.\n",
    "\n",
    "\n",
    "However, and after the comparison between day and night, the lack of visibility is a fact that should not be ignored, as the combination of the aforementioned atmospheric phenomena and nighttime dramatically reduces the volume of cars on the highway.\n"
   ]
  },
  {
   "cell_type": "markdown",
   "metadata": {},
   "source": [
    "<a href='#0'> ← index </a> -"
   ]
  }
 ],
 "metadata": {
  "kernelspec": {
   "display_name": "Python 3",
   "language": "python",
   "name": "python3"
  },
  "language_info": {
   "codemirror_mode": {
    "name": "ipython",
    "version": 3
   },
   "file_extension": ".py",
   "mimetype": "text/x-python",
   "name": "python",
   "nbconvert_exporter": "python",
   "pygments_lexer": "ipython3",
   "version": "3.8.2"
  }
 },
 "nbformat": 4,
 "nbformat_minor": 4
}
