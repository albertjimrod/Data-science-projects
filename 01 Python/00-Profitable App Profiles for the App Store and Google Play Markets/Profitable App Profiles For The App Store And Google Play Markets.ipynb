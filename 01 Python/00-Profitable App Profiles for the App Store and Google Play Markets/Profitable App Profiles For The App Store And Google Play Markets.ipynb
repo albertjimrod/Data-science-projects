{
 "cells": [
  {
   "cell_type": "markdown",
   "metadata": {},
   "source": [
    "# Profitable App Profiles for the App Store and Google Play Markets\n",
    "\n",
    "<br />\n",
    "\n",
    "<br />\n",
    "\n",
    "\n",
    "![header.jpg](header.jpg)\n",
    "\n",
    "\n",
    "## Introduction\n",
    "\n",
    "\n",
    "As a data analyst working for a company that **only build free apps to download and install** available on Google Play and in the App Store, our main source of revenue consists of in-app ads. \n",
    "\n",
    "This means that the number of users of our apps determines our revenue for any given app therefore the more users who see and engage with the ads, the better. \n",
    "\n",
    "\n",
    "<br />\n",
    " \n",
    "\n",
    "* * *\n",
    "\n",
    " Collect and analyze data from each of the online stores to understand what type of apps are likely to attract more users.\n",
    "\n",
    "# <a id='0'>Index</a>\n",
    "\n",
    " \n",
    "### <a href='#1'>1. Exploring data </a>\n",
    " \n",
    " \n",
    "- <a href='#11'>1.1 Function to explore datasets</a>\n",
    "\n",
    "\n",
    "-  <a href='#12'>1.2 Data dictionary:</a>\n",
    "\n",
    "\n",
    "-  <a href='#13'>1.3 Knowing the size in both data sets.</a>\n",
    "\n",
    "### <a href='#2'>2. Data cleaning </a>\n",
    "\n",
    "\n",
    "-  <a href='#21'>2.1. Detect inaccurate data... remove it.</a>\n",
    "\n",
    "\n",
    "-  <a href='#22'>2.2 Detect duplicate data, and remove the duplicates.</a>\n",
    "\n",
    "\n",
    "-  <a href='#23'>2.3 What differentiates duplicate applications?</a>\n",
    "\n",
    "\n",
    "-  <a href='#24'>2.4 Removing Non-English Apps</a>\n",
    "\n",
    "\n",
    "-  <a href='#25'>2.5 Filter non-English applications from both datasets. </a>\n",
    "\n",
    "\n",
    "-  <a href='#26'>2.6 Exploring datasets and see how many rows we have left for each dataset.</a>\n",
    "\n",
    "\n",
    "\n",
    "### <a href='#3'>3. Isolating Free Apps </a>\n",
    "\n",
    "\n",
    "-  <a href='#31'>3.1 Our **ultimate goal** </a>\n",
    "\n",
    "\n",
    "-  <a href='#32'>3.2 Profiles of apps successful in both markets\tTable</a>\n",
    "\n",
    "\n",
    "\n",
    "### <a href='#4'>4. Most Popular Apps by Genre on Google Play </a>\n",
    "\n",
    "### <a href='#5'>5. Summary. </a>\n",
    "\n",
    "* * *\n",
    "\n",
    "The datasets are in two documents of type csv's i.e. **Comma Separated Values file** for read the content, it is necessary to load a function called `reader` of the python `csv` module."
   ]
  },
  {
   "cell_type": "code",
   "execution_count": 1,
   "metadata": {},
   "outputs": [],
   "source": [
    "from csv import reader"
   ]
  },
  {
   "cell_type": "markdown",
   "metadata": {},
   "source": [
    "* * *\n",
    "<a href='#0'> back to index</a>\n",
    "\n",
    "## <a id='1'>1. Exploring datasets</a>:\n",
    "\n",
    "We are going to explore the two sets of data, but first we are going to kwon what type of [character encoding](https://en.wikipedia.org/wiki/Character_encoding) both datasets have.\n",
    "\n",
    "A command called [file](https://www.man7.org/linux/man-pages/man1/file.1.html), will help us to kwon the type of file regardless of its extension and avoid a error called `UnicodeDecodeError`."
   ]
  },
  {
   "cell_type": "code",
   "execution_count": 2,
   "metadata": {},
   "outputs": [
    {
     "name": "stdout",
     "output_type": "stream",
     "text": [
      "AppleStore.csv: application/csv; charset=utf-8\r\n"
     ]
    }
   ],
   "source": [
    "! file -i AppleStore.csv"
   ]
  },
  {
   "cell_type": "code",
   "execution_count": 3,
   "metadata": {},
   "outputs": [
    {
     "name": "stdout",
     "output_type": "stream",
     "text": [
      "googleplaystore.csv: application/csv; charset=utf-8\r\n"
     ]
    }
   ],
   "source": [
    "! file -i googleplaystore.csv"
   ]
  },
  {
   "cell_type": "markdown",
   "metadata": {},
   "source": [
    "Our files have the same type of charset https://en.wikipedia.org/wiki/UTF-8.\n",
    "\n",
    "\n",
    "Quick idea:\n",
    "\n",
    "- **charset:** is the set of characters you can use.\n",
    "- **encoding:** is the way these characters are stored into memory.\n",
    "\n",
    "[source](https://stackoverflow.com/questions/2281646/whats-the-difference-between-encoding-and-charset)"
   ]
  },
  {
   "cell_type": "code",
   "execution_count": 4,
   "metadata": {},
   "outputs": [
    {
     "data": {
      "text/plain": [
       "['id',\n",
       " 'track_name',\n",
       " 'size_bytes',\n",
       " 'currency',\n",
       " 'price',\n",
       " 'rating_count_tot',\n",
       " 'rating_count_ver',\n",
       " 'user_rating',\n",
       " 'user_rating_ver',\n",
       " 'ver',\n",
       " 'cont_rating',\n",
       " 'prime_genre',\n",
       " 'sup_devices.num',\n",
       " 'ipadSc_urls.num',\n",
       " 'lang.num',\n",
       " 'vpp_lic']"
      ]
     },
     "execution_count": 4,
     "metadata": {},
     "output_type": "execute_result"
    }
   ],
   "source": [
    "AppleStore = open('AppleStore.csv', encoding='utf8')\n",
    "AppleStore = reader(AppleStore)\n",
    "AppleStore = list(AppleStore)\n",
    "header_apple = [x for x in AppleStore[0]]\n",
    "header_apple #Columns on AppleStore"
   ]
  },
  {
   "cell_type": "code",
   "execution_count": 5,
   "metadata": {},
   "outputs": [],
   "source": [
    "dataset_apple = AppleStore[1:] #whole dataset apple, no headers"
   ]
  },
  {
   "cell_type": "code",
   "execution_count": 6,
   "metadata": {},
   "outputs": [
    {
     "data": {
      "text/plain": [
       "['App',\n",
       " 'Category',\n",
       " 'Rating',\n",
       " 'Reviews',\n",
       " 'Size',\n",
       " 'Installs',\n",
       " 'Type',\n",
       " 'Price',\n",
       " 'Content Rating',\n",
       " 'Genres',\n",
       " 'Last Updated',\n",
       " 'Current Ver',\n",
       " 'Android Ver']"
      ]
     },
     "execution_count": 6,
     "metadata": {},
     "output_type": "execute_result"
    }
   ],
   "source": [
    "GooglePlay = open('googleplaystore.csv', encoding='utf8')\n",
    "GooglePlay = reader(GooglePlay)\n",
    "GooglePlay = list(GooglePlay)\n",
    "header_google = [x for x in GooglePlay[0]]\n",
    "header_google "
   ]
  },
  {
   "cell_type": "code",
   "execution_count": 7,
   "metadata": {},
   "outputs": [],
   "source": [
    "dataset_google = GooglePlay[1:] #whole dataset google, no header"
   ]
  },
  {
   "cell_type": "markdown",
   "metadata": {},
   "source": [
    "* * *\n",
    "<a href='#0'> back to index</a>\n",
    "\n",
    "### <a id='11'>1.1 Function to explore datasets</a>\n",
    "\n",
    "To make easier to explore, we created a function named `explore_data()` you can repeatedly use to print rows in a readable way."
   ]
  },
  {
   "cell_type": "code",
   "execution_count": 8,
   "metadata": {},
   "outputs": [],
   "source": [
    "def explore_data(dataset, start, end, rows_and_columns=False):\n",
    "        dataset_slice = dataset[start:end]    \n",
    "        for row in dataset_slice:\n",
    "            print(row)\n",
    "            print('\\n') # adds a new (empty) line after each row\n",
    "        if rows_and_columns:\n",
    "            print('Number of rows:', len(dataset))\n",
    "            print('Number of columns:', len(dataset[0]))"
   ]
  },
  {
   "cell_type": "code",
   "execution_count": 9,
   "metadata": {},
   "outputs": [
    {
     "data": {
      "text/html": [
       "<style>\n",
       "table {float:left}\n",
       "</style>\n"
      ],
      "text/plain": [
       "<IPython.core.display.HTML object>"
      ]
     },
     "metadata": {},
     "output_type": "display_data"
    }
   ],
   "source": [
    "%%html\n",
    "<style>\n",
    "table {float:left}\n",
    "</style>"
   ]
  },
  {
   "cell_type": "markdown",
   "metadata": {},
   "source": [
    "<a href='#0'> back to index</a>\n",
    "* * *\n",
    "### <a id='12'> 1.2 Data dictionary:</a>\n",
    "\n",
    "We have the name of the columns and the data that form the set of both data sets:\n",
    "\n",
    "\n",
    "#### AppleStore.csv\n",
    "\n",
    " - `header_apple`\n",
    "\n",
    " - `dataset_apple` \n",
    "\n",
    "||Name | Description|\n",
    "|:--|:---|:--|\n",
    "|1|\"id\" : |App ID|\n",
    "|2|\"track_name\": |App Name|\n",
    "|3|\"size_bytes\": |Size (in Bytes)|\n",
    "|4|\"currency\": |Currency Type|\n",
    "|5|\"price\": |Price amount|\n",
    "|6|\"ratingcounttot\": |User Rating counts (for all version)|\n",
    "|7|\"ratingcountver\": |User Rating counts (for current version)|\n",
    "|8|\"user_rating\" : |Average User Rating value (for all version)|\n",
    "|9|\"userratingver\": |Average User Rating value (for current version)|\n",
    "|10|\"ver\" : |Latest version code|\n",
    "|11|\"cont_rating\": |Content Rating|\n",
    "|12|\"prime_genre\": |Primary Genre|\n",
    "|13|\"sup_devices.num\": |Number of supporting devices|\n",
    "|14|\"ipadSc_urls.num\": |Number of screenshots showed for display|\n",
    "|15|\"lang.num\": |Number of supported languages|\n",
    "|16|\"vpp_lic\": |Vpp Device Based Licensing Enabled|\n"
   ]
  },
  {
   "cell_type": "markdown",
   "metadata": {},
   "source": [
    "#### Googleplaystore.csv\n",
    "\n",
    " - `header_google`\n",
    "\n",
    " - `dataset_google`\n",
    "\n",
    "\n",
    "||Name | Description|\n",
    "|:--|:---|:--|\n",
    "|1 | App: |Application name|\n",
    "|2 | Category: |Category the app belongs to|\n",
    "|3 | Rating: |Overall user rating of the app (as when scraped)|\n",
    "|4 | Reviews: | Number of user reviews for the app (as when scraped)|\n",
    "|5 | Size: | Size of the app (as when scraped)|\n",
    "|6 | Installs: | Number of user downloads/installs for the app (as when scraped)|\n",
    "|7 | Type: | Paid or Free|\n",
    "|8 | Price: | Price of the app (as when scraped)|\n",
    "|9 | Content: | Rating Age group the app is targeted at - Children / Mature 21+ / Adult|\n",
    "|10 |  Genres: | An app can belong to multiple genres (apart from its main category). For eg, a musical family game will belong to Music, Game, Family genres.|"
   ]
  },
  {
   "cell_type": "markdown",
   "metadata": {},
   "source": [
    "<a href='#0'> back to index</a>\n",
    "* * *\n",
    "### <a id='13'>1.3 Knowing the size in both data sets</a>."
   ]
  },
  {
   "cell_type": "code",
   "execution_count": 10,
   "metadata": {},
   "outputs": [
    {
     "name": "stdout",
     "output_type": "stream",
     "text": [
      "['529479190', 'Clash of Clans', '116476928', 'USD', '0.0', '2130805', '579', '4.5', '4.5', '9.24.12', '9+', 'Games', '38', '5', '18', '1']\n",
      "\n",
      "\n",
      "['420009108', 'Temple Run', '65921024', 'USD', '0.0', '1724546', '3842', '4.5', '4.0', '1.6.2', '9+', 'Games', '40', '5', '1', '1']\n",
      "\n",
      "\n",
      "Number of rows: 7197\n",
      "Number of columns: 16\n"
     ]
    }
   ],
   "source": [
    "explore_data(dataset_apple, 2, 4, True)"
   ]
  },
  {
   "cell_type": "code",
   "execution_count": 11,
   "metadata": {},
   "outputs": [
    {
     "name": "stdout",
     "output_type": "stream",
     "text": [
      "['U Launcher Lite – FREE Live Cool Themes, Hide Apps', 'ART_AND_DESIGN', '4.7', '87510', '8.7M', '5,000,000+', 'Free', '0', 'Everyone', 'Art & Design', 'August 1, 2018', '1.2.4', '4.0.3 and up']\n",
      "\n",
      "\n",
      "['Sketch - Draw & Paint', 'ART_AND_DESIGN', '4.5', '215644', '25M', '50,000,000+', 'Free', '0', 'Teen', 'Art & Design', 'June 8, 2018', 'Varies with device', '4.2 and up']\n",
      "\n",
      "\n",
      "Number of rows: 10841\n",
      "Number of columns: 13\n"
     ]
    }
   ],
   "source": [
    "explore_data(dataset_google, 2, 4, True)"
   ]
  },
  {
   "cell_type": "markdown",
   "metadata": {},
   "source": [
    "### Resume\n",
    "\n",
    "|`dataset_apple`|`dataset_google`|\n",
    "|:----|:----|\n",
    "|Number of rows: 7197| Number of rows: 10841|\n",
    "|Number of columns: 16|Number of columns: 13|"
   ]
  },
  {
   "cell_type": "markdown",
   "metadata": {},
   "source": [
    "<a href='#0'> back to index</a>\n",
    "* * *\n",
    "## <a id='2'>2. Data cleaning</a>\n",
    "\n",
    "This means that we need to:\n",
    "\n",
    "- 1. **Detect inaccurate data, and correct or remove it**.\n",
    "\n",
    "- 2. **Detect duplicate data, and remove the duplicates**.\n",
    "\n",
    "\n",
    "- 3. **Remove non-English apps like 爱奇艺PPS -《欢乐颂2》电视剧热播**.\n",
    "\n",
    "- 4. **Remove apps that aren't free##**.\n",
    "\n",
    "\n",
    "The Google Play dataset has a dedicated [discussion section](https://www.kaggle.com/datasets/lava18/google-play-store-apps/discussion?sort=votes), and we can see that [one of the discussions](https://www.kaggle.com/datasets/lava18/google-play-store-apps/discussion/66015) describes an error for a certain row.\n",
    "\n",
    "<a href='#0'> back to index</a>\n",
    "* * *\n",
    "### <a id='21'>2.1. Detect inaccurate data... remove it.</a>\n",
    "\n",
    "The idea that the number of columns must be the same as the number of fields contained in a row means if the number of fields in a row varies the some kind of data is missing.\n",
    "\n",
    "This function has a pair of parameters `dataset`, `header` in which we enter the dataset and the header.\n",
    "\n",
    "the passage of each row compare the number of fields with the number of fields in header if they do not coincide then in that line some type of data is missing."
   ]
  },
  {
   "cell_type": "code",
   "execution_count": 12,
   "metadata": {},
   "outputs": [],
   "source": [
    "def field_number(dataset, header):\n",
    "    index_number = 0\n",
    "    for row in range(len(dataset)):\n",
    "        if len(dataset[row]) != len(header):\n",
    "            print(dataset[row])\n",
    "            print(\"\\n\")\n",
    "            print(\"error in index number: \",index_number)\n",
    "        index_number +=1"
   ]
  },
  {
   "cell_type": "code",
   "execution_count": 13,
   "metadata": {},
   "outputs": [],
   "source": [
    "field_number(dataset_apple, header_apple)"
   ]
  },
  {
   "cell_type": "code",
   "execution_count": 14,
   "metadata": {},
   "outputs": [
    {
     "name": "stdout",
     "output_type": "stream",
     "text": [
      "['Life Made WI-Fi Touchscreen Photo Frame', '1.9', '19', '3.0M', '1,000+', 'Free', '0', 'Everyone', '', 'February 11, 2018', '1.0.19', '4.0 and up']\n",
      "\n",
      "\n",
      "error in index number:  10472\n"
     ]
    }
   ],
   "source": [
    "field_number(dataset_google, header_google)"
   ]
  },
  {
   "cell_type": "code",
   "execution_count": 15,
   "metadata": {},
   "outputs": [
    {
     "data": {
      "text/plain": [
       "12"
      ]
     },
     "execution_count": 15,
     "metadata": {},
     "output_type": "execute_result"
    }
   ],
   "source": [
    "len(dataset_google[10472]) #discussion row"
   ]
  },
  {
   "cell_type": "markdown",
   "metadata": {},
   "source": [
    "We have passed the two datasets through the function and there is a row in the `dataset_google` with a different length from the number of columns therefore we are going to remove it from our dataset."
   ]
  },
  {
   "cell_type": "code",
   "execution_count": 16,
   "metadata": {},
   "outputs": [],
   "source": [
    "del dataset_google[10472]"
   ]
  },
  {
   "cell_type": "markdown",
   "metadata": {},
   "source": [
    "Checking if row has been removed properlly."
   ]
  },
  {
   "cell_type": "code",
   "execution_count": 17,
   "metadata": {},
   "outputs": [
    {
     "data": {
      "text/plain": [
       "['osmino Wi-Fi: free WiFi',\n",
       " 'TOOLS',\n",
       " '4.2',\n",
       " '134203',\n",
       " '4.1M',\n",
       " '10,000,000+',\n",
       " 'Free',\n",
       " '0',\n",
       " 'Everyone',\n",
       " 'Tools',\n",
       " 'August 7, 2018',\n",
       " '6.06.14',\n",
       " '4.4 and up']"
      ]
     },
     "execution_count": 17,
     "metadata": {},
     "output_type": "execute_result"
    }
   ],
   "source": [
    "dataset_google[10472]"
   ]
  },
  {
   "cell_type": "markdown",
   "metadata": {},
   "source": [
    "#### yes ...It has been removed"
   ]
  },
  {
   "cell_type": "markdown",
   "metadata": {},
   "source": [
    "<a href='#0'> back to index</a>\n",
    "* * *\n",
    "### <a id='22'>2.2 Detect duplicate data, and remove the duplicates.</a>\n",
    "\n",
    "A for runs through each row extracting the name of the application.\n",
    "\n",
    "- checking if it already exists or not.\n",
    "\n",
    "- if not then the name is inserted in `unique_apps` else is inserted into `duplicate_apps`."
   ]
  },
  {
   "cell_type": "code",
   "execution_count": 18,
   "metadata": {},
   "outputs": [],
   "source": [
    "def detect_duplicated(dataset):\n",
    "    unique_apps = []\n",
    "    duplicate_apps = []\n",
    "    \n",
    "    for row in dataset:\n",
    "        name = row[0]\n",
    "        if name in unique_apps:\n",
    "            duplicate_apps.append(name)\n",
    "        else:\n",
    "            unique_apps.append(name)\n",
    "            \n",
    "    if len(duplicate_apps) == 0:\n",
    "        print(\"In this dataset there are no duplicate apps\")\n",
    "    else:\n",
    "        times=len(duplicate_apps)\n",
    "        print(\"There are {reapeated} repeated apps\".format(reapeated=times,dataset=dataset))\n",
    "        print(\"\\n\")\n",
    "        print('Examples of duplicate apps:',\"\\n\"+\"\\n\" , duplicate_apps[:5])"
   ]
  },
  {
   "cell_type": "code",
   "execution_count": 19,
   "metadata": {},
   "outputs": [
    {
     "name": "stdout",
     "output_type": "stream",
     "text": [
      "In this dataset there are no duplicate apps\n"
     ]
    }
   ],
   "source": [
    "detect_duplicated(dataset_apple)"
   ]
  },
  {
   "cell_type": "code",
   "execution_count": 20,
   "metadata": {},
   "outputs": [
    {
     "name": "stdout",
     "output_type": "stream",
     "text": [
      "There are 1181 repeated apps\n",
      "\n",
      "\n",
      "Examples of duplicate apps: \n",
      "\n",
      " ['Quick PDF Scanner + OCR FREE', 'Box', 'Google My Business', 'ZOOM Cloud Meetings', 'join.me - Simple Meetings']\n"
     ]
    }
   ],
   "source": [
    "detect_duplicated(dataset_google)"
   ]
  },
  {
   "cell_type": "markdown",
   "metadata": {},
   "source": [
    "Just only 5 samples of the repeated applications in **dataset_google**\n",
    "\n",
    "* * * \n",
    "<a href='#0'> back to index</a>\n",
    "### <a id='23'>2.3 What differentiates duplicate applications?</a>\n",
    "\n",
    "If we take as an example a repeated application, in this case `Instagram`, we see that of all the fields that make up the row **there is only one that is different**."
   ]
  },
  {
   "cell_type": "code",
   "execution_count": 21,
   "metadata": {},
   "outputs": [
    {
     "name": "stdout",
     "output_type": "stream",
     "text": [
      "['Instagram', 'SOCIAL', '4.5', '66577313', 'Varies with device', '1,000,000,000+', 'Free', '0', 'Teen', 'Social', 'July 31, 2018', 'Varies with device', 'Varies with device']\n",
      "['Instagram', 'SOCIAL', '4.5', '66577446', 'Varies with device', '1,000,000,000+', 'Free', '0', 'Teen', 'Social', 'July 31, 2018', 'Varies with device', 'Varies with device']\n",
      "['Instagram', 'SOCIAL', '4.5', '66577313', 'Varies with device', '1,000,000,000+', 'Free', '0', 'Teen', 'Social', 'July 31, 2018', 'Varies with device', 'Varies with device']\n",
      "['Instagram', 'SOCIAL', '4.5', '66509917', 'Varies with device', '1,000,000,000+', 'Free', '0', 'Teen', 'Social', 'July 31, 2018', 'Varies with device', 'Varies with device']\n"
     ]
    }
   ],
   "source": [
    "for app in dataset_google:\n",
    "    name = app[0]\n",
    "    if name == 'Instagram':\n",
    "        print(app)"
   ]
  },
  {
   "cell_type": "markdown",
   "metadata": {},
   "source": [
    "That is the number of `'Reviews'`:\n",
    "\n",
    "\n",
    "Therefore this will be the criterion we use to eliminate duplicate applications.\n",
    "\n",
    "- Create a dictionary `reviews_max`, only `name` as a key and the value as `reviews`.\n",
    "\n",
    "- Through the dataset row by row extracting the `name` of the application in one variable and the `reviews` in another.\n",
    "\n",
    "- if `name` variable exists in the dictionary and the value associated with this key is less than the `n_reviews` variable then we update the value in the dictionary.\n",
    "\n",
    "- else if the name does not exist in the dictionary then we add it along with its value which will be `n_reviews`."
   ]
  },
  {
   "cell_type": "code",
   "execution_count": 22,
   "metadata": {},
   "outputs": [
    {
     "name": "stdout",
     "output_type": "stream",
     "text": [
      "length of the dictionary: 9659\n"
     ]
    }
   ],
   "source": [
    "reviews_max = {} #key=name, value=review\n",
    "\n",
    "for row in dataset_google:\n",
    "    name = row[0]\n",
    "    n_reviews = float(row[3])\n",
    "    \n",
    "    if name in reviews_max and reviews_max[name] < n_reviews: #if name in reviews_max & value in reviews_max[name]\n",
    "        reviews_max[name] = n_reviews                         #is < than n_reviews the update\n",
    "        \n",
    "    elif name not in reviews_max:\n",
    "        reviews_max[name] = n_reviews\n",
    "        \n",
    "print('length of the dictionary:',len(reviews_max))"
   ]
  },
  {
   "cell_type": "markdown",
   "metadata": {},
   "source": [
    "This is the new length of our dataset having deleted repeated applications.\n",
    "\n",
    "The original length of the dataset minus the number of repeated applications results in this number."
   ]
  },
  {
   "cell_type": "code",
   "execution_count": 23,
   "metadata": {},
   "outputs": [
    {
     "name": "stdout",
     "output_type": "stream",
     "text": [
      "expected length 9659\n"
     ]
    }
   ],
   "source": [
    "print('expected length', len(dataset_google) - 1181) #1181 repeated apps"
   ]
  },
  {
   "cell_type": "markdown",
   "metadata": {},
   "source": [
    "- this time we create two lists\n",
    "\n",
    "- we go through the dataset row by row\n",
    "\n",
    "- we extract the name and the number of reviews as we had done before.\n",
    "\n",
    "- the condition works as follows:\n",
    "\n",
    "- if the number of `reviews` is equal to the number of reviews in the previous dictionary  (`reviews_max`) and the name is not in the list called `already_added`\n",
    "\n",
    "- then insert the whole row in the list called `android_clean` and the **name** in the list `already_added`\n",
    "\n"
   ]
  },
  {
   "cell_type": "code",
   "execution_count": 24,
   "metadata": {},
   "outputs": [],
   "source": [
    "android_clean = []\n",
    "already_added = []\n",
    "\n",
    "for row in dataset_google: #original dataset\n",
    "    name = row[0]\n",
    "    n_reviews = float(row[3])\n",
    "    \n",
    "    if n_reviews == reviews_max[name] and name not in already_added:\n",
    "        android_clean.append(row) #row list added to list\n",
    "        already_added.append(name) #new name added list"
   ]
  },
  {
   "cell_type": "markdown",
   "metadata": {},
   "source": [
    "`android_clean` is the our **new dataset**"
   ]
  },
  {
   "cell_type": "code",
   "execution_count": 25,
   "metadata": {},
   "outputs": [
    {
     "name": "stdout",
     "output_type": "stream",
     "text": [
      "['U Launcher Lite – FREE Live Cool Themes, Hide Apps', 'ART_AND_DESIGN', '4.7', '87510', '8.7M', '5,000,000+', 'Free', '0', 'Everyone', 'Art & Design', 'August 1, 2018', '1.2.4', '4.0.3 and up']\n",
      "\n",
      "\n",
      "Number of rows: 9659\n",
      "Number of columns: 13\n"
     ]
    }
   ],
   "source": [
    "explore_data(android_clean, 1, 2, True)"
   ]
  },
  {
   "cell_type": "markdown",
   "metadata": {},
   "source": [
    "<a href='#0'> back to index</a>\n",
    "* * *\n",
    "### <a id='24'>2.4 Removing Non-English Apps</a>"
   ]
  },
  {
   "cell_type": "markdown",
   "metadata": {},
   "source": [
    "It is no necessary to do the same with App Store data because there are no duplicates.\n",
    "\n",
    "We use English for the applications we develop in our company, and we would like to analyze only applications aimed at an English-speaking audience. \n",
    "\n",
    "\n",
    "However, if we explore the data enough, we will find that **both datasets** have applications with names that suggest they are not aimed at an English-speaking audience."
   ]
  },
  {
   "cell_type": "code",
   "execution_count": 26,
   "metadata": {},
   "outputs": [
    {
     "name": "stdout",
     "output_type": "stream",
     "text": [
      "BATTLE BEARS -1\n",
      "Beast Poker\n",
      "\n",
      "\n",
      "中国語 AQリスニング\n",
      "لعبة تقدر تربح DZ\n"
     ]
    }
   ],
   "source": [
    "print(AppleStore[813][1])\n",
    "print(AppleStore[6731][1])\n",
    "print('\\n')\n",
    "print(android_clean[4412][0])\n",
    "print(android_clean[7940][0])"
   ]
  },
  {
   "cell_type": "markdown",
   "metadata": {},
   "source": [
    "**One way to do this is to remove all applications whose name contains a symbol that is not commonly used in English text**. \n",
    "\n",
    "English text typically includes letters of the English alphabet, numbers composed of digits from 0 to 9, punctuation marks (., !, ?, ;) and other símbols (+, *, /).\n",
    "\n",
    "Each character we use in a string has a corresponding number associated with it. \n",
    "\n",
    "For example, the corresponding number of the character\"a\" es 97, el del carácter \"A\" es 65, y el del carácter \"爱\" es 29.233. \n",
    "\n",
    " We can get the corresponding number of each character using the built-in function **ord().**"
   ]
  },
  {
   "cell_type": "code",
   "execution_count": 27,
   "metadata": {},
   "outputs": [
    {
     "name": "stdout",
     "output_type": "stream",
     "text": [
      "97\n",
      "65\n",
      "29233\n",
      "53\n",
      "43\n"
     ]
    }
   ],
   "source": [
    "print(ord('a'))\n",
    "print(ord('A'))\n",
    "print(ord('爱'))\n",
    "print(ord('5'))\n",
    "print(ord('+'))"
   ]
  },
  {
   "cell_type": "markdown",
   "metadata": {},
   "source": [
    "The numbers corresponding to the characters that we usually use in an English text are all in the range of 0 to 127, according to the ASCII system (American Standard Code for Information Interchange). \n",
    "\n",
    "Based on this range of numbers, we can construct a function that detects whether a character belongs to the common English character set or not. \n",
    "\n",
    "- **If the number is equal to or less than 127, the character belongs to the set of common English characters. \n",
    "\n",
    "- **If an app's name contains a character greater than 127, it probably means that the app has a non-English name.** \n",
    "\n",
    "This is the basis of operation. \n",
    "\n",
    "Read each of the characters and compare their ASCII value with the one we have determined as limit (127)."
   ]
  },
  {
   "cell_type": "code",
   "execution_count": 28,
   "metadata": {},
   "outputs": [],
   "source": [
    "def english_speak(string):\n",
    "    for character in string:\n",
    "        valor_character = ord(character)\n",
    "        if valor_character > 127:\n",
    "            return False #not English \n",
    "        else:\n",
    "            return True # is English"
   ]
  },
  {
   "cell_type": "code",
   "execution_count": 29,
   "metadata": {},
   "outputs": [
    {
     "data": {
      "text/plain": [
       "True"
      ]
     },
     "execution_count": 29,
     "metadata": {},
     "output_type": "execute_result"
    }
   ],
   "source": [
    "english_speak('Instagram')"
   ]
  },
  {
   "cell_type": "code",
   "execution_count": 30,
   "metadata": {},
   "outputs": [
    {
     "data": {
      "text/plain": [
       "False"
      ]
     },
     "execution_count": 30,
     "metadata": {},
     "output_type": "execute_result"
    }
   ],
   "source": [
    "english_speak('爱奇艺PPS -《欢乐颂2》电视剧热播')"
   ]
  },
  {
   "cell_type": "code",
   "execution_count": 31,
   "metadata": {},
   "outputs": [
    {
     "data": {
      "text/plain": [
       "True"
      ]
     },
     "execution_count": 31,
     "metadata": {},
     "output_type": "execute_result"
    }
   ],
   "source": [
    "english_speak('Docs To Go™ Free Office Suite')#Is English!"
   ]
  },
  {
   "cell_type": "code",
   "execution_count": 32,
   "metadata": {},
   "outputs": [
    {
     "data": {
      "text/plain": [
       "True"
      ]
     },
     "execution_count": 32,
     "metadata": {},
     "output_type": "execute_result"
    }
   ],
   "source": [
    "english_speak('Instachat 😜') #Is English!"
   ]
  },
  {
   "cell_type": "code",
   "execution_count": 33,
   "metadata": {},
   "outputs": [
    {
     "name": "stdout",
     "output_type": "stream",
     "text": [
      "8482\n",
      "128540\n"
     ]
    }
   ],
   "source": [
    "print(ord('™'))\n",
    "print(ord('😜'))"
   ]
  },
  {
   "cell_type": "markdown",
   "metadata": {},
   "source": [
    "If we are going to use the function we have created, we will lose useful data, we saw that the function could not correctly identify certain names of English applications such as **'Docs To Go™ Free Office Suite'** and **'Instachat 😜'** since many English applications will be incorrectly labeled as non-English. \n",
    "\n",
    "\n",
    "To **minimize the impact of data loss**,it is necessary to have a basic criterion that helps in the screening so **we will only delete an application if its name is longer than three characters with the corresponding numbers outside the ASCII range**. \n",
    "\n",
    "This means that all English apps with up to three emoji or other special characters will still be labeled as English. "
   ]
  },
  {
   "cell_type": "code",
   "execution_count": 34,
   "metadata": {},
   "outputs": [],
   "source": [
    "def english_speak(text):\n",
    "    non_validchar = [] #aux list\n",
    "    for character in text:\n",
    "        valor_character = ord(character)\n",
    "        if valor_character > 127:\n",
    "            non_validchar.append(valor_character)\n",
    "    if len(non_validchar) >= 3:\n",
    "        return False\n",
    "    else:\n",
    "        return True"
   ]
  },
  {
   "cell_type": "code",
   "execution_count": 35,
   "metadata": {},
   "outputs": [
    {
     "data": {
      "text/plain": [
       "True"
      ]
     },
     "execution_count": 35,
     "metadata": {},
     "output_type": "execute_result"
    }
   ],
   "source": [
    "english_speak('Docs To Go™ Free Office Suite')"
   ]
  },
  {
   "cell_type": "code",
   "execution_count": 36,
   "metadata": {},
   "outputs": [
    {
     "data": {
      "text/plain": [
       "False"
      ]
     },
     "execution_count": 36,
     "metadata": {},
     "output_type": "execute_result"
    }
   ],
   "source": [
    "english_speak('爱奇艺PPS -《欢乐颂2》电视剧热播')"
   ]
  },
  {
   "cell_type": "code",
   "execution_count": 37,
   "metadata": {},
   "outputs": [
    {
     "data": {
      "text/plain": [
       "True"
      ]
     },
     "execution_count": 37,
     "metadata": {},
     "output_type": "execute_result"
    }
   ],
   "source": [
    "english_speak('Instachat 😜 😜')"
   ]
  },
  {
   "cell_type": "code",
   "execution_count": 38,
   "metadata": {},
   "outputs": [
    {
     "data": {
      "text/plain": [
       "False"
      ]
     },
     "execution_count": 38,
     "metadata": {},
     "output_type": "execute_result"
    }
   ],
   "source": [
    "english_speak('Instachat 😜 😜 😜')"
   ]
  },
  {
   "cell_type": "markdown",
   "metadata": {},
   "source": [
    "At this point it is important to remember what the names of the datasets are, thus avoiding failures.\n",
    "\n",
    "|Dataset names|lenght|\n",
    "|:----|:----|\n",
    "|`dataset_apple`|7197|\n",
    "|`android_clean`|9659, 8757|"
   ]
  },
  {
   "cell_type": "markdown",
   "metadata": {},
   "source": [
    "<a href='#0'> back to index</a>\n",
    "* * *\n",
    "### <a id='25'>2.5 Filter non-English applications from both datasets.</a> \n",
    "\n",
    "If an app's name is identified as English, the we add the entire row to a separate list."
   ]
  },
  {
   "cell_type": "code",
   "execution_count": 39,
   "metadata": {},
   "outputs": [],
   "source": [
    "# AppleStore\n",
    "\n",
    "list_apple_clean = []\n",
    "\n",
    "for row in dataset_apple:\n",
    "    name = row[1]\n",
    "    if english_speak(name):\n",
    "        list_apple_clean.append(row)\n",
    "    else:\n",
    "        pass"
   ]
  },
  {
   "cell_type": "code",
   "execution_count": 40,
   "metadata": {},
   "outputs": [],
   "source": [
    "## android_clean\n",
    "\n",
    "list_android_clean = []\n",
    "\n",
    "for row in android_clean:\n",
    "    nombre = row[0]\n",
    "    if english_speak(nombre):\n",
    "        list_android_clean.append(row)\n",
    "    else:\n",
    "        pass"
   ]
  },
  {
   "cell_type": "markdown",
   "metadata": {},
   "source": [
    "<a href='#0'> back to index</a>\n",
    "* * *\n",
    "### <a id='26'>2.6 Exploring datasets and see how many rows we have left for each dataset.</a>\n",
    "\n",
    "In each cleaning process we have put different names to our dataset variables so it is important to take them into account"
   ]
  },
  {
   "cell_type": "code",
   "execution_count": 41,
   "metadata": {},
   "outputs": [
    {
     "name": "stdout",
     "output_type": "stream",
     "text": [
      "['529479190', 'Clash of Clans', '116476928', 'USD', '0.0', '2130805', '579', '4.5', '4.5', '9.24.12', '9+', 'Games', '38', '5', '18', '1']\n",
      "\n",
      "\n",
      "['420009108', 'Temple Run', '65921024', 'USD', '0.0', '1724546', '3842', '4.5', '4.0', '1.6.2', '9+', 'Games', '40', '5', '1', '1']\n",
      "\n",
      "\n",
      "Number of rows: 6155\n",
      "Number of columns: 16\n"
     ]
    }
   ],
   "source": [
    "explore_data(list_apple_clean, 2, 4, True)"
   ]
  },
  {
   "cell_type": "code",
   "execution_count": 42,
   "metadata": {},
   "outputs": [
    {
     "name": "stdout",
     "output_type": "stream",
     "text": [
      "['Sketch - Draw & Paint', 'ART_AND_DESIGN', '4.5', '215644', '25M', '50,000,000+', 'Free', '0', 'Teen', 'Art & Design', 'June 8, 2018', 'Varies with device', '4.2 and up']\n",
      "\n",
      "\n",
      "['Pixel Draw - Number Art Coloring Book', 'ART_AND_DESIGN', '4.3', '967', '2.8M', '100,000+', 'Free', '0', 'Everyone', 'Art & Design;Creativity', 'June 20, 2018', '1.1', '4.4 and up']\n",
      "\n",
      "\n",
      "Number of rows: 9597\n",
      "Number of columns: 13\n"
     ]
    }
   ],
   "source": [
    "explore_data(list_android_clean, 2, 4, True)"
   ]
  },
  {
   "cell_type": "markdown",
   "metadata": {},
   "source": [
    "**Now we are working with this:**\n",
    "\n",
    "\n",
    "|Dataset names|lenght|\n",
    "|:----|:----|\n",
    "|`list_apple_clean`|6155|\n",
    "|`list_android_clean`|9597, 8698|"
   ]
  },
  {
   "cell_type": "markdown",
   "metadata": {},
   "source": [
    "<a href='#0'> back to index</a>\n",
    "* * *\n",
    "## <a id='3'>3. Isolating Free Apps</a>\n",
    "\n",
    "Our datasets contain **free and non-free applications** we need to isolate only the free applications for our analysis.\n",
    "\n",
    "Checking the length of each dataset to see how many apps have left."
   ]
  },
  {
   "cell_type": "code",
   "execution_count": 43,
   "metadata": {},
   "outputs": [
    {
     "data": {
      "text/plain": [
       "['id',\n",
       " 'track_name',\n",
       " 'size_bytes',\n",
       " 'currency',\n",
       " 'price',\n",
       " 'rating_count_tot',\n",
       " 'rating_count_ver',\n",
       " 'user_rating',\n",
       " 'user_rating_ver',\n",
       " 'ver',\n",
       " 'cont_rating',\n",
       " 'prime_genre',\n",
       " 'sup_devices.num',\n",
       " 'ipadSc_urls.num',\n",
       " 'lang.num',\n",
       " 'vpp_lic']"
      ]
     },
     "execution_count": 43,
     "metadata": {},
     "output_type": "execute_result"
    }
   ],
   "source": [
    "header_apple"
   ]
  },
  {
   "cell_type": "code",
   "execution_count": 44,
   "metadata": {},
   "outputs": [
    {
     "data": {
      "text/plain": [
       "3203"
      ]
     },
     "execution_count": 44,
     "metadata": {},
     "output_type": "execute_result"
    }
   ],
   "source": [
    "free_apple_clean = []\n",
    "\n",
    "for row in list_apple_clean:\n",
    "    prix = row[4] #'price'\n",
    " \n",
    "    if prix == '0.0' or prix == '0': #not numbers just characters! \n",
    "        free_apple_clean.append(row)\n",
    "    else:\n",
    "        pass\n",
    "    \n",
    "len(free_apple_clean)"
   ]
  },
  {
   "cell_type": "code",
   "execution_count": 45,
   "metadata": {},
   "outputs": [
    {
     "data": {
      "text/plain": [
       "['App',\n",
       " 'Category',\n",
       " 'Rating',\n",
       " 'Reviews',\n",
       " 'Size',\n",
       " 'Installs',\n",
       " 'Type',\n",
       " 'Price',\n",
       " 'Content Rating',\n",
       " 'Genres',\n",
       " 'Last Updated',\n",
       " 'Current Ver',\n",
       " 'Android Ver']"
      ]
     },
     "execution_count": 45,
     "metadata": {},
     "output_type": "execute_result"
    }
   ],
   "source": [
    "header_google"
   ]
  },
  {
   "cell_type": "code",
   "execution_count": 46,
   "metadata": {},
   "outputs": [
    {
     "data": {
      "text/plain": [
       "8848"
      ]
     },
     "execution_count": 46,
     "metadata": {},
     "output_type": "execute_result"
    }
   ],
   "source": [
    "free_android_clean = [] \n",
    "\n",
    "for row in list_android_clean:\n",
    "    prix = row[7] #'Price'\n",
    "    if prix == '0.0' or prix == '0': #not numbers just characters! \n",
    "        free_android_clean.append(row)\n",
    "    else:\n",
    "        pass\n",
    "    \n",
    "len(free_android_clean)"
   ]
  },
  {
   "cell_type": "markdown",
   "metadata": {},
   "source": [
    "**Updating names and lengths**\n",
    "\n",
    "\n",
    "|Dataset names|lenght|\n",
    "|:----|:----|\n",
    "|`free_apple_clean`|3203|\n",
    "|`free_android_clean`|8848|"
   ]
  },
  {
   "cell_type": "markdown",
   "metadata": {},
   "source": [
    "<a href='#0'> back to index</a>\n",
    "* * *\n",
    "### <a id='31'>Our **ultimate goal** is to add the app on both Google Play and the App Store, so we need to **find profiles of apps that are successful in both markets**.</a> \n",
    "\n",
    "\n",
    "Let's start the analysis by having an idea of what are the most common genres for each market. To do this, we will have to build frequency tables for some columns of our datasets.\n",
    "\n",
    "The columns that can give us the information we need are:\n",
    "\n",
    "`free_apple_clean[11]` ---> `prime_genre`\n",
    "\n",
    "`free_android_clean[]` ---> `Genres`"
   ]
  },
  {
   "cell_type": "markdown",
   "metadata": {},
   "source": [
    "- create a function\n",
    "\n",
    "- Create a dictionary `table`\n",
    "\n",
    "- Running dataset row by row\n",
    "\n",
    "- A counter will tell us the total number of rows\n",
    "\n",
    "- The value that we want to extract from the column that interests us we introduce it in `value`\n",
    "\n",
    "- if `value` exists in the dictionary `table` we increment the value in 1 but if not exist we give it a value of 1.\n",
    "\n",
    "- We created another dictionary called `table_percentages`\n",
    "\n",
    "- Running through the previous dictionary called `table`\n",
    "\n",
    "- The percentage will be the result of the value from the dictionary divided by the `total` value.\n",
    "\n",
    "- In the dictionary we enter the **key** as column and a **value** as the percentage\n",
    "\n",
    "- return the diccionary"
   ]
  },
  {
   "cell_type": "code",
   "execution_count": 47,
   "metadata": {},
   "outputs": [],
   "source": [
    "def freq_table(dataset, column):\n",
    "    table = {}\n",
    "    total = 0\n",
    "    \n",
    "    for row in dataset:\n",
    "        total +=1 # counter give us length.\n",
    "        value = row[column]\n",
    "        if value in table:\n",
    "            table[value] +=1\n",
    "        else:\n",
    "            table[value] = 1\n",
    "        \n",
    "    table_percentages = {}\n",
    "    \n",
    "    for key in table: #table[column value]<--as key] value <--as +1 values added \n",
    "        percentage = (table[key] / total ) * 100\n",
    "        table_percentages[key]=percentage\n",
    "            \n",
    "    return table_percentages # {column:times repeated}"
   ]
  },
  {
   "cell_type": "markdown",
   "metadata": {},
   "source": [
    "- Create a function called `display_table` same parameters as `freq_table` because this function is inside of `display_table`\n",
    "\n",
    "- Create a list `table_display`\n",
    "\n",
    "- Running through the `table` dictionary \n",
    "\n",
    "- The value of the dictionary we place in `key_val_as_tuple`, tuple along with the key of this\n",
    "\n",
    "- Introducing tuple it in the list `table_display`\n",
    "\n",
    "- when append the list is finish we can order it thanks to the **sorted** function\n",
    "\n",
    "- Going through that variable with a new for we can print the result in an orderly manner"
   ]
  },
  {
   "cell_type": "code",
   "execution_count": 48,
   "metadata": {},
   "outputs": [],
   "source": [
    "def display_table(dataset, column):\n",
    "    table = freq_table(dataset, column) #return diccionary\n",
    "    table_display = []\n",
    "    for key in table:\n",
    "        key_val_as_tuple = (table[key], key)   #times repeated & key same variable\n",
    "        table_display.append(key_val_as_tuple) #append tuple into list\n",
    "\n",
    "    table_sorted = sorted(table_display, reverse = True) #sorting list\n",
    "    for entry in table_sorted: #print every cell on list\n",
    "        print(entry[1], ':', round(entry[0],2),'%')"
   ]
  },
  {
   "cell_type": "code",
   "execution_count": 49,
   "metadata": {
    "scrolled": false
   },
   "outputs": [
    {
     "name": "stdout",
     "output_type": "stream",
     "text": [
      "Games : 58.26 %\n",
      "Entertainment : 7.84 %\n",
      "Photo & Video : 5.0 %\n",
      "Education : 3.68 %\n",
      "Social Networking : 3.31 %\n",
      "Shopping : 2.59 %\n",
      "Utilities : 2.47 %\n",
      "Sports : 2.15 %\n",
      "Music : 2.06 %\n",
      "Health & Fitness : 2.03 %\n",
      "Productivity : 1.75 %\n",
      "Lifestyle : 1.56 %\n",
      "News : 1.34 %\n",
      "Travel : 1.25 %\n",
      "Finance : 1.09 %\n",
      "Weather : 0.87 %\n",
      "Food & Drink : 0.81 %\n",
      "Reference : 0.53 %\n",
      "Business : 0.53 %\n",
      "Book : 0.37 %\n",
      "Navigation : 0.19 %\n",
      "Medical : 0.19 %\n",
      "Catalogs : 0.12 %\n"
     ]
    }
   ],
   "source": [
    "output_apple = display_table(free_apple_clean,11) #apple prime_genere column"
   ]
  },
  {
   "cell_type": "code",
   "execution_count": 50,
   "metadata": {
    "scrolled": true
   },
   "outputs": [
    {
     "name": "stdout",
     "output_type": "stream",
     "text": [
      "Tools : 8.44 %\n",
      "Entertainment : 6.08 %\n",
      "Education : 5.36 %\n",
      "Business : 4.6 %\n",
      "Productivity : 3.9 %\n",
      "Lifestyle : 3.88 %\n",
      "Finance : 3.71 %\n",
      "Medical : 3.54 %\n",
      "Sports : 3.46 %\n",
      "Personalization : 3.32 %\n",
      "Communication : 3.23 %\n",
      "Action : 3.1 %\n",
      "Health & Fitness : 3.09 %\n",
      "Photography : 2.95 %\n",
      "News & Magazines : 2.8 %\n",
      "Social : 2.67 %\n",
      "Travel & Local : 2.33 %\n",
      "Shopping : 2.25 %\n",
      "Books & Reference : 2.14 %\n",
      "Simulation : 2.05 %\n",
      "Dating : 1.86 %\n",
      "Arcade : 1.84 %\n",
      "Video Players & Editors : 1.77 %\n",
      "Casual : 1.76 %\n",
      "Maps & Navigation : 1.39 %\n",
      "Food & Drink : 1.24 %\n",
      "Puzzle : 1.13 %\n",
      "Racing : 0.99 %\n",
      "Role Playing : 0.94 %\n",
      "Libraries & Demo : 0.94 %\n",
      "Auto & Vehicles : 0.93 %\n",
      "Strategy : 0.92 %\n",
      "House & Home : 0.8 %\n",
      "Weather : 0.79 %\n",
      "Events : 0.71 %\n",
      "Adventure : 0.67 %\n",
      "Comics : 0.6 %\n",
      "Beauty : 0.6 %\n",
      "Art & Design : 0.6 %\n",
      "Parenting : 0.5 %\n",
      "Card : 0.45 %\n",
      "Trivia : 0.42 %\n",
      "Casino : 0.42 %\n",
      "Educational;Education : 0.4 %\n",
      "Board : 0.38 %\n",
      "Educational : 0.37 %\n",
      "Education;Education : 0.34 %\n",
      "Word : 0.26 %\n",
      "Casual;Pretend Play : 0.24 %\n",
      "Music : 0.2 %\n",
      "Racing;Action & Adventure : 0.17 %\n",
      "Puzzle;Brain Games : 0.17 %\n",
      "Entertainment;Music & Video : 0.17 %\n",
      "Casual;Brain Games : 0.14 %\n",
      "Casual;Action & Adventure : 0.14 %\n",
      "Arcade;Action & Adventure : 0.12 %\n",
      "Action;Action & Adventure : 0.1 %\n",
      "Educational;Pretend Play : 0.09 %\n",
      "Simulation;Action & Adventure : 0.08 %\n",
      "Parenting;Education : 0.08 %\n",
      "Entertainment;Brain Games : 0.08 %\n",
      "Board;Brain Games : 0.08 %\n",
      "Parenting;Music & Video : 0.07 %\n",
      "Educational;Brain Games : 0.07 %\n",
      "Casual;Creativity : 0.07 %\n",
      "Art & Design;Creativity : 0.07 %\n",
      "Education;Pretend Play : 0.06 %\n",
      "Role Playing;Pretend Play : 0.05 %\n",
      "Education;Creativity : 0.05 %\n",
      "Role Playing;Action & Adventure : 0.03 %\n",
      "Puzzle;Action & Adventure : 0.03 %\n",
      "Entertainment;Creativity : 0.03 %\n",
      "Entertainment;Action & Adventure : 0.03 %\n",
      "Educational;Creativity : 0.03 %\n",
      "Educational;Action & Adventure : 0.03 %\n",
      "Education;Music & Video : 0.03 %\n",
      "Education;Brain Games : 0.03 %\n",
      "Education;Action & Adventure : 0.03 %\n",
      "Adventure;Action & Adventure : 0.03 %\n",
      "Video Players & Editors;Music & Video : 0.02 %\n",
      "Sports;Action & Adventure : 0.02 %\n",
      "Simulation;Pretend Play : 0.02 %\n",
      "Puzzle;Creativity : 0.02 %\n",
      "Music;Music & Video : 0.02 %\n",
      "Entertainment;Pretend Play : 0.02 %\n",
      "Casual;Education : 0.02 %\n",
      "Board;Action & Adventure : 0.02 %\n",
      "Video Players & Editors;Creativity : 0.01 %\n",
      "Trivia;Education : 0.01 %\n",
      "Travel & Local;Action & Adventure : 0.01 %\n",
      "Tools;Education : 0.01 %\n",
      "Strategy;Education : 0.01 %\n",
      "Strategy;Creativity : 0.01 %\n",
      "Strategy;Action & Adventure : 0.01 %\n",
      "Simulation;Education : 0.01 %\n",
      "Role Playing;Brain Games : 0.01 %\n",
      "Racing;Pretend Play : 0.01 %\n",
      "Puzzle;Education : 0.01 %\n",
      "Parenting;Brain Games : 0.01 %\n",
      "Music & Audio;Music & Video : 0.01 %\n",
      "Lifestyle;Pretend Play : 0.01 %\n",
      "Lifestyle;Education : 0.01 %\n",
      "Health & Fitness;Education : 0.01 %\n",
      "Health & Fitness;Action & Adventure : 0.01 %\n",
      "Entertainment;Education : 0.01 %\n",
      "Communication;Creativity : 0.01 %\n",
      "Comics;Creativity : 0.01 %\n",
      "Casual;Music & Video : 0.01 %\n",
      "Card;Action & Adventure : 0.01 %\n",
      "Books & Reference;Education : 0.01 %\n",
      "Art & Design;Pretend Play : 0.01 %\n",
      "Art & Design;Action & Adventure : 0.01 %\n",
      "Arcade;Pretend Play : 0.01 %\n",
      "Adventure;Education : 0.01 %\n"
     ]
    }
   ],
   "source": [
    "output_gogle = display_table(free_android_clean,9) #Goolge Genres column"
   ]
  },
  {
   "cell_type": "markdown",
   "metadata": {},
   "source": [
    "<a href='#0'> back to index</a>\n",
    "* * *\n",
    "### <a id='32'>3.2 Profiles of apps successful in both markets</a>\n",
    "\n",
    "|Dataset name|Genres|percentage|\n",
    "|:---|:---|:---|\n",
    "|`free_apple_clean`|||\n",
    "||Games : |58 %|\n",
    "||**Entertainment :** |7,84 %|\n",
    "||Photo & Video : |5 %|\n",
    "||Education : |4 %|\n",
    "||Social Networking : |3 %|\n",
    "|`free_android_clean`|||\n",
    "||Tools : 8 %\n",
    "||**Entertainment :**| 6.08 %|\n",
    "||Education : |5 %|\n",
    "||Business : |5 %|\n",
    "||Productivity : |4 %|"
   ]
  },
  {
   "cell_type": "markdown",
   "metadata": {},
   "source": [
    "#### We would like to get an idea about the type of apps with more users.\n",
    "\n",
    "One way to find out which genres are the most popular (have the most users) is to calculate the **average number of installs for each app genre**.\n",
    "\n",
    "- For the **Google Play dataset, we can find this information in the installations** column, \n",
    "\n",
    "- For the App Store dataset **we will take the total number of user ratings as a proxy, which we can find in the 'rating_count_column' app.**"
   ]
  },
  {
   "cell_type": "code",
   "execution_count": 51,
   "metadata": {},
   "outputs": [
    {
     "name": "stdout",
     "output_type": "stream",
     "text": [
      "Social Networking : 71548.34905660378\n",
      "Photo & Video : 28441.54375\n",
      "Games : 22886.36709539121\n",
      "Music : 57326.530303030304\n",
      "Reference : 79350.4705882353\n",
      "Health & Fitness : 23298.015384615384\n",
      "Weather : 52279.892857142855\n",
      "Utilities : 19156.493670886077\n",
      "Travel : 28243.8\n",
      "Shopping : 27230.734939759037\n",
      "News : 21248.023255813954\n",
      "Navigation : 86090.33333333333\n",
      "Lifestyle : 16815.48\n",
      "Entertainment : 14195.358565737051\n",
      "Food & Drink : 33333.92307692308\n",
      "Sports : 23008.898550724636\n",
      "Book : 46384.916666666664\n",
      "Finance : 32367.02857142857\n",
      "Education : 7003.983050847458\n",
      "Productivity : 21028.410714285714\n",
      "Business : 7491.117647058823\n",
      "Catalogs : 4004.0\n",
      "Medical : 612.0\n"
     ]
    }
   ],
   "source": [
    "genres_ios = freq_table(free_apple_clean, -5)\n",
    "list_order = {}\n",
    "\n",
    "for genre in genres_ios:\n",
    "    total = 0\n",
    "    len_genre = 0\n",
    "    for app in free_apple_clean:\n",
    "        genre_app = app[-5]\n",
    "        if genre_app == genre:            \n",
    "            n_ratings = float(app[5])\n",
    "            total += n_ratings\n",
    "            len_genre += 1\n",
    "            \n",
    "    avg_n_ratings = total / len_genre\n",
    "    print(genre, ':', avg_n_ratings)"
   ]
  },
  {
   "cell_type": "code",
   "execution_count": 52,
   "metadata": {},
   "outputs": [
    {
     "name": "stdout",
     "output_type": "stream",
     "text": [
      "Social Networking : 71548.34905660378\n",
      "Photo & Video : 28441.54375\n",
      "Games : 22886.36709539121\n",
      "Music : 57326.530303030304\n",
      "Reference : 79350.4705882353\n",
      "Health & Fitness : 23298.015384615384\n",
      "Weather : 52279.892857142855\n",
      "Utilities : 19156.493670886077\n",
      "Travel : 28243.8\n",
      "Shopping : 27230.734939759037\n",
      "News : 21248.023255813954\n",
      "Navigation : 86090.33333333333\n",
      "Lifestyle : 16815.48\n",
      "Entertainment : 14195.358565737051\n",
      "Food & Drink : 33333.92307692308\n",
      "Sports : 23008.898550724636\n",
      "Book : 46384.916666666664\n",
      "Finance : 32367.02857142857\n",
      "Education : 7003.983050847458\n",
      "Productivity : 21028.410714285714\n",
      "Business : 7491.117647058823\n",
      "Catalogs : 4004.0\n",
      "Medical : 612.0\n"
     ]
    }
   ],
   "source": [
    "genres_ios = freq_table(free_apple_clean, -5)\n",
    "list_order = {}\n",
    "\n",
    "for genre in genres_ios:\n",
    "    total = 0\n",
    "    len_genre = 0\n",
    "    for app in free_apple_clean:\n",
    "        genre_app = app[-5]\n",
    "        if genre_app == genre:            \n",
    "            n_ratings = float(app[5])\n",
    "            total += n_ratings\n",
    "            len_genre += 1\n",
    "            \n",
    "    avg_n_ratings = total / len_genre\n",
    "    print(genre, ':', avg_n_ratings)\n",
    "    \n",
    "    list_order[genre]=avg_n_ratings"
   ]
  },
  {
   "cell_type": "code",
   "execution_count": 53,
   "metadata": {},
   "outputs": [
    {
     "data": {
      "text/plain": [
       "{'Navigation': 86090.33333333333,\n",
       " 'Reference': 79350.4705882353,\n",
       " 'Social Networking': 71548.34905660378,\n",
       " 'Music': 57326.530303030304,\n",
       " 'Weather': 52279.892857142855,\n",
       " 'Book': 46384.916666666664,\n",
       " 'Food & Drink': 33333.92307692308,\n",
       " 'Finance': 32367.02857142857,\n",
       " 'Photo & Video': 28441.54375,\n",
       " 'Travel': 28243.8,\n",
       " 'Shopping': 27230.734939759037,\n",
       " 'Health & Fitness': 23298.015384615384,\n",
       " 'Sports': 23008.898550724636,\n",
       " 'Games': 22886.36709539121,\n",
       " 'News': 21248.023255813954,\n",
       " 'Productivity': 21028.410714285714,\n",
       " 'Utilities': 19156.493670886077,\n",
       " 'Lifestyle': 16815.48,\n",
       " 'Entertainment': 14195.358565737051,\n",
       " 'Business': 7491.117647058823,\n",
       " 'Education': 7003.983050847458,\n",
       " 'Catalogs': 4004.0,\n",
       " 'Medical': 612.0}"
      ]
     },
     "execution_count": 53,
     "metadata": {},
     "output_type": "execute_result"
    }
   ],
   "source": [
    "marklist = sorted(list_order.items(), key=lambda x:x[1],reverse = True)\n",
    "sortdict = dict(marklist)\n",
    "sortdict"
   ]
  },
  {
   "cell_type": "code",
   "execution_count": 54,
   "metadata": {},
   "outputs": [
    {
     "data": {
      "text/plain": [
       "'Navigation'"
      ]
     },
     "execution_count": 54,
     "metadata": {},
     "output_type": "execute_result"
    }
   ],
   "source": [
    "max(list_order, key=list_order.get) # navigation apps have the highest number of user reviews,"
   ]
  },
  {
   "cell_type": "code",
   "execution_count": 55,
   "metadata": {},
   "outputs": [
    {
     "data": {
      "text/plain": [
       "86090.33333333333"
      ]
     },
     "execution_count": 55,
     "metadata": {},
     "output_type": "execute_result"
    }
   ],
   "source": [
    "list_order['Navigation']"
   ]
  },
  {
   "cell_type": "code",
   "execution_count": 56,
   "metadata": {},
   "outputs": [
    {
     "name": "stdout",
     "output_type": "stream",
     "text": [
      "Waze - GPS Navigation, Maps & Real-time Traffic : 345046\n",
      "Google Maps - Navigation & Transit : 154911\n",
      "Geocaching® : 12811\n",
      "CoPilot GPS – Car Navigation & Offline Maps : 3582\n",
      "ImmobilienScout24: Real Estate Search in Germany : 187\n",
      "Railway Route Search : 5\n"
     ]
    }
   ],
   "source": [
    "for app in free_apple_clean:\n",
    "    if app[-5] == 'Navigation':\n",
    "        print(app[1], ':', app[5]) # print name and number of ratings"
   ]
  },
  {
   "cell_type": "markdown",
   "metadata": {},
   "source": [
    "The same pattern applies to social networking apps, where the average number is heavily influenced by a few giants like Facebook, Pinterest, Skype, etc. Same applies to music apps, where a few big players like Pandora, Spotify, and Shazam heavily influence the average number.\n",
    "\n",
    "Our aim is to find popular genres, but navigation, social networking or music apps might seem more popular than they really are. The average number of ratings seem to be skewed by very few apps which have hundreds of thousands of user ratings, while the other apps may struggle to get past the 10,000 threshold. We could get a better picture by removing these extremely popular apps for each genre and then rework the averages, but we'll leave this level of detail for later.\n",
    "\n",
    "Reference apps have 74,942 user ratings on average, but it's actually the Bible and Dictionary.com which skew up the average rating:"
   ]
  },
  {
   "cell_type": "code",
   "execution_count": 57,
   "metadata": {},
   "outputs": [
    {
     "name": "stdout",
     "output_type": "stream",
     "text": [
      "Bible : 985920\n",
      "Dictionary.com Dictionary & Thesaurus : 200047\n",
      "Dictionary.com Dictionary & Thesaurus for iPad : 54175\n",
      "Google Translate : 26786\n",
      "Muslim Pro: Ramadan 2017 Prayer Times, Azan, Quran : 18418\n",
      "New Furniture Mods - Pocket Wiki & Game Tools for Minecraft PC Edition : 17588\n",
      "Merriam-Webster Dictionary : 16849\n",
      "Night Sky : 12122\n",
      "City Maps for Minecraft PE - The Best Maps for Minecraft Pocket Edition (MCPE) : 8535\n",
      "LUCKY BLOCK MOD ™ for Minecraft PC Edition - The Best Pocket Wiki & Mods Installer Tools : 4693\n",
      "GUNS MODS for Minecraft PC Edition - Mods Tools : 1497\n",
      "Guides for Pokémon GO - Pokemon GO News and Cheats : 826\n",
      "WWDC : 762\n",
      "Horror Maps for Minecraft PE - Download The Scariest Maps for Minecraft Pocket Edition (MCPE) Free : 718\n",
      "VPN Express : 14\n",
      "Real Bike Traffic Rider Virtual Reality Glasses : 8\n",
      "Jishokun-Japanese English Dictionary & Translator : 0\n"
     ]
    }
   ],
   "source": [
    "for app in free_apple_clean:\n",
    "    if app[-5] == 'Reference':\n",
    "        print(app[1], ':', app[5])"
   ]
  },
  {
   "cell_type": "markdown",
   "metadata": {},
   "source": [
    "However, this niche seems to show some potential. One thing we could do is take another popular book and turn it into an app where we could add different features besides the raw version of the book. This might include daily quotes from the book, an audio version of the book, quizzes about the book, etc. On top of that, we could also embed a dictionary within the app, so users don't need to exit our app to look up words in an external app.\n",
    "\n",
    "This idea seems to fit well with the fact that the App Store is dominated by for-fun apps. This suggests the market might be a bit saturated with for-fun apps, which means a practical app might have more of a chance to stand out among the huge number of apps on the App Store.\n",
    "\n",
    "Other genres that seem popular include weather, book, food and drink, or finance. The book genre seem to overlap a bit with the app idea we described above, but the other genres don't seem too interesting to us:\n",
    "\n",
    "Weather apps — people generally don't spend too much time in-app, and the chances of making profit from in-app adds are low. Also, getting reliable live weather data may require us to connect our apps to non-free APIs.\n",
    "\n",
    "Food and drink — examples here include Starbucks, Dunkin' Donuts, McDonald's, etc. So making a popular food and drink app requires actual cooking and a delivery service, which is outside the scope of our company.\n",
    "\n",
    "Finance apps — these apps involve banking, paying bills, money transfer, etc. Building a finance app requires domain knowledge, and we don't want to hire a finance expert just to build an app.\n",
    "\n",
    "Now let's analyze the Google Play market a bit.\n",
    "\n",
    "\n",
    "<a href='#0'> back to index</a>\n",
    "* * *\n",
    "## <a id='4'>4. Most Popular Apps by Genre on Google Play</a>\n",
    "\n",
    "For the Google Play market, we actually have data about the number of installs, so we should be able to get a clearer picture about genre popularity. However, the install numbers don't seem precise enough — we can see that most values are open-ended (100+, 1,000+, 5,000+, etc.):\n",
    "\n"
   ]
  },
  {
   "cell_type": "code",
   "execution_count": 58,
   "metadata": {},
   "outputs": [
    {
     "name": "stdout",
     "output_type": "stream",
     "text": [
      "1,000,000+ : 15.75 %\n",
      "100,000+ : 11.54 %\n",
      "10,000,000+ : 10.57 %\n",
      "10,000+ : 10.19 %\n",
      "1,000+ : 8.4 %\n",
      "100+ : 6.93 %\n",
      "5,000,000+ : 6.83 %\n",
      "500,000+ : 5.56 %\n",
      "50,000+ : 4.77 %\n",
      "5,000+ : 4.49 %\n",
      "10+ : 3.54 %\n",
      "500+ : 3.24 %\n",
      "50,000,000+ : 2.28 %\n",
      "100,000,000+ : 2.14 %\n",
      "50+ : 1.92 %\n",
      "5+ : 0.79 %\n",
      "1+ : 0.51 %\n",
      "500,000,000+ : 0.27 %\n",
      "1,000,000,000+ : 0.23 %\n",
      "0+ : 0.05 %\n",
      "0 : 0.01 %\n"
     ]
    }
   ],
   "source": [
    "display_table(free_android_clean, 5) # the Installs columns"
   ]
  },
  {
   "cell_type": "markdown",
   "metadata": {},
   "source": [
    "One problem with this data is that is not precise. For instance, we don't know whether an app with 100,000+ installs has 100,000 installs, 200,000, or 350,000. However, we don't need very precise data for our purposes — we only want to get an idea which app genres attract the most users, and we don't need perfect precision with respect to the number of users.\n",
    "\n",
    "We're going to leave the numbers as they are, which means that we'll consider that an app with 100,000+ installs has 100,000 installs, and an app with 1,000,000+ installs has 1,000,000 installs, and so on.\n",
    "\n",
    "To perform computations, however, we'll need to convert each install number to float — this means that we need to remove the commas and the plus characters, otherwise the conversion will fail and raise an error. We'll do this directly in the loop below, where we also compute the average number of installs for each genre (category)."
   ]
  },
  {
   "cell_type": "code",
   "execution_count": 59,
   "metadata": {},
   "outputs": [
    {
     "name": "stdout",
     "output_type": "stream",
     "text": [
      "ART_AND_DESIGN : 1986335.0877192982\n",
      "AUTO_AND_VEHICLES : 647317.8170731707\n",
      "BEAUTY : 513151.88679245283\n",
      "BOOKS_AND_REFERENCE : 8814199.78835979\n",
      "BUSINESS : 1712290.1474201474\n",
      "COMICS : 832613.8888888889\n",
      "COMMUNICATION : 38590581.08741259\n",
      "DATING : 854028.8303030303\n",
      "EDUCATION : 1833495.145631068\n",
      "ENTERTAINMENT : 11640705.88235294\n",
      "EVENTS : 253542.22222222222\n",
      "FINANCE : 1387692.475609756\n",
      "FOOD_AND_DRINK : 1924897.7363636363\n",
      "HEALTH_AND_FITNESS : 4188821.9853479853\n",
      "HOUSE_AND_HOME : 1360598.042253521\n",
      "LIBRARIES_AND_DEMO : 638503.734939759\n",
      "LIFESTYLE : 1446158.2238372094\n",
      "GAME : 15544014.51048951\n",
      "FAMILY : 3695641.8198090694\n",
      "MEDICAL : 120550.61980830671\n",
      "SOCIAL : 23253652.127118643\n",
      "SHOPPING : 7036877.311557789\n",
      "PHOTOGRAPHY : 17840110.40229885\n",
      "SPORTS : 3650602.276666667\n",
      "TRAVEL_AND_LOCAL : 13984077.710144928\n",
      "TOOLS : 10830251.970588235\n",
      "PERSONALIZATION : 5201482.6122448975\n",
      "PRODUCTIVITY : 16787331.344927534\n",
      "PARENTING : 542603.6206896552\n",
      "WEATHER : 5145550.285714285\n",
      "VIDEO_PLAYERS : 24727872.452830188\n",
      "NEWS_AND_MAGAZINES : 9549178.467741935\n",
      "MAPS_AND_NAVIGATION : 4049274.6341463416\n"
     ]
    }
   ],
   "source": [
    "categories_android = freq_table(free_android_clean, 1)\n",
    "list_order={}\n",
    "\n",
    "for category in categories_android:\n",
    "    total = 0\n",
    "    len_category = 0\n",
    "    for app in free_android_clean:\n",
    "        category_app = app[1]\n",
    "        if category_app == category:            \n",
    "            n_installs = app[5]\n",
    "            n_installs = n_installs.replace(',', '')\n",
    "            n_installs = n_installs.replace('+', '')\n",
    "            total += float(n_installs)\n",
    "            len_category += 1\n",
    "    avg_n_installs = total / len_category\n",
    "    print(category, ':', avg_n_installs)\n",
    "    \n",
    "    list_order[category]=avg_n_installs"
   ]
  },
  {
   "cell_type": "code",
   "execution_count": 60,
   "metadata": {},
   "outputs": [
    {
     "data": {
      "text/plain": [
       "{'COMMUNICATION': 38590581.08741259,\n",
       " 'VIDEO_PLAYERS': 24727872.452830188,\n",
       " 'SOCIAL': 23253652.127118643,\n",
       " 'PHOTOGRAPHY': 17840110.40229885,\n",
       " 'PRODUCTIVITY': 16787331.344927534,\n",
       " 'GAME': 15544014.51048951,\n",
       " 'TRAVEL_AND_LOCAL': 13984077.710144928,\n",
       " 'ENTERTAINMENT': 11640705.88235294,\n",
       " 'TOOLS': 10830251.970588235,\n",
       " 'NEWS_AND_MAGAZINES': 9549178.467741935,\n",
       " 'BOOKS_AND_REFERENCE': 8814199.78835979,\n",
       " 'SHOPPING': 7036877.311557789,\n",
       " 'PERSONALIZATION': 5201482.6122448975,\n",
       " 'WEATHER': 5145550.285714285,\n",
       " 'HEALTH_AND_FITNESS': 4188821.9853479853,\n",
       " 'MAPS_AND_NAVIGATION': 4049274.6341463416,\n",
       " 'FAMILY': 3695641.8198090694,\n",
       " 'SPORTS': 3650602.276666667,\n",
       " 'ART_AND_DESIGN': 1986335.0877192982,\n",
       " 'FOOD_AND_DRINK': 1924897.7363636363,\n",
       " 'EDUCATION': 1833495.145631068,\n",
       " 'BUSINESS': 1712290.1474201474,\n",
       " 'LIFESTYLE': 1446158.2238372094,\n",
       " 'FINANCE': 1387692.475609756,\n",
       " 'HOUSE_AND_HOME': 1360598.042253521,\n",
       " 'DATING': 854028.8303030303,\n",
       " 'COMICS': 832613.8888888889,\n",
       " 'AUTO_AND_VEHICLES': 647317.8170731707,\n",
       " 'LIBRARIES_AND_DEMO': 638503.734939759,\n",
       " 'PARENTING': 542603.6206896552,\n",
       " 'BEAUTY': 513151.88679245283,\n",
       " 'EVENTS': 253542.22222222222,\n",
       " 'MEDICAL': 120550.61980830671}"
      ]
     },
     "execution_count": 60,
     "metadata": {},
     "output_type": "execute_result"
    }
   ],
   "source": [
    "marklist = sorted(list_order.items(), key=lambda x:x[1],reverse = True)\n",
    "sortdict = dict(marklist)\n",
    "sortdict"
   ]
  },
  {
   "cell_type": "markdown",
   "metadata": {},
   "source": [
    "On average, communication apps have the most installs: 38590581.08741259. \n",
    "\n",
    "This number is heavily skewed up by a few apps that have over one billion installs (WhatsApp, Facebook Messenger, Skype, Google Chrome, Gmail, and Hangouts), and a few others with over 100 and 500 million installs:"
   ]
  },
  {
   "cell_type": "code",
   "execution_count": 61,
   "metadata": {},
   "outputs": [
    {
     "name": "stdout",
     "output_type": "stream",
     "text": [
      "WhatsApp Messenger : 1,000,000,000+\n",
      "imo beta free calls and text : 100,000,000+\n",
      "Android Messages : 100,000,000+\n",
      "Google Duo - High Quality Video Calls : 500,000,000+\n",
      "Messenger – Text and Video Chat for Free : 1,000,000,000+\n",
      "imo free video calls and chat : 500,000,000+\n",
      "Skype - free IM & video calls : 1,000,000,000+\n",
      "Who : 100,000,000+\n",
      "GO SMS Pro - Messenger, Free Themes, Emoji : 100,000,000+\n",
      "LINE: Free Calls & Messages : 500,000,000+\n",
      "Google Chrome: Fast & Secure : 1,000,000,000+\n",
      "Firefox Browser fast & private : 100,000,000+\n",
      "UC Browser - Fast Download Private & Secure : 500,000,000+\n",
      "Gmail : 1,000,000,000+\n",
      "Hangouts : 1,000,000,000+\n",
      "Messenger Lite: Free Calls & Messages : 100,000,000+\n",
      "Kik : 100,000,000+\n",
      "KakaoTalk: Free Calls & Text : 100,000,000+\n",
      "Opera Mini - fast web browser : 100,000,000+\n",
      "Opera Browser: Fast and Secure : 100,000,000+\n",
      "Telegram : 100,000,000+\n",
      "Truecaller: Caller ID, SMS spam blocking & Dialer : 100,000,000+\n",
      "UC Browser Mini -Tiny Fast Private & Secure : 100,000,000+\n",
      "Viber Messenger : 500,000,000+\n",
      "WeChat : 100,000,000+\n",
      "Yahoo Mail – Stay Organized : 100,000,000+\n",
      "BBM - Free Calls & Messages : 100,000,000+\n"
     ]
    }
   ],
   "source": [
    "for app in free_android_clean:\n",
    "    if app[1] == 'COMMUNICATION' and (app[5] == '1,000,000,000+' or \n",
    "                                      app[5] == '500,000,000+' or \n",
    "                                      app[5] == '100,000,000+'):\n",
    "        print(app[0], ':', app[5])"
   ]
  },
  {
   "cell_type": "markdown",
   "metadata": {},
   "source": [
    "If we removed all the communication apps that have over 100 million installs, the average would be reduced roughly ten times:"
   ]
  },
  {
   "cell_type": "code",
   "execution_count": 62,
   "metadata": {},
   "outputs": [
    {
     "data": {
      "text/plain": [
       "3617398.420849421"
      ]
     },
     "execution_count": 62,
     "metadata": {},
     "output_type": "execute_result"
    }
   ],
   "source": [
    "under_100_m = []\n",
    "\n",
    "for app in free_android_clean:\n",
    "    n_installs = app[5]\n",
    "    n_installs = n_installs.replace(',', '')\n",
    "    n_installs = n_installs.replace('+', '')\n",
    "    if (app[1] == 'COMMUNICATION') and (float(n_installs) < 100000000):\n",
    "        under_100_m.append(float(n_installs))\n",
    "        \n",
    "sum(under_100_m) / len(under_100_m)"
   ]
  },
  {
   "cell_type": "markdown",
   "metadata": {},
   "source": [
    "We see the same pattern for the video players category, which is the runner-up with 24,727,872 installs. The market is dominated by apps like Youtube, Google Play Movies & TV, or MX Player. The pattern is repeated for social apps (where we have giants like Facebook, Instagram, Google+, etc.), photography apps (Google Photos and other popular photo editors), or productivity apps (Microsoft Word, Dropbox, Google Calendar, Evernote, etc.).\n",
    "\n",
    "Again, the main concern is that these app genres might seem more popular than they really are. Moreover, these niches seem to be dominated by a few giants who are hard to compete against.\n",
    "\n",
    "The game genre seems pretty popular, but previously we found out this part of the market seems a bit saturated, so we'd like to come up with a different app recommendation if possible.\n",
    "\n",
    "The books and reference genre looks fairly popular as well, with an average number of installs of 8,767,811. It's interesting to explore this in more depth, since we found this genre has some potential to work well on the App Store, and our aim is to recommend an app genre that shows potential for being profitable on both the App Store and Google Play.\n",
    "\n",
    "Let's take a look at some of the apps from this genre and their number of installs:"
   ]
  },
  {
   "cell_type": "code",
   "execution_count": 63,
   "metadata": {},
   "outputs": [
    {
     "name": "stdout",
     "output_type": "stream",
     "text": [
      "E-Book Read - Read Book for free : 50,000+\n",
      "Download free book with green book : 100,000+\n",
      "Wikipedia : 10,000,000+\n",
      "Cool Reader : 10,000,000+\n",
      "Free Panda Radio Music : 100,000+\n",
      "Book store : 1,000,000+\n",
      "FBReader: Favorite Book Reader : 10,000,000+\n",
      "English Grammar Complete Handbook : 500,000+\n",
      "Free Books - Spirit Fanfiction and Stories : 1,000,000+\n",
      "Google Play Books : 1,000,000,000+\n",
      "AlReader -any text book reader : 5,000,000+\n",
      "Offline English Dictionary : 100,000+\n",
      "Offline: English to Tagalog Dictionary : 500,000+\n",
      "FamilySearch Tree : 1,000,000+\n",
      "Cloud of Books : 1,000,000+\n",
      "Recipes of Prophetic Medicine for free : 500,000+\n",
      "ReadEra – free ebook reader : 1,000,000+\n",
      "Anonymous caller detection : 10,000+\n",
      "Ebook Reader : 5,000,000+\n",
      "Litnet - E-books : 100,000+\n",
      "Read books online : 5,000,000+\n",
      "English to Urdu Dictionary : 500,000+\n",
      "eBoox: book reader fb2 epub zip : 1,000,000+\n",
      "English Persian Dictionary : 500,000+\n",
      "Flybook : 500,000+\n",
      "All Maths Formulas : 1,000,000+\n",
      "Ancestry : 5,000,000+\n",
      "HTC Help : 10,000,000+\n",
      "English translation from Bengali : 100,000+\n",
      "Pdf Book Download - Read Pdf Book : 100,000+\n",
      "Free Book Reader : 100,000+\n",
      "eBoox new: Reader for fb2 epub zip books : 50,000+\n",
      "Only 30 days in English, the guideline is guaranteed : 500,000+\n",
      "Moon+ Reader : 10,000,000+\n",
      "SH-02J Owner's Manual (Android 8.0) : 50,000+\n",
      "English-Myanmar Dictionary : 1,000,000+\n",
      "Golden Dictionary (EN-AR) : 1,000,000+\n",
      "All Language Translator Free : 1,000,000+\n",
      "Azpen eReader : 500,000+\n",
      "URBANO V 02 instruction manual : 100,000+\n",
      "Bible : 100,000,000+\n",
      "C Programs and Reference : 50,000+\n",
      "C Offline Tutorial : 1,000+\n",
      "C Programs Handbook : 50,000+\n",
      "Amazon Kindle : 100,000,000+\n",
      "Aab e Hayat Full Novel : 100,000+\n",
      "Aldiko Book Reader : 10,000,000+\n",
      "Google I/O 2018 : 500,000+\n",
      "R Language Reference Guide : 10,000+\n",
      "Learn R Programming Full : 5,000+\n",
      "R Programing Offline Tutorial : 1,000+\n",
      "Guide for R Programming : 5+\n",
      "Learn R Programming : 10+\n",
      "R Quick Reference Big Data : 1,000+\n",
      "V Made : 100,000+\n",
      "Wattpad 📖 Free Books : 100,000,000+\n",
      "Dictionary - WordWeb : 5,000,000+\n",
      "Guide (for X-MEN) : 100,000+\n",
      "AC Air condition Troubleshoot,Repair,Maintenance : 5,000+\n",
      "AE Bulletins : 1,000+\n",
      "Ae Allah na Dai (Rasa) : 10,000+\n",
      "50000 Free eBooks & Free AudioBooks : 5,000,000+\n",
      "Ag PhD Field Guide : 10,000+\n",
      "Ag PhD Deficiencies : 10,000+\n",
      "Ag PhD Planting Population Calculator : 1,000+\n",
      "Ag PhD Soybean Diseases : 1,000+\n",
      "Fertilizer Removal By Crop : 50,000+\n",
      "A-J Media Vault : 50+\n",
      "Al-Quran (Free) : 10,000,000+\n",
      "Al Quran (Tafsir & by Word) : 500,000+\n",
      "Al Quran Indonesia : 10,000,000+\n",
      "Al'Quran Bahasa Indonesia : 10,000,000+\n",
      "Al Quran Al karim : 1,000,000+\n",
      "Al-Muhaffiz : 50,000+\n",
      "Al Quran : EAlim - Translations & MP3 Offline : 5,000,000+\n",
      "Al-Quran 30 Juz free copies : 500,000+\n",
      "Koran Read &MP3 30 Juz Offline : 1,000,000+\n",
      "Hafizi Quran 15 lines per page : 1,000,000+\n",
      "Quran for Android : 10,000,000+\n",
      "Surah Al-Waqiah : 100,000+\n",
      "Hisnul Al Muslim - Hisn Invocations & Adhkaar : 100,000+\n",
      "Satellite AR : 1,000,000+\n",
      "Audiobooks from Audible : 100,000,000+\n",
      "Kinot & Eichah for Tisha B'Av : 10,000+\n",
      "AW Tozer Devotionals - Daily : 5,000+\n",
      "Tozer Devotional -Series 1 : 1,000+\n",
      "The Pursuit of God : 1,000+\n",
      "AY Sing : 5,000+\n",
      "Ay Hasnain k Nana Milad Naat : 10,000+\n",
      "Ay Mohabbat Teri Khatir Novel : 10,000+\n",
      "Arizona Statutes, ARS (AZ Law) : 1,000+\n",
      "Oxford A-Z of English Usage : 1,000,000+\n",
      "BD Fishpedia : 1,000+\n",
      "BD All Sim Offer : 10,000+\n",
      "Youboox - Livres, BD et magazines : 500,000+\n",
      "B&H Kids AR : 10,000+\n",
      "B y H Niños ES : 5,000+\n",
      "Dictionary.com: Find Definitions for English Words : 10,000,000+\n",
      "English Dictionary - Offline : 10,000,000+\n",
      "Bible KJV : 5,000,000+\n",
      "Borneo Bible, BM Bible : 10,000+\n",
      "MOD Black for BM : 100+\n",
      "BM Box : 1,000+\n",
      "Anime Mod for BM : 100+\n",
      "NOOK: Read eBooks & Magazines : 10,000,000+\n",
      "NOOK Audiobooks : 500,000+\n",
      "NOOK App for NOOK Devices : 500,000+\n",
      "Browsery by Barnes & Noble : 5,000+\n",
      "bp e-store : 1,000+\n",
      "Brilliant Quotes: Life, Love, Family & Motivation : 1,000,000+\n",
      "BR Ambedkar Biography & Quotes : 10,000+\n",
      "BU Alsace : 100+\n",
      "Catholic La Bu Zo Kam : 500+\n",
      "Khrifa Hla Bu (Solfa) : 10+\n",
      "Kristian Hla Bu : 10,000+\n",
      "SA HLA BU : 1,000+\n",
      "Learn SAP BW : 500+\n",
      "Learn SAP BW on HANA : 500+\n",
      "CA Laws 2018 (California Laws and Codes) : 5,000+\n",
      "Bootable Methods(USB-CD-DVD) : 10,000+\n",
      "cloudLibrary : 100,000+\n",
      "SDA Collegiate Quarterly : 500+\n",
      "Sabbath School : 100,000+\n",
      "Cypress College Library : 100+\n",
      "Stats Royale for Clash Royale : 1,000,000+\n",
      "GATE 21 years CS Papers(2011-2018 Solved) : 50+\n",
      "Learn CT Scan Of Head : 5,000+\n",
      "Easy Cv maker 2018 : 10,000+\n",
      "How to Write CV : 100,000+\n",
      "CW Nuclear : 1,000+\n",
      "CY Spray nozzle : 10+\n",
      "BibleRead En Cy Zh Yue : 5+\n",
      "CZ-Help : 5+\n",
      "Guide for DB Xenoverse : 10,000+\n",
      "Guide for DB Xenoverse 2 : 10,000+\n",
      "Guide for IMS DB : 10+\n",
      "DC HSEMA : 5,000+\n",
      "DC Public Library : 1,000+\n",
      "Painting Lulu DC Super Friends : 1,000+\n",
      "Dictionary : 10,000,000+\n",
      "Fix Error Google Playstore : 1,000+\n",
      "D. H. Lawrence Poems FREE : 1,000+\n",
      "Bilingual Dictionary Audio App : 5,000+\n",
      "DM Screen : 10,000+\n",
      "wikiHow: how to do anything : 1,000,000+\n",
      "Dr. Doug's Tips : 1,000+\n",
      "Bible du Semeur-BDS (French) : 50,000+\n",
      "La citadelle du musulman : 50,000+\n",
      "DV 2019 Entry Guide : 10,000+\n",
      "DV 2019 - EDV Photo & Form : 50,000+\n",
      "DV 2018 Winners Guide : 1,000+\n",
      "EB Annual Meetings : 1,000+\n",
      "EC - AP & Telangana : 5,000+\n",
      "TN Patta Citta & EC : 10,000+\n",
      "AP Stamps and Registration : 10,000+\n",
      "CompactiMa EC pH Calibration : 100+\n",
      "EGW Writings 2 : 100,000+\n",
      "EGW Writings : 1,000,000+\n",
      "Bible with EGW Comments : 100,000+\n",
      "My Little Pony AR Guide : 1,000,000+\n",
      "SDA Sabbath School Quarterly : 500,000+\n",
      "Duaa Ek Ibaadat : 5,000+\n",
      "Spanish English Translator : 10,000,000+\n",
      "Dictionary - Merriam-Webster : 10,000,000+\n",
      "JW Library : 10,000,000+\n",
      "Oxford Dictionary of English : Free : 10,000,000+\n",
      "English Hindi Dictionary : 10,000,000+\n",
      "English to Hindi Dictionary : 5,000,000+\n",
      "EP Research Service : 1,000+\n",
      "Hymnes et Louanges : 100,000+\n",
      "EU Charter : 1,000+\n",
      "EU Data Protection : 1,000+\n",
      "EU IP Codes : 100+\n",
      "EW PDF : 5+\n",
      "BakaReader EX : 100,000+\n",
      "EZ Quran : 50,000+\n",
      "FA Part 1 & 2 Past Papers Solved Free – Offline : 5,000+\n",
      "La Fe de Jesus : 1,000+\n",
      "La Fe de Jesús : 500+\n",
      "Le Fe de Jesus : 500+\n",
      "Florida - Pocket Brainbook : 1,000+\n",
      "Florida Statutes (FL Code) : 1,000+\n",
      "English To Shona Dictionary : 10,000+\n",
      "Greek Bible FP (Audio) : 1,000+\n",
      "Golden Dictionary (FR-AR) : 500,000+\n",
      "Fanfic-FR : 5,000+\n",
      "Bulgarian French Dictionary Fr : 10,000+\n",
      "Chemin (fr) : 1,000+\n",
      "The SCP Foundation DB fr nn5n : 1,000+\n"
     ]
    }
   ],
   "source": [
    "for app in free_android_clean:\n",
    "    if app[1] == 'BOOKS_AND_REFERENCE':\n",
    "        print(app[0], ':', app[5])"
   ]
  },
  {
   "cell_type": "markdown",
   "metadata": {},
   "source": [
    "The book and reference genre includes a variety of apps: software for processing and reading ebooks, various collections of libraries, dictionaries, tutorials on programming or languages, etc. It seems there's still a small number of extremely popular apps that skew the average:"
   ]
  },
  {
   "cell_type": "code",
   "execution_count": 64,
   "metadata": {},
   "outputs": [
    {
     "name": "stdout",
     "output_type": "stream",
     "text": [
      "Google Play Books : 1,000,000,000+\n",
      "Bible : 100,000,000+\n",
      "Amazon Kindle : 100,000,000+\n",
      "Wattpad 📖 Free Books : 100,000,000+\n",
      "Audiobooks from Audible : 100,000,000+\n"
     ]
    }
   ],
   "source": [
    "for app in free_android_clean:\n",
    "    if app[1] == 'BOOKS_AND_REFERENCE' and (app[5] == '1,000,000,000+'\n",
    "                                            or app[5] == '500,000,000+'\n",
    "                                            or app[5] == '100,000,000+'):\n",
    "        print(app[0], ':', app[5])"
   ]
  },
  {
   "cell_type": "markdown",
   "metadata": {},
   "source": [
    "However, it looks like there are only a few very popular apps, so this market still shows potential. Let's try to get some app ideas based on the kind of apps that are somewhere in the middle in terms of popularity (between 1,000,000 and 100,000,000 downloads):"
   ]
  },
  {
   "cell_type": "code",
   "execution_count": 65,
   "metadata": {},
   "outputs": [
    {
     "name": "stdout",
     "output_type": "stream",
     "text": [
      "Wikipedia : 10,000,000+\n",
      "Cool Reader : 10,000,000+\n",
      "Book store : 1,000,000+\n",
      "FBReader: Favorite Book Reader : 10,000,000+\n",
      "Free Books - Spirit Fanfiction and Stories : 1,000,000+\n",
      "AlReader -any text book reader : 5,000,000+\n",
      "FamilySearch Tree : 1,000,000+\n",
      "Cloud of Books : 1,000,000+\n",
      "ReadEra – free ebook reader : 1,000,000+\n",
      "Ebook Reader : 5,000,000+\n",
      "Read books online : 5,000,000+\n",
      "eBoox: book reader fb2 epub zip : 1,000,000+\n",
      "All Maths Formulas : 1,000,000+\n",
      "Ancestry : 5,000,000+\n",
      "HTC Help : 10,000,000+\n",
      "Moon+ Reader : 10,000,000+\n",
      "English-Myanmar Dictionary : 1,000,000+\n",
      "Golden Dictionary (EN-AR) : 1,000,000+\n",
      "All Language Translator Free : 1,000,000+\n",
      "Aldiko Book Reader : 10,000,000+\n",
      "Dictionary - WordWeb : 5,000,000+\n",
      "50000 Free eBooks & Free AudioBooks : 5,000,000+\n",
      "Al-Quran (Free) : 10,000,000+\n",
      "Al Quran Indonesia : 10,000,000+\n",
      "Al'Quran Bahasa Indonesia : 10,000,000+\n",
      "Al Quran Al karim : 1,000,000+\n",
      "Al Quran : EAlim - Translations & MP3 Offline : 5,000,000+\n",
      "Koran Read &MP3 30 Juz Offline : 1,000,000+\n",
      "Hafizi Quran 15 lines per page : 1,000,000+\n",
      "Quran for Android : 10,000,000+\n",
      "Satellite AR : 1,000,000+\n",
      "Oxford A-Z of English Usage : 1,000,000+\n",
      "Dictionary.com: Find Definitions for English Words : 10,000,000+\n",
      "English Dictionary - Offline : 10,000,000+\n",
      "Bible KJV : 5,000,000+\n",
      "NOOK: Read eBooks & Magazines : 10,000,000+\n",
      "Brilliant Quotes: Life, Love, Family & Motivation : 1,000,000+\n",
      "Stats Royale for Clash Royale : 1,000,000+\n",
      "Dictionary : 10,000,000+\n",
      "wikiHow: how to do anything : 1,000,000+\n",
      "EGW Writings : 1,000,000+\n",
      "My Little Pony AR Guide : 1,000,000+\n",
      "Spanish English Translator : 10,000,000+\n",
      "Dictionary - Merriam-Webster : 10,000,000+\n",
      "JW Library : 10,000,000+\n",
      "Oxford Dictionary of English : Free : 10,000,000+\n",
      "English Hindi Dictionary : 10,000,000+\n",
      "English to Hindi Dictionary : 5,000,000+\n"
     ]
    }
   ],
   "source": [
    "for app in free_android_clean:\n",
    "    if app[1] == 'BOOKS_AND_REFERENCE' and (app[5] == '1,000,000+'\n",
    "                                            or app[5] == '5,000,000+'\n",
    "                                            or app[5] == '10,000,000+'\n",
    "                                            or app[5] == '50,000,000+'):\n",
    "        print(app[0], ':', app[5])"
   ]
  },
  {
   "cell_type": "markdown",
   "metadata": {},
   "source": [
    "This niche seems to be dominated by software for processing and reading ebooks, as well as various collections of libraries and dictionaries, so it's probably not a good idea to build similar apps since there'll be some significant competition.\n",
    "\n",
    "We also notice there are quite a few apps built around the book Quran, which suggests that building an app around a popular book can be profitable. It seems that taking a popular book (perhaps a more recent book) and turning it into an app could be profitable for both the Google Play and the App Store markets.\n",
    "\n",
    "However, it looks like the market is already full of libraries, so we need to add some special features besides the raw version of the book. This might include daily quotes from the book, an audio version of the book, quizzes on the book, a forum where people can discuss the book, etc.\n",
    "\n",
    "<a href='#0'> back to index</a>\n",
    "* * *\n",
    "## <a id='5'>5. Summary\n",
    "In this project, we analyzed data about the App Store and Google Play mobile apps with the goal of recommending an app profile that can be profitable for both markets.\n",
    "\n",
    "We concluded that taking a popular book (perhaps a more recent book) and turning it into an app could be profitable for both the Google Play and the App Store markets. The markets are already full of libraries, so we need to add some special features besides the raw version of the book. This might include daily quotes from the book, an audio version of the book, quizzes on the book, a forum where people can discuss the book, etc."
   ]
  }
 ],
 "metadata": {
  "kernelspec": {
   "display_name": "Python 3",
   "language": "python",
   "name": "python3"
  },
  "language_info": {
   "codemirror_mode": {
    "name": "ipython",
    "version": 3
   },
   "file_extension": ".py",
   "mimetype": "text/x-python",
   "name": "python",
   "nbconvert_exporter": "python",
   "pygments_lexer": "ipython3",
   "version": "3.8.2"
  }
 },
 "nbformat": 4,
 "nbformat_minor": 2
}
