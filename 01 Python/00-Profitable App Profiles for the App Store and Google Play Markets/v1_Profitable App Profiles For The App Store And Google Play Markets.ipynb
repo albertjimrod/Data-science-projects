{
 "cells": [
  {
   "cell_type": "markdown",
   "metadata": {},
   "source": [
    "# Profitable App Profiles for the App Store and Google Play Markets\n",
    "\n",
    "<br />\n",
    "\n",
    "<br />\n",
    "\n",
    "As a data analyst working for a company that **only build free apps to download and install** available on Google Play and in the App Store, our main source of revenue consists of in-app ads. \n",
    "\n",
    "This means that the number of users of our apps determines our revenue for any given app therefore the more users who see and engage with the ads, the better. \n",
    "\n",
    "![header.jpg](header.jpg)\n",
    "\n",
    "\n",
    "\n",
    "### **Our goal**  \n",
    "\n",
    "Collect and analyze data from each of the online stores to understand what type of apps are likely to attract more users.\n",
    "\n",
    "* * *\n",
    "\n",
    "The datasets are in two documents of type csv's i.e. **Comma Separated Values file** for read the content, it is necessary to load a function called `reader` of the python `csv` module."
   ]
  },
  {
   "cell_type": "code",
   "execution_count": 1,
   "metadata": {},
   "outputs": [],
   "source": [
    "from csv import reader"
   ]
  },
  {
   "cell_type": "markdown",
   "metadata": {},
   "source": [
    "## Exploring datasets:\n",
    "\n",
    "We are going to explore the two sets of data, but first we are going to kwon what type of [character encoding](https://en.wikipedia.org/wiki/Character_encoding) both datasets have.\n",
    "\n",
    "A command called [file](https://www.man7.org/linux/man-pages/man1/file.1.html), will help us to kwon the type of file regardless of its extension and avoid a error called `UnicodeDecodeError`."
   ]
  },
  {
   "cell_type": "code",
   "execution_count": 2,
   "metadata": {},
   "outputs": [
    {
     "name": "stdout",
     "output_type": "stream",
     "text": [
      "AppleStore.csv: application/csv; charset=utf-8\r\n"
     ]
    }
   ],
   "source": [
    "! file -i AppleStore.csv"
   ]
  },
  {
   "cell_type": "code",
   "execution_count": 3,
   "metadata": {},
   "outputs": [
    {
     "name": "stdout",
     "output_type": "stream",
     "text": [
      "googleplaystore.csv: application/csv; charset=utf-8\r\n"
     ]
    }
   ],
   "source": [
    "! file -i googleplaystore.csv"
   ]
  },
  {
   "cell_type": "markdown",
   "metadata": {},
   "source": [
    "Our files have the same type of charset https://en.wikipedia.org/wiki/UTF-8.\n",
    "\n",
    "\n",
    "Fast idea:\n",
    "\n",
    "- **charset:** is the set of characters you can use.\n",
    "- **encoding:** is the way these characters are stored into memory.\n",
    "\n",
    "[source](https://stackoverflow.com/questions/2281646/whats-the-difference-between-encoding-and-charset)"
   ]
  },
  {
   "cell_type": "code",
   "execution_count": 4,
   "metadata": {},
   "outputs": [
    {
     "data": {
      "text/plain": [
       "['id',\n",
       " 'track_name',\n",
       " 'size_bytes',\n",
       " 'currency',\n",
       " 'price',\n",
       " 'rating_count_tot',\n",
       " 'rating_count_ver',\n",
       " 'user_rating',\n",
       " 'user_rating_ver',\n",
       " 'ver',\n",
       " 'cont_rating',\n",
       " 'prime_genre',\n",
       " 'sup_devices.num',\n",
       " 'ipadSc_urls.num',\n",
       " 'lang.num',\n",
       " 'vpp_lic']"
      ]
     },
     "execution_count": 4,
     "metadata": {},
     "output_type": "execute_result"
    }
   ],
   "source": [
    "AppleStore = open('AppleStore.csv', encoding='utf8')\n",
    "AppleStore = reader(AppleStore)\n",
    "AppleStore = list(AppleStore)\n",
    "header_apple = [x for x in AppleStore[0]]\n",
    "header_apple #Columns on AppleStore"
   ]
  },
  {
   "cell_type": "code",
   "execution_count": 5,
   "metadata": {},
   "outputs": [],
   "source": [
    "dataset_apple = AppleStore[1:] # dataset apple no headers"
   ]
  },
  {
   "cell_type": "code",
   "execution_count": 6,
   "metadata": {},
   "outputs": [
    {
     "data": {
      "text/plain": [
       "['App',\n",
       " 'Category',\n",
       " 'Rating',\n",
       " 'Reviews',\n",
       " 'Size',\n",
       " 'Installs',\n",
       " 'Type',\n",
       " 'Price',\n",
       " 'Content Rating',\n",
       " 'Genres',\n",
       " 'Last Updated',\n",
       " 'Current Ver',\n",
       " 'Android Ver']"
      ]
     },
     "execution_count": 6,
     "metadata": {},
     "output_type": "execute_result"
    }
   ],
   "source": [
    "GooglePlay = open('googleplaystore.csv', encoding='utf8')\n",
    "GooglePlay = reader(GooglePlay)\n",
    "GooglePlay = list(GooglePlay)\n",
    "header_google = [x for x in GooglePlay[0]]\n",
    "header_google "
   ]
  },
  {
   "cell_type": "code",
   "execution_count": 7,
   "metadata": {},
   "outputs": [],
   "source": [
    "dataset_google = GooglePlay[1:] # dataset google no header"
   ]
  },
  {
   "cell_type": "markdown",
   "metadata": {},
   "source": [
    "### Function to explore datasets\n",
    "\n",
    "To make them easier to explore, we created a function named explore_data() that you can repeatedly use to print rows in a readable way."
   ]
  },
  {
   "cell_type": "code",
   "execution_count": 8,
   "metadata": {},
   "outputs": [],
   "source": [
    "def explore_data(dataset, start, end, rows_and_columns=False):\n",
    "        dataset_slice = dataset[start:end]    \n",
    "        for row in dataset_slice:\n",
    "            print(row)\n",
    "            print('\\n') # adds a new (empty) line after each row\n",
    "        if rows_and_columns:\n",
    "            print('Number of rows:', len(dataset))\n",
    "            print('Number of columns:', len(dataset[0]))"
   ]
  },
  {
   "cell_type": "code",
   "execution_count": 9,
   "metadata": {},
   "outputs": [
    {
     "data": {
      "text/html": [
       "<style>\n",
       "table {float:left}\n",
       "</style>\n"
      ],
      "text/plain": [
       "<IPython.core.display.HTML object>"
      ]
     },
     "metadata": {},
     "output_type": "display_data"
    }
   ],
   "source": [
    "%%html\n",
    "<style>\n",
    "table {float:left}\n",
    "</style>"
   ]
  },
  {
   "cell_type": "markdown",
   "metadata": {},
   "source": [
    "### Data dictionary:\n",
    "\n",
    "We have the name of the columns and the data that form the set of both data sets:\n",
    "\n",
    "\n",
    "#### AppleStore.csv\n",
    "\n",
    " - `header_apple`\n",
    "\n",
    " - `dataset_apple` \n",
    "\n",
    "||Name | Description|\n",
    "|:--|:---|:--|\n",
    "|1|\"id\" : |App ID|\n",
    "|2|\"track_name\": |App Name|\n",
    "|3|\"size_bytes\": |Size (in Bytes)|\n",
    "|4|\"currency\": |Currency Type|\n",
    "|5|\"price\": |Price amount|\n",
    "|6|\"ratingcounttot\": |User Rating counts (for all version)|\n",
    "|7|\"ratingcountver\": |User Rating counts (for current version)|\n",
    "|8|\"user_rating\" : |Average User Rating value (for all version)|\n",
    "|9|\"userratingver\": |Average User Rating value (for current version)|\n",
    "|10|\"ver\" : |Latest version code|\n",
    "|11|\"cont_rating\": |Content Rating|\n",
    "|12|\"prime_genre\": |Primary Genre|\n",
    "|13|\"sup_devices.num\": |Number of supporting devices|\n",
    "|14|\"ipadSc_urls.num\": |Number of screenshots showed for display|\n",
    "|15|\"lang.num\": |Number of supported languages|\n",
    "|16|\"vpp_lic\": |Vpp Device Based Licensing Enabled|\n"
   ]
  },
  {
   "cell_type": "markdown",
   "metadata": {},
   "source": [
    "#### googleplaystore.csv\n",
    "\n",
    " - `header_google`\n",
    "\n",
    " - `dataset_google`\n",
    "\n",
    "\n",
    "||Name | Description|\n",
    "|:--|:---|:--|\n",
    "|1 | App: |Application name|\n",
    "|2 | Category: |Category the app belongs to|\n",
    "|3 | Rating: |Overall user rating of the app (as when scraped)|\n",
    "|4 | Reviews: | Number of user reviews for the app (as when scraped)|\n",
    "|5 | Size: | Size of the app (as when scraped)|\n",
    "|6 | Installs: | Number of user downloads/installs for the app (as when scraped)|\n",
    "|7 | Type: | Paid or Free|\n",
    "|8 | Price: | Price of the app (as when scraped)|\n",
    "|9 | Content: | Rating Age group the app is targeted at - Children / Mature 21+ / Adult|\n",
    "|10 |  Genres: | An app can belong to multiple genres (apart from its main category). For eg, a musical family game will belong to Music, Game, Family genres.|"
   ]
  },
  {
   "cell_type": "markdown",
   "metadata": {},
   "source": [
    "### Knowing the size in both data sets."
   ]
  },
  {
   "cell_type": "code",
   "execution_count": 10,
   "metadata": {},
   "outputs": [
    {
     "name": "stdout",
     "output_type": "stream",
     "text": [
      "['529479190', 'Clash of Clans', '116476928', 'USD', '0.0', '2130805', '579', '4.5', '4.5', '9.24.12', '9+', 'Games', '38', '5', '18', '1']\n",
      "\n",
      "\n",
      "['420009108', 'Temple Run', '65921024', 'USD', '0.0', '1724546', '3842', '4.5', '4.0', '1.6.2', '9+', 'Games', '40', '5', '1', '1']\n",
      "\n",
      "\n",
      "Number of rows: 7197\n",
      "Number of columns: 16\n"
     ]
    }
   ],
   "source": [
    "explore_data(dataset_apple, 2, 4, True)"
   ]
  },
  {
   "cell_type": "code",
   "execution_count": 11,
   "metadata": {},
   "outputs": [
    {
     "name": "stdout",
     "output_type": "stream",
     "text": [
      "['U Launcher Lite – FREE Live Cool Themes, Hide Apps', 'ART_AND_DESIGN', '4.7', '87510', '8.7M', '5,000,000+', 'Free', '0', 'Everyone', 'Art & Design', 'August 1, 2018', '1.2.4', '4.0.3 and up']\n",
      "\n",
      "\n",
      "['Sketch - Draw & Paint', 'ART_AND_DESIGN', '4.5', '215644', '25M', '50,000,000+', 'Free', '0', 'Teen', 'Art & Design', 'June 8, 2018', 'Varies with device', '4.2 and up']\n",
      "\n",
      "\n",
      "Number of rows: 10841\n",
      "Number of columns: 13\n"
     ]
    }
   ],
   "source": [
    "explore_data(dataset_google, 2, 4, True)"
   ]
  },
  {
   "cell_type": "markdown",
   "metadata": {},
   "source": [
    "### Resume\n",
    "\n",
    "|`dataset_apple`|`dataset_google`|\n",
    "|:----|:----|\n",
    "|Number of rows: 7197| Number of rows: 10841|\n",
    "|Number of columns: 16|Number of columns: 13|"
   ]
  },
  {
   "cell_type": "code",
   "execution_count": 12,
   "metadata": {},
   "outputs": [],
   "source": [
    "### Columns that can help us in our analysis:"
   ]
  },
  {
   "cell_type": "markdown",
   "metadata": {},
   "source": [
    "## Data cleaning\n",
    "\n",
    "This means that we need to:\n",
    "\n",
    "- 1. **Detect inaccurate data, and correct or remove it**.\n",
    "\n",
    "- 2. **Detect duplicate data, and remove the duplicates**.\n",
    "\n",
    "\n",
    "- 3. **Remove non-English apps like 爱奇艺PPS -《欢乐颂2》电视剧热播**.\n",
    "\n",
    "- 4. **Remove apps that aren't free##**.\n",
    "\n",
    "\n",
    "The Google Play dataset has a dedicated [discussion section](https://www.kaggle.com/datasets/lava18/google-play-store-apps/discussion?sort=votes), and we can see that [one of the discussions](https://www.kaggle.com/datasets/lava18/google-play-store-apps/discussion/66015) describes an error for a certain row.\n",
    "\n",
    "### 1. Detect inaccurate data... remove it.\n",
    "\n",
    "We start from the idea that the number of columns must be the same as the number of fields contained in a row  so if the number of fields in a row varies that means data is missing.\n"
   ]
  },
  {
   "cell_type": "code",
   "execution_count": 13,
   "metadata": {},
   "outputs": [],
   "source": [
    "def field_number(dataset, header):\n",
    "    index_number = 0\n",
    "    for row in range(len(dataset)):\n",
    "        if len(dataset[row]) != len(header):\n",
    "            print(dataset[row])\n",
    "            print(\"\\n\")\n",
    "            print(\"error in index number: \",index_number)\n",
    "        index_number +=1"
   ]
  },
  {
   "cell_type": "code",
   "execution_count": 14,
   "metadata": {},
   "outputs": [],
   "source": [
    "field_number(dataset_apple, header_apple)"
   ]
  },
  {
   "cell_type": "code",
   "execution_count": 15,
   "metadata": {},
   "outputs": [
    {
     "name": "stdout",
     "output_type": "stream",
     "text": [
      "['Life Made WI-Fi Touchscreen Photo Frame', '1.9', '19', '3.0M', '1,000+', 'Free', '0', 'Everyone', '', 'February 11, 2018', '1.0.19', '4.0 and up']\n",
      "\n",
      "\n",
      "error in index number:  10472\n"
     ]
    }
   ],
   "source": [
    "field_number(dataset_google, header_google)"
   ]
  },
  {
   "cell_type": "code",
   "execution_count": 16,
   "metadata": {},
   "outputs": [
    {
     "data": {
      "text/plain": [
       "12"
      ]
     },
     "execution_count": 16,
     "metadata": {},
     "output_type": "execute_result"
    }
   ],
   "source": [
    "len(dataset_google[10472]) #discussion row"
   ]
  },
  {
   "cell_type": "markdown",
   "metadata": {},
   "source": [
    "We have passed the two datasets through the function and there is a row in the `dataset_google` with a different length from the number of columns therefore we are going to remove it from our dataset."
   ]
  },
  {
   "cell_type": "code",
   "execution_count": 17,
   "metadata": {},
   "outputs": [],
   "source": [
    "del dataset_google[10472]"
   ]
  },
  {
   "cell_type": "markdown",
   "metadata": {},
   "source": [
    "Checking if row has been removed properlly."
   ]
  },
  {
   "cell_type": "code",
   "execution_count": 18,
   "metadata": {},
   "outputs": [
    {
     "data": {
      "text/plain": [
       "['osmino Wi-Fi: free WiFi',\n",
       " 'TOOLS',\n",
       " '4.2',\n",
       " '134203',\n",
       " '4.1M',\n",
       " '10,000,000+',\n",
       " 'Free',\n",
       " '0',\n",
       " 'Everyone',\n",
       " 'Tools',\n",
       " 'August 7, 2018',\n",
       " '6.06.14',\n",
       " '4.4 and up']"
      ]
     },
     "execution_count": 18,
     "metadata": {},
     "output_type": "execute_result"
    }
   ],
   "source": [
    "dataset_google[10472]"
   ]
  },
  {
   "cell_type": "markdown",
   "metadata": {},
   "source": [
    "### yes ...It has been removed"
   ]
  },
  {
   "cell_type": "markdown",
   "metadata": {},
   "source": [
    "### 2. Detect duplicate data, and remove the duplicates."
   ]
  },
  {
   "cell_type": "code",
   "execution_count": 19,
   "metadata": {},
   "outputs": [],
   "source": [
    "def detect_duplicated(dataset):\n",
    "    unique_apps = []\n",
    "    duplicate_apps = []\n",
    "    \n",
    "    for row in dataset:\n",
    "        name = row[0]\n",
    "        if name in unique_apps:\n",
    "            duplicate_apps.append(name)\n",
    "        else:\n",
    "            unique_apps.append(name)\n",
    "            \n",
    "    if len(duplicate_apps) == 0:\n",
    "        print(\"In this dataset there are no duplicate apps\")\n",
    "    else:\n",
    "        times=len(duplicate_apps)\n",
    "        print(\"There are {reapeated} repeated apps\".format(reapeated=times,dataset=dataset))\n",
    "        print(\"\\n\")\n",
    "        print('Examples of duplicate apps:',\"\\n\"+\"\\n\" , duplicate_apps[:5])"
   ]
  },
  {
   "cell_type": "code",
   "execution_count": 20,
   "metadata": {},
   "outputs": [
    {
     "name": "stdout",
     "output_type": "stream",
     "text": [
      "In this dataset there are no duplicate apps\n"
     ]
    }
   ],
   "source": [
    "detect_duplicated(dataset_apple)"
   ]
  },
  {
   "cell_type": "code",
   "execution_count": 21,
   "metadata": {},
   "outputs": [
    {
     "name": "stdout",
     "output_type": "stream",
     "text": [
      "There are 1181 repeated apps\n",
      "\n",
      "\n",
      "Examples of duplicate apps: \n",
      "\n",
      " ['Quick PDF Scanner + OCR FREE', 'Box', 'Google My Business', 'ZOOM Cloud Meetings', 'join.me - Simple Meetings']\n"
     ]
    }
   ],
   "source": [
    "detect_duplicated(dataset_google)"
   ]
  },
  {
   "cell_type": "markdown",
   "metadata": {},
   "source": [
    "Just only 5 samples of the repeated applications in **dataset_google**\n",
    "\n",
    "* * * \n",
    "\n",
    "### What differentiates duplicate applications?\n",
    "\n",
    "If we take as an example a repeated application, in this case `Instagram`, we see that of all the fields that make up the row **there is only one that is different**."
   ]
  },
  {
   "cell_type": "code",
   "execution_count": 22,
   "metadata": {},
   "outputs": [
    {
     "name": "stdout",
     "output_type": "stream",
     "text": [
      "['Instagram', 'SOCIAL', '4.5', '66577313', 'Varies with device', '1,000,000,000+', 'Free', '0', 'Teen', 'Social', 'July 31, 2018', 'Varies with device', 'Varies with device']\n",
      "['Instagram', 'SOCIAL', '4.5', '66577446', 'Varies with device', '1,000,000,000+', 'Free', '0', 'Teen', 'Social', 'July 31, 2018', 'Varies with device', 'Varies with device']\n",
      "['Instagram', 'SOCIAL', '4.5', '66577313', 'Varies with device', '1,000,000,000+', 'Free', '0', 'Teen', 'Social', 'July 31, 2018', 'Varies with device', 'Varies with device']\n",
      "['Instagram', 'SOCIAL', '4.5', '66509917', 'Varies with device', '1,000,000,000+', 'Free', '0', 'Teen', 'Social', 'July 31, 2018', 'Varies with device', 'Varies with device']\n"
     ]
    }
   ],
   "source": [
    "for app in dataset_google:\n",
    "    name = app[0]\n",
    "    if name == 'Instagram':\n",
    "        print(app)"
   ]
  },
  {
   "cell_type": "markdown",
   "metadata": {},
   "source": [
    "That is the number of `'Reviews'`:\n",
    "\n",
    "\n",
    "Therefore this will be the criterion we use to eliminate duplicate applications."
   ]
  },
  {
   "cell_type": "code",
   "execution_count": 23,
   "metadata": {},
   "outputs": [
    {
     "name": "stdout",
     "output_type": "stream",
     "text": [
      "length of the dictionary: 9659\n"
     ]
    }
   ],
   "source": [
    "reviews_max = {} #key=name, value=review\n",
    "\n",
    "for row in dataset_google:\n",
    "    name = row[0]\n",
    "    n_reviews = float(row[3])\n",
    "    \n",
    "    if name in reviews_max and reviews_max[name] < n_reviews: #if name in reviews_max & value in reviews_max[name]\n",
    "        reviews_max[name] = n_reviews                         #is < than n_reviews the update\n",
    "        \n",
    "    elif name not in reviews_max:\n",
    "        reviews_max[name] = n_reviews\n",
    "        \n",
    "print('length of the dictionary:',len(reviews_max))"
   ]
  },
  {
   "cell_type": "markdown",
   "metadata": {},
   "source": [
    "This is the new length of our dataset having deleted repeated applications.\n",
    "\n",
    "The original length of the dataset minus the number of repeated applications results in this number."
   ]
  },
  {
   "cell_type": "code",
   "execution_count": 24,
   "metadata": {},
   "outputs": [
    {
     "name": "stdout",
     "output_type": "stream",
     "text": [
      "expected length 9659\n"
     ]
    }
   ],
   "source": [
    "print('expected length', len(dataset_google) - 1181)"
   ]
  },
  {
   "cell_type": "code",
   "execution_count": 25,
   "metadata": {},
   "outputs": [],
   "source": [
    "android_clean = []\n",
    "already_added = []\n",
    "\n",
    "for row in dataset_google: #original dataset\n",
    "    name = row[0]\n",
    "    n_reviews = float(row[3])\n",
    "    \n",
    "    if n_reviews == reviews_max[name] and name not in already_added:\n",
    "        android_clean.append(row) #row list added to list\n",
    "        already_added.append(name) #new name added list"
   ]
  },
  {
   "cell_type": "markdown",
   "metadata": {},
   "source": [
    "`android_clean` is the our **new dataset**"
   ]
  },
  {
   "cell_type": "code",
   "execution_count": 26,
   "metadata": {},
   "outputs": [
    {
     "name": "stdout",
     "output_type": "stream",
     "text": [
      "['U Launcher Lite – FREE Live Cool Themes, Hide Apps', 'ART_AND_DESIGN', '4.7', '87510', '8.7M', '5,000,000+', 'Free', '0', 'Everyone', 'Art & Design', 'August 1, 2018', '1.2.4', '4.0.3 and up']\n",
      "\n",
      "\n",
      "Number of rows: 9659\n",
      "Number of columns: 13\n"
     ]
    }
   ],
   "source": [
    "explore_data(android_clean, 1, 2, True)"
   ]
  },
  {
   "cell_type": "markdown",
   "metadata": {},
   "source": [
    "### Removing Non-English Apps"
   ]
  },
  {
   "cell_type": "markdown",
   "metadata": {},
   "source": [
    "It is no necessary to do the same with App Store data because there are no duplicates.\n",
    "\n",
    "We use English for the applications we develop in our company, and we would like to analyze only applications aimed at an English-speaking audience. \n",
    "\n",
    "\n",
    "However, if we explore the data enough, we will find that **both datasets** have applications with names that suggest they are not aimed at an English-speaking audience."
   ]
  },
  {
   "cell_type": "code",
   "execution_count": 27,
   "metadata": {},
   "outputs": [
    {
     "name": "stdout",
     "output_type": "stream",
     "text": [
      "BATTLE BEARS -1\n",
      "Beast Poker\n",
      "\n",
      "\n",
      "中国語 AQリスニング\n",
      "لعبة تقدر تربح DZ\n"
     ]
    }
   ],
   "source": [
    "print(AppleStore[813][1])\n",
    "print(AppleStore[6731][1])\n",
    "print('\\n')\n",
    "print(android_clean[4412][0])\n",
    "print(android_clean[7940][0])"
   ]
  },
  {
   "cell_type": "markdown",
   "metadata": {},
   "source": [
    "**One way to do this is to remove all applications whose name contains a symbol that is not commonly used in English text**. \n",
    "\n",
    "English text typically includes letters of the English alphabet, numbers composed of digits from 0 to 9, punctuation marks (., !, ?, ;) and other símbols (+, *, /).\n",
    "\n",
    "Each character we use in a string has a corresponding number associated with it. \n",
    "\n",
    "For example, the corresponding number of the character\"a\" es 97, el del carácter \"A\" es 65, y el del carácter \"爱\" es 29.233. \n",
    "\n",
    " We can get the corresponding number of each character using the built-in function **ord().**"
   ]
  },
  {
   "cell_type": "code",
   "execution_count": 28,
   "metadata": {},
   "outputs": [
    {
     "name": "stdout",
     "output_type": "stream",
     "text": [
      "97\n",
      "65\n",
      "29233\n",
      "53\n",
      "43\n"
     ]
    }
   ],
   "source": [
    "print(ord('a'))\n",
    "print(ord('A'))\n",
    "print(ord('爱'))\n",
    "print(ord('5'))\n",
    "print(ord('+'))"
   ]
  },
  {
   "cell_type": "markdown",
   "metadata": {},
   "source": [
    "The numbers corresponding to the characters that we usually use in an English text are all in the range of 0 to 127, according to the ASCII system (American Standard Code for Information Interchange). \n",
    "\n",
    "Based on this range of numbers, we can construct a function that detects whether a character belongs to the common English character set or not. **If the number is equal to or less than 127, the character belongs to the set of common English characters. If an app's name contains a character greater than 127, it probably means that the app has a non-English name.** \n",
    "\n",
    "**However, the names of our applications are stored as strings, so how could we take each individual character in a string and check its corresponding number?**"
   ]
  },
  {
   "cell_type": "code",
   "execution_count": 29,
   "metadata": {},
   "outputs": [],
   "source": [
    "def english_speak(string):\n",
    "    for character in string:\n",
    "        valor_character = ord(character)\n",
    "        if valor_character > 127:\n",
    "            return False #not English \n",
    "        else:\n",
    "            return True # is English"
   ]
  },
  {
   "cell_type": "code",
   "execution_count": 30,
   "metadata": {},
   "outputs": [
    {
     "data": {
      "text/plain": [
       "True"
      ]
     },
     "execution_count": 30,
     "metadata": {},
     "output_type": "execute_result"
    }
   ],
   "source": [
    "english_speak('Instagram')"
   ]
  },
  {
   "cell_type": "code",
   "execution_count": 31,
   "metadata": {},
   "outputs": [
    {
     "data": {
      "text/plain": [
       "False"
      ]
     },
     "execution_count": 31,
     "metadata": {},
     "output_type": "execute_result"
    }
   ],
   "source": [
    "english_speak('爱奇艺PPS -《欢乐颂2》电视剧热播')"
   ]
  },
  {
   "cell_type": "code",
   "execution_count": 32,
   "metadata": {},
   "outputs": [
    {
     "data": {
      "text/plain": [
       "True"
      ]
     },
     "execution_count": 32,
     "metadata": {},
     "output_type": "execute_result"
    }
   ],
   "source": [
    "english_speak('Docs To Go™ Free Office Suite')#Is English!"
   ]
  },
  {
   "cell_type": "code",
   "execution_count": 33,
   "metadata": {},
   "outputs": [
    {
     "data": {
      "text/plain": [
       "True"
      ]
     },
     "execution_count": 33,
     "metadata": {},
     "output_type": "execute_result"
    }
   ],
   "source": [
    "english_speak('Instachat 😜') #Is English!"
   ]
  },
  {
   "cell_type": "code",
   "execution_count": 34,
   "metadata": {},
   "outputs": [
    {
     "name": "stdout",
     "output_type": "stream",
     "text": [
      "8482\n",
      "128540\n"
     ]
    }
   ],
   "source": [
    "print(ord('™'))\n",
    "print(ord('😜'))"
   ]
  },
  {
   "cell_type": "markdown",
   "metadata": {},
   "source": [
    "If we are going to use the function we have created, we will lose useful data, we saw that the function could not correctly identify certain names of English applications such as **'Docs To Go™ Free Office Suite'** and **'Instachat 😜'** since many English applications will be incorrectly labeled as non-English. \n",
    "\n",
    "\n",
    "To **minimize the impact of data loss**,it is necessary to have a basic criterion that helps in the screening so **we will only delete an application if its name is longer than three characters with the corresponding numbers outside the ASCII range**. \n",
    "\n",
    "This means that all English apps with up to three emoji or other special characters will still be labeled as English. "
   ]
  },
  {
   "cell_type": "code",
   "execution_count": 35,
   "metadata": {},
   "outputs": [],
   "source": [
    "def english_speak(text):\n",
    "    non_validchar = []\n",
    "    for character in text:\n",
    "        valor_character = ord(character)\n",
    "        if valor_character > 127:\n",
    "            non_validchar.append(valor_character)\n",
    "    if len(non_validchar) >= 3:\n",
    "        return False\n",
    "    else:\n",
    "        return True"
   ]
  },
  {
   "cell_type": "code",
   "execution_count": 36,
   "metadata": {},
   "outputs": [
    {
     "data": {
      "text/plain": [
       "True"
      ]
     },
     "execution_count": 36,
     "metadata": {},
     "output_type": "execute_result"
    }
   ],
   "source": [
    "english_speak('Docs To Go™ Free Office Suite')"
   ]
  },
  {
   "cell_type": "code",
   "execution_count": 37,
   "metadata": {},
   "outputs": [
    {
     "data": {
      "text/plain": [
       "False"
      ]
     },
     "execution_count": 37,
     "metadata": {},
     "output_type": "execute_result"
    }
   ],
   "source": [
    "english_speak('爱奇艺PPS -《欢乐颂2》电视剧热播')"
   ]
  },
  {
   "cell_type": "code",
   "execution_count": 38,
   "metadata": {},
   "outputs": [
    {
     "data": {
      "text/plain": [
       "True"
      ]
     },
     "execution_count": 38,
     "metadata": {},
     "output_type": "execute_result"
    }
   ],
   "source": [
    "english_speak('Instachat 😜 😜')"
   ]
  },
  {
   "cell_type": "code",
   "execution_count": 39,
   "metadata": {},
   "outputs": [
    {
     "data": {
      "text/plain": [
       "False"
      ]
     },
     "execution_count": 39,
     "metadata": {},
     "output_type": "execute_result"
    }
   ],
   "source": [
    "english_speak('Instachat 😜 😜 😜')"
   ]
  },
  {
   "cell_type": "markdown",
   "metadata": {},
   "source": [
    "At this point it is important to remember what the names of the datasets are, thus avoiding failures.\n",
    "\n",
    "|Dataset names|lenght|\n",
    "|:----|:----|\n",
    "|`dataset_apple`|7197|\n",
    "|`android_clean`|9659, 8757|"
   ]
  },
  {
   "cell_type": "markdown",
   "metadata": {},
   "source": [
    "### Filter non-English applications from both datasets. \n",
    "\n",
    "If an app's name is identified as English, the we add the entire row to a separate list."
   ]
  },
  {
   "cell_type": "code",
   "execution_count": 40,
   "metadata": {},
   "outputs": [],
   "source": [
    "# AppleStore\n",
    "\n",
    "list_apple_clean = []\n",
    "\n",
    "for row in dataset_apple:\n",
    "    name = row[1]\n",
    "    if english_speak(name):\n",
    "        list_apple_clean.append(row)\n",
    "    else:\n",
    "        pass"
   ]
  },
  {
   "cell_type": "code",
   "execution_count": 41,
   "metadata": {},
   "outputs": [],
   "source": [
    "## android_clean\n",
    "\n",
    "list_android_clean = []\n",
    "\n",
    "for row in android_clean:\n",
    "    nombre = row[0]\n",
    "    if english_speak(nombre):\n",
    "        list_android_clean.append(row)\n",
    "    else:\n",
    "        pass"
   ]
  },
  {
   "cell_type": "markdown",
   "metadata": {},
   "source": [
    "### Exploring datasets and see how many rows we have left for each dataset.\n",
    "\n",
    "In each cleaning process we have put different names to our dataset variables so it is important to take them into account"
   ]
  },
  {
   "cell_type": "code",
   "execution_count": 42,
   "metadata": {},
   "outputs": [
    {
     "name": "stdout",
     "output_type": "stream",
     "text": [
      "['529479190', 'Clash of Clans', '116476928', 'USD', '0.0', '2130805', '579', '4.5', '4.5', '9.24.12', '9+', 'Games', '38', '5', '18', '1']\n",
      "\n",
      "\n",
      "['420009108', 'Temple Run', '65921024', 'USD', '0.0', '1724546', '3842', '4.5', '4.0', '1.6.2', '9+', 'Games', '40', '5', '1', '1']\n",
      "\n",
      "\n",
      "Number of rows: 6155\n",
      "Number of columns: 16\n"
     ]
    }
   ],
   "source": [
    "explore_data(list_apple_clean, 2, 4, True)"
   ]
  },
  {
   "cell_type": "code",
   "execution_count": 43,
   "metadata": {},
   "outputs": [
    {
     "name": "stdout",
     "output_type": "stream",
     "text": [
      "['Sketch - Draw & Paint', 'ART_AND_DESIGN', '4.5', '215644', '25M', '50,000,000+', 'Free', '0', 'Teen', 'Art & Design', 'June 8, 2018', 'Varies with device', '4.2 and up']\n",
      "\n",
      "\n",
      "['Pixel Draw - Number Art Coloring Book', 'ART_AND_DESIGN', '4.3', '967', '2.8M', '100,000+', 'Free', '0', 'Everyone', 'Art & Design;Creativity', 'June 20, 2018', '1.1', '4.4 and up']\n",
      "\n",
      "\n",
      "Number of rows: 9597\n",
      "Number of columns: 13\n"
     ]
    }
   ],
   "source": [
    "explore_data(list_android_clean, 2, 4, True)"
   ]
  },
  {
   "cell_type": "markdown",
   "metadata": {},
   "source": [
    "**Now we are working with this:**\n",
    "\n",
    "\n",
    "|Dataset names|lenght|\n",
    "|:----|:----|\n",
    "|`list_apple_clean`|6155|\n",
    "|`list_android_clean`|9597, 8698|"
   ]
  },
  {
   "cell_type": "markdown",
   "metadata": {},
   "source": [
    "## 8. Isolating the Free Apps\n",
    "\n",
    "Our datasets contain **free and non-free applications** we need to isolate only the free applications for our analysis.\n",
    "\n",
    "Checking the length of each dataset to see how many apps have left."
   ]
  },
  {
   "cell_type": "code",
   "execution_count": 44,
   "metadata": {},
   "outputs": [
    {
     "data": {
      "text/plain": [
       "['id',\n",
       " 'track_name',\n",
       " 'size_bytes',\n",
       " 'currency',\n",
       " 'price',\n",
       " 'rating_count_tot',\n",
       " 'rating_count_ver',\n",
       " 'user_rating',\n",
       " 'user_rating_ver',\n",
       " 'ver',\n",
       " 'cont_rating',\n",
       " 'prime_genre',\n",
       " 'sup_devices.num',\n",
       " 'ipadSc_urls.num',\n",
       " 'lang.num',\n",
       " 'vpp_lic']"
      ]
     },
     "execution_count": 44,
     "metadata": {},
     "output_type": "execute_result"
    }
   ],
   "source": [
    "header_apple"
   ]
  },
  {
   "cell_type": "code",
   "execution_count": 45,
   "metadata": {},
   "outputs": [
    {
     "data": {
      "text/plain": [
       "3203"
      ]
     },
     "execution_count": 45,
     "metadata": {},
     "output_type": "execute_result"
    }
   ],
   "source": [
    "free_apple_clean = []\n",
    "\n",
    "for row in list_apple_clean:\n",
    "    prix = row[4] #'price'\n",
    " \n",
    "    if prix == '0.0' or prix == '0':\n",
    "        free_apple_clean.append(row)\n",
    "    else:\n",
    "        pass\n",
    "    \n",
    "len(free_apple_clean)"
   ]
  },
  {
   "cell_type": "code",
   "execution_count": 46,
   "metadata": {},
   "outputs": [
    {
     "data": {
      "text/plain": [
       "['App',\n",
       " 'Category',\n",
       " 'Rating',\n",
       " 'Reviews',\n",
       " 'Size',\n",
       " 'Installs',\n",
       " 'Type',\n",
       " 'Price',\n",
       " 'Content Rating',\n",
       " 'Genres',\n",
       " 'Last Updated',\n",
       " 'Current Ver',\n",
       " 'Android Ver']"
      ]
     },
     "execution_count": 46,
     "metadata": {},
     "output_type": "execute_result"
    }
   ],
   "source": [
    "header_google"
   ]
  },
  {
   "cell_type": "code",
   "execution_count": 47,
   "metadata": {},
   "outputs": [
    {
     "data": {
      "text/plain": [
       "8848"
      ]
     },
     "execution_count": 47,
     "metadata": {},
     "output_type": "execute_result"
    }
   ],
   "source": [
    "free_android_clean = [] \n",
    "\n",
    "for row in list_android_clean:\n",
    "    prix = row[7] #'Price'\n",
    "    if prix == '0.0' or prix == '0':\n",
    "        free_android_clean.append(row)\n",
    "    else:\n",
    "        pass\n",
    "    \n",
    "len(free_android_clean)"
   ]
  },
  {
   "cell_type": "markdown",
   "metadata": {},
   "source": [
    "**Updating names and lengths**\n",
    "\n",
    "\n",
    "|Dataset names|lenght|\n",
    "|:----|:----|\n",
    "|`free_apple_clean`|3203|\n",
    "|`free_android_clean`|8848|"
   ]
  },
  {
   "cell_type": "markdown",
   "metadata": {},
   "source": [
    "Our ultimate goal is to add the app on both Google Play and the App Store, so we need to **find profiles of apps that are successful in both markets**. \n",
    "\n",
    "\n",
    "Let's start the analysis by having an idea of what are the most common genres for each market. To do this, we will have to build frequency tables for some columns of our datasets.\n",
    "\n",
    "The columns that can give us the information we need are:\n",
    "\n",
    "`free_apple_clean[11]` ---> `prime_genre`\n",
    "\n",
    "`free_android_clean[]` ---> `Genres`"
   ]
  },
  {
   "cell_type": "code",
   "execution_count": 48,
   "metadata": {},
   "outputs": [],
   "source": [
    "def freq_table(dataset, column):\n",
    "    table = {}\n",
    "    total = 0\n",
    "    \n",
    "    for row in dataset:\n",
    "        total +=1\n",
    "        value = row[column]\n",
    "        if value in table:\n",
    "            table[value] +=1\n",
    "        else:\n",
    "            table[value] = 1\n",
    "        \n",
    "    table_percentages = {}\n",
    "    for key in table:\n",
    "        percentage = (table[key] / total ) * 100\n",
    "        table_percentages[key]=percentage\n",
    "            \n",
    "    return table_percentages"
   ]
  },
  {
   "cell_type": "code",
   "execution_count": 51,
   "metadata": {},
   "outputs": [],
   "source": [
    "def display_table(dataset, column):\n",
    "    table = freq_table(dataset, column)\n",
    "    table_display = []\n",
    "    for key in table:\n",
    "        key_val_as_tuple = (table[key], key)\n",
    "        table_display.append(key_val_as_tuple)\n",
    "\n",
    "    table_sorted = sorted(table_display, reverse = True)\n",
    "    for entry in table_sorted:\n",
    "        print(entry[1], ':', entry[0])"
   ]
  },
  {
   "cell_type": "code",
   "execution_count": 52,
   "metadata": {
    "scrolled": false
   },
   "outputs": [
    {
     "name": "stdout",
     "output_type": "stream",
     "text": [
      "Games : 58.25788323446769\n",
      "Entertainment : 7.836403371838902\n",
      "Photo & Video : 4.995316890415236\n",
      "Education : 3.6840462066812365\n",
      "Social Networking : 3.3093974399000934\n",
      "Shopping : 2.5913206369029034\n",
      "Utilities : 2.466437714642523\n",
      "Sports : 2.1542304089915705\n",
      "Music : 2.0605682172962845\n",
      "Health & Fitness : 2.0293474867311896\n",
      "Productivity : 1.7483609116453322\n",
      "Lifestyle : 1.5610365282547611\n",
      "News : 1.3424914142990947\n",
      "Travel : 1.248829222603809\n",
      "Finance : 1.0927255697783327\n",
      "Weather : 0.8741804558226661\n",
      "Food & Drink : 0.8117389946924758\n",
      "Reference : 0.5307524196066188\n",
      "Business : 0.5307524196066188\n",
      "Book : 0.3746487667811427\n",
      "Navigation : 0.18732438339057134\n",
      "Medical : 0.18732438339057134\n",
      "Catalogs : 0.1248829222603809\n"
     ]
    }
   ],
   "source": [
    "output_apple = display_table(free_apple_clean,11) #apple prime_genere column"
   ]
  },
  {
   "cell_type": "code",
   "execution_count": 53,
   "metadata": {
    "scrolled": true
   },
   "outputs": [
    {
     "name": "stdout",
     "output_type": "stream",
     "text": [
      "Tools : 8.44258589511754\n",
      "Entertainment : 6.080470162748644\n",
      "Education : 5.357142857142857\n",
      "Business : 4.599909584086799\n",
      "Productivity : 3.899186256781193\n",
      "Lifestyle : 3.8765822784810124\n",
      "Finance : 3.7070524412296564\n",
      "Medical : 3.5375226039783\n",
      "Sports : 3.4584086799276674\n",
      "Personalization : 3.322784810126582\n",
      "Communication : 3.2323688969258586\n",
      "Action : 3.096745027124774\n",
      "Health & Fitness : 3.0854430379746836\n",
      "Photography : 2.949819168173599\n",
      "News & Magazines : 2.802893309222423\n",
      "Social : 2.667269439421338\n",
      "Travel & Local : 2.328209764918626\n",
      "Shopping : 2.2490958408679926\n",
      "Books & Reference : 2.1360759493670884\n",
      "Simulation : 2.0456600361663653\n",
      "Dating : 1.8648282097649187\n",
      "Arcade : 1.842224231464738\n",
      "Video Players & Editors : 1.7744122965641953\n",
      "Casual : 1.763110307414105\n",
      "Maps & Navigation : 1.3901446654611211\n",
      "Food & Drink : 1.2432188065099457\n",
      "Puzzle : 1.1301989150090417\n",
      "Racing : 0.9945750452079566\n",
      "Role Playing : 0.9380650994575045\n",
      "Libraries & Demo : 0.9380650994575045\n",
      "Auto & Vehicles : 0.9267631103074141\n",
      "Strategy : 0.9154611211573236\n",
      "House & Home : 0.8024412296564195\n",
      "Weather : 0.7911392405063291\n",
      "Events : 0.7120253164556962\n",
      "Adventure : 0.6668173598553345\n",
      "Comics : 0.599005424954792\n",
      "Beauty : 0.599005424954792\n",
      "Art & Design : 0.599005424954792\n",
      "Parenting : 0.4972875226039783\n",
      "Card : 0.45207956600361665\n",
      "Trivia : 0.4181735985533454\n",
      "Casino : 0.4181735985533454\n",
      "Educational;Education : 0.39556962025316456\n",
      "Board : 0.3842676311030741\n",
      "Educational : 0.3729656419529837\n",
      "Education;Education : 0.33905967450271246\n",
      "Word : 0.25994575045207957\n",
      "Casual;Pretend Play : 0.23734177215189875\n",
      "Music : 0.2034358047016275\n",
      "Racing;Action & Adventure : 0.16952983725135623\n",
      "Puzzle;Brain Games : 0.16952983725135623\n",
      "Entertainment;Music & Video : 0.16952983725135623\n",
      "Casual;Brain Games : 0.13562386980108498\n",
      "Casual;Action & Adventure : 0.13562386980108498\n",
      "Arcade;Action & Adventure : 0.12432188065099457\n",
      "Action;Action & Adventure : 0.10171790235081375\n",
      "Educational;Pretend Play : 0.09041591320072333\n",
      "Simulation;Action & Adventure : 0.07911392405063292\n",
      "Parenting;Education : 0.07911392405063292\n",
      "Entertainment;Brain Games : 0.07911392405063292\n",
      "Board;Brain Games : 0.07911392405063292\n",
      "Parenting;Music & Video : 0.06781193490054249\n",
      "Educational;Brain Games : 0.06781193490054249\n",
      "Casual;Creativity : 0.06781193490054249\n",
      "Art & Design;Creativity : 0.06781193490054249\n",
      "Education;Pretend Play : 0.05650994575045208\n",
      "Role Playing;Pretend Play : 0.045207956600361664\n",
      "Education;Creativity : 0.045207956600361664\n",
      "Role Playing;Action & Adventure : 0.033905967450271246\n",
      "Puzzle;Action & Adventure : 0.033905967450271246\n",
      "Entertainment;Creativity : 0.033905967450271246\n",
      "Entertainment;Action & Adventure : 0.033905967450271246\n",
      "Educational;Creativity : 0.033905967450271246\n",
      "Educational;Action & Adventure : 0.033905967450271246\n",
      "Education;Music & Video : 0.033905967450271246\n",
      "Education;Brain Games : 0.033905967450271246\n",
      "Education;Action & Adventure : 0.033905967450271246\n",
      "Adventure;Action & Adventure : 0.033905967450271246\n",
      "Video Players & Editors;Music & Video : 0.022603978300180832\n",
      "Sports;Action & Adventure : 0.022603978300180832\n",
      "Simulation;Pretend Play : 0.022603978300180832\n",
      "Puzzle;Creativity : 0.022603978300180832\n",
      "Music;Music & Video : 0.022603978300180832\n",
      "Entertainment;Pretend Play : 0.022603978300180832\n",
      "Casual;Education : 0.022603978300180832\n",
      "Board;Action & Adventure : 0.022603978300180832\n",
      "Video Players & Editors;Creativity : 0.011301989150090416\n",
      "Trivia;Education : 0.011301989150090416\n",
      "Travel & Local;Action & Adventure : 0.011301989150090416\n",
      "Tools;Education : 0.011301989150090416\n",
      "Strategy;Education : 0.011301989150090416\n",
      "Strategy;Creativity : 0.011301989150090416\n",
      "Strategy;Action & Adventure : 0.011301989150090416\n",
      "Simulation;Education : 0.011301989150090416\n",
      "Role Playing;Brain Games : 0.011301989150090416\n",
      "Racing;Pretend Play : 0.011301989150090416\n",
      "Puzzle;Education : 0.011301989150090416\n",
      "Parenting;Brain Games : 0.011301989150090416\n",
      "Music & Audio;Music & Video : 0.011301989150090416\n",
      "Lifestyle;Pretend Play : 0.011301989150090416\n",
      "Lifestyle;Education : 0.011301989150090416\n",
      "Health & Fitness;Education : 0.011301989150090416\n",
      "Health & Fitness;Action & Adventure : 0.011301989150090416\n",
      "Entertainment;Education : 0.011301989150090416\n",
      "Communication;Creativity : 0.011301989150090416\n",
      "Comics;Creativity : 0.011301989150090416\n",
      "Casual;Music & Video : 0.011301989150090416\n",
      "Card;Action & Adventure : 0.011301989150090416\n",
      "Books & Reference;Education : 0.011301989150090416\n",
      "Art & Design;Pretend Play : 0.011301989150090416\n",
      "Art & Design;Action & Adventure : 0.011301989150090416\n",
      "Arcade;Pretend Play : 0.011301989150090416\n",
      "Adventure;Education : 0.011301989150090416\n"
     ]
    }
   ],
   "source": [
    "output_gogle = display_table(free_android_clean,9) #Goolge Genres column"
   ]
  },
  {
   "cell_type": "code",
   "execution_count": null,
   "metadata": {},
   "outputs": [],
   "source": [
    "# entertaiment tiene sentido"
   ]
  },
  {
   "cell_type": "code",
   "execution_count": null,
   "metadata": {},
   "outputs": [],
   "source": [
    "def apps_more_users(dataset):\n",
    "    apps_users = {}\n",
    "    \n",
    "    for row in range(len(dataset)):\n",
    "        \n",
    "        genero = free_android_clean[9]\n",
    "        installs = free_android_clean[5]"
   ]
  },
  {
   "cell_type": "code",
   "execution_count": null,
   "metadata": {},
   "outputs": [],
   "source": []
  },
  {
   "cell_type": "markdown",
   "metadata": {},
   "source": [
    "....."
   ]
  },
  {
   "cell_type": "markdown",
   "metadata": {},
   "source": [
    "## 12. Most Popular Apps by Genre on the App Store\n",
    "\n",
    "Las tablas de frecuencias que analizamos en la pantalla anterior nos mostraron que la App Store está dominada por aplicaciones diseñadas para la diversión, mientras que Google Play muestra un panorama más equilibrado de aplicaciones tanto prácticas como divertidas. \n",
    "\n",
    "Ahora, **nos gustaría hacernos una idea sobre el tipo de apps con más usuarios**.\n",
    "\n",
    "**Una forma de averiguar qué géneros son los más populares (tienen más usuarios) es calcular el número medio de instalaciones de cada género de aplicación.** \n",
    "\n",
    "Para el conjunto de datos de **Google Play, podemos encontrar esta información en la columna de instalaciones**, \n",
    "\n",
    "\n",
    "**Para el conjunto de datos de la App Store tomaremos el número total de valoraciones de los usuarios como proxy, que podemos encontrar en la app `rating_count_column`.**\n",
    "\n",
    "Empecemos por calcular el número medio de valoraciones de los usuarios por género de aplicación en la App Store. \n",
    "\n",
    "\n",
    "Para ello, necesitaremos\n",
    "\n",
    "Aislar las apps de cada género.\n",
    "\n",
    "Sumar las valoraciones de los usuarios de las aplicaciones de ese género.\n",
    "\n",
    "Dividir la suma por el número de aplicaciones que pertenecen a ese género (no por el número total de aplicaciones).\n",
    "\n",
    "Para calcular el número medio de valoraciones de los usuarios de cada género, utilizaremos un bucle for dentro de otro bucle for. Este es un ejemplo de un bucle for utilizado dentro de otro bucle for:"
   ]
  },
  {
   "cell_type": "code",
   "execution_count": null,
   "metadata": {},
   "outputs": [],
   "source": [
    "some_strings = ['FIRST','SECOND']\n",
    "some_integers = [1,2,3,4,5]\n",
    "\n",
    "for string in some_strings:\n",
    "    print(string)\n",
    "    \n",
    "    for integer in some_integers:\n",
    "        print(integer)"
   ]
  },
  {
   "cell_type": "code",
   "execution_count": null,
   "metadata": {},
   "outputs": [],
   "source": [
    "apps_gen = {}\n",
    "\n",
    "for row in free_apple_clean:\n",
    "    user_rating = row[7]\n",
    "    \n",
    "    if user_rating in apps_gen:\n",
    "        apps_gen[user_rating] +=1\n",
    "    else:\n",
    "        apps_gen[user_rating] =1"
   ]
  },
  {
   "cell_type": "code",
   "execution_count": null,
   "metadata": {},
   "outputs": [],
   "source": [
    "apps_gen"
   ]
  },
  {
   "cell_type": "code",
   "execution_count": null,
   "metadata": {},
   "outputs": [],
   "source": []
  },
  {
   "cell_type": "code",
   "execution_count": null,
   "metadata": {},
   "outputs": [],
   "source": []
  },
  {
   "cell_type": "code",
   "execution_count": null,
   "metadata": {},
   "outputs": [],
   "source": []
  },
  {
   "cell_type": "code",
   "execution_count": null,
   "metadata": {},
   "outputs": [],
   "source": []
  },
  {
   "cell_type": "markdown",
   "metadata": {},
   "source": [
    "Arriba, podemos ver eso:\n",
    "\n",
    "Primero iteramos sobre la lista some_strings, y para cada iteración:\n",
    "Imprimimos la cadena (variable de iteración).\n",
    "Iniciamos otra iteración sobre la lista algunos_integros.\n",
    "Para cada iteración sobre esta lista, imprimimos entero (variable de iteración).\n",
    "Podemos ver que para cada una de las dos iteraciones sobre la lista algunas_cuerdas (hay dos iteraciones porque algunas_cuerdas sólo tiene dos elementos de lista), hay otra iteración interna que ocurre sobre la lista algunos_integros.\n",
    "\n",
    "La segunda iteración sobre algunas_cuerdas comienza sólo cuando la iteración sobre algunos_integros se ha completado. Observa que todos los elementos de la lista algunos_integros se imprimen para cada una de las dos iteraciones sobre la lista algunas_cadenas.\n",
    "\n",
    "Un bucle dentro de otro bucle se llama bucle anidado. Usaremos un bucle anidado para calcular los promedios que mencionamos anteriormente."
   ]
  },
  {
   "cell_type": "markdown",
   "metadata": {},
   "source": [
    "\n",
    "\n",
    " Comience generando una tabla de frecuencias para la columna prime_genre para obtener los géneros únicos de las aplicaciones (a continuación, necesitaremos hacer un bucle sobre los géneros únicos). Puede utilizar la función freq_table() que escribió en una pantalla anterior.\n",
    "\n",
    " Haga un bucle sobre los géneros únicos del conjunto de datos de la App Store. Para cada iteración (a continuación, asumiremos que la variable de iteración se llama género):\n",
    "\n",
    " Inicie una variable llamada total con un valor de 0. Esta variable almacenará la suma de las valoraciones de los usuarios (el número de valoraciones, no las valoraciones reales) específicas de cada género.\n",
    "\n",
    " Inicie una variable llamada len_genre con un valor de 0. Esta variable almacenará el número de aplicaciones específicas de cada género.\n",
    "\n",
    "- Realice un bucle sobre el conjunto de datos de la App Store y, en cada iteración, guarde el género de la aplicación en una variable denominada len_genre:\n",
    "\n",
    "    - Guarda el género de la aplicación en una variable llamada genre_app.\n",
    "\n",
    "    - Si genre_app es la misma que genre (la variable de iteración del bucle principal), entonces:\n",
    "\n",
    "        - Guarda el número de valoraciones de los usuarios de la app como un flotador.\n",
    "\n",
    "        - Suma el número de valoraciones de los usuarios a la variable total.\n",
    "\n",
    "        - Incrementa la variable len_genre en 1.\n",
    "        \n",
    "\n",
    "- Calcule el número medio de valoraciones de los usuarios dividiendo el total entre len_genre. Esto debe hacerse fuera del bucle anidado.\n",
    "\n",
    "- Imprime el género de la aplicación y el número medio de valoraciones de los usuarios. Esto también debe hacerse fuera del bucle anidado.\n",
    "\n",
    " Analice los resultados e intente obtener al menos una recomendación de perfil de aplicación para la App Store. Ten en cuenta que aquí no hay una respuesta fija, y que no pasa nada si el perfil de aplicación que recomiendas es diferente al que se recomienda en el cuaderno de soluciones."
   ]
  },
  {
   "cell_type": "code",
   "execution_count": null,
   "metadata": {},
   "outputs": [],
   "source": [
    "display_table(prime_genre)"
   ]
  }
 ],
 "metadata": {
  "kernelspec": {
   "display_name": "Python 3 (ipykernel)",
   "language": "python",
   "name": "python3"
  },
  "language_info": {
   "codemirror_mode": {
    "name": "ipython",
    "version": 3
   },
   "file_extension": ".py",
   "mimetype": "text/x-python",
   "name": "python",
   "nbconvert_exporter": "python",
   "pygments_lexer": "ipython3",
   "version": "3.9.12"
  }
 },
 "nbformat": 4,
 "nbformat_minor": 2
}
